{
 "cells": [
  {
   "cell_type": "markdown",
   "id": "f048f204",
   "metadata": {
    "id": "f048f204"
   },
   "source": [
    "# Importing Basic Dependencies"
   ]
  },
  {
   "cell_type": "code",
   "execution_count": 1,
   "id": "26e7079f",
   "metadata": {
    "id": "26e7079f"
   },
   "outputs": [],
   "source": [
    "import pandas as pd\n",
    "import numpy as np\n",
    "import seaborn as sns\n",
    "import matplotlib.pyplot as plt\n",
    "import warnings\n",
    "warnings.filterwarnings(\"ignore\")\n",
    "%matplotlib inline"
   ]
  },
  {
   "cell_type": "code",
   "execution_count": 2,
   "id": "b207c43f",
   "metadata": {
    "colab": {
     "base_uri": "https://localhost:8080/",
     "height": 206
    },
    "id": "b207c43f",
    "outputId": "9e7f13d3-c105-4619-a096-76fd9e334dcf"
   },
   "outputs": [
    {
     "data": {
      "text/html": [
       "<div>\n",
       "<style scoped>\n",
       "    .dataframe tbody tr th:only-of-type {\n",
       "        vertical-align: middle;\n",
       "    }\n",
       "\n",
       "    .dataframe tbody tr th {\n",
       "        vertical-align: top;\n",
       "    }\n",
       "\n",
       "    .dataframe thead th {\n",
       "        text-align: right;\n",
       "    }\n",
       "</style>\n",
       "<table border=\"1\" class=\"dataframe\">\n",
       "  <thead>\n",
       "    <tr style=\"text-align: right;\">\n",
       "      <th></th>\n",
       "      <th>id</th>\n",
       "      <th>title</th>\n",
       "      <th>author</th>\n",
       "      <th>text</th>\n",
       "      <th>label</th>\n",
       "    </tr>\n",
       "  </thead>\n",
       "  <tbody>\n",
       "    <tr>\n",
       "      <th>0</th>\n",
       "      <td>0</td>\n",
       "      <td>House Dem Aide: We Didn’t Even See Comey’s Let...</td>\n",
       "      <td>Darrell Lucus</td>\n",
       "      <td>House Dem Aide: We Didn’t Even See Comey’s Let...</td>\n",
       "      <td>1</td>\n",
       "    </tr>\n",
       "    <tr>\n",
       "      <th>1</th>\n",
       "      <td>1</td>\n",
       "      <td>FLYNN: Hillary Clinton, Big Woman on Campus - ...</td>\n",
       "      <td>Daniel J. Flynn</td>\n",
       "      <td>Ever get the feeling your life circles the rou...</td>\n",
       "      <td>0</td>\n",
       "    </tr>\n",
       "    <tr>\n",
       "      <th>2</th>\n",
       "      <td>2</td>\n",
       "      <td>Why the Truth Might Get You Fired</td>\n",
       "      <td>Consortiumnews.com</td>\n",
       "      <td>Why the Truth Might Get You Fired October 29, ...</td>\n",
       "      <td>1</td>\n",
       "    </tr>\n",
       "    <tr>\n",
       "      <th>3</th>\n",
       "      <td>3</td>\n",
       "      <td>15 Civilians Killed In Single US Airstrike Hav...</td>\n",
       "      <td>Jessica Purkiss</td>\n",
       "      <td>Videos 15 Civilians Killed In Single US Airstr...</td>\n",
       "      <td>1</td>\n",
       "    </tr>\n",
       "    <tr>\n",
       "      <th>4</th>\n",
       "      <td>4</td>\n",
       "      <td>Iranian woman jailed for fictional unpublished...</td>\n",
       "      <td>Howard Portnoy</td>\n",
       "      <td>Print \\nAn Iranian woman has been sentenced to...</td>\n",
       "      <td>1</td>\n",
       "    </tr>\n",
       "  </tbody>\n",
       "</table>\n",
       "</div>"
      ],
      "text/plain": [
       "   id                                              title              author  \\\n",
       "0   0  House Dem Aide: We Didn’t Even See Comey’s Let...       Darrell Lucus   \n",
       "1   1  FLYNN: Hillary Clinton, Big Woman on Campus - ...     Daniel J. Flynn   \n",
       "2   2                  Why the Truth Might Get You Fired  Consortiumnews.com   \n",
       "3   3  15 Civilians Killed In Single US Airstrike Hav...     Jessica Purkiss   \n",
       "4   4  Iranian woman jailed for fictional unpublished...      Howard Portnoy   \n",
       "\n",
       "                                                text  label  \n",
       "0  House Dem Aide: We Didn’t Even See Comey’s Let...      1  \n",
       "1  Ever get the feeling your life circles the rou...      0  \n",
       "2  Why the Truth Might Get You Fired October 29, ...      1  \n",
       "3  Videos 15 Civilians Killed In Single US Airstr...      1  \n",
       "4  Print \\nAn Iranian woman has been sentenced to...      1  "
      ]
     },
     "execution_count": 2,
     "metadata": {},
     "output_type": "execute_result"
    }
   ],
   "source": [
    "df = pd.read_csv('D:\\PYTHON\\Data science\\projects/classification/fake news classifier/train.csv')\n",
    "df.head()"
   ]
  },
  {
   "cell_type": "code",
   "execution_count": 3,
   "id": "42c961df",
   "metadata": {
    "colab": {
     "base_uri": "https://localhost:8080/"
    },
    "id": "42c961df",
    "outputId": "ef805b19-2d60-4ea2-b3a2-cbe47a408bc7"
   },
   "outputs": [
    {
     "data": {
      "text/plain": [
       "(20800, 5)"
      ]
     },
     "execution_count": 3,
     "metadata": {},
     "output_type": "execute_result"
    }
   ],
   "source": [
    "df.shape"
   ]
  },
  {
   "cell_type": "code",
   "execution_count": 4,
   "id": "d46ef427",
   "metadata": {
    "colab": {
     "base_uri": "https://localhost:8080/"
    },
    "id": "d46ef427",
    "outputId": "e871abf5-623c-4218-b38d-1eccad344a8d"
   },
   "outputs": [
    {
     "name": "stdout",
     "output_type": "stream",
     "text": [
      "<class 'pandas.core.frame.DataFrame'>\n",
      "RangeIndex: 20800 entries, 0 to 20799\n",
      "Data columns (total 5 columns):\n",
      " #   Column  Non-Null Count  Dtype \n",
      "---  ------  --------------  ----- \n",
      " 0   id      20800 non-null  int64 \n",
      " 1   title   20242 non-null  object\n",
      " 2   author  18843 non-null  object\n",
      " 3   text    20761 non-null  object\n",
      " 4   label   20800 non-null  int64 \n",
      "dtypes: int64(2), object(3)\n",
      "memory usage: 812.6+ KB\n"
     ]
    }
   ],
   "source": [
    "df.info()"
   ]
  },
  {
   "cell_type": "code",
   "execution_count": 5,
   "id": "3061b089",
   "metadata": {
    "colab": {
     "base_uri": "https://localhost:8080/"
    },
    "id": "3061b089",
    "outputId": "b1cf7de0-0446-4d8f-f8ee-4e47f0820f49"
   },
   "outputs": [
    {
     "data": {
      "text/plain": [
       "Index(['id', 'title', 'author', 'text', 'label'], dtype='object')"
      ]
     },
     "execution_count": 5,
     "metadata": {},
     "output_type": "execute_result"
    }
   ],
   "source": [
    "df.columns"
   ]
  },
  {
   "cell_type": "code",
   "execution_count": 6,
   "id": "82e6aa76",
   "metadata": {
    "id": "82e6aa76"
   },
   "outputs": [],
   "source": [
    "df.drop(columns = ['id','text','author'],inplace=True)"
   ]
  },
  {
   "cell_type": "code",
   "execution_count": 7,
   "id": "7be3b537",
   "metadata": {
    "colab": {
     "base_uri": "https://localhost:8080/",
     "height": 206
    },
    "id": "7be3b537",
    "outputId": "369f587c-c2cf-4126-939e-4809bb04fd53"
   },
   "outputs": [
    {
     "data": {
      "text/html": [
       "<div>\n",
       "<style scoped>\n",
       "    .dataframe tbody tr th:only-of-type {\n",
       "        vertical-align: middle;\n",
       "    }\n",
       "\n",
       "    .dataframe tbody tr th {\n",
       "        vertical-align: top;\n",
       "    }\n",
       "\n",
       "    .dataframe thead th {\n",
       "        text-align: right;\n",
       "    }\n",
       "</style>\n",
       "<table border=\"1\" class=\"dataframe\">\n",
       "  <thead>\n",
       "    <tr style=\"text-align: right;\">\n",
       "      <th></th>\n",
       "      <th>title</th>\n",
       "      <th>label</th>\n",
       "    </tr>\n",
       "  </thead>\n",
       "  <tbody>\n",
       "    <tr>\n",
       "      <th>0</th>\n",
       "      <td>House Dem Aide: We Didn’t Even See Comey’s Let...</td>\n",
       "      <td>1</td>\n",
       "    </tr>\n",
       "    <tr>\n",
       "      <th>1</th>\n",
       "      <td>FLYNN: Hillary Clinton, Big Woman on Campus - ...</td>\n",
       "      <td>0</td>\n",
       "    </tr>\n",
       "    <tr>\n",
       "      <th>2</th>\n",
       "      <td>Why the Truth Might Get You Fired</td>\n",
       "      <td>1</td>\n",
       "    </tr>\n",
       "    <tr>\n",
       "      <th>3</th>\n",
       "      <td>15 Civilians Killed In Single US Airstrike Hav...</td>\n",
       "      <td>1</td>\n",
       "    </tr>\n",
       "    <tr>\n",
       "      <th>4</th>\n",
       "      <td>Iranian woman jailed for fictional unpublished...</td>\n",
       "      <td>1</td>\n",
       "    </tr>\n",
       "  </tbody>\n",
       "</table>\n",
       "</div>"
      ],
      "text/plain": [
       "                                               title  label\n",
       "0  House Dem Aide: We Didn’t Even See Comey’s Let...      1\n",
       "1  FLYNN: Hillary Clinton, Big Woman on Campus - ...      0\n",
       "2                  Why the Truth Might Get You Fired      1\n",
       "3  15 Civilians Killed In Single US Airstrike Hav...      1\n",
       "4  Iranian woman jailed for fictional unpublished...      1"
      ]
     },
     "execution_count": 7,
     "metadata": {},
     "output_type": "execute_result"
    }
   ],
   "source": [
    "df.head()"
   ]
  },
  {
   "cell_type": "code",
   "execution_count": 8,
   "id": "993a8c86",
   "metadata": {
    "colab": {
     "base_uri": "https://localhost:8080/",
     "height": 36
    },
    "id": "993a8c86",
    "outputId": "f40fca4f-a0f1-45ec-bd23-71066ea062be"
   },
   "outputs": [
    {
     "data": {
      "text/plain": [
       "'House Dem Aide: We Didn’t Even See Comey’s Letter Until Jason Chaffetz Tweeted It'"
      ]
     },
     "execution_count": 8,
     "metadata": {},
     "output_type": "execute_result"
    }
   ],
   "source": [
    "df['title'][0]"
   ]
  },
  {
   "cell_type": "code",
   "execution_count": 9,
   "id": "2ce92e25",
   "metadata": {
    "colab": {
     "base_uri": "https://localhost:8080/"
    },
    "id": "2ce92e25",
    "outputId": "06101b47-4d98-410d-a1b6-decf42adadd8"
   },
   "outputs": [
    {
     "data": {
      "text/plain": [
       "title    558\n",
       "label      0\n",
       "dtype: int64"
      ]
     },
     "execution_count": 9,
     "metadata": {},
     "output_type": "execute_result"
    }
   ],
   "source": [
    "df.isnull().sum()"
   ]
  },
  {
   "cell_type": "code",
   "execution_count": 10,
   "id": "5f5b46f3",
   "metadata": {
    "colab": {
     "base_uri": "https://localhost:8080/"
    },
    "id": "5f5b46f3",
    "outputId": "c991f0a6-408b-4f07-c5d6-eecd4ecb49c7"
   },
   "outputs": [
    {
     "name": "stdout",
     "output_type": "stream",
     "text": [
      "<class 'pandas.core.frame.DataFrame'>\n",
      "RangeIndex: 20800 entries, 0 to 20799\n",
      "Data columns (total 2 columns):\n",
      " #   Column  Non-Null Count  Dtype \n",
      "---  ------  --------------  ----- \n",
      " 0   title   20242 non-null  object\n",
      " 1   label   20800 non-null  int64 \n",
      "dtypes: int64(1), object(1)\n",
      "memory usage: 325.1+ KB\n"
     ]
    }
   ],
   "source": [
    "df.info()"
   ]
  },
  {
   "cell_type": "code",
   "execution_count": 11,
   "id": "58b82e96",
   "metadata": {
    "id": "58b82e96"
   },
   "outputs": [],
   "source": [
    "#drop null values\n",
    "\n",
    "df.dropna(inplace=True)"
   ]
  },
  {
   "cell_type": "code",
   "execution_count": 12,
   "id": "552920d4",
   "metadata": {
    "colab": {
     "base_uri": "https://localhost:8080/",
     "height": 206
    },
    "id": "552920d4",
    "outputId": "213ef344-200b-4da0-b49b-43891fd251cc"
   },
   "outputs": [
    {
     "data": {
      "text/html": [
       "<div>\n",
       "<style scoped>\n",
       "    .dataframe tbody tr th:only-of-type {\n",
       "        vertical-align: middle;\n",
       "    }\n",
       "\n",
       "    .dataframe tbody tr th {\n",
       "        vertical-align: top;\n",
       "    }\n",
       "\n",
       "    .dataframe thead th {\n",
       "        text-align: right;\n",
       "    }\n",
       "</style>\n",
       "<table border=\"1\" class=\"dataframe\">\n",
       "  <thead>\n",
       "    <tr style=\"text-align: right;\">\n",
       "      <th></th>\n",
       "      <th>title</th>\n",
       "      <th>label</th>\n",
       "    </tr>\n",
       "  </thead>\n",
       "  <tbody>\n",
       "    <tr>\n",
       "      <th>0</th>\n",
       "      <td>House Dem Aide: We Didn’t Even See Comey’s Let...</td>\n",
       "      <td>1</td>\n",
       "    </tr>\n",
       "    <tr>\n",
       "      <th>1</th>\n",
       "      <td>FLYNN: Hillary Clinton, Big Woman on Campus - ...</td>\n",
       "      <td>0</td>\n",
       "    </tr>\n",
       "    <tr>\n",
       "      <th>2</th>\n",
       "      <td>Why the Truth Might Get You Fired</td>\n",
       "      <td>1</td>\n",
       "    </tr>\n",
       "    <tr>\n",
       "      <th>3</th>\n",
       "      <td>15 Civilians Killed In Single US Airstrike Hav...</td>\n",
       "      <td>1</td>\n",
       "    </tr>\n",
       "    <tr>\n",
       "      <th>4</th>\n",
       "      <td>Iranian woman jailed for fictional unpublished...</td>\n",
       "      <td>1</td>\n",
       "    </tr>\n",
       "  </tbody>\n",
       "</table>\n",
       "</div>"
      ],
      "text/plain": [
       "                                               title  label\n",
       "0  House Dem Aide: We Didn’t Even See Comey’s Let...      1\n",
       "1  FLYNN: Hillary Clinton, Big Woman on Campus - ...      0\n",
       "2                  Why the Truth Might Get You Fired      1\n",
       "3  15 Civilians Killed In Single US Airstrike Hav...      1\n",
       "4  Iranian woman jailed for fictional unpublished...      1"
      ]
     },
     "execution_count": 12,
     "metadata": {},
     "output_type": "execute_result"
    }
   ],
   "source": [
    "df.head()"
   ]
  },
  {
   "cell_type": "code",
   "execution_count": 13,
   "id": "e1d0f9b2",
   "metadata": {
    "colab": {
     "base_uri": "https://localhost:8080/"
    },
    "id": "e1d0f9b2",
    "outputId": "0a7b31e9-d523-4942-e5e5-72af7c1d0dfc"
   },
   "outputs": [
    {
     "data": {
      "text/plain": [
       "(20242, 2)"
      ]
     },
     "execution_count": 13,
     "metadata": {},
     "output_type": "execute_result"
    }
   ],
   "source": [
    "df.shape"
   ]
  },
  {
   "cell_type": "code",
   "execution_count": 14,
   "id": "d9e23bd1",
   "metadata": {
    "colab": {
     "base_uri": "https://localhost:8080/"
    },
    "id": "d9e23bd1",
    "outputId": "a2e6312b-72d0-41ec-9aa0-2f42fb1381dd"
   },
   "outputs": [
    {
     "data": {
      "text/plain": [
       "439"
      ]
     },
     "execution_count": 14,
     "metadata": {},
     "output_type": "execute_result"
    }
   ],
   "source": [
    "df.duplicated().sum()"
   ]
  },
  {
   "cell_type": "code",
   "execution_count": 15,
   "id": "8129d5b4",
   "metadata": {
    "id": "8129d5b4"
   },
   "outputs": [],
   "source": [
    "# remove duplicates\n",
    "df = df.drop_duplicates(keep='first')"
   ]
  },
  {
   "cell_type": "code",
   "execution_count": 16,
   "id": "39729353",
   "metadata": {
    "colab": {
     "base_uri": "https://localhost:8080/"
    },
    "id": "39729353",
    "outputId": "c821187e-d4d5-4633-9a29-191feaf412fa"
   },
   "outputs": [
    {
     "data": {
      "text/plain": [
       "(19803, 2)"
      ]
     },
     "execution_count": 16,
     "metadata": {},
     "output_type": "execute_result"
    }
   ],
   "source": [
    "df.shape"
   ]
  },
  {
   "cell_type": "markdown",
   "id": "344ebe69",
   "metadata": {
    "id": "344ebe69"
   },
   "source": [
    "# EDA"
   ]
  },
  {
   "cell_type": "code",
   "execution_count": 17,
   "id": "a8751acb",
   "metadata": {
    "colab": {
     "base_uri": "https://localhost:8080/"
    },
    "id": "a8751acb",
    "outputId": "8f223790-8595-4421-951e-3ffb3f5123d6"
   },
   "outputs": [
    {
     "data": {
      "text/plain": [
       "0    10381\n",
       "1     9422\n",
       "Name: label, dtype: int64"
      ]
     },
     "execution_count": 17,
     "metadata": {},
     "output_type": "execute_result"
    }
   ],
   "source": [
    "df['label'].value_counts()"
   ]
  },
  {
   "cell_type": "code",
   "execution_count": 18,
   "id": "1ff7a55b",
   "metadata": {
    "colab": {
     "base_uri": "https://localhost:8080/",
     "height": 406
    },
    "id": "1ff7a55b",
    "outputId": "0150cf82-387a-4e7e-aa18-2e2a0e58b874"
   },
   "outputs": [
    {
     "data": {
      "image/png": "[encoded data removed]",
      "text/plain": [
       "<Figure size 432x288 with 1 Axes>"
      ]
     },
     "metadata": {},
     "output_type": "display_data"
    }
   ],
   "source": [
    "plt.pie(df['label'].value_counts(), labels=['not fake','fake'],autopct=\"%0.2f\")\n",
    "plt.show()"
   ]
  },
  {
   "cell_type": "code",
   "execution_count": 19,
   "id": "95b95fff",
   "metadata": {
    "id": "95b95fff"
   },
   "outputs": [],
   "source": [
    "import nltk"
   ]
  },
  {
   "cell_type": "code",
   "execution_count": 20,
   "id": "d846eff8",
   "metadata": {
    "colab": {
     "base_uri": "https://localhost:8080/"
    },
    "id": "d846eff8",
    "outputId": "09892117-4080-4cf9-86fb-c2f3b6f92d99"
   },
   "outputs": [
    {
     "name": "stderr",
     "output_type": "stream",
     "text": [
      "[nltk_data] Downloading package punkt to\n",
      "[nltk_data]     C:\\Users\\Akshay\\AppData\\Roaming\\nltk_data...\n",
      "[nltk_data]   Package punkt is already up-to-date!\n"
     ]
    },
    {
     "data": {
      "text/plain": [
       "True"
      ]
     },
     "execution_count": 20,
     "metadata": {},
     "output_type": "execute_result"
    }
   ],
   "source": [
    "nltk.download('punkt')"
   ]
  },
  {
   "cell_type": "code",
   "execution_count": 21,
   "id": "0afc5649",
   "metadata": {
    "id": "0afc5649"
   },
   "outputs": [],
   "source": [
    "df['num_characters'] = df['title'].apply(len)"
   ]
  },
  {
   "cell_type": "code",
   "execution_count": 22,
   "id": "da654422",
   "metadata": {
    "colab": {
     "base_uri": "https://localhost:8080/",
     "height": 206
    },
    "id": "da654422",
    "outputId": "2eff1763-6959-4f55-f718-a3973db5488d"
   },
   "outputs": [
    {
     "data": {
      "text/html": [
       "<div>\n",
       "<style scoped>\n",
       "    .dataframe tbody tr th:only-of-type {\n",
       "        vertical-align: middle;\n",
       "    }\n",
       "\n",
       "    .dataframe tbody tr th {\n",
       "        vertical-align: top;\n",
       "    }\n",
       "\n",
       "    .dataframe thead th {\n",
       "        text-align: right;\n",
       "    }\n",
       "</style>\n",
       "<table border=\"1\" class=\"dataframe\">\n",
       "  <thead>\n",
       "    <tr style=\"text-align: right;\">\n",
       "      <th></th>\n",
       "      <th>title</th>\n",
       "      <th>label</th>\n",
       "      <th>num_characters</th>\n",
       "    </tr>\n",
       "  </thead>\n",
       "  <tbody>\n",
       "    <tr>\n",
       "      <th>0</th>\n",
       "      <td>House Dem Aide: We Didn’t Even See Comey’s Let...</td>\n",
       "      <td>1</td>\n",
       "      <td>81</td>\n",
       "    </tr>\n",
       "    <tr>\n",
       "      <th>1</th>\n",
       "      <td>FLYNN: Hillary Clinton, Big Woman on Campus - ...</td>\n",
       "      <td>0</td>\n",
       "      <td>55</td>\n",
       "    </tr>\n",
       "    <tr>\n",
       "      <th>2</th>\n",
       "      <td>Why the Truth Might Get You Fired</td>\n",
       "      <td>1</td>\n",
       "      <td>33</td>\n",
       "    </tr>\n",
       "    <tr>\n",
       "      <th>3</th>\n",
       "      <td>15 Civilians Killed In Single US Airstrike Hav...</td>\n",
       "      <td>1</td>\n",
       "      <td>63</td>\n",
       "    </tr>\n",
       "    <tr>\n",
       "      <th>4</th>\n",
       "      <td>Iranian woman jailed for fictional unpublished...</td>\n",
       "      <td>1</td>\n",
       "      <td>93</td>\n",
       "    </tr>\n",
       "  </tbody>\n",
       "</table>\n",
       "</div>"
      ],
      "text/plain": [
       "                                               title  label  num_characters\n",
       "0  House Dem Aide: We Didn’t Even See Comey’s Let...      1              81\n",
       "1  FLYNN: Hillary Clinton, Big Woman on Campus - ...      0              55\n",
       "2                  Why the Truth Might Get You Fired      1              33\n",
       "3  15 Civilians Killed In Single US Airstrike Hav...      1              63\n",
       "4  Iranian woman jailed for fictional unpublished...      1              93"
      ]
     },
     "execution_count": 22,
     "metadata": {},
     "output_type": "execute_result"
    }
   ],
   "source": [
    "df.head()"
   ]
  },
  {
   "cell_type": "code",
   "execution_count": 23,
   "id": "00c20d41",
   "metadata": {
    "id": "00c20d41"
   },
   "outputs": [],
   "source": [
    "# num of words\n",
    "df['num_words'] = df['title'].apply(lambda x:len(nltk.word_tokenize(x)))"
   ]
  },
  {
   "cell_type": "code",
   "execution_count": 24,
   "id": "a39beb15",
   "metadata": {
    "colab": {
     "base_uri": "https://localhost:8080/",
     "height": 206
    },
    "id": "a39beb15",
    "outputId": "6b03953d-ad31-4b8c-cf8e-80b6212b7763"
   },
   "outputs": [
    {
     "data": {
      "text/html": [
       "<div>\n",
       "<style scoped>\n",
       "    .dataframe tbody tr th:only-of-type {\n",
       "        vertical-align: middle;\n",
       "    }\n",
       "\n",
       "    .dataframe tbody tr th {\n",
       "        vertical-align: top;\n",
       "    }\n",
       "\n",
       "    .dataframe thead th {\n",
       "        text-align: right;\n",
       "    }\n",
       "</style>\n",
       "<table border=\"1\" class=\"dataframe\">\n",
       "  <thead>\n",
       "    <tr style=\"text-align: right;\">\n",
       "      <th></th>\n",
       "      <th>title</th>\n",
       "      <th>label</th>\n",
       "      <th>num_characters</th>\n",
       "      <th>num_words</th>\n",
       "    </tr>\n",
       "  </thead>\n",
       "  <tbody>\n",
       "    <tr>\n",
       "      <th>0</th>\n",
       "      <td>House Dem Aide: We Didn’t Even See Comey’s Let...</td>\n",
       "      <td>1</td>\n",
       "      <td>81</td>\n",
       "      <td>19</td>\n",
       "    </tr>\n",
       "    <tr>\n",
       "      <th>1</th>\n",
       "      <td>FLYNN: Hillary Clinton, Big Woman on Campus - ...</td>\n",
       "      <td>0</td>\n",
       "      <td>55</td>\n",
       "      <td>11</td>\n",
       "    </tr>\n",
       "    <tr>\n",
       "      <th>2</th>\n",
       "      <td>Why the Truth Might Get You Fired</td>\n",
       "      <td>1</td>\n",
       "      <td>33</td>\n",
       "      <td>7</td>\n",
       "    </tr>\n",
       "    <tr>\n",
       "      <th>3</th>\n",
       "      <td>15 Civilians Killed In Single US Airstrike Hav...</td>\n",
       "      <td>1</td>\n",
       "      <td>63</td>\n",
       "      <td>10</td>\n",
       "    </tr>\n",
       "    <tr>\n",
       "      <th>4</th>\n",
       "      <td>Iranian woman jailed for fictional unpublished...</td>\n",
       "      <td>1</td>\n",
       "      <td>93</td>\n",
       "      <td>14</td>\n",
       "    </tr>\n",
       "  </tbody>\n",
       "</table>\n",
       "</div>"
      ],
      "text/plain": [
       "                                               title  label  num_characters  \\\n",
       "0  House Dem Aide: We Didn’t Even See Comey’s Let...      1              81   \n",
       "1  FLYNN: Hillary Clinton, Big Woman on Campus - ...      0              55   \n",
       "2                  Why the Truth Might Get You Fired      1              33   \n",
       "3  15 Civilians Killed In Single US Airstrike Hav...      1              63   \n",
       "4  Iranian woman jailed for fictional unpublished...      1              93   \n",
       "\n",
       "   num_words  \n",
       "0         19  \n",
       "1         11  \n",
       "2          7  \n",
       "3         10  \n",
       "4         14  "
      ]
     },
     "execution_count": 24,
     "metadata": {},
     "output_type": "execute_result"
    }
   ],
   "source": [
    "df.head()"
   ]
  },
  {
   "cell_type": "code",
   "execution_count": 25,
   "id": "e964b730",
   "metadata": {
    "id": "e964b730"
   },
   "outputs": [],
   "source": [
    "df['num_sentences'] = df['title'].apply(lambda x:len(nltk.sent_tokenize(x)))"
   ]
  },
  {
   "cell_type": "code",
   "execution_count": 26,
   "id": "9a448a1f",
   "metadata": {
    "colab": {
     "base_uri": "https://localhost:8080/",
     "height": 206
    },
    "id": "9a448a1f",
    "outputId": "b69ebdff-ccb0-4a53-9358-6d7ef92bfe54"
   },
   "outputs": [
    {
     "data": {
      "text/html": [
       "<div>\n",
       "<style scoped>\n",
       "    .dataframe tbody tr th:only-of-type {\n",
       "        vertical-align: middle;\n",
       "    }\n",
       "\n",
       "    .dataframe tbody tr th {\n",
       "        vertical-align: top;\n",
       "    }\n",
       "\n",
       "    .dataframe thead th {\n",
       "        text-align: right;\n",
       "    }\n",
       "</style>\n",
       "<table border=\"1\" class=\"dataframe\">\n",
       "  <thead>\n",
       "    <tr style=\"text-align: right;\">\n",
       "      <th></th>\n",
       "      <th>title</th>\n",
       "      <th>label</th>\n",
       "      <th>num_characters</th>\n",
       "      <th>num_words</th>\n",
       "      <th>num_sentences</th>\n",
       "    </tr>\n",
       "  </thead>\n",
       "  <tbody>\n",
       "    <tr>\n",
       "      <th>0</th>\n",
       "      <td>House Dem Aide: We Didn’t Even See Comey’s Let...</td>\n",
       "      <td>1</td>\n",
       "      <td>81</td>\n",
       "      <td>19</td>\n",
       "      <td>1</td>\n",
       "    </tr>\n",
       "    <tr>\n",
       "      <th>1</th>\n",
       "      <td>FLYNN: Hillary Clinton, Big Woman on Campus - ...</td>\n",
       "      <td>0</td>\n",
       "      <td>55</td>\n",
       "      <td>11</td>\n",
       "      <td>1</td>\n",
       "    </tr>\n",
       "    <tr>\n",
       "      <th>2</th>\n",
       "      <td>Why the Truth Might Get You Fired</td>\n",
       "      <td>1</td>\n",
       "      <td>33</td>\n",
       "      <td>7</td>\n",
       "      <td>1</td>\n",
       "    </tr>\n",
       "    <tr>\n",
       "      <th>3</th>\n",
       "      <td>15 Civilians Killed In Single US Airstrike Hav...</td>\n",
       "      <td>1</td>\n",
       "      <td>63</td>\n",
       "      <td>10</td>\n",
       "      <td>1</td>\n",
       "    </tr>\n",
       "    <tr>\n",
       "      <th>4</th>\n",
       "      <td>Iranian woman jailed for fictional unpublished...</td>\n",
       "      <td>1</td>\n",
       "      <td>93</td>\n",
       "      <td>14</td>\n",
       "      <td>1</td>\n",
       "    </tr>\n",
       "  </tbody>\n",
       "</table>\n",
       "</div>"
      ],
      "text/plain": [
       "                                               title  label  num_characters  \\\n",
       "0  House Dem Aide: We Didn’t Even See Comey’s Let...      1              81   \n",
       "1  FLYNN: Hillary Clinton, Big Woman on Campus - ...      0              55   \n",
       "2                  Why the Truth Might Get You Fired      1              33   \n",
       "3  15 Civilians Killed In Single US Airstrike Hav...      1              63   \n",
       "4  Iranian woman jailed for fictional unpublished...      1              93   \n",
       "\n",
       "   num_words  num_sentences  \n",
       "0         19              1  \n",
       "1         11              1  \n",
       "2          7              1  \n",
       "3         10              1  \n",
       "4         14              1  "
      ]
     },
     "execution_count": 26,
     "metadata": {},
     "output_type": "execute_result"
    }
   ],
   "source": [
    "df.head()"
   ]
  },
  {
   "cell_type": "code",
   "execution_count": 27,
   "id": "8c2e545c",
   "metadata": {
    "colab": {
     "base_uri": "https://localhost:8080/",
     "height": 300
    },
    "id": "8c2e545c",
    "outputId": "b00b4b88-2612-4cb7-b8ba-c80fa692cf61"
   },
   "outputs": [
    {
     "data": {
      "text/html": [
       "<div>\n",
       "<style scoped>\n",
       "    .dataframe tbody tr th:only-of-type {\n",
       "        vertical-align: middle;\n",
       "    }\n",
       "\n",
       "    .dataframe tbody tr th {\n",
       "        vertical-align: top;\n",
       "    }\n",
       "\n",
       "    .dataframe thead th {\n",
       "        text-align: right;\n",
       "    }\n",
       "</style>\n",
       "<table border=\"1\" class=\"dataframe\">\n",
       "  <thead>\n",
       "    <tr style=\"text-align: right;\">\n",
       "      <th></th>\n",
       "      <th>num_characters</th>\n",
       "      <th>num_words</th>\n",
       "      <th>num_sentences</th>\n",
       "    </tr>\n",
       "  </thead>\n",
       "  <tbody>\n",
       "    <tr>\n",
       "      <th>count</th>\n",
       "      <td>19803.000000</td>\n",
       "      <td>19803.000000</td>\n",
       "      <td>19803.000000</td>\n",
       "    </tr>\n",
       "    <tr>\n",
       "      <th>mean</th>\n",
       "      <td>74.579912</td>\n",
       "      <td>14.202242</td>\n",
       "      <td>1.101702</td>\n",
       "    </tr>\n",
       "    <tr>\n",
       "      <th>std</th>\n",
       "      <td>23.054653</td>\n",
       "      <td>4.908809</td>\n",
       "      <td>0.357666</td>\n",
       "    </tr>\n",
       "    <tr>\n",
       "      <th>min</th>\n",
       "      <td>3.000000</td>\n",
       "      <td>1.000000</td>\n",
       "      <td>1.000000</td>\n",
       "    </tr>\n",
       "    <tr>\n",
       "      <th>25%</th>\n",
       "      <td>61.000000</td>\n",
       "      <td>11.000000</td>\n",
       "      <td>1.000000</td>\n",
       "    </tr>\n",
       "    <tr>\n",
       "      <th>50%</th>\n",
       "      <td>76.000000</td>\n",
       "      <td>14.000000</td>\n",
       "      <td>1.000000</td>\n",
       "    </tr>\n",
       "    <tr>\n",
       "      <th>75%</th>\n",
       "      <td>88.000000</td>\n",
       "      <td>17.000000</td>\n",
       "      <td>1.000000</td>\n",
       "    </tr>\n",
       "    <tr>\n",
       "      <th>max</th>\n",
       "      <td>456.000000</td>\n",
       "      <td>79.000000</td>\n",
       "      <td>7.000000</td>\n",
       "    </tr>\n",
       "  </tbody>\n",
       "</table>\n",
       "</div>"
      ],
      "text/plain": [
       "       num_characters     num_words  num_sentences\n",
       "count    19803.000000  19803.000000   19803.000000\n",
       "mean        74.579912     14.202242       1.101702\n",
       "std         23.054653      4.908809       0.357666\n",
       "min          3.000000      1.000000       1.000000\n",
       "25%         61.000000     11.000000       1.000000\n",
       "50%         76.000000     14.000000       1.000000\n",
       "75%         88.000000     17.000000       1.000000\n",
       "max        456.000000     79.000000       7.000000"
      ]
     },
     "execution_count": 27,
     "metadata": {},
     "output_type": "execute_result"
    }
   ],
   "source": [
    "df[['num_characters','num_words','num_sentences']].describe()"
   ]
  },
  {
   "cell_type": "code",
   "execution_count": 28,
   "id": "b67217af",
   "metadata": {
    "colab": {
     "base_uri": "https://localhost:8080/",
     "height": 300
    },
    "id": "b67217af",
    "outputId": "d755f340-ba95-42f3-fa1f-fb2ebb0d958a"
   },
   "outputs": [
    {
     "data": {
      "text/html": [
       "<div>\n",
       "<style scoped>\n",
       "    .dataframe tbody tr th:only-of-type {\n",
       "        vertical-align: middle;\n",
       "    }\n",
       "\n",
       "    .dataframe tbody tr th {\n",
       "        vertical-align: top;\n",
       "    }\n",
       "\n",
       "    .dataframe thead th {\n",
       "        text-align: right;\n",
       "    }\n",
       "</style>\n",
       "<table border=\"1\" class=\"dataframe\">\n",
       "  <thead>\n",
       "    <tr style=\"text-align: right;\">\n",
       "      <th></th>\n",
       "      <th>num_characters</th>\n",
       "      <th>num_words</th>\n",
       "      <th>num_sentences</th>\n",
       "    </tr>\n",
       "  </thead>\n",
       "  <tbody>\n",
       "    <tr>\n",
       "      <th>count</th>\n",
       "      <td>10381.000000</td>\n",
       "      <td>10381.000000</td>\n",
       "      <td>10381.000000</td>\n",
       "    </tr>\n",
       "    <tr>\n",
       "      <th>mean</th>\n",
       "      <td>79.609961</td>\n",
       "      <td>15.579135</td>\n",
       "      <td>1.114055</td>\n",
       "    </tr>\n",
       "    <tr>\n",
       "      <th>std</th>\n",
       "      <td>15.556547</td>\n",
       "      <td>3.702525</td>\n",
       "      <td>0.390267</td>\n",
       "    </tr>\n",
       "    <tr>\n",
       "      <th>min</th>\n",
       "      <td>22.000000</td>\n",
       "      <td>5.000000</td>\n",
       "      <td>1.000000</td>\n",
       "    </tr>\n",
       "    <tr>\n",
       "      <th>25%</th>\n",
       "      <td>70.000000</td>\n",
       "      <td>13.000000</td>\n",
       "      <td>1.000000</td>\n",
       "    </tr>\n",
       "    <tr>\n",
       "      <th>50%</th>\n",
       "      <td>81.000000</td>\n",
       "      <td>16.000000</td>\n",
       "      <td>1.000000</td>\n",
       "    </tr>\n",
       "    <tr>\n",
       "      <th>75%</th>\n",
       "      <td>89.000000</td>\n",
       "      <td>18.000000</td>\n",
       "      <td>1.000000</td>\n",
       "    </tr>\n",
       "    <tr>\n",
       "      <th>max</th>\n",
       "      <td>175.000000</td>\n",
       "      <td>35.000000</td>\n",
       "      <td>5.000000</td>\n",
       "    </tr>\n",
       "  </tbody>\n",
       "</table>\n",
       "</div>"
      ],
      "text/plain": [
       "       num_characters     num_words  num_sentences\n",
       "count    10381.000000  10381.000000   10381.000000\n",
       "mean        79.609961     15.579135       1.114055\n",
       "std         15.556547      3.702525       0.390267\n",
       "min         22.000000      5.000000       1.000000\n",
       "25%         70.000000     13.000000       1.000000\n",
       "50%         81.000000     16.000000       1.000000\n",
       "75%         89.000000     18.000000       1.000000\n",
       "max        175.000000     35.000000       5.000000"
      ]
     },
     "execution_count": 28,
     "metadata": {},
     "output_type": "execute_result"
    }
   ],
   "source": [
    "# Not Fake\n",
    "df[df['label'] == 0][['num_characters','num_words','num_sentences']].describe()"
   ]
  },
  {
   "cell_type": "code",
   "execution_count": 29,
   "id": "948ea40b",
   "metadata": {
    "colab": {
     "base_uri": "https://localhost:8080/",
     "height": 300
    },
    "id": "948ea40b",
    "outputId": "27c7d382-88dc-40a8-f5da-9c98e4cd0389"
   },
   "outputs": [
    {
     "data": {
      "text/html": [
       "<div>\n",
       "<style scoped>\n",
       "    .dataframe tbody tr th:only-of-type {\n",
       "        vertical-align: middle;\n",
       "    }\n",
       "\n",
       "    .dataframe tbody tr th {\n",
       "        vertical-align: top;\n",
       "    }\n",
       "\n",
       "    .dataframe thead th {\n",
       "        text-align: right;\n",
       "    }\n",
       "</style>\n",
       "<table border=\"1\" class=\"dataframe\">\n",
       "  <thead>\n",
       "    <tr style=\"text-align: right;\">\n",
       "      <th></th>\n",
       "      <th>num_characters</th>\n",
       "      <th>num_words</th>\n",
       "      <th>num_sentences</th>\n",
       "    </tr>\n",
       "  </thead>\n",
       "  <tbody>\n",
       "    <tr>\n",
       "      <th>count</th>\n",
       "      <td>9422.000000</td>\n",
       "      <td>9422.000000</td>\n",
       "      <td>9422.000000</td>\n",
       "    </tr>\n",
       "    <tr>\n",
       "      <th>mean</th>\n",
       "      <td>69.037890</td>\n",
       "      <td>12.685205</td>\n",
       "      <td>1.088092</td>\n",
       "    </tr>\n",
       "    <tr>\n",
       "      <th>std</th>\n",
       "      <td>28.141747</td>\n",
       "      <td>5.581524</td>\n",
       "      <td>0.317364</td>\n",
       "    </tr>\n",
       "    <tr>\n",
       "      <th>min</th>\n",
       "      <td>3.000000</td>\n",
       "      <td>1.000000</td>\n",
       "      <td>1.000000</td>\n",
       "    </tr>\n",
       "    <tr>\n",
       "      <th>25%</th>\n",
       "      <td>51.000000</td>\n",
       "      <td>9.000000</td>\n",
       "      <td>1.000000</td>\n",
       "    </tr>\n",
       "    <tr>\n",
       "      <th>50%</th>\n",
       "      <td>67.000000</td>\n",
       "      <td>12.000000</td>\n",
       "      <td>1.000000</td>\n",
       "    </tr>\n",
       "    <tr>\n",
       "      <th>75%</th>\n",
       "      <td>84.000000</td>\n",
       "      <td>16.000000</td>\n",
       "      <td>1.000000</td>\n",
       "    </tr>\n",
       "    <tr>\n",
       "      <th>max</th>\n",
       "      <td>456.000000</td>\n",
       "      <td>79.000000</td>\n",
       "      <td>7.000000</td>\n",
       "    </tr>\n",
       "  </tbody>\n",
       "</table>\n",
       "</div>"
      ],
      "text/plain": [
       "       num_characters    num_words  num_sentences\n",
       "count     9422.000000  9422.000000    9422.000000\n",
       "mean        69.037890    12.685205       1.088092\n",
       "std         28.141747     5.581524       0.317364\n",
       "min          3.000000     1.000000       1.000000\n",
       "25%         51.000000     9.000000       1.000000\n",
       "50%         67.000000    12.000000       1.000000\n",
       "75%         84.000000    16.000000       1.000000\n",
       "max        456.000000    79.000000       7.000000"
      ]
     },
     "execution_count": 29,
     "metadata": {},
     "output_type": "execute_result"
    }
   ],
   "source": [
    "# Fake\n",
    "df[df['label'] == 1][['num_characters','num_words','num_sentences']].describe()"
   ]
  },
  {
   "cell_type": "code",
   "execution_count": 30,
   "id": "b4aa1265",
   "metadata": {
    "colab": {
     "base_uri": "https://localhost:8080/",
     "height": 542
    },
    "id": "b4aa1265",
    "outputId": "8b177497-fe46-4ed8-db9c-87bf9632bbfe"
   },
   "outputs": [
    {
     "data": {
      "image/png": "[encoded data removed]",
      "text/plain": [
       "<Figure size 864x432 with 1 Axes>"
      ]
     },
     "metadata": {
      "needs_background": "light"
     },
     "output_type": "display_data"
    }
   ],
   "source": [
    "# characters\n",
    "\n",
    "plt.figure(figsize=(12,6))\n",
    "sns.histplot(df[df['label'] == 0]['num_characters'])\n",
    "sns.histplot(df[df['label'] == 1]['num_characters'],color='red')\n",
    "plt.show()"
   ]
  },
  {
   "cell_type": "code",
   "execution_count": 31,
   "id": "56f16310",
   "metadata": {
    "colab": {
     "base_uri": "https://localhost:8080/",
     "height": 542
    },
    "id": "56f16310",
    "outputId": "0a36f21d-518c-4c15-b81a-5cfdb46f5319"
   },
   "outputs": [
    {
     "data": {
      "image/png": "[encoded data removed]",
      "text/plain": [
       "<Figure size 864x432 with 1 Axes>"
      ]
     },
     "metadata": {
      "needs_background": "light"
     },
     "output_type": "display_data"
    }
   ],
   "source": [
    "# words\n",
    "plt.figure(figsize=(12,6))\n",
    "sns.histplot(df[df['label'] == 0]['num_words'])\n",
    "sns.histplot(df[df['label'] == 1]['num_words'],color='red')\n",
    "plt.show()"
   ]
  },
  {
   "cell_type": "code",
   "execution_count": 32,
   "id": "c38c4089",
   "metadata": {
    "colab": {
     "base_uri": "https://localhost:8080/",
     "height": 542
    },
    "id": "c38c4089",
    "outputId": "84fbce63-7d61-4029-beb3-6846cfea261c"
   },
   "outputs": [
    {
     "data": {
      "image/png": "[encoded data removed]",
      "text/plain": [
       "<Figure size 864x432 with 1 Axes>"
      ]
     },
     "metadata": {
      "needs_background": "light"
     },
     "output_type": "display_data"
    }
   ],
   "source": [
    "# sentences\n",
    "plt.figure(figsize=(12,6))\n",
    "sns.histplot(df[df['label'] == 0]['num_sentences'])\n",
    "sns.histplot(df[df['label'] == 1]['num_sentences'],color='red')\n",
    "plt.show()"
   ]
  },
  {
   "cell_type": "code",
   "execution_count": 33,
   "id": "7611d2d8",
   "metadata": {
    "colab": {
     "base_uri": "https://localhost:8080/",
     "height": 758
    },
    "id": "7611d2d8",
    "outputId": "36d99cf1-3f60-4b3b-fb73-1c5d1e0ae102"
   },
   "outputs": [
    {
     "data": {
      "image/png": "[encoded data removed]",
      "text/plain": [
       "<Figure size 582.375x540 with 12 Axes>"
      ]
     },
     "metadata": {
      "needs_background": "light"
     },
     "output_type": "display_data"
    }
   ],
   "source": [
    "sns.pairplot(df,hue='label')\n",
    "plt.show()"
   ]
  },
  {
   "cell_type": "code",
   "execution_count": 34,
   "id": "207bc872",
   "metadata": {
    "colab": {
     "base_uri": "https://localhost:8080/",
     "height": 528
    },
    "id": "207bc872",
    "outputId": "dec59b20-ae04-4bcc-a9ed-89e48ae2eef9"
   },
   "outputs": [
    {
     "data": {
      "image/png": "[encoded data removed]",
      "text/plain": [
       "<Figure size 864x432 with 2 Axes>"
      ]
     },
     "metadata": {
      "needs_background": "light"
     },
     "output_type": "display_data"
    }
   ],
   "source": [
    "plt.figure(figsize=(12,6))\n",
    "sns.heatmap(df.corr(),annot=True)\n",
    "plt.show()"
   ]
  },
  {
   "cell_type": "markdown",
   "id": "5e13b09b",
   "metadata": {
    "id": "5e13b09b"
   },
   "source": [
    "## Data preprocessing"
   ]
  },
  {
   "cell_type": "code",
   "execution_count": 35,
   "id": "b0c8087b",
   "metadata": {
    "id": "b0c8087b"
   },
   "outputs": [],
   "source": [
    "import nltk\n",
    "import re\n",
    "from nltk.corpus import stopwords\n",
    "import string"
   ]
  },
  {
   "cell_type": "code",
   "execution_count": 36,
   "id": "616b5411",
   "metadata": {
    "colab": {
     "base_uri": "https://localhost:8080/"
    },
    "id": "616b5411",
    "outputId": "3074ea3b-9b96-43e1-cafa-f881692d13ff"
   },
   "outputs": [
    {
     "name": "stderr",
     "output_type": "stream",
     "text": [
      "[nltk_data] Downloading package stopwords to\n",
      "[nltk_data]     C:\\Users\\Akshay\\AppData\\Roaming\\nltk_data...\n",
      "[nltk_data]   Package stopwords is already up-to-date!\n"
     ]
    },
    {
     "data": {
      "text/plain": [
       "True"
      ]
     },
     "execution_count": 36,
     "metadata": {},
     "output_type": "execute_result"
    }
   ],
   "source": [
    "nltk.download('stopwords')"
   ]
  },
  {
   "cell_type": "code",
   "execution_count": 37,
   "id": "285afa15",
   "metadata": {
    "colab": {
     "base_uri": "https://localhost:8080/",
     "height": 36
    },
    "id": "285afa15",
    "outputId": "1811459c-5e7f-4da7-e8ab-fb1d9a43d08b"
   },
   "outputs": [
    {
     "data": {
      "text/plain": [
       "'love'"
      ]
     },
     "execution_count": 37,
     "metadata": {},
     "output_type": "execute_result"
    }
   ],
   "source": [
    "from nltk.stem.porter import PorterStemmer\n",
    "ps = PorterStemmer()\n",
    "ps.stem('loving')"
   ]
  },
  {
   "cell_type": "code",
   "execution_count": 38,
   "id": "318d99b5",
   "metadata": {
    "id": "318d99b5"
   },
   "outputs": [],
   "source": [
    "def transform_text(text):\n",
    "    text = text.lower()\n",
    "    text = nltk.word_tokenize(text)\n",
    "    \n",
    "    y = []\n",
    "    for i in text:\n",
    "        if i.isalnum(): #remove special charactes except alphanumeric\n",
    "            y.append(i)\n",
    "    \n",
    "    text = y[:]\n",
    "    y.clear()\n",
    "    \n",
    "    #remove stopwords and punctuation\n",
    "    for i in text:\n",
    "        if i not in stopwords.words('english') and i not in string.punctuation: \n",
    "            y.append(i)\n",
    "            \n",
    "    text = y[:]\n",
    "    y.clear()\n",
    "    \n",
    "    #word stemming\n",
    "    for i in text:\n",
    "        y.append(ps.stem(i))\n",
    "    \n",
    "            \n",
    "    return \" \".join(y)"
   ]
  },
  {
   "cell_type": "code",
   "execution_count": 39,
   "id": "75fd6cd8",
   "metadata": {
    "colab": {
     "base_uri": "https://localhost:8080/",
     "height": 53
    },
    "id": "75fd6cd8",
    "outputId": "4c2f300c-19dd-4d2b-d343-8dacc127958e"
   },
   "outputs": [
    {
     "data": {
      "text/plain": [
       "'even see comey letter jason chaffetz tweet darrel lucu octob 30 2016 subscrib jason chaffetz stump american fork utah imag courtesi michael jolley avail creativ licens apolog keith olbermann doubt worst person world director jame comey'"
      ]
     },
     "execution_count": 39,
     "metadata": {},
     "output_type": "execute_result"
    }
   ],
   "source": [
    "transform_text(\"We Didn’t Even See Comey’s Letter Until Jason Chaffetz Tweeted It By Darrell Lucus on October 30, 2016 Subscribe Jason Chaffetz on the stump in American Fork, Utah ( image courtesy Michael Jolley, available under a Creative Commons-BY license) \\nWith apologies to Keith Olbermann, there is no doubt who the Worst Person in The World is this week–FBI Director James Comey.\")"
   ]
  },
  {
   "cell_type": "code",
   "execution_count": 40,
   "id": "24baea9c",
   "metadata": {
    "id": "24baea9c"
   },
   "outputs": [],
   "source": [
    "df['transformed_text'] = df['title'].apply(transform_text)"
   ]
  },
  {
   "cell_type": "code",
   "execution_count": 41,
   "id": "35895db1",
   "metadata": {
    "colab": {
     "base_uri": "https://localhost:8080/",
     "height": 206
    },
    "id": "35895db1",
    "outputId": "89edbb8c-78fe-4a1c-b69b-e2127db3a84a"
   },
   "outputs": [
    {
     "data": {
      "text/html": [
       "<div>\n",
       "<style scoped>\n",
       "    .dataframe tbody tr th:only-of-type {\n",
       "        vertical-align: middle;\n",
       "    }\n",
       "\n",
       "    .dataframe tbody tr th {\n",
       "        vertical-align: top;\n",
       "    }\n",
       "\n",
       "    .dataframe thead th {\n",
       "        text-align: right;\n",
       "    }\n",
       "</style>\n",
       "<table border=\"1\" class=\"dataframe\">\n",
       "  <thead>\n",
       "    <tr style=\"text-align: right;\">\n",
       "      <th></th>\n",
       "      <th>title</th>\n",
       "      <th>label</th>\n",
       "      <th>num_characters</th>\n",
       "      <th>num_words</th>\n",
       "      <th>num_sentences</th>\n",
       "      <th>transformed_text</th>\n",
       "    </tr>\n",
       "  </thead>\n",
       "  <tbody>\n",
       "    <tr>\n",
       "      <th>0</th>\n",
       "      <td>House Dem Aide: We Didn’t Even See Comey’s Let...</td>\n",
       "      <td>1</td>\n",
       "      <td>81</td>\n",
       "      <td>19</td>\n",
       "      <td>1</td>\n",
       "      <td>hous dem aid even see comey letter jason chaff...</td>\n",
       "    </tr>\n",
       "    <tr>\n",
       "      <th>1</th>\n",
       "      <td>FLYNN: Hillary Clinton, Big Woman on Campus - ...</td>\n",
       "      <td>0</td>\n",
       "      <td>55</td>\n",
       "      <td>11</td>\n",
       "      <td>1</td>\n",
       "      <td>flynn hillari clinton big woman campu breitbart</td>\n",
       "    </tr>\n",
       "    <tr>\n",
       "      <th>2</th>\n",
       "      <td>Why the Truth Might Get You Fired</td>\n",
       "      <td>1</td>\n",
       "      <td>33</td>\n",
       "      <td>7</td>\n",
       "      <td>1</td>\n",
       "      <td>truth might get fire</td>\n",
       "    </tr>\n",
       "    <tr>\n",
       "      <th>3</th>\n",
       "      <td>15 Civilians Killed In Single US Airstrike Hav...</td>\n",
       "      <td>1</td>\n",
       "      <td>63</td>\n",
       "      <td>10</td>\n",
       "      <td>1</td>\n",
       "      <td>15 civilian kill singl us airstrik identifi</td>\n",
       "    </tr>\n",
       "    <tr>\n",
       "      <th>4</th>\n",
       "      <td>Iranian woman jailed for fictional unpublished...</td>\n",
       "      <td>1</td>\n",
       "      <td>93</td>\n",
       "      <td>14</td>\n",
       "      <td>1</td>\n",
       "      <td>iranian woman jail fiction unpublish stori wom...</td>\n",
       "    </tr>\n",
       "  </tbody>\n",
       "</table>\n",
       "</div>"
      ],
      "text/plain": [
       "                                               title  label  num_characters  \\\n",
       "0  House Dem Aide: We Didn’t Even See Comey’s Let...      1              81   \n",
       "1  FLYNN: Hillary Clinton, Big Woman on Campus - ...      0              55   \n",
       "2                  Why the Truth Might Get You Fired      1              33   \n",
       "3  15 Civilians Killed In Single US Airstrike Hav...      1              63   \n",
       "4  Iranian woman jailed for fictional unpublished...      1              93   \n",
       "\n",
       "   num_words  num_sentences                                   transformed_text  \n",
       "0         19              1  hous dem aid even see comey letter jason chaff...  \n",
       "1         11              1    flynn hillari clinton big woman campu breitbart  \n",
       "2          7              1                               truth might get fire  \n",
       "3         10              1        15 civilian kill singl us airstrik identifi  \n",
       "4         14              1  iranian woman jail fiction unpublish stori wom...  "
      ]
     },
     "execution_count": 41,
     "metadata": {},
     "output_type": "execute_result"
    }
   ],
   "source": [
    "df.head()"
   ]
  },
  {
   "cell_type": "code",
   "execution_count": 42,
   "id": "844f3c96",
   "metadata": {
    "id": "844f3c96"
   },
   "outputs": [],
   "source": [
    "from wordcloud import WordCloud\n",
    "wc = WordCloud(width=500,height=500,min_font_size=10,background_color='white')"
   ]
  },
  {
   "cell_type": "code",
   "execution_count": 43,
   "id": "d2f29cb1",
   "metadata": {
    "id": "d2f29cb1"
   },
   "outputs": [],
   "source": [
    "fake_wc = wc.generate(df[df['label'] == 1]['transformed_text'].str.cat(sep=\" \"))"
   ]
  },
  {
   "cell_type": "code",
   "execution_count": 44,
   "id": "8f7ba8c9",
   "metadata": {
    "colab": {
     "base_uri": "https://localhost:8080/",
     "height": 527
    },
    "id": "8f7ba8c9",
    "outputId": "b0ed9ae5-68a1-411d-c91b-ffb3aca21bee"
   },
   "outputs": [
    {
     "data": {
      "image/png": "[encoded data removed]",
      "text/plain": [
       "<Figure size 1296x432 with 1 Axes>"
      ]
     },
     "metadata": {
      "needs_background": "light"
     },
     "output_type": "display_data"
    }
   ],
   "source": [
    "plt.figure(figsize=(18,6))\n",
    "plt.imshow(fake_wc)\n",
    "plt.show()"
   ]
  },
  {
   "cell_type": "code",
   "execution_count": 45,
   "id": "ef9782f8",
   "metadata": {
    "id": "ef9782f8"
   },
   "outputs": [],
   "source": [
    "not_fake_wc = wc.generate(df[df['label'] == 0]['transformed_text'].str.cat(sep=\" \"))"
   ]
  },
  {
   "cell_type": "code",
   "execution_count": 46,
   "id": "83175369",
   "metadata": {
    "colab": {
     "base_uri": "https://localhost:8080/",
     "height": 527
    },
    "id": "83175369",
    "outputId": "faec5bcc-a6ad-4317-c474-695f822155f5"
   },
   "outputs": [
    {
     "data": {
      "image/png": "[encoded data removed]",
      "text/plain": [
       "<Figure size 1296x432 with 1 Axes>"
      ]
     },
     "metadata": {
      "needs_background": "light"
     },
     "output_type": "display_data"
    }
   ],
   "source": [
    "plt.figure(figsize=(18,6))\n",
    "plt.imshow(not_fake_wc)\n",
    "plt.show()"
   ]
  },
  {
   "cell_type": "code",
   "execution_count": 47,
   "id": "a4916d25",
   "metadata": {
    "id": "a4916d25"
   },
   "outputs": [],
   "source": [
    "fake_corpus = []\n",
    "for msg in df[df['label'] == 1]['transformed_text'].tolist():\n",
    "    for word in msg.split():\n",
    "        fake_corpus.append(word)"
   ]
  },
  {
   "cell_type": "code",
   "execution_count": 48,
   "id": "52d832ce",
   "metadata": {
    "colab": {
     "base_uri": "https://localhost:8080/"
    },
    "id": "52d832ce",
    "outputId": "86a0d9e3-6d77-4ea3-b3af-b8cf49a2bfe4"
   },
   "outputs": [
    {
     "data": {
      "text/plain": [
       "72182"
      ]
     },
     "execution_count": 48,
     "metadata": {},
     "output_type": "execute_result"
    }
   ],
   "source": [
    "len(fake_corpus)"
   ]
  },
  {
   "cell_type": "code",
   "execution_count": 49,
   "id": "716a7fdb",
   "metadata": {
    "id": "716a7fdb"
   },
   "outputs": [],
   "source": [
    "from collections import Counter"
   ]
  },
  {
   "cell_type": "code",
   "execution_count": 50,
   "id": "930619b0",
   "metadata": {
    "colab": {
     "base_uri": "https://localhost:8080/"
    },
    "id": "930619b0",
    "outputId": "0b9902b4-fd13-4bf8-ae45-bbf5b75c79d1"
   },
   "outputs": [
    {
     "data": {
      "text/plain": [
       "[('trump', 1362),\n",
       " ('hillari', 962),\n",
       " ('clinton', 887),\n",
       " ('elect', 533),\n",
       " ('new', 413),\n",
       " ('video', 381),\n",
       " ('us', 375),\n",
       " ('news', 337),\n",
       " ('comment', 336),\n",
       " ('russia', 325),\n",
       " ('fbi', 323),\n",
       " ('war', 315),\n",
       " ('email', 297),\n",
       " ('america', 289),\n",
       " ('vote', 283),\n",
       " ('world', 270),\n",
       " ('obama', 268),\n",
       " ('donald', 259),\n",
       " ('say', 222),\n",
       " ('break', 203),\n",
       " ('american', 201),\n",
       " ('day', 198),\n",
       " ('de', 185),\n",
       " ('state', 182),\n",
       " ('presid', 181),\n",
       " ('wikileak', 177),\n",
       " ('support', 171),\n",
       " ('campaign', 170),\n",
       " ('2016', 164),\n",
       " ('report', 161)]"
      ]
     },
     "execution_count": 50,
     "metadata": {},
     "output_type": "execute_result"
    }
   ],
   "source": [
    "Counter(fake_corpus).most_common(30)"
   ]
  },
  {
   "cell_type": "code",
   "execution_count": 51,
   "id": "e423df27",
   "metadata": {
    "id": "e423df27"
   },
   "outputs": [],
   "source": [
    "d1 = pd.DataFrame(Counter(fake_corpus).most_common(30))[0]"
   ]
  },
  {
   "cell_type": "code",
   "execution_count": 52,
   "id": "428cb63e",
   "metadata": {
    "colab": {
     "base_uri": "https://localhost:8080/"
    },
    "id": "428cb63e",
    "outputId": "c809e4f3-e5c8-449b-a3fb-91c9fc006fcb"
   },
   "outputs": [
    {
     "data": {
      "text/plain": [
       "0      trump\n",
       "1    hillari\n",
       "2    clinton\n",
       "3      elect\n",
       "4        new\n",
       "Name: 0, dtype: object"
      ]
     },
     "execution_count": 52,
     "metadata": {},
     "output_type": "execute_result"
    }
   ],
   "source": [
    "d1.head()"
   ]
  },
  {
   "cell_type": "code",
   "execution_count": 53,
   "id": "9dbc68bf",
   "metadata": {
    "id": "9dbc68bf"
   },
   "outputs": [],
   "source": [
    "d2 = pd.DataFrame(Counter(fake_corpus).most_common(30))[1]"
   ]
  },
  {
   "cell_type": "code",
   "execution_count": 54,
   "id": "ecf75a03",
   "metadata": {
    "colab": {
     "base_uri": "https://localhost:8080/"
    },
    "id": "ecf75a03",
    "outputId": "8d4a16b2-148b-4fb2-aa68-748fdefde4ea"
   },
   "outputs": [
    {
     "data": {
      "text/plain": [
       "0    1362\n",
       "1     962\n",
       "2     887\n",
       "3     533\n",
       "4     413\n",
       "Name: 1, dtype: int64"
      ]
     },
     "execution_count": 54,
     "metadata": {},
     "output_type": "execute_result"
    }
   ],
   "source": [
    "d2.head()"
   ]
  },
  {
   "cell_type": "code",
   "execution_count": 55,
   "id": "be9110e5",
   "metadata": {
    "colab": {
     "base_uri": "https://localhost:8080/",
     "height": 454
    },
    "id": "be9110e5",
    "outputId": "f6e93550-52f2-4588-b5b2-b417b2b48f45"
   },
   "outputs": [
    {
     "data": {
      "image/png": "[encoded data removed]",
      "text/plain": [
       "<Figure size 1296x432 with 1 Axes>"
      ]
     },
     "metadata": {
      "needs_background": "light"
     },
     "output_type": "display_data"
    }
   ],
   "source": [
    "plt.figure(figsize = (18,6))\n",
    "sns.barplot(x=d1,y=d2)\n",
    "plt.xticks(rotation='vertical')\n",
    "plt.show()"
   ]
  },
  {
   "cell_type": "code",
   "execution_count": 56,
   "id": "fe7fb11d",
   "metadata": {
    "id": "fe7fb11d"
   },
   "outputs": [],
   "source": [
    "not_fake_corpus = []\n",
    "for msg in df[df['label'] == 0]['transformed_text'].tolist():\n",
    "    for word in msg.split():\n",
    "        not_fake_corpus.append(word)"
   ]
  },
  {
   "cell_type": "code",
   "execution_count": 57,
   "id": "9a9b6694",
   "metadata": {
    "colab": {
     "base_uri": "https://localhost:8080/"
    },
    "id": "9a9b6694",
    "outputId": "337c25a5-3eb5-476d-c199-e875c4900c13"
   },
   "outputs": [
    {
     "data": {
      "text/plain": [
       "96764"
      ]
     },
     "execution_count": 57,
     "metadata": {},
     "output_type": "execute_result"
    }
   ],
   "source": [
    "len(not_fake_corpus)"
   ]
  },
  {
   "cell_type": "code",
   "execution_count": 58,
   "id": "4408184a",
   "metadata": {
    "colab": {
     "base_uri": "https://localhost:8080/",
     "height": 455
    },
    "id": "4408184a",
    "outputId": "a733ed07-27fa-4b7c-9db8-513fa9061eaa"
   },
   "outputs": [
    {
     "data": {
      "image/png": "[encoded data removed]",
      "text/plain": [
       "<Figure size 1296x432 with 1 Axes>"
      ]
     },
     "metadata": {
      "needs_background": "light"
     },
     "output_type": "display_data"
    }
   ],
   "source": [
    "plt.figure(figsize = (18,6))\n",
    "sns.barplot(x=pd.DataFrame(Counter(not_fake_corpus).most_common(30))[0],y=pd.DataFrame(Counter(not_fake_corpus).most_common(30))[1])\n",
    "plt.xticks(rotation='vertical')\n",
    "plt.show()"
   ]
  },
  {
   "cell_type": "markdown",
   "id": "44a11491",
   "metadata": {
    "id": "44a11491"
   },
   "source": [
    "## model building"
   ]
  },
  {
   "cell_type": "code",
   "execution_count": 59,
   "id": "7LPurlOiHOfl",
   "metadata": {
    "id": "7LPurlOiHOfl"
   },
   "outputs": [],
   "source": [
    "from tensorflow.keras.layers import Embedding\n",
    "from tensorflow.keras.preprocessing.sequence import pad_sequences\n",
    "from tensorflow.keras.models import Sequential\n",
    "from tensorflow.keras.preprocessing.text import one_hot\n",
    "from tensorflow.keras.layers import LSTM\n",
    "from tensorflow.keras.layers import Bidirectional\n",
    "from tensorflow.keras.layers import Dense\n",
    "from tensorflow.keras.layers import Dropout"
   ]
  },
  {
   "cell_type": "code",
   "execution_count": 60,
   "id": "4fb24e67",
   "metadata": {},
   "outputs": [],
   "source": [
    "X = df['transformed_text']"
   ]
  },
  {
   "cell_type": "code",
   "execution_count": 61,
   "id": "2c46f9fd",
   "metadata": {},
   "outputs": [],
   "source": [
    "y = df['label']"
   ]
  },
  {
   "cell_type": "code",
   "execution_count": 62,
   "id": "68vh5-UrHfHG",
   "metadata": {
    "id": "68vh5-UrHfHG"
   },
   "outputs": [],
   "source": [
    "### Vocabulary size\n",
    "voc_size=10000"
   ]
  },
  {
   "cell_type": "code",
   "execution_count": 63,
   "id": "S79ya8c9HDbv",
   "metadata": {
    "colab": {
     "base_uri": "https://localhost:8080/"
    },
    "id": "S79ya8c9HDbv",
    "outputId": "daefacf9-eb6c-4cff-b1e5-75f6cc11ba77"
   },
   "outputs": [
    {
     "data": {
      "text/plain": [
       "[[1582, 5519, 8853, 3935, 2751, 9516, 8018, 6201, 1708, 9509],\n",
       " [5581, 6775, 3982, 4101, 4466, 7830, 8630],\n",
       " [4944, 3589, 8224, 9638],\n",
       " [7271, 9313, 7553, 8809, 5715, 4851, 1760],\n",
       " [2149, 4466, 5241, 627, 9592, 8715, 4466, 7244, 5815, 2881],\n",
       " [6921,\n",
       "  7364,\n",
       "  524,\n",
       "  722,\n",
       "  5384,\n",
       "  3893,\n",
       "  2038,\n",
       "  232,\n",
       "  51,\n",
       "  4839,\n",
       "  8997,\n",
       "  3964,\n",
       "  2040,\n",
       "  1081,\n",
       "  8630],\n",
       " [4042,\n",
       "  4042,\n",
       "  6920,\n",
       "  4338,\n",
       "  9042,\n",
       "  1641,\n",
       "  5234,\n",
       "  2790,\n",
       "  1131,\n",
       "  1033,\n",
       "  2611,\n",
       "  3834,\n",
       "  1276],\n",
       " [8791, 3833, 5999, 7805, 3431, 1667, 1661, 3802, 684, 6518, 9530],\n",
       " [6292, 3262, 3314, 8164, 3893, 1368, 2514, 5012, 667, 1768, 684, 6518, 9530],\n",
       " [5598, 9091, 6514, 2670, 3893, 4918, 684, 6518, 9530],\n",
       " [7635, 2444, 4956, 9610, 3380, 1724, 3893, 4451],\n",
       " [4055, 463, 3327, 7274, 9297, 2135, 7147, 3339],\n",
       " [8143, 2581, 7329, 7690, 6048, 9950, 4273, 2502, 5175, 9482, 9961],\n",
       " [5715, 2855, 2751, 2927, 3893, 6514],\n",
       " [2522, 3344, 6751, 6661, 9651, 9334, 8664, 5718, 2230],\n",
       " [2339, 9942, 4916, 1601, 8999, 9318, 3247, 684, 6518, 9530],\n",
       " [3961, 2741, 5047, 259, 9129, 684, 6518, 9530],\n",
       " [3626, 5722, 8035, 7391, 5675, 9481, 5946, 1988, 8311, 8617],\n",
       " [4881, 2749, 6775],\n",
       " [2999, 8681, 8127, 8164, 3893, 9268, 5298, 8630],\n",
       " [7874, 5602, 8750, 8109, 5671, 6897, 2722, 2534, 1390, 5132, 684, 1037, 1667],\n",
       " [5618, 278, 3982, 4644, 5102, 7019, 1725, 5027, 8715],\n",
       " [1487, 9454, 3893, 7975, 4840, 8630],\n",
       " [3665, 5841, 8355, 4537, 6216, 2166, 7464, 5012, 9224, 8346],\n",
       " [8595, 2215, 2526, 6280, 1415, 1346, 1725, 407, 2700, 6972, 684, 6518, 9530],\n",
       " [2117, 2195, 5299, 629, 8939, 9978, 4472],\n",
       " [2040, 6933, 8184, 463, 3743, 2918, 1501, 1745, 3118, 1041, 685, 8630],\n",
       " [3727, 6775, 9923, 8520, 8285, 4055, 7271, 4463, 3642],\n",
       " [2400, 6501, 7229, 7874, 409, 1105, 4644, 741, 4887, 684, 6518, 9530],\n",
       " [6775, 3982, 1308, 8977, 684, 6518, 9530],\n",
       " [2999, 8681, 8127, 9595, 2482, 2166, 7874, 8630],\n",
       " [1010, 1271, 9381, 7222, 1579, 5316],\n",
       " [1575, 4916, 4629, 3224, 2194, 684, 6518, 9530],\n",
       " [5765, 2921, 2885, 2064, 400, 2673, 2154, 4181, 4132, 684, 6518, 9530],\n",
       " [3039, 6957, 3951, 1745, 7865, 9849, 9126, 9752, 6025, 684, 6518, 9530],\n",
       " [6514, 9174, 8939, 1760, 8717, 4283, 684, 6518, 9530],\n",
       " [6029, 3386, 4928, 9558, 3344, 7462],\n",
       " [3904, 3013, 6270],\n",
       " [2223, 6846, 8446, 4088, 9261, 1336, 1765, 8630],\n",
       " [2690, 2951, 2690, 8372, 7013, 1224, 684, 6518, 9530],\n",
       " [7048, 7864, 2912, 8457, 8146, 7736, 8630],\n",
       " [8014, 7051, 3310, 9026, 941],\n",
       " [6897, 8001, 5219, 641, 9060, 6567, 684, 6518, 9530],\n",
       " [7760, 9161, 3253, 7601, 3646, 5381, 3932, 7755],\n",
       " [7529, 7286, 2899, 7922, 7635, 4269, 2397, 3715, 8630],\n",
       " [4181, 7930, 3856, 794, 4960, 7179, 7229, 684, 6518, 9530],\n",
       " [8673, 4221, 9406, 7543, 2335, 4360, 4072, 3051, 4364, 1081],\n",
       " [295, 6667, 3850, 8188, 9441, 401, 3928, 9334],\n",
       " [4782, 4378, 6657, 8624, 1415, 1913, 684, 8216, 684, 6518, 9530],\n",
       " [3743, 3743, 9647, 8070, 7185, 867, 4177, 9786, 8702, 1414, 4133, 8630],\n",
       " [2787, 6563, 6805],\n",
       " [4865, 4350, 4731, 3377, 6514, 3209],\n",
       " [1849, 714, 9802, 5416, 4264, 3522, 4478, 8817, 2190, 8630],\n",
       " [5645, 3463, 3567, 3386, 6280, 818, 2397, 1725, 9268, 1081],\n",
       " [3893, 6270, 2787, 1155, 877, 4733],\n",
       " [9903, 1558, 9039, 5012, 3430, 667, 2039, 1849, 1316, 8803, 1081],\n",
       " [1836, 7787, 6933, 9563, 5510],\n",
       " [8164, 3893, 5999, 6270, 920, 3895, 5715, 9268, 1445],\n",
       " [5850, 1666, 5277, 9559, 9723, 684, 6518, 9530],\n",
       " [2339, 8830, 9063, 1219, 4566, 1353, 684, 6518, 9530],\n",
       " [8905, 9958, 932, 752, 6270],\n",
       " [4364, 3284, 5443, 990, 7122, 8219, 5514, 6357, 3416, 684, 6518, 9530],\n",
       " [8968, 3558, 1801, 2154, 3118, 9224, 3986],\n",
       " [5510, 1202, 6860, 1715, 9568, 488, 1044, 5520, 6638, 684, 6518, 9530],\n",
       " [9148, 6933, 8184, 6440, 7516, 9063, 1307],\n",
       " [8780, 8999, 6894, 7300, 7762, 6095, 1896, 9869, 9261, 599],\n",
       " [3982, 4391, 4319, 4881, 9271, 6710, 5841, 6775, 3982, 7832],\n",
       " [1193, 2629, 3642, 684, 6518, 9530],\n",
       " [5053, 8934, 7343, 9334, 3893, 7505, 9268, 6274],\n",
       " [901, 300, 9595, 8558],\n",
       " [4141, 2321, 3743, 7085],\n",
       " [1315, 932, 4466, 1832, 684, 6518, 9530],\n",
       " [9315, 6894, 9188, 6029, 9716, 5327, 684, 8301, 684, 6518, 9530],\n",
       " [8673, 6292, 4451, 7635, 7386, 5995, 7951, 2397, 684, 6518, 9530],\n",
       " [2223, 3993, 7217, 9086, 5726, 6554, 684, 6518, 9530],\n",
       " [7874, 4514, 8475, 3051, 9862, 1307, 8723, 9862, 4221, 3479, 1710, 3253, 659],\n",
       " [8772, 9734, 7635, 5510, 906, 7874],\n",
       " [9232, 1372, 7286, 4071, 5867, 6119, 684, 6518, 9530],\n",
       " [2025, 1255, 5938, 2075, 3893, 4923, 1731, 8630],\n",
       " [8619, 6379, 1942, 1661, 8243, 8757, 3935, 3668, 684, 6518, 9530],\n",
       " [6271, 1265, 3904, 8070, 1752, 2173, 5998, 8690, 7625],\n",
       " [3023, 9348, 2118, 6775],\n",
       " [5321, 3645, 2529, 5012, 9726, 603, 7841],\n",
       " [3893, 266, 6992, 5702, 684, 6518, 9530],\n",
       " [9904, 2174, 8523, 8845, 8197, 7870, 1187, 6546, 684, 6518, 9530],\n",
       " [1092],\n",
       " [3893, 1733, 3642, 9636, 407, 463, 3051, 684, 6518, 9530],\n",
       " [7229, 7520, 7085, 1205, 9000, 4519, 3982, 3642, 4080, 3893, 5092, 678, 752],\n",
       " [8824, 627, 4107, 7882, 9934, 684, 6518, 9530],\n",
       " [2703, 6635, 1641, 78, 901, 2271, 524, 8771, 684, 6518, 9530],\n",
       " [5874, 4339, 301, 2610, 4685, 5468, 4911, 2973, 6425, 3802, 4300],\n",
       " [5822, 6528, 6825, 9174, 8616, 7434, 684, 6518, 9530],\n",
       " [6064,\n",
       "  9042,\n",
       "  4945,\n",
       "  4335,\n",
       "  2260,\n",
       "  8164,\n",
       "  3893,\n",
       "  2223,\n",
       "  9360,\n",
       "  9213,\n",
       "  9739,\n",
       "  5106,\n",
       "  1475,\n",
       "  1037,\n",
       "  8047],\n",
       " [8630, 7874, 9595, 3893, 9030, 8630],\n",
       " [5737, 1582, 7561, 7265, 6349, 7635, 446, 4618],\n",
       " [7131, 2739, 2494, 8022],\n",
       " [2576, 7589, 4133, 2223, 7448, 6270, 8047, 8630],\n",
       " [8070, 3423, 4614, 752, 2475, 6294, 2526, 684, 6518, 9530],\n",
       " [3175, 1152, 7208, 5598, 5180, 684, 6518, 9530],\n",
       " [2451, 7274, 2769, 2195, 9706, 6479, 445],\n",
       " [1725, 3522, 7713, 9372, 6176, 1436, 684, 6518, 9530],\n",
       " [6775, 3982, 9870, 3664, 7391, 6883, 5173, 7166, 8164, 3893, 684, 6518, 9530],\n",
       " [3893, 4798, 556, 7085, 9935, 6995, 3361, 1838],\n",
       " [5624, 6554, 8672, 8143, 6751, 327],\n",
       " [8698, 8457, 4613, 4603, 487, 1988, 8311, 8617],\n",
       " [8607,\n",
       "  8184,\n",
       "  2933,\n",
       "  8698,\n",
       "  464,\n",
       "  2855,\n",
       "  2025,\n",
       "  702,\n",
       "  9477,\n",
       "  2933,\n",
       "  9396,\n",
       "  464,\n",
       "  4356,\n",
       "  2025,\n",
       "  8630],\n",
       " [7724, 1307, 2209, 4662, 9950, 4273, 3940, 6514, 7874],\n",
       " [7872, 4101, 8065, 8260, 2394, 9167, 5765, 3964, 4196, 8630],\n",
       " [8968, 3898, 1602, 5691, 3739, 9105, 1867, 2960, 8630],\n",
       " [4582, 5926, 3542, 7019, 1401, 488, 4580, 8160, 4101, 7864, 684, 6518, 9530],\n",
       " [626, 1501, 8329, 5794, 2007, 3893, 852, 3659, 2186, 8128],\n",
       " [3868,\n",
       "  3893,\n",
       "  6494,\n",
       "  1226,\n",
       "  7592,\n",
       "  9348,\n",
       "  4731,\n",
       "  8311,\n",
       "  7340,\n",
       "  9690,\n",
       "  6183,\n",
       "  642,\n",
       "  1623,\n",
       "  4671],\n",
       " [3529, 2413, 7657, 1488, 3365, 3067, 4644, 1958, 7960, 684, 6518, 9530],\n",
       " [3982, 4391, 2453, 9882, 7498, 9915, 2855, 7760, 752, 6775, 1416, 4038],\n",
       " [4221, 3109, 2187, 8316, 9651, 3723, 8394, 7760, 2971, 8630],\n",
       " [597, 7051, 9754, 9739, 3240, 7470, 7783, 684, 6518, 9530],\n",
       " [2646, 9657, 407, 3772, 1416, 4706, 684, 6518, 9530],\n",
       " [5510, 4184, 901, 399, 3862, 777, 684, 6518, 9530],\n",
       " [3893, 3932, 6922, 4731, 9950, 7723, 2855, 7343, 684, 6518, 9530],\n",
       " [892, 9700, 9261, 7832, 8737, 7922, 7832],\n",
       " [5285, 8473, 1582, 684, 4107, 3860, 2397, 4821],\n",
       " [7118, 953, 7222, 1373, 8523, 7118, 6283, 684, 6518, 9530],\n",
       " [5718, 728, 1582, 8075, 3802, 3816],\n",
       " [2880, 6995, 5715, 6270, 4485, 3946, 6775, 5999],\n",
       " [3790, 2858, 2949, 197, 9335, 4981, 684, 6518, 9530],\n",
       " [2749, 788, 1271, 7695, 3220, 684, 6518, 9530],\n",
       " [4221, 1944, 8091, 5737, 1582, 4431, 8164, 3893, 8630],\n",
       " [9641, 1037, 6674, 3893, 6860, 1097, 3051, 8630],\n",
       " [5508, 2138, 5443, 55, 1365],\n",
       " [7067, 3893, 7874, 327, 94, 684, 6518, 9530],\n",
       " [8164, 3893, 1913, 5598, 8333, 8591, 9739, 8610, 684, 6518, 9530],\n",
       " [4177, 2754, 9000, 4016, 6119, 2904, 9567, 3002, 1316],\n",
       " [4881, 407, 9516, 905, 8742, 5702, 6710, 3982, 7832, 5642],\n",
       " [2861, 2223, 8610, 4196, 8939, 7237, 3180, 1255, 9155, 8630],\n",
       " [3951, 1282, 6380, 955],\n",
       " [6691, 8787, 752, 2391],\n",
       " [2855, 6379, 1942, 5443, 7051, 407, 684, 6518, 9530],\n",
       " [9957, 6649, 9652, 413, 2973, 6061, 7014, 9979, 5050],\n",
       " [9209,\n",
       "  6278,\n",
       "  4098,\n",
       "  6812,\n",
       "  5267,\n",
       "  6280,\n",
       "  7635,\n",
       "  4166,\n",
       "  8948,\n",
       "  2125,\n",
       "  5685,\n",
       "  6048,\n",
       "  9209],\n",
       " [9339, 9148, 7359, 7224, 1917, 2892, 5298, 407],\n",
       " [3893, 942, 5585, 9841, 988, 1661, 1725, 7589, 7482, 61, 1081],\n",
       " [4881, 8999, 5925, 219, 6775, 3982, 7832, 9348, 2786],\n",
       " [6183, 4580, 1725, 1266, 7553, 9869, 4854, 6119, 3715, 7201],\n",
       " [7085, 4731, 9579, 1141, 6673, 6102, 8207, 3893, 2587],\n",
       " [901, 9136, 6210, 3872, 7921, 1558],\n",
       " [7470, 7553, 8698, 1093, 7598, 2902, 7516],\n",
       " [3224, 2475, 7912, 3836, 9793, 4582, 8965, 5926, 6696, 7161, 1316],\n",
       " [5794, 5012, 253, 6713, 6236, 5986, 3558, 2457, 8027, 8745],\n",
       " [1826, 8243, 9261, 6479, 7760, 6069, 9726, 2222, 2151, 752, 9276],\n",
       " [6280, 445, 1733, 5139, 684, 6518, 9530],\n",
       " [672, 6407, 8607, 3847, 3893, 1675, 1294, 684, 6518, 9530],\n",
       " [9488, 5487, 7125, 5526, 8965, 5598, 4775, 4731, 684, 6518, 9530],\n",
       " [704, 8963],\n",
       " [7324, 8931, 5737, 1582, 9322, 3747, 5168, 4822, 684, 6518, 9530],\n",
       " [8876, 6523, 9638, 2075, 7690, 1673, 3893, 6682, 9509, 8630],\n",
       " [3982, 6788],\n",
       " [9322, 7522, 4638, 515, 7498, 2089, 6713, 684, 6518, 9530],\n",
       " [7498, 8698, 63, 5443, 8329, 7693],\n",
       " [684, 1849, 2927, 1558, 1495, 6840, 9634, 3092, 5265],\n",
       " [2760, 3700, 9339, 7882],\n",
       " [5012, 667, 7927, 8610, 3893],\n",
       " [2693, 5389, 5694, 7511, 310, 5012, 9902, 806, 9126, 2693, 684, 6518, 9530],\n",
       " [1452, 5047, 1946, 8723, 1602, 9786, 3805, 684, 6518, 9530],\n",
       " [8431, 4757, 5012, 4458, 684, 6518, 9530],\n",
       " [851, 2831, 476, 4278, 4537, 6851, 7464, 8630],\n",
       " [3529, 1861, 8787, 1993, 5070, 2025, 599, 2902],\n",
       " [7954, 1165, 4892, 120],\n",
       " [400, 598, 2085, 1293, 5265, 1602, 8630],\n",
       " [9380, 61, 9337, 4329, 5460, 9560],\n",
       " [3893, 8333, 9824, 8635, 2550, 2166, 5217, 1752, 5534],\n",
       " [1404,\n",
       "  9740,\n",
       "  8960,\n",
       "  6210,\n",
       "  6934,\n",
       "  5098,\n",
       "  8506,\n",
       "  4269,\n",
       "  2397,\n",
       "  6151,\n",
       "  3795,\n",
       "  7343,\n",
       "  4402,\n",
       "  5070,\n",
       "  8164,\n",
       "  3893,\n",
       "  8630],\n",
       " [4842, 2270, 9043, 245],\n",
       " [2394, 4221, 6491, 1037, 1626, 8164, 3893, 1247, 684, 6518, 9530],\n",
       " [3904, 8018, 3893, 7589, 5351, 932],\n",
       " [3171, 2085, 1219, 6697, 6501, 9574, 6775, 1293, 1165, 6711],\n",
       " [626, 2670, 8224, 8599, 7149, 7776, 9213],\n",
       " [5030, 4010, 6023, 9352, 7432, 1752, 5146, 684, 6518, 9530],\n",
       " [932, 3804, 3804, 9190, 684, 6518, 9530],\n",
       " [7992, 7343, 9657, 2199, 5463, 7836, 55, 1841, 684, 6518, 9530],\n",
       " [1307, 1862, 6119, 1308, 1165, 3356, 684, 6518, 9530],\n",
       " [1956, 4140, 9638, 6706, 6540, 4403, 8591],\n",
       " [6151, 8686, 8697, 3064, 6151, 684, 6518, 9530],\n",
       " [8830, 2944, 7285, 6176, 9201, 6709, 248, 7085],\n",
       " [4174, 8115, 1165, 1582, 3893, 684, 6518, 9530],\n",
       " [5593, 1953, 9559, 8179, 7882, 3802, 9638],\n",
       " [5126,\n",
       "  2656,\n",
       "  6883,\n",
       "  4434,\n",
       "  8224,\n",
       "  2666,\n",
       "  1582,\n",
       "  2025,\n",
       "  7105,\n",
       "  8224,\n",
       "  6920,\n",
       "  6090,\n",
       "  9318],\n",
       " [9629, 9559, 6883, 9488, 7314, 988, 4731, 464, 8260, 988],\n",
       " [3893, 3289, 2267, 684, 6518, 9530],\n",
       " [4881, 407, 9516, 1954, 9915, 5395, 3982],\n",
       " [6385, 6673, 717, 2924, 2909, 5039, 2632, 7516],\n",
       " [5815, 6491],\n",
       " [2394, 5465, 6443, 7516, 5946, 6023, 3558, 4322, 1091, 864, 5629],\n",
       " [3171, 1452, 7040, 1153, 9802, 5841, 8091, 7553, 6578],\n",
       " [5402, 9356, 8102, 6704, 4351, 1294, 7285, 9695],\n",
       " [8164, 3893, 2760, 7864, 9716, 4279, 684, 6518, 9530],\n",
       " [235, 5542, 9923, 6767, 6036, 4389, 7317, 6772, 8207, 684, 6518, 9530],\n",
       " [8944, 2863, 4842, 7733, 7953, 5482, 7402, 1956],\n",
       " [8164, 3893, 8944, 8047, 684, 6518, 9530],\n",
       " [2266, 684, 1647, 6775, 5585, 4391, 659, 2933, 5715, 6883, 4859, 5075, 3066],\n",
       " [9682, 5715, 4436],\n",
       " [2040,\n",
       "  8333,\n",
       "  8195,\n",
       "  788,\n",
       "  9777,\n",
       "  4900,\n",
       "  3915,\n",
       "  5073,\n",
       "  7343,\n",
       "  9529,\n",
       "  9870,\n",
       "  6697,\n",
       "  7274,\n",
       "  9097,\n",
       "  1838],\n",
       " [3893, 6674, 7085, 610, 6151, 3932, 1010, 8630],\n",
       " [2391, 452, 488, 8014, 4580],\n",
       " [6780, 2529, 8673, 1540, 1661, 1092, 684, 6518, 9530],\n",
       " [4796, 2863, 8085, 3109],\n",
       " [2195, 5598, 2141, 9481, 3262, 3231, 4350],\n",
       " [3893, 7516, 6554, 4941, 1571, 3171, 684, 6518, 9530],\n",
       " [3982, 5051, 4006, 905, 7832, 6775, 4731, 7520],\n",
       " [1581, 8905, 5671, 6897, 4107, 2397, 8630],\n",
       " [8164, 3893, 8446, 2973, 5416],\n",
       " [684, 5443, 2526, 1255, 9574, 4629, 6805],\n",
       " [5615, 6380, 7586, 4615, 6049, 9978, 6290, 3554, 8064],\n",
       " [7158, 6554, 8243, 1501, 2675, 2822, 684, 6518, 9530],\n",
       " [2040, 6782, 7343, 4582, 5926, 722, 4404, 9574, 7229, 7874],\n",
       " [3868, 7698, 7635, 2535, 9331, 7144, 2257, 5720, 752, 684, 6518, 9530],\n",
       " [4629, 8610, 6380, 8559, 7547, 7836, 9048, 939, 684, 6518, 9530],\n",
       " [9676, 3728, 9335, 7013, 7874, 3893],\n",
       " [6423, 9629, 61, 6081, 1733, 3804, 3988, 4570, 8224, 8311, 3082, 7690],\n",
       " [3289, 3954, 7333, 6883, 684, 6518, 9530],\n",
       " [4669, 5950, 5137, 7748, 4721, 6757, 7516, 684, 6518, 9530],\n",
       " [6712, 2223, 6140, 9477, 5402, 6380, 3893],\n",
       " [9488, 9317, 9126, 5526, 7836, 6987, 684, 6518, 9530],\n",
       " [7071, 7516, 7184, 5613, 7343, 5884, 4923],\n",
       " [409, 787, 9748, 4988, 9337, 4539, 9083, 8474, 3143, 9646, 6439],\n",
       " [2075, 9297, 1276, 4264, 7622, 2612, 684, 6518, 9530],\n",
       " [3932, 8934, 9481, 1484],\n",
       " [9488, 9126, 1907, 7125, 5526, 7633, 9793, 4432, 684, 6518, 9530],\n",
       " [2703,\n",
       "  2781,\n",
       "  429,\n",
       "  6902,\n",
       "  7792,\n",
       "  5400,\n",
       "  2703,\n",
       "  2889,\n",
       "  6156,\n",
       "  429,\n",
       "  6902,\n",
       "  6420,\n",
       "  6256,\n",
       "  8059],\n",
       " [3893, 513, 7874, 9334, 684, 1224, 2186, 4080, 684, 6518, 9530],\n",
       " [8755, 2781, 1886, 8466, 8558, 1790, 4472, 1558, 8068],\n",
       " [5900, 8303, 3224, 5900, 4164],\n",
       " [4852, 4071, 1533, 5700, 3224, 684, 6518, 9530],\n",
       " [713, 4485, 7516, 769, 684, 6518, 1993, 5765],\n",
       " [5351, 917, 6210, 1641, 5519],\n",
       " [7085, 4582, 5926, 3769, 7003, 7864, 4384, 8333, 6995],\n",
       " [4613, 7836, 3184, 1650, 684, 6518, 9530],\n",
       " [8027,\n",
       "  8745,\n",
       "  1161,\n",
       "  4857,\n",
       "  5126,\n",
       "  4857,\n",
       "  5702,\n",
       "  8745,\n",
       "  3893,\n",
       "  8561,\n",
       "  722,\n",
       "  5900,\n",
       "  9268,\n",
       "  4181],\n",
       " [1438, 6554, 3961, 2741, 5047, 224, 4158, 684, 6518, 9530],\n",
       " [6003, 1438, 5054, 1446, 8127, 2166, 7874, 6156, 8630],\n",
       " [6704, 684, 1316, 3893, 7434, 684, 6518, 9530],\n",
       " [2667, 8080, 9333, 6434, 8787, 7013, 8673, 8630],\n",
       " [2075, 9978, 7794, 3847, 684, 6518, 9530],\n",
       " [4181, 5132],\n",
       " [1757, 1763, 8970, 1170, 6957, 3896, 1207, 7394, 684, 6518, 9530],\n",
       " [4881, 5704, 5181, 1747, 3023, 8866, 7832],\n",
       " [3893, 1650, 2933, 1600, 8666, 2779, 7222, 684, 6518, 9530],\n",
       " [6076, 1725, 3799, 4460, 1896, 6751, 5023, 5299, 7638, 8630],\n",
       " [6933, 8184, 463, 9265, 407, 5245, 5478, 6095, 2902, 599, 1993],\n",
       " [2777, 4564, 3154, 7864, 3425, 2079, 6772, 6070, 6421, 2916, 2036],\n",
       " [2667, 7085, 6380, 9126, 2738, 932, 4101, 488, 3804, 8630],\n",
       " [3224, 7962, 1571, 7561, 5999, 9502],\n",
       " [8834, 5893],\n",
       " [7805, 1892, 6132, 4080, 2442, 5705, 4210, 684, 6518, 9530],\n",
       " [3893, 997, 1667, 8256, 9261, 6479, 684, 6518, 9530],\n",
       " [224, 7546, 6795, 9442, 6270],\n",
       " [7792, 9061, 2889, 7641, 2186, 22, 4134, 48, 8033, 2186, 22, 4134],\n",
       " [6349, 1582, 1501, 9574, 9431, 684, 6518, 9530],\n",
       " [5664, 5384, 7385, 8164, 3893, 684, 7122, 7283, 684, 6518, 9530],\n",
       " [9042, 4945, 9729, 463, 8164, 3893, 9578, 9440, 684, 6518, 9530],\n",
       " [212, 8118, 2503, 2495, 9139, 73, 684, 6518, 9530],\n",
       " [3675, 8916, 4248, 1582, 9457, 7635, 3051],\n",
       " [3023, 8866, 597, 4881, 5970, 6957],\n",
       " [8809, 8387, 7219, 8222, 4928, 7760, 9530, 684, 6518, 9530],\n",
       " [8261, 253, 5654, 4033, 684, 5364, 7394, 8630],\n",
       " [3893, 4055, 8786, 2948, 3589, 8260, 3170, 3865, 3180, 684, 6518, 9530],\n",
       " [9193,\n",
       "  9923,\n",
       "  1457,\n",
       "  1203,\n",
       "  1423,\n",
       "  3868,\n",
       "  6554,\n",
       "  7434,\n",
       "  4787,\n",
       "  1995,\n",
       "  7689,\n",
       "  3946,\n",
       "  8630],\n",
       " [665, 7947, 5695, 446, 8106, 154, 684, 6518, 9530],\n",
       " [2122, 6320, 9574, 4042, 6893, 2515, 7951],\n",
       " [9559, 407, 1914, 684, 6518, 9530],\n",
       " [3889, 3118, 3554, 2760, 5946, 9768, 8630],\n",
       " [8014, 7690, 7787, 3224],\n",
       " [2025, 7314, 4613, 8686, 2118, 8702, 8025, 7237, 9489],\n",
       " [6775, 4391, 6483, 1692, 5870, 3286, 8375, 4881, 4900, 8355, 2075],\n",
       " [6029, 9923, 3565, 7398, 253, 4513, 3893, 5999],\n",
       " [5400, 8486, 5519, 6911, 4875, 6077, 4058, 3893, 7589, 8630],\n",
       " [1650, 2986, 9945, 1884, 3893, 8224, 4618],\n",
       " [2223, 6403, 2899, 8723, 4653, 9607, 8630],\n",
       " [6514, 6271, 2413, 713, 3694],\n",
       " [446, 7491, 8797, 3904, 9638, 3120, 5548, 3678, 5721, 9509],\n",
       " [6937, 1307, 5922, 6775],\n",
       " [232, 7003, 3842, 3971, 4477, 6203, 7685, 684, 6518, 9530],\n",
       " [9224, 5384, 4323, 3698, 684, 6518, 9530],\n",
       " [8262, 5850, 6151, 2494, 5237, 6829, 684, 6518, 9530],\n",
       " [5443, 2187, 70, 7976, 1913, 2405],\n",
       " [944, 1207, 1537, 8075, 8224, 8256, 684, 6518, 9530],\n",
       " [1292, 1373, 9847, 2431, 4289, 5355, 920, 9950, 4645, 1558, 2455, 6883],\n",
       " [9565, 3893, 4806, 9806, 3224, 5715, 3051, 1010, 6514, 8630],\n",
       " [7285, 6585, 9318, 8224, 374, 717],\n",
       " [5905, 8019, 7085, 9440, 7589, 3893],\n",
       " [2405, 2554, 7693, 5402, 3593, 5265, 684, 6518, 9530],\n",
       " [5109, 8916, 9602, 5590, 2298, 8409, 1028, 512, 684, 6518, 9530],\n",
       " [5372, 4826, 7402, 684, 6518, 9530],\n",
       " [5715, 5487, 2260, 6514, 6270, 6201, 5588],\n",
       " [4389, 7950, 7976, 2827, 7271, 642, 684, 6518, 9530],\n",
       " [9530, 3051, 2681, 684, 6518, 9530],\n",
       " [6922, 2855, 1255, 3220, 6709, 220, 9162, 684, 6518, 9530],\n",
       " [9432, 7950, 7689, 4181, 932, 2457],\n",
       " [4681, 178, 2986, 180, 5715, 7553],\n",
       " [6721, 2760, 8196, 3076, 7271, 5070, 684, 6518, 9530],\n",
       " [3893, 5760, 1715, 2526, 7581, 2899, 2339, 3884, 8630],\n",
       " [5565, 6199, 3282, 2244, 9067, 9938, 2889],\n",
       " [4291, 3893, 7222, 3051, 9654, 2973, 2892, 684, 6518, 9530],\n",
       " [5437, 1565, 9042, 69, 2365, 7141, 3253, 939],\n",
       " [8842, 540, 5644, 8610, 6965, 684, 6518, 9530],\n",
       " [5053, 8934, 7096, 2223, 8149, 8667, 684, 6518, 9530],\n",
       " [4703, 2085, 8002, 3893, 8561, 3505, 4250],\n",
       " [6514, 8975, 1384, 3060, 9948, 5385, 2186, 7949, 684, 6518, 9530],\n",
       " [4916, 3898, 3893, 3743, 1475, 5702, 684, 6518, 9530],\n",
       " [8164, 3893, 6132, 4042, 7846, 463],\n",
       " [5465, 2855, 4842, 7733, 2611, 5147, 3554, 7950, 684, 6518, 9530],\n",
       " [4042,\n",
       "  5384,\n",
       "  5154,\n",
       "  6216,\n",
       "  5384,\n",
       "  3244,\n",
       "  4758,\n",
       "  5950,\n",
       "  5154,\n",
       "  6216,\n",
       "  7738,\n",
       "  1131,\n",
       "  6968,\n",
       "  9542,\n",
       "  4006,\n",
       "  9354,\n",
       "  9238,\n",
       "  8999,\n",
       "  7443],\n",
       " [5255, 6270, 2079, 6310],\n",
       " [5438, 5900, 9090, 5443, 2892, 8402, 4473],\n",
       " [932, 901, 2765, 7051, 8222, 684, 6518, 9530],\n",
       " [3893, 3802, 3564, 1571, 7982, 8842, 684, 6518, 9530],\n",
       " [2787, 2061, 8440, 3893, 7468, 3558],\n",
       " [6405, 2008, 4644, 4111, 1063, 788, 610, 5250],\n",
       " [821, 5715, 6270],\n",
       " [1010, 4780, 6307, 800, 4016, 1501, 5964, 684, 6518, 9530],\n",
       " [2518, 9660, 8416, 9716, 5159, 5402, 545, 6578, 8752, 2247, 5241, 8630],\n",
       " [8164, 3893, 5487, 9663, 3642, 4898, 9434, 4053, 9759, 9339, 684, 6518, 9530],\n",
       " [1646, 8975, 4494, 3865, 5950, 684, 6518, 9530],\n",
       " [5001, 7529, 1255, 8184, 3898, 4635, 684, 6518, 9530],\n",
       " [8164,\n",
       "  3893,\n",
       "  6674,\n",
       "  6775,\n",
       "  3982,\n",
       "  9706,\n",
       "  4768,\n",
       "  7689,\n",
       "  9097,\n",
       "  6380,\n",
       "  4669,\n",
       "  684,\n",
       "  6518,\n",
       "  9530],\n",
       " [7555, 284, 3893, 8064, 8757, 3668, 684, 6518, 9530],\n",
       " [3092, 752, 8986, 463, 4731, 266],\n",
       " [3893, 4391, 7156],\n",
       " [2223, 9105, 860, 2899, 7561, 9559, 8630],\n",
       " [3868, 7874, 2044, 492, 5197, 1122, 3893, 1675, 6273, 5864, 13, 8258],\n",
       " [2703, 7957, 2889, 3972, 3741, 9406, 2186, 2851],\n",
       " [944, 5722, 4096, 1069, 9870, 6023, 5443],\n",
       " [4711, 1966, 1266, 7805, 5775],\n",
       " [2786, 2749, 5074, 7035, 478, 5147, 6029, 8157, 7554, 6539, 684, 6518, 9530],\n",
       " [9243, 6775, 3982, 9213, 8630],\n",
       " [6971, 6688, 901, 5337, 6929, 9160, 7951, 8366, 6553],\n",
       " [7415, 5841, 4842, 6095, 3775, 4273, 4464, 7417],\n",
       " [9019, 7391, 1725, 7553, 516, 3064],\n",
       " [1867, 2209, 7336, 9360, 9027, 7125, 610, 4389],\n",
       " [2017, 8698, 9595, 6304, 413],\n",
       " [4418, 7085, 7635, 9182, 4391, 5271, 1165, 9567, 4510],\n",
       " [5375],\n",
       " [8787, 2085, 2338, 4071, 3978, 9060],\n",
       " [4759, 2693, 2187, 9530, 2858, 1952, 3316, 684, 6518, 9530],\n",
       " [3893, 7877, 7343, 9449, 4016, 4731],\n",
       " [4858, 2556, 8032, 3904, 1484, 684, 6518, 9530],\n",
       " [9900, 5070, 8926, 8523, 855, 3100, 3893, 5720],\n",
       " [6639, 6320, 9574, 3166, 1475, 3893, 1081],\n",
       " [1170, 6751, 1226, 5007, 1165, 3893, 6349, 8630],\n",
       " [2375, 7085, 9146, 7754, 166, 8652, 4820, 7222, 684, 6518, 9530],\n",
       " [8198, 4706, 2927],\n",
       " [8630, 8999, 8870, 9318, 4618, 684, 6518, 9530],\n",
       " [5514, 8137, 6111, 5671, 6897, 224, 2347, 598, 4196, 8630],\n",
       " [5705, 3964, 9406, 2038, 4079, 5545, 6232, 7947, 684, 6518, 9530],\n",
       " [7635, 6775, 9706, 9768, 2655, 277, 7553],\n",
       " [3377, 9923, 3637, 8915, 1771],\n",
       " [6972, 9265, 2563, 4918, 659, 9769, 925, 1028, 7319, 7135, 932, 5011],\n",
       " [5508, 389, 5351, 4006, 9634, 8182, 7267, 8642, 2391, 7987, 7874, 6782],\n",
       " [6775, 7487, 4881, 9348, 7832],\n",
       " [9916, 6834, 3064, 3893, 7762, 7122, 684, 6518, 9530],\n",
       " [7760, 5465, 8388, 9777, 8724, 2391, 684, 6518, 9530],\n",
       " [9559, 9796, 7922, 8853, 7274, 7760],\n",
       " [769, 3935, 3668, 4629, 8595, 1316, 4843, 684, 6518, 9530],\n",
       " [4177, 4731, 4629, 4196, 7314, 8466, 8466],\n",
       " [6300, 6047, 9866, 6805, 2529, 9318, 684, 6518, 9530],\n",
       " [1023, 6920, 178, 3928, 4306, 1002, 9578, 8882, 1140, 9971],\n",
       " [2149, 876, 5502, 1475, 2149, 2286, 3405, 6119],\n",
       " [8270, 6140, 7158, 8610, 204, 4896, 8237, 4669, 4928, 2391],\n",
       " [4881, 9516, 6612, 713, 5700, 8350, 8630],\n",
       " [419, 2185, 4225, 6679, 2187, 8316, 7394, 5966, 684, 6518, 9530],\n",
       " [3988, 6553, 5012, 9657, 407, 6691],\n",
       " [7498, 8960, 3262, 7866, 7836, 6754, 599, 2845, 4466, 6553, 8630],\n",
       " [1081, 5233, 8533, 9804, 4918, 4457, 262, 8694],\n",
       " [8065, 4042, 9077, 5070, 4250, 8145, 5815],\n",
       " [3893, 6151, 5999, 1188, 7635, 3865, 3722, 684, 6518, 9530],\n",
       " [4679, 3697, 2568, 3893, 529, 8346, 4042, 5815, 8630],\n",
       " [6594, 1269, 463, 3893],\n",
       " [9978, 3209, 5715, 6514, 1008, 3386, 6911],\n",
       " [6322, 6151, 7529, 1656, 7343],\n",
       " [4087, 1577, 2057, 7774, 6741, 4915, 4181, 9097, 8842],\n",
       " [1612, 5070, 8409, 3051, 3893, 9473],\n",
       " [7635, 7286, 8164, 3893, 1373, 2709, 1117, 1, 1656, 9739, 684, 6518, 9530],\n",
       " [8143, 9331, 3750, 2944, 3915, 1673, 9331, 6514, 7874],\n",
       " [932, 3895, 4466, 7581, 1326, 2944, 2890, 1842, 1558, 8684, 684, 6518, 9530],\n",
       " [3984, 5472, 3247, 9213, 9213, 9213, 684, 6518, 9530],\n",
       " [1644, 7343, 464, 2122, 1558, 1077],\n",
       " [8718, 3240, 7002, 7887, 7581, 1438, 6928, 6229],\n",
       " [6775, 837, 7864, 4589, 6775, 5950, 4399, 2116, 6183, 9984],\n",
       " [9614, 8402, 2978, 6232, 1484, 684, 6518, 9530],\n",
       " [9042, 9704, 1917, 1059, 4264, 6271, 5201, 684, 6518, 9530],\n",
       " [3893, 8853, 4197, 9391, 7673, 4694, 2397, 7020, 6092, 9477, 8630],\n",
       " [2475, 8143, 3804, 2629, 1415, 1811],\n",
       " [2085, 1219, 6697, 6501, 9574, 6775, 1293, 1165],\n",
       " [2959, 1783, 1747, 9000, 7051, 1905, 5803, 6734],\n",
       " [4803, 7768, 3706, 6553, 3675, 684, 6518, 9530],\n",
       " [838, 3038, 9516, 9638, 8741, 6661, 3893, 5519, 8630],\n",
       " [1714, 781, 6751, 4513, 1514, 1462, 9431, 3893, 684, 6518, 9530],\n",
       " [1166, 9868, 9318, 3675, 2364, 684, 6518, 9530],\n",
       " [9516, 8018, 3982, 7832, 8678, 1307, 5225, 7930, 684, 6518, 9530],\n",
       " [3893, 3982, 4711, 9063, 2892, 8402],\n",
       " [1170, 678, 905, 3365, 5154, 3155],\n",
       " [2276, 5146, 9786, 9265, 8329, 8143, 8523, 1656, 6858, 2601],\n",
       " [5510, 2814, 5217, 4353, 1367, 118, 1377, 684, 6518, 9530],\n",
       " [5070, 1205, 5465, 4892, 120, 6151],\n",
       " [4466, 5946, 9981, 1752, 9333, 4322],\n",
       " [7589,\n",
       "  6357,\n",
       "  684,\n",
       "  6518,\n",
       "  9530,\n",
       "  5999,\n",
       "  4364,\n",
       "  9595,\n",
       "  7874,\n",
       "  7787,\n",
       "  2413,\n",
       "  8702,\n",
       "  1673,\n",
       "  8219,\n",
       "  684,\n",
       "  6518,\n",
       "  9530],\n",
       " [2690, 8717, 8417, 3166, 3982, 8903, 8164, 3893, 5720, 8630],\n",
       " [8435, 8955, 7635, 3781, 9071, 6081, 4756, 5281, 2733, 5070, 8630],\n",
       " [8534, 8768, 3902, 9900, 684, 6518, 9530],\n",
       " [4833, 9193, 8173, 6447, 9516, 9431, 1577],\n",
       " [407, 5505, 266, 4269, 6883, 5401, 5035, 2038, 2025, 8070, 1336, 6928, 8694],\n",
       " [5070, 3408, 2222, 7733, 4618, 2172, 9261, 5465, 7343, 684, 6518, 9530],\n",
       " [6934, 6256, 3893, 2187, 5624, 752, 1650, 6210, 2529, 8630],\n",
       " [4718, 7516, 6119, 7760, 3051, 7987, 5079, 8630],\n",
       " [5109, 2069, 3586, 5337, 8099, 1733, 8652, 2477],\n",
       " [1956, 4140, 9638, 6706, 6540, 4403, 8591],\n",
       " [3063, 7288, 409, 6775, 5950, 5012, 8610, 5012, 9224],\n",
       " [2135, 2944, 5467, 1255, 684, 1041, 7516, 684, 6518, 9530],\n",
       " [9595, 7864, 1647, 6010, 952, 4582, 5926, 7003, 3365],\n",
       " [3865, 5950, 4196, 9682, 3170, 1581, 6957, 8630],\n",
       " [963, 9516, 8417, 8975, 9716, 2339, 9563, 6957, 8630],\n",
       " [9730, 1052, 8737, 8830, 5737, 1582, 8673, 9339, 2154, 6995],\n",
       " [3982, 4391, 9103, 9042, 2044, 2597, 5708, 3706, 1817, 9882, 7022, 5993],\n",
       " [7635, 5593, 3107, 446, 3904, 3893, 684, 6518, 9530],\n",
       " [3868, 2563, 4212, 3558, 9473, 5140, 6220, 678, 4671],\n",
       " [728, 5900, 9652, 5277, 7836, 9000, 5718, 684, 6518, 9530],\n",
       " [464, 2078, 8333, 4842, 4369, 3666],\n",
       " [2892, 8402, 2038, 779, 6068, 5102, 4149],\n",
       " [9293, 3904, 352, 2477, 779, 9585, 9923, 1995, 7219],\n",
       " [8353, 8206, 5279, 9443, 9793],\n",
       " [7317, 3893, 6756, 203, 1255, 6030, 1581, 8630],\n",
       " [1817, 5874, 9530, 6151, 684, 6518, 9530],\n",
       " [7013, 7874, 5834, 8333, 4466, 905, 6546, 556, 674, 4644, 7690],\n",
       " [1571, 4299, 1037, 1667, 9749, 3935, 3668, 684, 6518, 9530],\n",
       " [6091, 4862, 5468, 4079, 1873, 841, 2122, 8630],\n",
       " [225, 44, 8241, 6160, 3558, 8630],\n",
       " [2509, 7529, 2224, 3538, 6674, 7635, 6380, 9574, 7774, 8207],\n",
       " [3893, 8561, 1832, 7774],\n",
       " [7874,\n",
       "  3757,\n",
       "  7887,\n",
       "  3051,\n",
       "  7635,\n",
       "  4842,\n",
       "  8329,\n",
       "  9866,\n",
       "  5737,\n",
       "  1582,\n",
       "  4580,\n",
       "  9224,\n",
       "  8652,\n",
       "  9201,\n",
       "  2083,\n",
       "  248],\n",
       " [5132, 4042, 1420, 55, 4181, 684, 6518, 9530],\n",
       " [7635, 6128, 1165, 148, 3403, 6311, 7343, 6739, 3618, 684, 6518, 9530],\n",
       " [684, 6434, 4731, 6176, 4566, 4010, 2611, 9268, 450, 684, 6518, 9530],\n",
       " [8841, 3118, 7516, 932, 3783, 1345, 8630],\n",
       " [5727, 9906, 2454, 2892, 9328, 4451],\n",
       " [7589, 9559, 9574, 6270, 1573],\n",
       " [2154, 1725, 684, 6518, 9530],\n",
       " [8934, 3932, 7635, 1856, 1988, 8311, 8617, 3290],\n",
       " [6638, 229, 2154, 1369, 1747, 5195, 1091, 7906, 5526, 8630],\n",
       " [9613, 6256, 2564, 2122, 684, 6518, 9530],\n",
       " [5519, 5271, 8709, 3893, 2944, 3847, 2025, 266, 3480, 6992, 8862, 1958, 8630],\n",
       " [9434, 9836, 5861, 3896, 9836, 8664, 4260, 9836],\n",
       " [4464, 7748, 8333, 2394, 9261, 9465, 6312, 684, 6518, 9530],\n",
       " [8457, 5754, 5416, 407, 1420, 4569],\n",
       " [9013, 5593, 2413, 2986, 8970, 1226, 5648, 4802, 6554],\n",
       " [728, 7892, 9595, 6304, 413],\n",
       " [3893, 5720, 4493, 6151, 8911, 7161, 1316, 8630],\n",
       " [3893, 4711, 4197, 5775, 288, 4273, 684, 6518, 9530],\n",
       " [9334, 3339, 5737, 1582, 2040, 2166, 7874, 8630],\n",
       " [1844, 4072, 7977, 9144, 2171, 2882, 7829],\n",
       " [7635, 6775, 3982, 3781, 5402, 4733, 953, 407],\n",
       " [620, 529],\n",
       " [2067, 106, 6748, 2703, 6953, 2186, 5705],\n",
       " [1838, 6311, 3051, 9256, 520, 9126, 3847, 684, 6518, 9530],\n",
       " [8027, 4579, 7394, 1914, 2629, 2575, 1811, 684, 6518, 9530],\n",
       " [6758, 8630, 9737, 3893, 7434, 2371, 8750, 8910, 4643, 3993, 2854],\n",
       " [752, 3107, 6765],\n",
       " [1292, 4538, 2902, 4460, 7760, 4520, 1139, 2902, 8817, 5946],\n",
       " [2955, 8901, 9056, 1726, 3310, 9984, 8222, 684, 6518, 9530],\n",
       " [2149, 9950, 2039, 409, 1343, 407, 1373, 4930, 905, 8451, 5715, 5998],\n",
       " [4629, 3453, 6279, 3047, 4353, 3593],\n",
       " [1462],\n",
       " [2394, 2025, 5794, 409, 7553, 6933, 9477, 8630],\n",
       " [5592,\n",
       "  6851,\n",
       "  8787,\n",
       "  2850,\n",
       "  7443,\n",
       "  5922,\n",
       "  4662,\n",
       "  5715,\n",
       "  7125,\n",
       "  3707,\n",
       "  9948,\n",
       "  684,\n",
       "  2188,\n",
       "  5648],\n",
       " [838, 8143, 1157, 1953, 7976, 7553, 1041, 9961, 1575, 8621],\n",
       " [2394, 2025, 3589, 9210, 1745, 6381, 6409, 7553, 2371, 9737],\n",
       " [4389, 2118, 365, 1255, 3202, 881, 2790, 6445, 7951],\n",
       " [1010, 197, 1266, 3003],\n",
       " [684, 1279, 3180, 2933, 2187, 9129, 5720, 4258],\n",
       " [1907, 3740, 8782, 1946, 2465, 3548, 9638, 2440, 5102, 8630],\n",
       " [6480, 248, 8091, 1625],\n",
       " [1046, 2172, 5757, 479, 5728, 1688, 2216, 684, 6518, 9530],\n",
       " [5877, 2475, 2919, 4883, 4813, 3224, 7371, 684, 6518, 9530],\n",
       " [860, 6605, 6270, 2266, 1966, 9334],\n",
       " [8402, 2610, 8164, 3893, 5250, 5999],\n",
       " [2122, 684, 6518, 9530],\n",
       " [1025, 409, 9329, 44, 8284, 3143, 9646, 6439],\n",
       " [5465, 9638, 5876, 2398, 8617, 3558],\n",
       " [5514, 8137, 2007, 2432, 2041, 3571, 8397, 4456, 9055],\n",
       " [9944, 6673, 7222, 6092, 4769],\n",
       " [4253, 9583, 9978, 413, 7264, 684, 6518, 9530],\n",
       " [5102, 2874, 5402, 3609, 2722, 2526, 1415, 642],\n",
       " [6775, 3982, 2708, 8697, 4580, 1623, 7592, 9348, 2664, 6612],\n",
       " [8554, 5598, 7893, 1303, 7207, 8020, 3557, 5469],\n",
       " [3664, 7391, 1041, 1725, 3060, 1501, 4806, 684, 6518, 9530],\n",
       " [6341, 6883, 2667, 5230, 581],\n",
       " [3051, 4923, 3932, 5715, 6049, 1838, 6514],\n",
       " [7930, 1603, 2186, 4578, 8591, 3802, 4914, 6672, 9193, 8243, 684, 6518, 9530],\n",
       " [5715, 4852, 4071, 6863, 7553, 2621, 1139, 9313],\n",
       " [8792, 2215, 7718, 2390, 9939, 6929, 2122, 7641, 684, 6518, 9530],\n",
       " [9634, 6864, 5416, 1582, 3380, 1081],\n",
       " [9768, 2036, 8666, 4140, 7468, 2036, 2597, 8630],\n",
       " [5250, 3035, 8014, 746, 2913, 4731, 9806, 6438, 6349, 4055, 8478],\n",
       " [6971, 7635, 3893, 9706, 9716, 3685, 826],\n",
       " [2057, 3294, 4273, 8616, 6883, 5760, 2103, 9371, 684, 6518, 9530],\n",
       " [4537, 4196, 9440, 6674, 4082, 9331, 3982, 9000, 8224, 8184, 2154],\n",
       " [6910, 9210, 8184, 2722, 8617, 2880],\n",
       " [407, 745, 5406, 1656, 9857, 2126, 953, 2391],\n",
       " [4819, 8089, 1713, 8041, 3928, 7782, 7417],\n",
       " [3005, 7919, 9965, 8610, 8656, 8630],\n",
       " [5709, 4629, 6000, 684, 6518, 9530],\n",
       " [9677, 2041, 1852, 6229, 4883, 8577, 851, 5093, 8630],\n",
       " [3881, 2367, 3214, 684, 6518, 9530],\n",
       " [5715, 3377, 7516, 4923, 9950, 4350, 6514, 5443, 6883, 4364, 779, 6972, 170],\n",
       " [684, 3982, 7832, 6320, 9334, 4644, 1410, 7592, 9348],\n",
       " [2861, 3340, 7516, 9077, 5602, 452, 2187, 8853, 684, 6518, 9530],\n",
       " [7051, 2391, 684, 6518, 9530],\n",
       " [7745, 9129, 8907, 9444, 684, 6518, 9530],\n",
       " [6280, 7635, 6089, 6674, 9984, 8346, 8630],\n",
       " [2837, 9574, 2541, 7520, 4903, 684, 5592, 7343, 684, 6518, 9530],\n",
       " [9866, 5079, 516, 9978, 2122, 684, 6518, 9530],\n",
       " [6811, 2971, 8697, 9283, 1415, 9305, 5066, 684, 6518, 9530],\n",
       " [4044, 7965, 3893, 9048, 1621, 7380, 684, 6518, 9530],\n",
       " [3171,\n",
       "  1028,\n",
       "  7455,\n",
       "  8000,\n",
       "  8224,\n",
       "  7689,\n",
       "  5465,\n",
       "  1415,\n",
       "  5841,\n",
       "  1968,\n",
       "  312,\n",
       "  535,\n",
       "  1307,\n",
       "  3625,\n",
       "  4960],\n",
       " [7760, 4580, 4826, 2589, 6140, 7470, 752, 8630],\n",
       " [8944, 3750, 1015, 1307, 1533, 3527, 684, 6518, 9530],\n",
       " [8462, 7909, 7598, 4842],\n",
       " [3706, 1817, 5413, 2044, 7832, 6851, 659, 8099, 6056],\n",
       " [8164, 3893, 6058, 2827, 545, 6385, 463, 399, 8184, 684, 6518, 9530],\n",
       " [6266, 1667, 3307, 9841, 9317, 5715, 6554, 9406, 2298, 9145],\n",
       " [4618, 6445, 379, 9569, 1367],\n",
       " [5465, 7950, 2845, 5338, 9560, 9442, 1673, 2118, 3070, 9318, 3920, 8630],\n",
       " [8702, 400, 2986, 598, 7352, 6280, 7166, 4635, 7462],\n",
       " [8286, 4582, 5926, 4699, 4764, 6856, 2085],\n",
       " [9567, 1373, 4930, 4553, 5487, 5998, 4371, 8184, 7546, 704],\n",
       " [6775, 8984, 8164, 3893, 3051, 9457, 6612],\n",
       " [4860, 3893, 6156, 4289, 8591, 713, 5047, 5552, 3893, 8630],\n",
       " [5712, 3802, 1077, 5366, 8237, 5854, 7783, 448, 7776, 9224, 684, 6518, 9530],\n",
       " [3893, 4053, 2094, 2489, 2057, 7003, 7336, 2729, 407, 684, 6518, 9530],\n",
       " [8164, 3893, 6256, 2979, 8543, 69, 2186, 429, 3969, 7118],\n",
       " [9696, 9148, 8063, 6803, 5478, 7539],\n",
       " [6514, 876, 9759, 8679, 9112, 2827, 1486, 6292],\n",
       " [8607, 5598, 4058, 6119, 609, 1832],\n",
       " [1394, 4629, 2425, 9737, 8975, 2405, 684, 6518, 9530],\n",
       " [3804, 3932, 6385, 9207, 7581, 8013, 2944, 988, 5456, 1582],\n",
       " [3928, 995, 4278, 9130, 9543, 8466, 7234],\n",
       " [9768, 4181, 3064, 7635, 9660, 7553, 9697, 9313, 6119],\n",
       " [8999, 2900, 5860, 9740, 9563, 2572, 684, 6518, 9530],\n",
       " [5822, 3220, 6092, 3386, 5576, 2710, 1070, 6380, 8830],\n",
       " [3779, 4311, 934, 3170, 8884, 3982, 581, 6184, 6270, 1077],\n",
       " [5402, 4951, 8970, 3932, 5384, 7760, 8610, 5277, 684, 6518, 9530],\n",
       " [4055, 3932, 609, 955, 3982, 6788],\n",
       " [3893, 4053, 7397, 4955, 7498, 4057, 7877, 684, 6518, 9530],\n",
       " [3802, 3697],\n",
       " [3893, 2153, 9000, 546, 4466, 1255, 6312, 9802, 2944, 9961, 1150, 1081],\n",
       " [3554, 4088, 5465, 4618, 7135],\n",
       " [1650, 3019, 1304, 2266, 1081],\n",
       " [6385, 9978, 1216, 7553, 9205, 2025, 4993, 3596],\n",
       " [3171,\n",
       "  9507,\n",
       "  3576,\n",
       "  5755,\n",
       "  1848,\n",
       "  5070,\n",
       "  1578,\n",
       "  4733,\n",
       "  230,\n",
       "  9507,\n",
       "  3576,\n",
       "  5755,\n",
       "  1848,\n",
       "  5070,\n",
       "  1578,\n",
       "  4733,\n",
       "  230,\n",
       "  684,\n",
       "  55,\n",
       "  9334],\n",
       " [5784, 6883, 1224, 7774, 6090],\n",
       " [3349, 8718, 2629, 4843, 3557, 6995],\n",
       " [2394, 1010, 5384, 524, 9564, 3609, 2339, 5363, 2391, 4364, 3064, 120, 6270],\n",
       " [6048,\n",
       "  7498,\n",
       "  2186,\n",
       "  5670,\n",
       "  6638,\n",
       "  6462,\n",
       "  6420,\n",
       "  7498,\n",
       "  2186,\n",
       "  5670,\n",
       "  6638,\n",
       "  6048,\n",
       "  9209],\n",
       " [8164, 3893, 30, 5938, 752, 2310, 684, 6518, 9530],\n",
       " [5070, 5950, 6270, 3722, 932, 6875, 8022],\n",
       " [2040, 5011, 5511, 1020, 7343, 4053, 8840, 995, 1891, 3904, 445, 8630],\n",
       " [2822, 882, 9318],\n",
       " [6578,\n",
       "  1879,\n",
       "  7635,\n",
       "  3240,\n",
       "  752,\n",
       "  7635,\n",
       "  932,\n",
       "  8726,\n",
       "  9550,\n",
       "  9981,\n",
       "  6920,\n",
       "  3044,\n",
       "  5281,\n",
       "  63,\n",
       "  5277,\n",
       "  5505,\n",
       "  1081],\n",
       " [8183, 6730, 8939, 9739, 9567],\n",
       " [4010, 1316, 2749, 3982, 9112, 8184, 2038],\n",
       " [3893, 9559, 9086, 8910, 684, 2188, 5648],\n",
       " [2779, 9279, 3167, 7222, 3982, 3893, 2709, 7953, 684, 6518, 9530],\n",
       " [5510, 7690, 4042, 3415, 5025, 3757, 7887, 684, 6518, 9530],\n",
       " [8539, 6872, 9051, 3708, 197],\n",
       " [2187, 5642, 9286, 5070, 7073, 4644, 969, 7122],\n",
       " [8697, 5070, 2186, 4706, 1988, 8311, 8617, 3558],\n",
       " [8526, 492, 704, 5039, 4724, 988, 9578, 2057, 1988],\n",
       " [4787, 9432, 678, 976, 510, 3558, 1544, 9638, 8454, 9396, 8630],\n",
       " [8957, 1501, 2154, 4914, 8097, 3224],\n",
       " [9809, 962, 2820, 2610, 3253, 4731, 8070],\n",
       " [9502, 445, 6384, 2108, 7733, 9898, 6621, 2224],\n",
       " [4725, 3893, 7589, 7252, 2959, 684, 6518, 9530],\n",
       " [5438, 1353, 2902, 1656, 101, 9434, 9558, 3344, 7529, 9595, 7697],\n",
       " [5840, 3819, 9740, 3893, 5775, 6644, 1041, 685],\n",
       " [4923, 815, 6661, 1973, 532, 5645, 3463],\n",
       " [9797, 8179, 2033, 8256, 5587, 9313, 1953, 905, 684, 6518, 9530],\n",
       " [7092, 9622, 4722, 3904, 7976, 283, 4010, 2972, 1715, 684, 6518, 9530],\n",
       " [1663, 8402, 7498, 7675, 1748, 5499, 8219],\n",
       " [7085,\n",
       "  6049,\n",
       "  1672,\n",
       "  7217,\n",
       "  4731,\n",
       "  9579,\n",
       "  788,\n",
       "  3729,\n",
       "  722,\n",
       "  8035,\n",
       "  3893,\n",
       "  788,\n",
       "  610,\n",
       "  8630],\n",
       " [8805, 1801, 3609, 3240, 659, 7589],\n",
       " [4930, 684, 6518, 5465, 4371, 2533, 1041, 7516, 684, 6518, 9530],\n",
       " [3893, 524, 6546, 4879, 1804, 487, 684, 1081, 8977, 5465, 597],\n",
       " [7158, 6191, 2775, 8453, 8420, 2963, 9024, 5239, 684, 6518, 9530],\n",
       " [7685, 3893, 8531, 4923, 7343, 2391, 2187, 7670, 7184, 8630],\n",
       " [5884, 4923, 704, 4181, 8737, 2572, 4353, 5443, 9512, 5884, 4923],\n",
       " [1170, 9651, 9334, 3950, 4371, 7432, 2959, 8630],\n",
       " [2391, 5377, 3253, 788],\n",
       " [363,\n",
       "  2902,\n",
       "  9830,\n",
       "  901,\n",
       "  5822,\n",
       "  9134,\n",
       "  5548,\n",
       "  9060,\n",
       "  9265,\n",
       "  2195,\n",
       "  1486,\n",
       "  6090,\n",
       "  3051,\n",
       "  7343,\n",
       "  8630],\n",
       " [6081, 8799, 7030, 1081, 7166, 5585, 3255, 684, 6518, 9530],\n",
       " [2921, 1973, 5233, 9330, 1558, 5468, 642, 6423, 7067],\n",
       " [2044, 4030, 6380, 6684, 7832],\n",
       " [6775, 2610, 5277, 6412, 5075, 5142, 7677, 4080, 8467, 5468, 8256, 9759],\n",
       " [234, 4708, 9869, 4854, 2186, 413],\n",
       " [8027, 8745, 8964, 801, 6775, 4141, 3893, 8745, 5999],\n",
       " [8143, 9288, 180, 2781, 520, 1041, 8458, 3675, 876, 1081],\n",
       " [6775, 3982, 932, 6847, 4956, 8207, 6847, 9335, 7864, 684, 6518, 9530],\n",
       " [6229, 7638, 3651, 8102],\n",
       " [5715, 5085, 1953, 4264, 5687, 2135, 9371, 1812],\n",
       " [4569, 7951, 6349, 4263, 3314, 4010, 2959, 6270, 752, 9201],\n",
       " [1046, 9797, 6132, 6860, 8854, 407, 1727, 2701, 448, 8630],\n",
       " [9071, 6081, 2611, 212, 1144, 524, 684, 6518, 9530],\n",
       " [5012, 3893, 5070, 2475, 8694, 2892],\n",
       " [4196, 3982, 8945, 1255, 4365, 6775, 4377],\n",
       " [7229, 7874, 801, 6775, 4731, 8610, 1085, 7387, 9477],\n",
       " [6514, 4188, 2316, 2344, 9565, 5866, 3741, 1859, 6311, 9124, 639, 8722],\n",
       " [3797, 642, 144, 2693, 8337, 8911, 9921, 684, 6518, 9530],\n",
       " [7760, 3893, 1650, 9286, 3092, 8097, 6380, 2266, 8630],\n",
       " [4196, 3982, 4792, 5737, 4042, 4485, 1379, 7635, 4580],\n",
       " [4923, 9529, 9870, 3609, 3231, 659, 9516, 2393, 7805],\n",
       " [8742, 3893, 752],\n",
       " [363, 5587, 5460, 4685, 6709, 1308, 6751, 1862, 684, 6518, 9530],\n",
       " [8205, 8419, 6159, 3633, 9872, 2921, 5676, 6122, 684, 6518, 9530],\n",
       " [9195, 5576, 180, 6492],\n",
       " [4333, 2899, 2075, 7571, 8025, 4001, 8630],\n",
       " [1308, 3715, 6132, 8607, 597, 6860, 9739, 4055, 684, 6518, 9530],\n",
       " [1815, 6022, 3893, 524, 6713, 2435, 1308, 3837, 5139],\n",
       " [3893, 5598, 3498, 4685, 1289, 1046, 2563, 5001],\n",
       " [8188, 9803, 8102, 6418],\n",
       " [3893, 5581, 7950, 2462, 2166, 9334, 4731, 905, 8630],\n",
       " [7158, 6191, 1473, 3988, 2075, 949, 4655, 5642, 684, 6518, 9530],\n",
       " [3656, 2860, 8506, 5291, 5552, 6803, 4586, 684, 6518, 9530],\n",
       " [26, 1879, 3240, 2310, 402, 5712, 684, 6518, 9530],\n",
       " [4629, 8531, 1411, 7836, 1619, 7922, 3868, 684, 6518, 9530],\n",
       " [5070, 9081, 5012, 8102, 4842, 7748, 5950, 167, 684, 6518, 9530],\n",
       " [2172, 5581, 61, 3278, 2819, 2623, 684, 6518, 9530],\n",
       " [5715, 7982, 8842, 1307, 806, 8316, 1185, 6490, 7085],\n",
       " [1896, 8772, 8411, 8811, 5665, 7470, 4042, 1747],\n",
       " [8164, 3893, 7635, 6741, 8969, 3668, 684, 6518, 9530],\n",
       " [8567, 1502, 1505, 8882, 8836, 1552, 7521, 3928, 764],\n",
       " [3220, 7414, 1801, 1165, 262, 7585, 3165],\n",
       " [7468, 418, 9097, 4685, 1293, 2760, 3893, 3570, 7085],\n",
       " [2108, 7156, 4042, 5815, 8361, 8065, 8858],\n",
       " [1226, 1862, 5379, 4456, 8457, 3715, 5413, 2739, 609],\n",
       " [8824, 5070, 4768, 6380, 684, 4580],\n",
       " [3171, 5465, 1801, 7697, 3339, 6775, 5946, 3003, 1954],\n",
       " [8526, 492, 8904, 3037, 1046, 2563, 6775, 3982],\n",
       " [3893, 9907, 1747, 9339, 8184, 684, 6518, 9530],\n",
       " [626, 8824, 2179, 2475, 1205, 4903, 3893, 6270, 6380, 6294, 2025],\n",
       " [2781, 4711, 7498, 1226, 3865, 8702, 7352, 684, 6518, 9530],\n",
       " [1895, 9434, 5598, 9213, 6578, 7448, 8630],\n",
       " [4731, 266, 9585, 788, 8610],\n",
       " [8850, 61, 2933, 248, 5372, 8850, 1667, 3092, 3814, 9528, 8965, 2286, 8901],\n",
       " [2375, 9870, 192, 684, 6518, 9530],\n",
       " [9213, 3386, 1783, 9804, 684, 6518, 9530],\n",
       " [2703,\n",
       "  5103,\n",
       "  2186,\n",
       "  1152,\n",
       "  628,\n",
       "  3792,\n",
       "  48,\n",
       "  4169,\n",
       "  2948,\n",
       "  1934,\n",
       "  2195,\n",
       "  9677,\n",
       "  2186,\n",
       "  317,\n",
       "  6883,\n",
       "  429,\n",
       "  9354],\n",
       " [5519, 5999, 9297, 6010, 1316, 7581, 9493, 1037, 4174, 8280, 8630],\n",
       " [8826, 7864, 5428, 8243, 9261, 6479, 9404, 237, 8630],\n",
       " [7222, 6514, 5392, 267, 5469, 1721, 8968, 6081, 8402, 1028, 7319],\n",
       " [2089, 765, 2381, 3725, 1833, 4758, 1727, 9716, 1636, 488, 4311, 9102, 8630],\n",
       " [5569, 5564, 6229, 3208, 3170, 5514, 6357, 8531, 3157],\n",
       " [1471, 5416, 1676, 9944, 9034, 3904, 8717, 514, 5815, 8630],\n",
       " [8702, 7049, 7333, 5443, 1725, 4114],\n",
       " [6119, 2515, 8673, 4221],\n",
       " [3898, 4556, 9666, 7655, 1650, 3645, 7204, 1293, 9716, 8630],\n",
       " [6538, 919, 5815, 5219, 9968, 8184, 9439, 6970],\n",
       " [5443, 8224, 684, 6518, 9530],\n",
       " [266, 8164, 3893, 7794, 1849, 4393, 3668, 684, 6518, 9530],\n",
       " [4469, 6775],\n",
       " [5338, 8963, 524, 678, 1917, 684, 6518, 9530],\n",
       " [3171, 4826, 7644, 3383],\n",
       " [4909, 3982, 988, 7122],\n",
       " [7158, 8194, 9797, 9559, 9574, 3893, 684, 6518, 9530],\n",
       " [684, 6518, 9530, 9048, 3904, 8311, 8777, 8361, 6270, 684, 6518, 9530],\n",
       " [7539, 8909, 9315, 1577, 6514, 7398, 6514, 144, 7085],\n",
       " [8430, 684, 6518, 9530],\n",
       " [6775, 3982, 9368, 722, 9528, 684, 6518, 9530],\n",
       " [9652, 631, 864, 135, 4706, 9882, 6181],\n",
       " [3893, 6210, 5671, 8688, 746],\n",
       " [6775, 5747, 2565, 7690, 1716, 8224, 5265, 5293, 2447],\n",
       " [1097, 9802, 4706, 7434, 267, 684, 6518, 9530],\n",
       " [2938, 9268, 7442, 7443, 1867, 684, 6518, 9530],\n",
       " [3893, 6995, 4279, 2775, 8547, 1247, 684, 6518, 9530],\n",
       " [5510, 3048, 7361, 1544, 4101, 2247, 5676, 7019, 684, 6518, 9530],\n",
       " [219, 9462, 2057, 7003, 3240, 7470, 2222, 8787, 2187, 684, 6518, 9530],\n",
       " [8945, 3893, 368, 1352, 5900, 8630],\n",
       " [9663, 4881, 3982, 7832, 2075, 8388, 2576, 2654, 2419, 3893, 5298],\n",
       " [8243, 7811, 3334, 1037, 5654],\n",
       " [1571, 9242, 1202, 3180, 8772, 8975, 3180, 7314, 4747, 8630],\n",
       " [9146, 8184, 1595, 5794, 7405, 6673, 2715],\n",
       " [5543, 1953, 1255, 8179, 5766, 7553, 9636, 5273],\n",
       " [8754, 9739, 2038, 6970, 8494, 873, 7649, 684, 6518, 9530],\n",
       " [920, 4570, 9140, 1077, 1661, 6270],\n",
       " [3893, 4895, 9934, 9984, 7760, 4580, 1623, 8975, 955],\n",
       " [4945, 3893, 7516, 8673, 3334, 8224, 2529, 8630],\n",
       " [4614, 752, 7760, 2769, 2151, 2371, 9737, 2391, 8610, 8164, 3893],\n",
       " [5201, 9333, 6270],\n",
       " [295, 3928, 7605, 7069, 9268, 3094, 9919, 1602, 5174, 5925, 5545, 896],\n",
       " [8697, 5070, 2186, 4706, 5012, 1988, 8311, 8617, 3558],\n",
       " [2405, 5543, 8811, 6928, 1170, 5794],\n",
       " [5850, 488, 2561, 4541, 5636, 8316, 626, 8741],\n",
       " [2933, 6860, 6775, 3982, 1307],\n",
       " [8805, 5111, 1488, 9097, 9579, 5765, 9371],\n",
       " [6270, 9081, 7166, 684, 8715],\n",
       " [6775, 8970, 6971, 7635, 9000],\n",
       " [3595,\n",
       "  6297,\n",
       "  2425,\n",
       "  1646,\n",
       "  8182,\n",
       "  4798,\n",
       "  7697,\n",
       "  1308,\n",
       "  4644,\n",
       "  9803,\n",
       "  5102,\n",
       "  684,\n",
       "  6518,\n",
       "  9530],\n",
       " [3171,\n",
       "  9473,\n",
       "  6936,\n",
       "  5971,\n",
       "  5902,\n",
       "  9068,\n",
       "  9473,\n",
       "  6936,\n",
       "  5971,\n",
       "  5902,\n",
       "  9068,\n",
       "  6829,\n",
       "  5850,\n",
       "  4720],\n",
       " [8164, 3893, 6119, 3912, 1794, 4393, 3668, 684, 6518, 9530],\n",
       " [4203, 1842, 6971, 7635, 101, 9174, 1714],\n",
       " [5581,\n",
       "  9431,\n",
       "  1255,\n",
       "  9978,\n",
       "  7992,\n",
       "  3757,\n",
       "  9060,\n",
       "  6514,\n",
       "  3531,\n",
       "  7812,\n",
       "  1255,\n",
       "  3865,\n",
       "  5950,\n",
       "  7938,\n",
       "  8630],\n",
       " [3558,\n",
       "  253,\n",
       "  5794,\n",
       "  6229,\n",
       "  5636,\n",
       "  113,\n",
       "  7586,\n",
       "  2817,\n",
       "  1413,\n",
       "  1995,\n",
       "  409,\n",
       "  1294,\n",
       "  7838,\n",
       "  8630],\n",
       " [1144, 7285, 7164, 7434, 8858],\n",
       " [6379, 3578, 1028, 2572, 2144, 1367, 684, 6518, 9530],\n",
       " [2651, 5671, 2576, 7864, 6775, 4957, 7394, 6962, 300],\n",
       " [8610, 7122, 2423, 2526, 9442, 6270],\n",
       " [9195, 2672, 4042, 7992, 7329, 684, 2199, 1656, 4319, 9175, 2675, 1537],\n",
       " [3893, 4923, 1475, 2135],\n",
       " [6514, 7836, 9213, 3530, 953, 9060, 4764],\n",
       " [9961, 1316, 8285, 4798, 9673, 8955, 3625],\n",
       " [6271, 2893, 5998, 1862, 1308, 7988, 9136, 684, 6518, 9530],\n",
       " [6612, 8591, 5754, 4371, 407, 7125, 6761, 1081],\n",
       " [860, 8184, 860, 5053, 6937, 4643],\n",
       " [419, 6717, 7085, 9433, 7874, 5443, 6883, 6057, 2122, 3803, 684, 6518, 9530],\n",
       " [232, 235, 5465, 4618, 4464, 5070, 8853, 118, 5694, 684, 6518, 9530],\n",
       " [515, 6423, 4725, 2391, 7333, 6751, 652, 5201],\n",
       " [1725, 5187, 5299, 7887, 6674, 8164, 3893, 6380, 721],\n",
       " [9884, 2352, 5465, 6504, 3458, 9440, 2747, 5654, 684, 6518, 9530],\n",
       " [2709, 2339, 155, 1028, 7319],\n",
       " [2417, 8947, 2475, 7122, 5203, 848, 120, 346, 4580, 5291, 684, 6518, 9530],\n",
       " [4725, 6924, 9265, 4598, 5737, 7938, 7343, 9657, 7876],\n",
       " [4731, 266, 2036, 1412, 8467, 6294, 3893],\n",
       " [8763, 7992, 7561, 8164, 3893, 2397, 9882, 5694],\n",
       " [8630, 7874, 9595, 1675, 6273, 8630],\n",
       " [3893, 9334, 906, 5547],\n",
       " [2394, 5120, 3790, 7343, 8431, 4727, 2983, 4317, 1081, 8630],\n",
       " [2892, 9869, 4854, 7097, 3893, 684, 6518, 9530],\n",
       " [4586, 3889, 8811, 8694, 7028, 5815, 2971, 9802, 684, 6518, 9530],\n",
       " [8033, 3317, 2122, 5880, 4200, 6861, 2039, 684, 6518, 9530],\n",
       " [1407, 4174, 5775, 8961, 9334, 9559, 3893, 8630],\n",
       " [5765, 7398, 4485, 8968, 8604, 2893, 7398, 253, 8610],\n",
       " [6095, 2085, 5568, 4351, 6751, 4982],\n",
       " [104, 684, 2395, 516, 752],\n",
       " [7832, 849, 7343, 2108, 9978, 4053],\n",
       " [5510, 3649, 6104, 5007, 5384, 2108, 3520, 9574, 3893, 684, 6518, 9530],\n",
       " [],\n",
       " [6751, 5510, 6108],\n",
       " [3893, 4629, 6234, 2892, 1942],\n",
       " [6553, 5395, 1404, 2855, 8911, 3423, 4883, 6504, 684, 6518, 9530],\n",
       " [6487, 4010, 9559, 684, 6518, 2247, 4824, 684, 6518, 9530],\n",
       " [4101, 4229, 4655, 4828, 1501, 1714, 8630],\n",
       " [488, 4101, 7499, 764, 9677, 1329, 3005, 5602, 684, 6518, 9530],\n",
       " [4758, 2896, 5999, 8243, 1725, 2154, 684, 6518, 9530],\n",
       " [6775, 3982, 7588, 9174, 8466, 219, 3978, 5964, 4319, 1602, 5443],\n",
       " [2751, 7774, 267, 684, 6518, 9530],\n",
       " [955, 6775, 4316, 7314],\n",
       " [4196, 5949, 6232, 3893, 8184, 4669, 8531, 684, 4291, 684, 6518, 9530],\n",
       " [4718, 8164, 3893, 8803, 684, 6518, 9530],\n",
       " [356,\n",
       "  1581,\n",
       "  5895,\n",
       "  3893,\n",
       "  3051,\n",
       "  684,\n",
       "  5443,\n",
       "  2526,\n",
       "  1028,\n",
       "  4629,\n",
       "  6210,\n",
       "  6813,\n",
       "  2751,\n",
       "  7418],\n",
       " [4413, 6578, 752, 4316, 5946, 3593, 4731, 9579, 5788, 9978, 8630],\n",
       " [8164, 3893, 1265, 6128, 9432, 1896, 800, 3946, 1995, 4787, 678],\n",
       " [7960, 8722, 7149, 91],\n",
       " [4196, 5949, 5468, 6883, 5443, 3471, 4187, 2122, 8219, 684, 6518, 9530],\n",
       " [9803, 4916, 7905, 6119, 5815, 7147, 5867, 1501, 684, 6518, 9530],\n",
       " [1037, 6554, 4196, 5010, 2195, 930],\n",
       " [8916, 3913, 8245, 9739, 3363, 2122, 8019, 684, 6518, 9530],\n",
       " [7128, 4662, 2344, 9434, 346, 8466, 5874, 6243, 8630],\n",
       " [3842, 8978, 2632, 3135, 9911, 5633, 1445, 699],\n",
       " [5519, 1613, 6957, 1571, 3802, 1085, 2038, 3802, 8630],\n",
       " [7470, 5720, 547, 7927, 3489],\n",
       " [1255, 445, 8702, 7434, 9174, 6632, 684, 6518, 9530],\n",
       " [1609, 8668, 3971, 4364, 463, 3982, 684, 6518, 9530],\n",
       " [9739, 1069, 3956, 8102, 8787, 7638, 9431, 7085],\n",
       " [3893, 463, 5598, 3642, 4839, 4566, 6571],\n",
       " [2425, 7130, 9048, 9673, 5654, 598],\n",
       " [3893, 2149, 3051, 404, 5377, 5950, 8630],\n",
       " [3868, 3914, 9759, 2681, 1963, 648, 1725, 8702, 9560, 4055],\n",
       " [4923, 7877, 2933, 1537, 3893, 8561, 2938, 9000, 8701, 6612],\n",
       " [1423, 6401, 821, 1059, 7013, 1743, 684, 6518, 9530],\n",
       " [4881, 3982, 7832, 2075, 8388, 2576, 2654, 2419, 3893, 5298],\n",
       " [6775, 4509, 6183, 3339, 376, 2756, 9706],\n",
       " [5671, 6346, 3677, 5877, 7343, 8182, 684, 6518, 9530],\n",
       " [5198, 8075, 5586, 5671, 4655, 6995, 5352, 6851, 6270, 1573, 4892, 120],\n",
       " [4196, 3982, 9706, 1255, 7443, 347, 1825, 6775, 6270],\n",
       " [9456, 5815, 3165, 8345, 6412, 2073, 7864, 684, 6518, 9530],\n",
       " [3893, 2760, 2927, 6514, 9457, 8607, 684, 6518, 9530],\n",
       " [232, 6527, 5946, 7553, 7072, 714, 492, 684, 6518, 9530],\n",
       " [5407, 7018, 823, 5787, 873, 9739],\n",
       " [6048, 5224, 1795, 7848, 8729],\n",
       " [6883, 4389, 8534, 6851, 8070, 9559, 9213, 704, 7805, 9371],\n",
       " [9692, 7589, 446, 3895, 3802, 8531],\n",
       " [5765, 2050, 3180],\n",
       " [4088,\n",
       "  5465,\n",
       "  1390,\n",
       "  2453,\n",
       "  4143,\n",
       "  2247,\n",
       "  2186,\n",
       "  1896,\n",
       "  9000,\n",
       "  2038,\n",
       "  5341,\n",
       "  5027,\n",
       "  8630],\n",
       " [8975, 2144, 2017, 6677, 193, 224, 9945],\n",
       " [6775, 6128, 8702, 1833, 8415, 3852, 5322, 9978, 5586, 3510],\n",
       " [7947, 2391, 2749, 6270, 752, 8415, 3847, 1336],\n",
       " [3564, 3651, 7156, 2741, 7968, 3100, 4892, 120],\n",
       " [2040,\n",
       "  1308,\n",
       "  5671,\n",
       "  6897,\n",
       "  598,\n",
       "  1255,\n",
       "  8287,\n",
       "  4498,\n",
       "  4416,\n",
       "  2398,\n",
       "  8830,\n",
       "  4300,\n",
       "  6554,\n",
       "  9213,\n",
       "  8630],\n",
       " [9030, 1726, 9928, 9978, 3156, 6971, 7635],\n",
       " [3097, 6380, 8666, 4664, 6553, 5610, 9839, 8219, 684, 6518, 9530],\n",
       " [1081, 1600, 1475, 3893, 524, 6546, 8224, 7013, 7874, 7092, 5291],\n",
       " [4930, 9706, 2892, 4432, 2610],\n",
       " [8014, 7051, 3865, 170, 127],\n",
       " [6554, 7561, 2737, 1986, 2882, 684, 6518, 9530],\n",
       " [7979, 7115, 3710, 3458, 7201, 1573, 684, 6518, 4722, 684, 6518, 9530],\n",
       " [2899, 8830, 526, 6553, 3583, 8931, 6514, 7930, 684, 6518, 9530],\n",
       " [3554, 5167, 7498, 1895, 4618, 7092, 8969, 684, 6518, 9530],\n",
       " [3865, 8702, 5598, 5526, 4737, 598, 3120, 8630],\n",
       " [8975, 932, 5002, 1650, 2223, 3349, 7846, 8944],\n",
       " [180,\n",
       "  6883,\n",
       "  7085,\n",
       "  2017,\n",
       "  2125,\n",
       "  1077,\n",
       "  5497,\n",
       "  1307,\n",
       "  7618,\n",
       "  7882,\n",
       "  6184,\n",
       "  5001,\n",
       "  3070,\n",
       "  6709],\n",
       " [2863, 1160, 8224, 6775, 3982, 8224, 994],\n",
       " [6554, 4931, 6462, 944, 7434, 684, 6518, 9530],\n",
       " [3727, 5970, 8115, 9225, 9613, 9870, 7736, 9870, 684, 6518, 9530],\n",
       " [9654, 6605, 7635, 938, 3982, 9268, 4635, 684, 6518, 9530],\n",
       " [8540, 7013, 5675, 3893, 3558, 5586, 684, 6518, 9530],\n",
       " [7664, 9470, 7065, 3787, 3724, 2397, 9660, 9806, 6992],\n",
       " [3893, 2444, 9174, 2690, 8955, 2904, 7125, 684, 6518, 9530],\n",
       " [2820, 1749, 5465, 1307, 1255, 3868, 6911, 1336, 1308, 8070, 4216],\n",
       " [3171, 5441, 9745, 472, 8870, 1757, 5441, 4247, 917],\n",
       " [475, 4480, 3893, 5611, 9027, 7877, 684, 6518, 9530],\n",
       " [4450, 6553, 4042, 5293, 4798, 7882, 8784, 5694, 8630],\n",
       " [9129, 1122, 4822, 2845, 684, 6518, 9530],\n",
       " [2311, 2333, 5803, 4107, 8224, 308, 8694, 5642, 684, 6518, 9530],\n",
       " [2321, 7018, 1907, 5400, 6863, 2322, 6709],\n",
       " [7992, 7343, 6730, 2709, 5239, 9579],\n",
       " [6741, 3290, 7464, 409, 1032, 3209, 7442, 684, 6518, 9530],\n",
       " [8697, 5277, 2933, 5748, 684, 6518, 9530],\n",
       " [2751, 8258, 9716, 8018, 7286, 2391, 8610, 8164, 3893],\n",
       " [4391, 2611, 7179, 6834, 2938, 4757, 5070, 684, 6518, 9530],\n",
       " [9579, 9329, 6546, 1533, 5624, 7391, 5345, 1747],\n",
       " [8819, 7553, 6218, 1185, 6320, 6878, 9950, 684, 6518, 9530],\n",
       " [859, 6857, 9574, 684, 6518, 9530],\n",
       " [9978,\n",
       "  2085,\n",
       "  5649,\n",
       "  9210,\n",
       "  629,\n",
       "  2397,\n",
       "  5465,\n",
       "  7018,\n",
       "  6234,\n",
       "  7633,\n",
       "  4839,\n",
       "  2797,\n",
       "  4322,\n",
       "  3558],\n",
       " [824, 5964, 4010, 8167, 8035, 2693, 5790],\n",
       " [4706, 847, 8782, 6532, 9532, 5940, 5880, 7092],\n",
       " [4839, 8459, 9096, 5402, 2781, 5877, 9331, 7391, 7013, 3290, 684, 6518, 9530],\n",
       " [7414, 3002, 9227, 4010, 9439, 2397, 2896, 8630],\n",
       " [4136, 2011, 9023, 2979, 327, 9830, 6514, 7836, 2400, 2638, 684, 6518, 9530],\n",
       " [4881, 6255, 684, 2075, 7832, 3982, 5246, 4731, 7504],\n",
       " [2632, 681, 5715, 3538, 1294, 9475],\n",
       " [7085, 4582, 5281, 3893, 8663, 9434, 2085, 6507],\n",
       " [8143, 7992, 197, 6472, 1202, 5239],\n",
       " [9146, 8151, 1384, 9049, 659, 5715, 363, 3802],\n",
       " [6249, 4473, 8378, 1913, 684, 6518, 9530],\n",
       " [8164, 3893, 229, 5144, 407, 1486, 2760, 684, 6518, 9530],\n",
       " [5107, 6860, 4091, 3458, 1741, 1244, 684, 6518, 9530],\n",
       " [1037, 1514, 2011, 9749, 3935, 3668, 684, 6518, 9530],\n",
       " [5510, 7810, 1027, 6557, 3911, 4916, 5277, 684, 6518, 9530],\n",
       " [4782, 7286, 3168, 6049, 2944, 6657, 8624, 2570, 8052, 9638, 684, 6518, 9530],\n",
       " [6270, 6298, 8737, 1077, 1661, 6270, 3904, 3013],\n",
       " [5644, 6803, 5351, 4881, 407, 9516, 6380, 8702, 684, 3982, 7832, 2075],\n",
       " [1081, 8741, 9140, 9348, 7343, 4353, 3023, 7832, 324, 4671],\n",
       " [8164, 3893, 6280, 5737, 9376, 9268],\n",
       " [9822, 7697, 620, 1776, 6775, 3982, 1487, 6932],\n",
       " [779, 860, 953, 2507, 2775, 2391, 684, 6518, 9530],\n",
       " [8826, 1760, 8465, 5070, 7516, 667, 7553, 208, 684, 6518, 9530],\n",
       " [4061, 5946, 2811, 4278, 962],\n",
       " [113, 4826, 1725, 8702, 8224, 4469, 3893, 2938, 6851, 8630],\n",
       " [6635, 5530],\n",
       " [6294, 6187, 8449, 4055, 2828, 9636, 788],\n",
       " [905, 5721, 6775, 3982, 1255, 2838, 7829, 6270, 4871],\n",
       " [1139, 487, 4041, 8238, 3707, 9948, 684, 6518, 9530],\n",
       " [3700, 9704, 8737, 180, 4016],\n",
       " [2186,\n",
       "  9060,\n",
       "  5047,\n",
       "  2186,\n",
       "  1954,\n",
       "  6048,\n",
       "  3145,\n",
       "  2186,\n",
       "  7950,\n",
       "  8238,\n",
       "  5267,\n",
       "  2703,\n",
       "  8838,\n",
       "  2245,\n",
       "  9455],\n",
       " [5618, 1714, 860, 1315, 9574, 7874],\n",
       " [1994, 289, 6883, 1811],\n",
       " [3904, 788, 1656, 6614, 9559],\n",
       " [7085, 5070, 3240, 7013, 3893, 409, 8642, 2391, 7987, 7874, 6782],\n",
       " [3893, 1913, 5754, 4101, 7145, 8164, 3893, 1661, 9213],\n",
       " [4999, 801, 1899, 7201, 7690, 7943],\n",
       " [5396, 9001, 2547, 1008, 7690, 2779, 6957, 9943],\n",
       " [3893, 6270, 3868, 5986, 9268, 5958],\n",
       " [2933, 9797, 3382, 545, 2391, 2187, 2739, 5598, 8630],\n",
       " [9567, 659, 3893, 4118, 9365, 9978, 6957, 7635],\n",
       " [5120, 2818, 3893, 9325, 2031, 249, 416, 667, 8184],\n",
       " [5217, 1297, 1710],\n",
       " [8387, 6546, 2666, 4391, 5598, 3905],\n",
       " [5867, 9077, 6709, 1307, 6151, 6493, 684, 6518, 9530],\n",
       " [1193, 4955, 5775, 3602, 8143, 7161, 2782, 6992, 2322, 8630],\n",
       " [7591, 3480, 8030, 715, 6644, 9317, 8604, 7040, 1752, 6672],\n",
       " [7085, 6638, 6553, 4824, 44, 8466, 4177, 2191, 5642, 8630],\n",
       " [3932, 8204, 6518, 9898, 4080, 9474, 9563],\n",
       " [445, 3060],\n",
       " [3557, 2350, 253, 3405, 1105, 8366, 684, 6518, 9530],\n",
       " [6638, 2666, 1988, 2423, 3817, 9081, 8531, 8630],\n",
       " [2576, 7864, 6775, 5327, 7520, 6819, 3492],\n",
       " [3825, 7566, 4757, 3925, 684, 6518, 9530],\n",
       " [8837, 1626, 5821, 5203, 2257, 684, 6518, 9530],\n",
       " [6771, 4794, 3809, 6218, 2672, 684, 6518, 9530],\n",
       " [9961, 459, 5127, 7951, 9201, 3060, 684, 6518, 9530],\n",
       " [3893, 48, 4053, 5804, 382, 9431, 8844, 1093, 4731, 684, 6518, 9530],\n",
       " [3533,\n",
       "  7814,\n",
       "  2933,\n",
       "  301,\n",
       "  7760,\n",
       "  3522,\n",
       "  6627,\n",
       "  1826,\n",
       "  6257,\n",
       "  9368,\n",
       "  5999,\n",
       "  4679,\n",
       "  6645,\n",
       "  684,\n",
       "  6518,\n",
       "  9530],\n",
       " [349, 2131, 4289, 7789, 9652, 684, 6518, 9530],\n",
       " [2733, 2382, 30, 9509, 7516, 3893, 5122],\n",
       " [7085, 3893, 9174, 4566, 6571, 5598, 3253, 1316, 5671, 6897, 8630],\n",
       " [5644, 860, 2899, 1913, 2423, 7793, 6294, 1980, 4731, 8630],\n",
       " [9265, 5715, 9696, 3158, 684, 6775, 7832, 5841, 6298, 7062, 5001, 4881],\n",
       " [8260, 1833, 2371, 9265, 4727, 1293, 684, 6518, 9530],\n",
       " [9681, 9614, 6114, 8554],\n",
       " [5737, 5841, 5391, 5012, 7274, 4042],\n",
       " [4068, 1037, 1255, 8939, 5246, 9261, 2960, 8630],\n",
       " [5510, 8507, 9944, 2575, 3494, 9559, 2632, 684, 6518, 9530],\n",
       " [4757, 9978, 2413, 7013, 9690, 2186, 7201, 9850, 4715, 2413],\n",
       " [902, 316, 197, 684, 6518, 9530],\n",
       " [747, 813, 6775, 9981, 4842, 2371, 4042, 9060, 8449],\n",
       " [5732, 1571, 9145, 249, 609, 2089, 8268, 722, 8329, 547, 8630],\n",
       " [3423, 2808, 7635, 3116, 1667, 1008, 7222, 684, 6518, 9530],\n",
       " [4364, 2769, 7949, 2154, 3893, 1650],\n",
       " [5465, 8740, 7184, 1255, 5048, 7930],\n",
       " [785, 7319, 8402, 2838],\n",
       " [9536, 6462, 61, 5389, 684, 6699, 3262, 930, 6709],\n",
       " [4038, 7989, 4655, 8247, 9042, 6855, 381, 9801, 684, 6518, 9530],\n",
       " [7065, 2751, 4404, 2986, 8610, 8164, 3893],\n",
       " [5543, 1307, 6092, 2777, 8179, 8246, 704, 2135, 684, 6518, 9530],\n",
       " [7414, 5654, 4923, 8070, 3220, 1081],\n",
       " [4822, 7244, 3548, 5642, 6278, 7085, 2526, 8035, 4364, 7391, 684, 6518, 9530],\n",
       " [6775, 556, 1458, 9155, 9348, 3930],\n",
       " [7118, 9060, 2124, 8330, 6046, 3935, 3668, 684, 6518, 9530],\n",
       " [4596, 4440, 7343, 2749, 7065, 6064, 6271, 659, 869],\n",
       " [492, 3982, 4391, 2453, 7520, 9806, 4900, 4662, 4268, 3248],\n",
       " [7065, 9559, 3893, 4316, 7529, 3257, 3101, 684, 6518, 9530],\n",
       " [2135, 1568, 7553, 8659, 516, 9313, 6863],\n",
       " [5487, 6775, 1462],\n",
       " [3868, 8321, 4973, 1255, 76, 4505, 2075, 6775, 4671],\n",
       " [9607, 5348, 7802, 3237, 6647, 7776, 2902, 684, 6518, 9530],\n",
       " [6883, 3842, 8978, 873, 9978, 3520, 9477, 3769, 4277, 8978, 932, 7393, 2921],\n",
       " [2223, 5315, 5850, 2544, 7982, 8842, 9559, 684, 6518, 9530],\n",
       " [3171,\n",
       "  8014,\n",
       "  7051,\n",
       "  3310,\n",
       "  9026,\n",
       "  941,\n",
       "  8014,\n",
       "  7051,\n",
       "  3310,\n",
       "  9026,\n",
       "  941,\n",
       "  877,\n",
       "  9677,\n",
       "  65,\n",
       "  707],\n",
       " [7755, 8717, 520, 9516, 9603, 5219, 2447, 4881, 1031, 9690],\n",
       " [407, 5510, 9233, 5598, 9001, 3935, 266],\n",
       " [2394, 6138, 1255, 5715, 2511, 990, 8721, 9224, 6674, 1501],\n",
       " [488, 5715, 3051, 2859, 5518, 4166, 6183, 3868, 7874, 1081],\n",
       " [9431, 2751, 9884, 6140, 4447, 3348, 1, 7589, 4822, 684, 6518, 9530],\n",
       " [3935, 3668, 6775, 3982, 8164, 3893, 1294, 6805, 684, 6518, 9530],\n",
       " [9176, 1452, 4006, 7736, 6183, 4580, 9224, 5241, 6504, 7343, 9056, 955],\n",
       " [4822, 7244, 4152, 860, 684, 2883, 684, 6518, 9530],\n",
       " [1385, 5485, 8786, 2948, 4613, 6751, 3694, 684, 6518, 9530],\n",
       " [1514, 545, 7625, 2187, 344, 7774, 7554, 6539],\n",
       " [8164, 3893, 4757, 429, 1098, 5850, 9900],\n",
       " [2394, 4425, 4570, 7161, 6863, 6883, 9148, 6883, 7122, 6378, 8630],\n",
       " [7638, 2085, 2338, 4071, 3978, 9060],\n",
       " [9303, 6851, 101, 8198, 3963],\n",
       " [1203, 1423, 8516, 3059, 8717],\n",
       " [838, 3038, 8015, 8206, 717, 4391, 8630],\n",
       " [4507, 7314, 5675, 6730, 9978, 9318],\n",
       " [1914, 9188, 3893, 5722, 463, 1656, 9331, 9797, 5900, 684, 6518, 9530],\n",
       " [1586, 8033, 1537, 5598, 3905, 463, 6049, 3348, 8630],\n",
       " [5913, 1207, 4706, 5340],\n",
       " [3860, 6002, 7391, 9361, 9567, 283, 5293, 5901, 684, 6518, 9530],\n",
       " [2786, 7343, 9648, 1041, 1292, 684, 6518, 9530],\n",
       " [7226, 5213, 8184, 1896, 6751, 2413, 8446],\n",
       " [9595, 1432, 860, 1987, 7454],\n",
       " [2172, 8523, 2124, 3889, 8610, 3893, 8870, 7951, 5123, 5363],\n",
       " [192, 3970, 5279, 8020, 6646, 3893, 266, 8939, 684, 6518, 9530],\n",
       " [5550, 4806, 5695, 609, 3731, 3576, 2751, 9163],\n",
       " [7547, 5070, 2986, 6553, 296, 8715, 684, 6518, 9530],\n",
       " [8208, 5675, 7755, 4970, 9105, 6069, 684, 6518, 9530],\n",
       " [4881, 7693, 5070, 9318, 7245, 5715, 2828, 2221, 7035],\n",
       " [9758, 5322, 7721, 821, 5678, 6412],\n",
       " [9638, 4221, 7085, 4699, 5460, 4883, 7689, 5548],\n",
       " [7740, 4731, 9579, 4010, 9668, 4071],\n",
       " [5715, 6514, 7468, 8737, 4537, 9978, 1307, 629, 6484, 8945],\n",
       " [3868, 8138, 4618, 149, 7553, 8798, 2737, 684, 6518, 9530],\n",
       " [8642, 76, 8662, 6270, 752, 1077, 8642, 2391, 7987, 7874, 6782],\n",
       " [4731, 266, 7462, 7553, 2562, 7040],\n",
       " [9898, 795, 9404, 938, 7324, 699, 5070],\n",
       " [3051,\n",
       "  3893,\n",
       "  855,\n",
       "  9305,\n",
       "  1910,\n",
       "  3520,\n",
       "  2187,\n",
       "  5737,\n",
       "  1582,\n",
       "  1341,\n",
       "  7950,\n",
       "  752,\n",
       "  9913,\n",
       "  4580,\n",
       "  8630],\n",
       " [6775, 3982, 463, 1255, 6965, 8610, 2617, 8184],\n",
       " [6675, 330, 6112, 1563, 6085, 463, 3109],\n",
       " [1747, 8694, 9934, 9563, 547],\n",
       " [7324, 9614, 8402, 5874, 9563, 1602, 8402],\n",
       " [4055, 9475, 5379, 463, 5598, 3905, 1817, 1838],\n",
       " [3558, 3344, 6412, 1441, 5754],\n",
       " [8102, 638, 545, 1005, 4644, 4042, 684, 6518, 9530],\n",
       " [2182, 1430, 7393, 2921, 7553, 1956, 4758],\n",
       " [4662, 2344, 9434, 7040, 7980, 6783, 5405],\n",
       " [3893, 7633, 4758, 1059, 7664, 9470, 6290, 5027, 684, 6518, 9530],\n",
       " [8630, 7874, 9595, 1571, 3738, 8630],\n",
       " [6775, 5946],\n",
       " [4950, 3904, 6331, 3510, 4768, 8351, 8686, 1582],\n",
       " [8164, 3893, 2172, 6242, 2700, 8757, 3935, 3668, 684, 6518, 9530],\n",
       " [7635, 4923, 3713, 5219, 7043],\n",
       " [1161, 9968, 4580, 1558, 7225, 5381, 3946, 8630],\n",
       " [2186, 4429, 6863, 4558, 581],\n",
       " [4889, 2885, 5671, 9332, 2310, 204, 8143, 3802, 8630],\n",
       " [8843, 3359, 4071, 2222, 3891, 684, 6518, 9530],\n",
       " [6298, 7051, 4644, 1211, 9739, 3505, 5390, 4042, 7874],\n",
       " [9677, 8772, 7067, 5722, 8811, 2632, 4840, 464, 6571, 8939, 8630],\n",
       " [5765, 5794, 1626, 7947, 3558, 5946, 7689, 9097],\n",
       " [3893, 8853, 9923, 6293, 5998, 2986, 2131, 684, 6518, 9530],\n",
       " [7222, 8468, 488, 2892, 5526],\n",
       " [2038, 7553, 263, 9454, 684, 6518, 9530],\n",
       " [3171, 5012, 7674, 4655, 573],\n",
       " [9663, 4881, 3982, 7832, 2075, 8388, 2576, 2654, 2419, 3893, 5298],\n",
       " [6445, 1963, 6863, 3757, 2777, 2054, 5079, 684, 6518, 9530],\n",
       " [8143, 8333, 864, 5998, 5277, 9574, 6514],\n",
       " [6081, 7434, 8975, 7462, 5244, 5859, 6672, 7925, 988, 2397],\n",
       " [8697, 5070, 2186, 4706, 2247, 9595, 6438],\n",
       " [2485, 3970, 5946, 3558, 1988, 8311, 8617, 4598, 1752],\n",
       " [3893, 4399, 3208, 8939, 5012, 967, 5293, 684, 6518, 9530],\n",
       " [1508, 6471, 2075, 1773, 5395],\n",
       " [8697, 1825, 6444, 5070, 8102, 8260, 9739],\n",
       " [8673, 4221, 7543, 2195, 6598, 4279, 1041],\n",
       " [2535, 445, 2777, 5443],\n",
       " ...]"
      ]
     },
     "execution_count": 63,
     "metadata": {},
     "output_type": "execute_result"
    }
   ],
   "source": [
    "onehot_repr=[one_hot(words,voc_size)for words in df['transformed_text']] \n",
    "onehot_repr"
   ]
  },
  {
   "cell_type": "markdown",
   "id": "2024c3ce",
   "metadata": {
    "id": "fWFFYwOsITpZ"
   },
   "source": [
    "## Embedding Representation"
   ]
  },
  {
   "cell_type": "code",
   "execution_count": 64,
   "id": "pQjTbiRWI-dq",
   "metadata": {
    "colab": {
     "base_uri": "https://localhost:8080/"
    },
    "id": "pQjTbiRWI-dq",
    "outputId": "26209791-0a32-47d9-ffde-e4baea5bfdbd"
   },
   "outputs": [
    {
     "name": "stdout",
     "output_type": "stream",
     "text": [
      "[[   0    0    0 ... 6201 1708 9509]\n",
      " [   0    0    0 ... 4466 7830 8630]\n",
      " [   0    0    0 ... 3589 8224 9638]\n",
      " ...\n",
      " [   0    0    0 ...  684 6518 9530]\n",
      " [   0    0    0 ...  684 6518 9530]\n",
      " [   0    0    0 ... 4638  638 6627]]\n"
     ]
    }
   ],
   "source": [
    "sent_length=20\n",
    "embedded_docs=pad_sequences(onehot_repr,padding='pre',maxlen=sent_length)\n",
    "print(embedded_docs)"
   ]
  },
  {
   "cell_type": "code",
   "execution_count": 65,
   "id": "yWXsrD9iJfck",
   "metadata": {
    "colab": {
     "base_uri": "https://localhost:8080/"
    },
    "id": "yWXsrD9iJfck",
    "outputId": "78c5c3a3-4af5-4c16-adbc-6a56ecc39c18"
   },
   "outputs": [
    {
     "data": {
      "text/plain": [
       "array([   0,    0,    0,    0,    0,    0,    0,    0,    0,    0, 1582,\n",
       "       5519, 8853, 3935, 2751, 9516, 8018, 6201, 1708, 9509])"
      ]
     },
     "execution_count": 65,
     "metadata": {},
     "output_type": "execute_result"
    }
   ],
   "source": [
    "embedded_docs[0]"
   ]
  },
  {
   "cell_type": "code",
   "execution_count": 66,
   "id": "OMyZXscnJjLb",
   "metadata": {
    "colab": {
     "base_uri": "https://localhost:8080/"
    },
    "id": "OMyZXscnJjLb",
    "outputId": "bb5f0776-c304-4c8d-b890-0b2895584c9b"
   },
   "outputs": [
    {
     "name": "stdout",
     "output_type": "stream",
     "text": [
      "Model: \"sequential\"\n",
      "_________________________________________________________________\n",
      " Layer (type)                Output Shape              Param #   \n",
      "=================================================================\n",
      " embedding (Embedding)       (None, 20, 40)            400000    \n",
      "                                                                 \n",
      " dropout (Dropout)           (None, 20, 40)            0         \n",
      "                                                                 \n",
      " bidirectional (Bidirectiona  (None, 200)              112800    \n",
      " l)                                                              \n",
      "                                                                 \n",
      " dropout_1 (Dropout)         (None, 200)               0         \n",
      "                                                                 \n",
      " dense (Dense)               (None, 1)                 201       \n",
      "                                                                 \n",
      "=================================================================\n",
      "Total params: 513,001\n",
      "Trainable params: 513,001\n",
      "Non-trainable params: 0\n",
      "_________________________________________________________________\n",
      "None\n"
     ]
    }
   ],
   "source": [
    "## Creating model\n",
    "embedding_vector_features=40\n",
    "model=Sequential()\n",
    "model.add(Embedding(voc_size,embedding_vector_features,input_length=sent_length))\n",
    "model.add(Dropout(0.3))\n",
    "model.add(Bidirectional(LSTM(100)))\n",
    "model.add(Dropout(0.3))\n",
    "model.add(Dense(1,activation='sigmoid'))\n",
    "model.compile(loss='binary_crossentropy',optimizer='adam',metrics=['accuracy'])\n",
    "print(model.summary())"
   ]
  },
  {
   "cell_type": "code",
   "execution_count": 67,
   "id": "nqlpbGIdKCd_",
   "metadata": {
    "colab": {
     "base_uri": "https://localhost:8080/"
    },
    "id": "nqlpbGIdKCd_",
    "outputId": "e9fac168-5fcc-4b9e-b3b1-c0b5c26e2471"
   },
   "outputs": [
    {
     "data": {
      "text/plain": [
       "(19803, (19803,))"
      ]
     },
     "execution_count": 67,
     "metadata": {},
     "output_type": "execute_result"
    }
   ],
   "source": [
    "len(embedded_docs),y.shape"
   ]
  },
  {
   "cell_type": "code",
   "execution_count": 68,
   "id": "Sgwd6p-DKFWn",
   "metadata": {
    "id": "Sgwd6p-DKFWn"
   },
   "outputs": [],
   "source": [
    "import numpy as np\n",
    "X_final=np.array(embedded_docs)\n",
    "y_final=np.array(y)"
   ]
  },
  {
   "cell_type": "code",
   "execution_count": 69,
   "id": "WSVfZM8oKJus",
   "metadata": {
    "colab": {
     "base_uri": "https://localhost:8080/"
    },
    "id": "WSVfZM8oKJus",
    "outputId": "a460909c-58a0-4d02-b296-8071823b03fb"
   },
   "outputs": [
    {
     "data": {
      "text/plain": [
       "((19803, 20), (19803,))"
      ]
     },
     "execution_count": 69,
     "metadata": {},
     "output_type": "execute_result"
    }
   ],
   "source": [
    "X_final.shape,y_final.shape"
   ]
  },
  {
   "cell_type": "code",
   "execution_count": 70,
   "id": "aPC7yW5GKMjQ",
   "metadata": {
    "id": "aPC7yW5GKMjQ"
   },
   "outputs": [],
   "source": [
    "from sklearn.model_selection import train_test_split\n",
    "X_train, X_test, y_train, y_test = train_test_split(X_final, y_final, test_size=0.2, random_state=5)"
   ]
  },
  {
   "cell_type": "markdown",
   "id": "06e35234",
   "metadata": {
    "id": "tU5mrX7OKRrV"
   },
   "source": [
    "## Model Training"
   ]
  },
  {
   "cell_type": "code",
   "execution_count": 71,
   "id": "1nFMC0VFKWOc",
   "metadata": {
    "colab": {
     "base_uri": "https://localhost:8080/"
    },
    "id": "1nFMC0VFKWOc",
    "outputId": "2dc7c268-30f3-436c-a561-a42d0da769fc"
   },
   "outputs": [
    {
     "name": "stdout",
     "output_type": "stream",
     "text": [
      "Epoch 1/10\n",
      "248/248 [==============================] - 21s 57ms/step - loss: 0.2856 - accuracy: 0.8736 - val_loss: 0.1890 - val_accuracy: 0.9202\n",
      "Epoch 2/10\n",
      "248/248 [==============================] - 12s 50ms/step - loss: 0.1349 - accuracy: 0.9477 - val_loss: 0.1858 - val_accuracy: 0.9225\n",
      "Epoch 3/10\n",
      "248/248 [==============================] - 12s 50ms/step - loss: 0.0924 - accuracy: 0.9673 - val_loss: 0.1904 - val_accuracy: 0.9270\n",
      "Epoch 4/10\n",
      "248/248 [==============================] - 13s 51ms/step - loss: 0.0727 - accuracy: 0.9745 - val_loss: 0.2528 - val_accuracy: 0.9139\n",
      "Epoch 5/10\n",
      "248/248 [==============================] - 13s 51ms/step - loss: 0.0534 - accuracy: 0.9814 - val_loss: 0.2590 - val_accuracy: 0.9205\n",
      "Epoch 6/10\n",
      "248/248 [==============================] - 13s 51ms/step - loss: 0.0386 - accuracy: 0.9876 - val_loss: 0.3168 - val_accuracy: 0.9177\n",
      "Epoch 7/10\n",
      "248/248 [==============================] - 13s 52ms/step - loss: 0.0289 - accuracy: 0.9902 - val_loss: 0.3968 - val_accuracy: 0.9111\n",
      "Epoch 8/10\n",
      "248/248 [==============================] - 13s 52ms/step - loss: 0.0249 - accuracy: 0.9918 - val_loss: 0.3683 - val_accuracy: 0.9106\n",
      "Epoch 9/10\n",
      "248/248 [==============================] - 13s 52ms/step - loss: 0.0180 - accuracy: 0.9941 - val_loss: 0.4263 - val_accuracy: 0.9116\n",
      "Epoch 10/10\n",
      "248/248 [==============================] - 13s 51ms/step - loss: 0.0172 - accuracy: 0.9941 - val_loss: 0.4563 - val_accuracy: 0.9028\n"
     ]
    },
    {
     "data": {
      "text/plain": [
       "<keras.callbacks.History at 0x1e9f3399cd0>"
      ]
     },
     "execution_count": 71,
     "metadata": {},
     "output_type": "execute_result"
    }
   ],
   "source": [
    "model.fit(X_train,y_train,validation_data=(X_test,y_test),epochs=10,batch_size=64)"
   ]
  },
  {
   "cell_type": "markdown",
   "id": "5000ec95",
   "metadata": {
    "id": "Wk41djJTKaRj"
   },
   "source": [
    "## Performance Metrics And Accuracy"
   ]
  },
  {
   "cell_type": "code",
   "execution_count": 72,
   "id": "45kS0qXEPcu8",
   "metadata": {
    "colab": {
     "base_uri": "https://localhost:8080/"
    },
    "id": "45kS0qXEPcu8",
    "outputId": "b0d51d5b-e7dc-4366-a096-f7020f002904"
   },
   "outputs": [
    {
     "name": "stdout",
     "output_type": "stream",
     "text": [
      "124/124 [==============================] - 3s 9ms/step\n"
     ]
    }
   ],
   "source": [
    "y_pred = model.predict(X_test)\n",
    "y_pred = np.round(y_pred).astype(int)"
   ]
  },
  {
   "cell_type": "code",
   "execution_count": 73,
   "id": "vo6IiWlRRDtI",
   "metadata": {
    "id": "vo6IiWlRRDtI"
   },
   "outputs": [],
   "source": [
    "from sklearn.metrics import confusion_matrix"
   ]
  },
  {
   "cell_type": "code",
   "execution_count": 74,
   "id": "87PuW1VIRHFI",
   "metadata": {
    "colab": {
     "base_uri": "https://localhost:8080/"
    },
    "id": "87PuW1VIRHFI",
    "outputId": "b054c40f-976d-4c76-c642-c0efd8683237"
   },
   "outputs": [
    {
     "data": {
      "text/plain": [
       "array([[1936,  154],\n",
       "       [ 231, 1640]], dtype=int64)"
      ]
     },
     "execution_count": 74,
     "metadata": {},
     "output_type": "execute_result"
    }
   ],
   "source": [
    "confusion_matrix(y_test,y_pred)"
   ]
  },
  {
   "cell_type": "code",
   "execution_count": 75,
   "id": "x9HnH8UhRTF0",
   "metadata": {
    "colab": {
     "base_uri": "https://localhost:8080/"
    },
    "id": "x9HnH8UhRTF0",
    "outputId": "4153aa8b-ba76-4da6-ca08-dfe92d1b4984"
   },
   "outputs": [
    {
     "data": {
      "text/plain": [
       "0.9028023226457965"
      ]
     },
     "execution_count": 75,
     "metadata": {},
     "output_type": "execute_result"
    }
   ],
   "source": [
    "from sklearn.metrics import accuracy_score\n",
    "accuracy_score(y_test,y_pred)"
   ]
  },
  {
   "cell_type": "code",
   "execution_count": 76,
   "id": "f6841925",
   "metadata": {
    "id": "oq6pxRAbReJj"
   },
   "outputs": [],
   "source": [
    "import pickle\n",
    "pickle.dump(onehot_repr,open('vectorizer.pkl','wb'))\n",
    "pickle.dump(model,open('model.pkl','wb'))"
   ]
  },
  {
   "cell_type": "code",
   "execution_count": null,
   "id": "2cec3f1a",
   "metadata": {},
   "outputs": [],
   "source": []
  }
 ],
 "metadata": {
  "colab": {
   "provenance": []
  },
  "kernelspec": {
   "display_name": "Python 3 (ipykernel)",
   "language": "python",
   "name": "python3"
  },
  "language_info": {
   "codemirror_mode": {
    "name": "ipython",
    "version": 3
   },
   "file_extension": ".py",
   "mimetype": "text/x-python",
   "name": "python",
   "nbconvert_exporter": "python",
   "pygments_lexer": "ipython3",
   "version": "3.9.12"
  }
 },
 "nbformat": 4,
 "nbformat_minor": 5
}
