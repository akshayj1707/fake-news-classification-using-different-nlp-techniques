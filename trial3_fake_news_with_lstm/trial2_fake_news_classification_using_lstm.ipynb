{
 "cells": [
  {
   "cell_type": "markdown",
   "id": "f048f204",
   "metadata": {
    "id": "f048f204"
   },
   "source": [
    "# Importing Basic Dependencies"
   ]
  },
  {
   "cell_type": "code",
   "execution_count": 1,
   "id": "26e7079f",
   "metadata": {
    "id": "26e7079f"
   },
   "outputs": [],
   "source": [
    "import pandas as pd\n",
    "import numpy as np\n",
    "import seaborn as sns\n",
    "import matplotlib.pyplot as plt\n",
    "import warnings\n",
    "warnings.filterwarnings(\"ignore\")\n",
    "%matplotlib inline"
   ]
  },
  {
   "cell_type": "code",
   "execution_count": 2,
   "id": "b207c43f",
   "metadata": {
    "colab": {
     "base_uri": "https://localhost:8080/",
     "height": 206
    },
    "id": "b207c43f",
    "outputId": "9e7f13d3-c105-4619-a096-76fd9e334dcf"
   },
   "outputs": [
    {
     "data": {
      "text/html": [
       "<div>\n",
       "<style scoped>\n",
       "    .dataframe tbody tr th:only-of-type {\n",
       "        vertical-align: middle;\n",
       "    }\n",
       "\n",
       "    .dataframe tbody tr th {\n",
       "        vertical-align: top;\n",
       "    }\n",
       "\n",
       "    .dataframe thead th {\n",
       "        text-align: right;\n",
       "    }\n",
       "</style>\n",
       "<table border=\"1\" class=\"dataframe\">\n",
       "  <thead>\n",
       "    <tr style=\"text-align: right;\">\n",
       "      <th></th>\n",
       "      <th>id</th>\n",
       "      <th>title</th>\n",
       "      <th>author</th>\n",
       "      <th>text</th>\n",
       "      <th>label</th>\n",
       "    </tr>\n",
       "  </thead>\n",
       "  <tbody>\n",
       "    <tr>\n",
       "      <th>0</th>\n",
       "      <td>0</td>\n",
       "      <td>House Dem Aide: We Didn’t Even See Comey’s Let...</td>\n",
       "      <td>Darrell Lucus</td>\n",
       "      <td>House Dem Aide: We Didn’t Even See Comey’s Let...</td>\n",
       "      <td>1</td>\n",
       "    </tr>\n",
       "    <tr>\n",
       "      <th>1</th>\n",
       "      <td>1</td>\n",
       "      <td>FLYNN: Hillary Clinton, Big Woman on Campus - ...</td>\n",
       "      <td>Daniel J. Flynn</td>\n",
       "      <td>Ever get the feeling your life circles the rou...</td>\n",
       "      <td>0</td>\n",
       "    </tr>\n",
       "    <tr>\n",
       "      <th>2</th>\n",
       "      <td>2</td>\n",
       "      <td>Why the Truth Might Get You Fired</td>\n",
       "      <td>Consortiumnews.com</td>\n",
       "      <td>Why the Truth Might Get You Fired October 29, ...</td>\n",
       "      <td>1</td>\n",
       "    </tr>\n",
       "    <tr>\n",
       "      <th>3</th>\n",
       "      <td>3</td>\n",
       "      <td>15 Civilians Killed In Single US Airstrike Hav...</td>\n",
       "      <td>Jessica Purkiss</td>\n",
       "      <td>Videos 15 Civilians Killed In Single US Airstr...</td>\n",
       "      <td>1</td>\n",
       "    </tr>\n",
       "    <tr>\n",
       "      <th>4</th>\n",
       "      <td>4</td>\n",
       "      <td>Iranian woman jailed for fictional unpublished...</td>\n",
       "      <td>Howard Portnoy</td>\n",
       "      <td>Print \\nAn Iranian woman has been sentenced to...</td>\n",
       "      <td>1</td>\n",
       "    </tr>\n",
       "  </tbody>\n",
       "</table>\n",
       "</div>"
      ],
      "text/plain": [
       "   id                                              title              author  \\\n",
       "0   0  House Dem Aide: We Didn’t Even See Comey’s Let...       Darrell Lucus   \n",
       "1   1  FLYNN: Hillary Clinton, Big Woman on Campus - ...     Daniel J. Flynn   \n",
       "2   2                  Why the Truth Might Get You Fired  Consortiumnews.com   \n",
       "3   3  15 Civilians Killed In Single US Airstrike Hav...     Jessica Purkiss   \n",
       "4   4  Iranian woman jailed for fictional unpublished...      Howard Portnoy   \n",
       "\n",
       "                                                text  label  \n",
       "0  House Dem Aide: We Didn’t Even See Comey’s Let...      1  \n",
       "1  Ever get the feeling your life circles the rou...      0  \n",
       "2  Why the Truth Might Get You Fired October 29, ...      1  \n",
       "3  Videos 15 Civilians Killed In Single US Airstr...      1  \n",
       "4  Print \\nAn Iranian woman has been sentenced to...      1  "
      ]
     },
     "execution_count": 2,
     "metadata": {},
     "output_type": "execute_result"
    }
   ],
   "source": [
    "df = pd.read_csv('D:\\PYTHON\\Data science\\projects/classification/fake news classifier/train.csv')\n",
    "df.head()"
   ]
  },
  {
   "cell_type": "code",
   "execution_count": 3,
   "id": "42c961df",
   "metadata": {
    "colab": {
     "base_uri": "https://localhost:8080/"
    },
    "id": "42c961df",
    "outputId": "ef805b19-2d60-4ea2-b3a2-cbe47a408bc7"
   },
   "outputs": [
    {
     "data": {
      "text/plain": [
       "(20800, 5)"
      ]
     },
     "execution_count": 3,
     "metadata": {},
     "output_type": "execute_result"
    }
   ],
   "source": [
    "df.shape"
   ]
  },
  {
   "cell_type": "code",
   "execution_count": 4,
   "id": "d46ef427",
   "metadata": {
    "colab": {
     "base_uri": "https://localhost:8080/"
    },
    "id": "d46ef427",
    "outputId": "e871abf5-623c-4218-b38d-1eccad344a8d"
   },
   "outputs": [
    {
     "name": "stdout",
     "output_type": "stream",
     "text": [
      "<class 'pandas.core.frame.DataFrame'>\n",
      "RangeIndex: 20800 entries, 0 to 20799\n",
      "Data columns (total 5 columns):\n",
      " #   Column  Non-Null Count  Dtype \n",
      "---  ------  --------------  ----- \n",
      " 0   id      20800 non-null  int64 \n",
      " 1   title   20242 non-null  object\n",
      " 2   author  18843 non-null  object\n",
      " 3   text    20761 non-null  object\n",
      " 4   label   20800 non-null  int64 \n",
      "dtypes: int64(2), object(3)\n",
      "memory usage: 812.6+ KB\n"
     ]
    }
   ],
   "source": [
    "df.info()"
   ]
  },
  {
   "cell_type": "code",
   "execution_count": 5,
   "id": "3061b089",
   "metadata": {
    "colab": {
     "base_uri": "https://localhost:8080/"
    },
    "id": "3061b089",
    "outputId": "b1cf7de0-0446-4d8f-f8ee-4e47f0820f49"
   },
   "outputs": [
    {
     "data": {
      "text/plain": [
       "Index(['id', 'title', 'author', 'text', 'label'], dtype='object')"
      ]
     },
     "execution_count": 5,
     "metadata": {},
     "output_type": "execute_result"
    }
   ],
   "source": [
    "df.columns"
   ]
  },
  {
   "cell_type": "code",
   "execution_count": 6,
   "id": "82e6aa76",
   "metadata": {
    "id": "82e6aa76"
   },
   "outputs": [],
   "source": [
    "df.drop(columns = ['id','text','author'],inplace=True)"
   ]
  },
  {
   "cell_type": "code",
   "execution_count": 7,
   "id": "7be3b537",
   "metadata": {
    "colab": {
     "base_uri": "https://localhost:8080/",
     "height": 206
    },
    "id": "7be3b537",
    "outputId": "369f587c-c2cf-4126-939e-4809bb04fd53"
   },
   "outputs": [
    {
     "data": {
      "text/html": [
       "<div>\n",
       "<style scoped>\n",
       "    .dataframe tbody tr th:only-of-type {\n",
       "        vertical-align: middle;\n",
       "    }\n",
       "\n",
       "    .dataframe tbody tr th {\n",
       "        vertical-align: top;\n",
       "    }\n",
       "\n",
       "    .dataframe thead th {\n",
       "        text-align: right;\n",
       "    }\n",
       "</style>\n",
       "<table border=\"1\" class=\"dataframe\">\n",
       "  <thead>\n",
       "    <tr style=\"text-align: right;\">\n",
       "      <th></th>\n",
       "      <th>title</th>\n",
       "      <th>label</th>\n",
       "    </tr>\n",
       "  </thead>\n",
       "  <tbody>\n",
       "    <tr>\n",
       "      <th>0</th>\n",
       "      <td>House Dem Aide: We Didn’t Even See Comey’s Let...</td>\n",
       "      <td>1</td>\n",
       "    </tr>\n",
       "    <tr>\n",
       "      <th>1</th>\n",
       "      <td>FLYNN: Hillary Clinton, Big Woman on Campus - ...</td>\n",
       "      <td>0</td>\n",
       "    </tr>\n",
       "    <tr>\n",
       "      <th>2</th>\n",
       "      <td>Why the Truth Might Get You Fired</td>\n",
       "      <td>1</td>\n",
       "    </tr>\n",
       "    <tr>\n",
       "      <th>3</th>\n",
       "      <td>15 Civilians Killed In Single US Airstrike Hav...</td>\n",
       "      <td>1</td>\n",
       "    </tr>\n",
       "    <tr>\n",
       "      <th>4</th>\n",
       "      <td>Iranian woman jailed for fictional unpublished...</td>\n",
       "      <td>1</td>\n",
       "    </tr>\n",
       "  </tbody>\n",
       "</table>\n",
       "</div>"
      ],
      "text/plain": [
       "                                               title  label\n",
       "0  House Dem Aide: We Didn’t Even See Comey’s Let...      1\n",
       "1  FLYNN: Hillary Clinton, Big Woman on Campus - ...      0\n",
       "2                  Why the Truth Might Get You Fired      1\n",
       "3  15 Civilians Killed In Single US Airstrike Hav...      1\n",
       "4  Iranian woman jailed for fictional unpublished...      1"
      ]
     },
     "execution_count": 7,
     "metadata": {},
     "output_type": "execute_result"
    }
   ],
   "source": [
    "df.head()"
   ]
  },
  {
   "cell_type": "code",
   "execution_count": 8,
   "id": "993a8c86",
   "metadata": {
    "colab": {
     "base_uri": "https://localhost:8080/",
     "height": 36
    },
    "id": "993a8c86",
    "outputId": "f40fca4f-a0f1-45ec-bd23-71066ea062be"
   },
   "outputs": [
    {
     "data": {
      "text/plain": [
       "'House Dem Aide: We Didn’t Even See Comey’s Letter Until Jason Chaffetz Tweeted It'"
      ]
     },
     "execution_count": 8,
     "metadata": {},
     "output_type": "execute_result"
    }
   ],
   "source": [
    "df['title'][0]"
   ]
  },
  {
   "cell_type": "code",
   "execution_count": 9,
   "id": "2ce92e25",
   "metadata": {
    "colab": {
     "base_uri": "https://localhost:8080/"
    },
    "id": "2ce92e25",
    "outputId": "06101b47-4d98-410d-a1b6-decf42adadd8"
   },
   "outputs": [
    {
     "data": {
      "text/plain": [
       "title    558\n",
       "label      0\n",
       "dtype: int64"
      ]
     },
     "execution_count": 9,
     "metadata": {},
     "output_type": "execute_result"
    }
   ],
   "source": [
    "df.isnull().sum()"
   ]
  },
  {
   "cell_type": "code",
   "execution_count": 10,
   "id": "5f5b46f3",
   "metadata": {
    "colab": {
     "base_uri": "https://localhost:8080/"
    },
    "id": "5f5b46f3",
    "outputId": "c991f0a6-408b-4f07-c5d6-eecd4ecb49c7"
   },
   "outputs": [
    {
     "name": "stdout",
     "output_type": "stream",
     "text": [
      "<class 'pandas.core.frame.DataFrame'>\n",
      "RangeIndex: 20800 entries, 0 to 20799\n",
      "Data columns (total 2 columns):\n",
      " #   Column  Non-Null Count  Dtype \n",
      "---  ------  --------------  ----- \n",
      " 0   title   20242 non-null  object\n",
      " 1   label   20800 non-null  int64 \n",
      "dtypes: int64(1), object(1)\n",
      "memory usage: 325.1+ KB\n"
     ]
    }
   ],
   "source": [
    "df.info()"
   ]
  },
  {
   "cell_type": "code",
   "execution_count": 11,
   "id": "58b82e96",
   "metadata": {
    "id": "58b82e96"
   },
   "outputs": [],
   "source": [
    "#drop null values\n",
    "\n",
    "df.dropna(inplace=True)"
   ]
  },
  {
   "cell_type": "code",
   "execution_count": 12,
   "id": "552920d4",
   "metadata": {
    "colab": {
     "base_uri": "https://localhost:8080/",
     "height": 206
    },
    "id": "552920d4",
    "outputId": "213ef344-200b-4da0-b49b-43891fd251cc"
   },
   "outputs": [
    {
     "data": {
      "text/html": [
       "<div>\n",
       "<style scoped>\n",
       "    .dataframe tbody tr th:only-of-type {\n",
       "        vertical-align: middle;\n",
       "    }\n",
       "\n",
       "    .dataframe tbody tr th {\n",
       "        vertical-align: top;\n",
       "    }\n",
       "\n",
       "    .dataframe thead th {\n",
       "        text-align: right;\n",
       "    }\n",
       "</style>\n",
       "<table border=\"1\" class=\"dataframe\">\n",
       "  <thead>\n",
       "    <tr style=\"text-align: right;\">\n",
       "      <th></th>\n",
       "      <th>title</th>\n",
       "      <th>label</th>\n",
       "    </tr>\n",
       "  </thead>\n",
       "  <tbody>\n",
       "    <tr>\n",
       "      <th>0</th>\n",
       "      <td>House Dem Aide: We Didn’t Even See Comey’s Let...</td>\n",
       "      <td>1</td>\n",
       "    </tr>\n",
       "    <tr>\n",
       "      <th>1</th>\n",
       "      <td>FLYNN: Hillary Clinton, Big Woman on Campus - ...</td>\n",
       "      <td>0</td>\n",
       "    </tr>\n",
       "    <tr>\n",
       "      <th>2</th>\n",
       "      <td>Why the Truth Might Get You Fired</td>\n",
       "      <td>1</td>\n",
       "    </tr>\n",
       "    <tr>\n",
       "      <th>3</th>\n",
       "      <td>15 Civilians Killed In Single US Airstrike Hav...</td>\n",
       "      <td>1</td>\n",
       "    </tr>\n",
       "    <tr>\n",
       "      <th>4</th>\n",
       "      <td>Iranian woman jailed for fictional unpublished...</td>\n",
       "      <td>1</td>\n",
       "    </tr>\n",
       "  </tbody>\n",
       "</table>\n",
       "</div>"
      ],
      "text/plain": [
       "                                               title  label\n",
       "0  House Dem Aide: We Didn’t Even See Comey’s Let...      1\n",
       "1  FLYNN: Hillary Clinton, Big Woman on Campus - ...      0\n",
       "2                  Why the Truth Might Get You Fired      1\n",
       "3  15 Civilians Killed In Single US Airstrike Hav...      1\n",
       "4  Iranian woman jailed for fictional unpublished...      1"
      ]
     },
     "execution_count": 12,
     "metadata": {},
     "output_type": "execute_result"
    }
   ],
   "source": [
    "df.head()"
   ]
  },
  {
   "cell_type": "code",
   "execution_count": 13,
   "id": "e1d0f9b2",
   "metadata": {
    "colab": {
     "base_uri": "https://localhost:8080/"
    },
    "id": "e1d0f9b2",
    "outputId": "0a7b31e9-d523-4942-e5e5-72af7c1d0dfc"
   },
   "outputs": [
    {
     "data": {
      "text/plain": [
       "(20242, 2)"
      ]
     },
     "execution_count": 13,
     "metadata": {},
     "output_type": "execute_result"
    }
   ],
   "source": [
    "df.shape"
   ]
  },
  {
   "cell_type": "code",
   "execution_count": 14,
   "id": "d9e23bd1",
   "metadata": {
    "colab": {
     "base_uri": "https://localhost:8080/"
    },
    "id": "d9e23bd1",
    "outputId": "a2e6312b-72d0-41ec-9aa0-2f42fb1381dd"
   },
   "outputs": [
    {
     "data": {
      "text/plain": [
       "439"
      ]
     },
     "execution_count": 14,
     "metadata": {},
     "output_type": "execute_result"
    }
   ],
   "source": [
    "df.duplicated().sum()"
   ]
  },
  {
   "cell_type": "code",
   "execution_count": 15,
   "id": "8129d5b4",
   "metadata": {
    "id": "8129d5b4"
   },
   "outputs": [],
   "source": [
    "# remove duplicates\n",
    "df = df.drop_duplicates(keep='first')"
   ]
  },
  {
   "cell_type": "code",
   "execution_count": 16,
   "id": "39729353",
   "metadata": {
    "colab": {
     "base_uri": "https://localhost:8080/"
    },
    "id": "39729353",
    "outputId": "c821187e-d4d5-4633-9a29-191feaf412fa"
   },
   "outputs": [
    {
     "data": {
      "text/plain": [
       "(19803, 2)"
      ]
     },
     "execution_count": 16,
     "metadata": {},
     "output_type": "execute_result"
    }
   ],
   "source": [
    "df.shape"
   ]
  },
  {
   "cell_type": "markdown",
   "id": "344ebe69",
   "metadata": {
    "id": "344ebe69"
   },
   "source": [
    "# EDA"
   ]
  },
  {
   "cell_type": "code",
   "execution_count": 17,
   "id": "a8751acb",
   "metadata": {
    "colab": {
     "base_uri": "https://localhost:8080/"
    },
    "id": "a8751acb",
    "outputId": "8f223790-8595-4421-951e-3ffb3f5123d6"
   },
   "outputs": [
    {
     "data": {
      "text/plain": [
       "0    10381\n",
       "1     9422\n",
       "Name: label, dtype: int64"
      ]
     },
     "execution_count": 17,
     "metadata": {},
     "output_type": "execute_result"
    }
   ],
   "source": [
    "df['label'].value_counts()"
   ]
  },
  {
   "cell_type": "code",
   "execution_count": 18,
   "id": "1ff7a55b",
   "metadata": {
    "colab": {
     "base_uri": "https://localhost:8080/",
     "height": 406
    },
    "id": "1ff7a55b",
    "outputId": "0150cf82-387a-4e7e-aa18-2e2a0e58b874"
   },
   "outputs": [
    {
     "data": {
      "image/png": "[encoded data removed]",
      "text/plain": [
       "<Figure size 432x288 with 1 Axes>"
      ]
     },
     "metadata": {},
     "output_type": "display_data"
    }
   ],
   "source": [
    "plt.pie(df['label'].value_counts(), labels=['not fake','fake'],autopct=\"%0.2f\")\n",
    "plt.show()"
   ]
  },
  {
   "cell_type": "code",
   "execution_count": 19,
   "id": "95b95fff",
   "metadata": {
    "id": "95b95fff"
   },
   "outputs": [],
   "source": [
    "import nltk"
   ]
  },
  {
   "cell_type": "code",
   "execution_count": 20,
   "id": "d846eff8",
   "metadata": {
    "colab": {
     "base_uri": "https://localhost:8080/"
    },
    "id": "d846eff8",
    "outputId": "09892117-4080-4cf9-86fb-c2f3b6f92d99"
   },
   "outputs": [
    {
     "name": "stderr",
     "output_type": "stream",
     "text": [
      "[nltk_data] Downloading package punkt to\n",
      "[nltk_data]     C:\\Users\\Akshay\\AppData\\Roaming\\nltk_data...\n",
      "[nltk_data]   Package punkt is already up-to-date!\n"
     ]
    },
    {
     "data": {
      "text/plain": [
       "True"
      ]
     },
     "execution_count": 20,
     "metadata": {},
     "output_type": "execute_result"
    }
   ],
   "source": [
    "nltk.download('punkt')"
   ]
  },
  {
   "cell_type": "code",
   "execution_count": 21,
   "id": "0afc5649",
   "metadata": {
    "id": "0afc5649"
   },
   "outputs": [],
   "source": [
    "df['num_characters'] = df['title'].apply(len)"
   ]
  },
  {
   "cell_type": "code",
   "execution_count": 22,
   "id": "da654422",
   "metadata": {
    "colab": {
     "base_uri": "https://localhost:8080/",
     "height": 206
    },
    "id": "da654422",
    "outputId": "2eff1763-6959-4f55-f718-a3973db5488d"
   },
   "outputs": [
    {
     "data": {
      "text/html": [
       "<div>\n",
       "<style scoped>\n",
       "    .dataframe tbody tr th:only-of-type {\n",
       "        vertical-align: middle;\n",
       "    }\n",
       "\n",
       "    .dataframe tbody tr th {\n",
       "        vertical-align: top;\n",
       "    }\n",
       "\n",
       "    .dataframe thead th {\n",
       "        text-align: right;\n",
       "    }\n",
       "</style>\n",
       "<table border=\"1\" class=\"dataframe\">\n",
       "  <thead>\n",
       "    <tr style=\"text-align: right;\">\n",
       "      <th></th>\n",
       "      <th>title</th>\n",
       "      <th>label</th>\n",
       "      <th>num_characters</th>\n",
       "    </tr>\n",
       "  </thead>\n",
       "  <tbody>\n",
       "    <tr>\n",
       "      <th>0</th>\n",
       "      <td>House Dem Aide: We Didn’t Even See Comey’s Let...</td>\n",
       "      <td>1</td>\n",
       "      <td>81</td>\n",
       "    </tr>\n",
       "    <tr>\n",
       "      <th>1</th>\n",
       "      <td>FLYNN: Hillary Clinton, Big Woman on Campus - ...</td>\n",
       "      <td>0</td>\n",
       "      <td>55</td>\n",
       "    </tr>\n",
       "    <tr>\n",
       "      <th>2</th>\n",
       "      <td>Why the Truth Might Get You Fired</td>\n",
       "      <td>1</td>\n",
       "      <td>33</td>\n",
       "    </tr>\n",
       "    <tr>\n",
       "      <th>3</th>\n",
       "      <td>15 Civilians Killed In Single US Airstrike Hav...</td>\n",
       "      <td>1</td>\n",
       "      <td>63</td>\n",
       "    </tr>\n",
       "    <tr>\n",
       "      <th>4</th>\n",
       "      <td>Iranian woman jailed for fictional unpublished...</td>\n",
       "      <td>1</td>\n",
       "      <td>93</td>\n",
       "    </tr>\n",
       "  </tbody>\n",
       "</table>\n",
       "</div>"
      ],
      "text/plain": [
       "                                               title  label  num_characters\n",
       "0  House Dem Aide: We Didn’t Even See Comey’s Let...      1              81\n",
       "1  FLYNN: Hillary Clinton, Big Woman on Campus - ...      0              55\n",
       "2                  Why the Truth Might Get You Fired      1              33\n",
       "3  15 Civilians Killed In Single US Airstrike Hav...      1              63\n",
       "4  Iranian woman jailed for fictional unpublished...      1              93"
      ]
     },
     "execution_count": 22,
     "metadata": {},
     "output_type": "execute_result"
    }
   ],
   "source": [
    "df.head()"
   ]
  },
  {
   "cell_type": "code",
   "execution_count": 23,
   "id": "00c20d41",
   "metadata": {
    "id": "00c20d41"
   },
   "outputs": [],
   "source": [
    "# num of words\n",
    "df['num_words'] = df['title'].apply(lambda x:len(nltk.word_tokenize(x)))"
   ]
  },
  {
   "cell_type": "code",
   "execution_count": 24,
   "id": "a39beb15",
   "metadata": {
    "colab": {
     "base_uri": "https://localhost:8080/",
     "height": 206
    },
    "id": "a39beb15",
    "outputId": "6b03953d-ad31-4b8c-cf8e-80b6212b7763"
   },
   "outputs": [
    {
     "data": {
      "text/html": [
       "<div>\n",
       "<style scoped>\n",
       "    .dataframe tbody tr th:only-of-type {\n",
       "        vertical-align: middle;\n",
       "    }\n",
       "\n",
       "    .dataframe tbody tr th {\n",
       "        vertical-align: top;\n",
       "    }\n",
       "\n",
       "    .dataframe thead th {\n",
       "        text-align: right;\n",
       "    }\n",
       "</style>\n",
       "<table border=\"1\" class=\"dataframe\">\n",
       "  <thead>\n",
       "    <tr style=\"text-align: right;\">\n",
       "      <th></th>\n",
       "      <th>title</th>\n",
       "      <th>label</th>\n",
       "      <th>num_characters</th>\n",
       "      <th>num_words</th>\n",
       "    </tr>\n",
       "  </thead>\n",
       "  <tbody>\n",
       "    <tr>\n",
       "      <th>0</th>\n",
       "      <td>House Dem Aide: We Didn’t Even See Comey’s Let...</td>\n",
       "      <td>1</td>\n",
       "      <td>81</td>\n",
       "      <td>19</td>\n",
       "    </tr>\n",
       "    <tr>\n",
       "      <th>1</th>\n",
       "      <td>FLYNN: Hillary Clinton, Big Woman on Campus - ...</td>\n",
       "      <td>0</td>\n",
       "      <td>55</td>\n",
       "      <td>11</td>\n",
       "    </tr>\n",
       "    <tr>\n",
       "      <th>2</th>\n",
       "      <td>Why the Truth Might Get You Fired</td>\n",
       "      <td>1</td>\n",
       "      <td>33</td>\n",
       "      <td>7</td>\n",
       "    </tr>\n",
       "    <tr>\n",
       "      <th>3</th>\n",
       "      <td>15 Civilians Killed In Single US Airstrike Hav...</td>\n",
       "      <td>1</td>\n",
       "      <td>63</td>\n",
       "      <td>10</td>\n",
       "    </tr>\n",
       "    <tr>\n",
       "      <th>4</th>\n",
       "      <td>Iranian woman jailed for fictional unpublished...</td>\n",
       "      <td>1</td>\n",
       "      <td>93</td>\n",
       "      <td>14</td>\n",
       "    </tr>\n",
       "  </tbody>\n",
       "</table>\n",
       "</div>"
      ],
      "text/plain": [
       "                                               title  label  num_characters  \\\n",
       "0  House Dem Aide: We Didn’t Even See Comey’s Let...      1              81   \n",
       "1  FLYNN: Hillary Clinton, Big Woman on Campus - ...      0              55   \n",
       "2                  Why the Truth Might Get You Fired      1              33   \n",
       "3  15 Civilians Killed In Single US Airstrike Hav...      1              63   \n",
       "4  Iranian woman jailed for fictional unpublished...      1              93   \n",
       "\n",
       "   num_words  \n",
       "0         19  \n",
       "1         11  \n",
       "2          7  \n",
       "3         10  \n",
       "4         14  "
      ]
     },
     "execution_count": 24,
     "metadata": {},
     "output_type": "execute_result"
    }
   ],
   "source": [
    "df.head()"
   ]
  },
  {
   "cell_type": "code",
   "execution_count": 25,
   "id": "e964b730",
   "metadata": {
    "id": "e964b730"
   },
   "outputs": [],
   "source": [
    "df['num_sentences'] = df['title'].apply(lambda x:len(nltk.sent_tokenize(x)))"
   ]
  },
  {
   "cell_type": "code",
   "execution_count": 26,
   "id": "9a448a1f",
   "metadata": {
    "colab": {
     "base_uri": "https://localhost:8080/",
     "height": 206
    },
    "id": "9a448a1f",
    "outputId": "b69ebdff-ccb0-4a53-9358-6d7ef92bfe54"
   },
   "outputs": [
    {
     "data": {
      "text/html": [
       "<div>\n",
       "<style scoped>\n",
       "    .dataframe tbody tr th:only-of-type {\n",
       "        vertical-align: middle;\n",
       "    }\n",
       "\n",
       "    .dataframe tbody tr th {\n",
       "        vertical-align: top;\n",
       "    }\n",
       "\n",
       "    .dataframe thead th {\n",
       "        text-align: right;\n",
       "    }\n",
       "</style>\n",
       "<table border=\"1\" class=\"dataframe\">\n",
       "  <thead>\n",
       "    <tr style=\"text-align: right;\">\n",
       "      <th></th>\n",
       "      <th>title</th>\n",
       "      <th>label</th>\n",
       "      <th>num_characters</th>\n",
       "      <th>num_words</th>\n",
       "      <th>num_sentences</th>\n",
       "    </tr>\n",
       "  </thead>\n",
       "  <tbody>\n",
       "    <tr>\n",
       "      <th>0</th>\n",
       "      <td>House Dem Aide: We Didn’t Even See Comey’s Let...</td>\n",
       "      <td>1</td>\n",
       "      <td>81</td>\n",
       "      <td>19</td>\n",
       "      <td>1</td>\n",
       "    </tr>\n",
       "    <tr>\n",
       "      <th>1</th>\n",
       "      <td>FLYNN: Hillary Clinton, Big Woman on Campus - ...</td>\n",
       "      <td>0</td>\n",
       "      <td>55</td>\n",
       "      <td>11</td>\n",
       "      <td>1</td>\n",
       "    </tr>\n",
       "    <tr>\n",
       "      <th>2</th>\n",
       "      <td>Why the Truth Might Get You Fired</td>\n",
       "      <td>1</td>\n",
       "      <td>33</td>\n",
       "      <td>7</td>\n",
       "      <td>1</td>\n",
       "    </tr>\n",
       "    <tr>\n",
       "      <th>3</th>\n",
       "      <td>15 Civilians Killed In Single US Airstrike Hav...</td>\n",
       "      <td>1</td>\n",
       "      <td>63</td>\n",
       "      <td>10</td>\n",
       "      <td>1</td>\n",
       "    </tr>\n",
       "    <tr>\n",
       "      <th>4</th>\n",
       "      <td>Iranian woman jailed for fictional unpublished...</td>\n",
       "      <td>1</td>\n",
       "      <td>93</td>\n",
       "      <td>14</td>\n",
       "      <td>1</td>\n",
       "    </tr>\n",
       "  </tbody>\n",
       "</table>\n",
       "</div>"
      ],
      "text/plain": [
       "                                               title  label  num_characters  \\\n",
       "0  House Dem Aide: We Didn’t Even See Comey’s Let...      1              81   \n",
       "1  FLYNN: Hillary Clinton, Big Woman on Campus - ...      0              55   \n",
       "2                  Why the Truth Might Get You Fired      1              33   \n",
       "3  15 Civilians Killed In Single US Airstrike Hav...      1              63   \n",
       "4  Iranian woman jailed for fictional unpublished...      1              93   \n",
       "\n",
       "   num_words  num_sentences  \n",
       "0         19              1  \n",
       "1         11              1  \n",
       "2          7              1  \n",
       "3         10              1  \n",
       "4         14              1  "
      ]
     },
     "execution_count": 26,
     "metadata": {},
     "output_type": "execute_result"
    }
   ],
   "source": [
    "df.head()"
   ]
  },
  {
   "cell_type": "code",
   "execution_count": 27,
   "id": "8c2e545c",
   "metadata": {
    "colab": {
     "base_uri": "https://localhost:8080/",
     "height": 300
    },
    "id": "8c2e545c",
    "outputId": "b00b4b88-2612-4cb7-b8ba-c80fa692cf61"
   },
   "outputs": [
    {
     "data": {
      "text/html": [
       "<div>\n",
       "<style scoped>\n",
       "    .dataframe tbody tr th:only-of-type {\n",
       "        vertical-align: middle;\n",
       "    }\n",
       "\n",
       "    .dataframe tbody tr th {\n",
       "        vertical-align: top;\n",
       "    }\n",
       "\n",
       "    .dataframe thead th {\n",
       "        text-align: right;\n",
       "    }\n",
       "</style>\n",
       "<table border=\"1\" class=\"dataframe\">\n",
       "  <thead>\n",
       "    <tr style=\"text-align: right;\">\n",
       "      <th></th>\n",
       "      <th>num_characters</th>\n",
       "      <th>num_words</th>\n",
       "      <th>num_sentences</th>\n",
       "    </tr>\n",
       "  </thead>\n",
       "  <tbody>\n",
       "    <tr>\n",
       "      <th>count</th>\n",
       "      <td>19803.000000</td>\n",
       "      <td>19803.000000</td>\n",
       "      <td>19803.000000</td>\n",
       "    </tr>\n",
       "    <tr>\n",
       "      <th>mean</th>\n",
       "      <td>74.579912</td>\n",
       "      <td>14.202242</td>\n",
       "      <td>1.101702</td>\n",
       "    </tr>\n",
       "    <tr>\n",
       "      <th>std</th>\n",
       "      <td>23.054653</td>\n",
       "      <td>4.908809</td>\n",
       "      <td>0.357666</td>\n",
       "    </tr>\n",
       "    <tr>\n",
       "      <th>min</th>\n",
       "      <td>3.000000</td>\n",
       "      <td>1.000000</td>\n",
       "      <td>1.000000</td>\n",
       "    </tr>\n",
       "    <tr>\n",
       "      <th>25%</th>\n",
       "      <td>61.000000</td>\n",
       "      <td>11.000000</td>\n",
       "      <td>1.000000</td>\n",
       "    </tr>\n",
       "    <tr>\n",
       "      <th>50%</th>\n",
       "      <td>76.000000</td>\n",
       "      <td>14.000000</td>\n",
       "      <td>1.000000</td>\n",
       "    </tr>\n",
       "    <tr>\n",
       "      <th>75%</th>\n",
       "      <td>88.000000</td>\n",
       "      <td>17.000000</td>\n",
       "      <td>1.000000</td>\n",
       "    </tr>\n",
       "    <tr>\n",
       "      <th>max</th>\n",
       "      <td>456.000000</td>\n",
       "      <td>79.000000</td>\n",
       "      <td>7.000000</td>\n",
       "    </tr>\n",
       "  </tbody>\n",
       "</table>\n",
       "</div>"
      ],
      "text/plain": [
       "       num_characters     num_words  num_sentences\n",
       "count    19803.000000  19803.000000   19803.000000\n",
       "mean        74.579912     14.202242       1.101702\n",
       "std         23.054653      4.908809       0.357666\n",
       "min          3.000000      1.000000       1.000000\n",
       "25%         61.000000     11.000000       1.000000\n",
       "50%         76.000000     14.000000       1.000000\n",
       "75%         88.000000     17.000000       1.000000\n",
       "max        456.000000     79.000000       7.000000"
      ]
     },
     "execution_count": 27,
     "metadata": {},
     "output_type": "execute_result"
    }
   ],
   "source": [
    "df[['num_characters','num_words','num_sentences']].describe()"
   ]
  },
  {
   "cell_type": "code",
   "execution_count": 28,
   "id": "b67217af",
   "metadata": {
    "colab": {
     "base_uri": "https://localhost:8080/",
     "height": 300
    },
    "id": "b67217af",
    "outputId": "d755f340-ba95-42f3-fa1f-fb2ebb0d958a"
   },
   "outputs": [
    {
     "data": {
      "text/html": [
       "<div>\n",
       "<style scoped>\n",
       "    .dataframe tbody tr th:only-of-type {\n",
       "        vertical-align: middle;\n",
       "    }\n",
       "\n",
       "    .dataframe tbody tr th {\n",
       "        vertical-align: top;\n",
       "    }\n",
       "\n",
       "    .dataframe thead th {\n",
       "        text-align: right;\n",
       "    }\n",
       "</style>\n",
       "<table border=\"1\" class=\"dataframe\">\n",
       "  <thead>\n",
       "    <tr style=\"text-align: right;\">\n",
       "      <th></th>\n",
       "      <th>num_characters</th>\n",
       "      <th>num_words</th>\n",
       "      <th>num_sentences</th>\n",
       "    </tr>\n",
       "  </thead>\n",
       "  <tbody>\n",
       "    <tr>\n",
       "      <th>count</th>\n",
       "      <td>10381.000000</td>\n",
       "      <td>10381.000000</td>\n",
       "      <td>10381.000000</td>\n",
       "    </tr>\n",
       "    <tr>\n",
       "      <th>mean</th>\n",
       "      <td>79.609961</td>\n",
       "      <td>15.579135</td>\n",
       "      <td>1.114055</td>\n",
       "    </tr>\n",
       "    <tr>\n",
       "      <th>std</th>\n",
       "      <td>15.556547</td>\n",
       "      <td>3.702525</td>\n",
       "      <td>0.390267</td>\n",
       "    </tr>\n",
       "    <tr>\n",
       "      <th>min</th>\n",
       "      <td>22.000000</td>\n",
       "      <td>5.000000</td>\n",
       "      <td>1.000000</td>\n",
       "    </tr>\n",
       "    <tr>\n",
       "      <th>25%</th>\n",
       "      <td>70.000000</td>\n",
       "      <td>13.000000</td>\n",
       "      <td>1.000000</td>\n",
       "    </tr>\n",
       "    <tr>\n",
       "      <th>50%</th>\n",
       "      <td>81.000000</td>\n",
       "      <td>16.000000</td>\n",
       "      <td>1.000000</td>\n",
       "    </tr>\n",
       "    <tr>\n",
       "      <th>75%</th>\n",
       "      <td>89.000000</td>\n",
       "      <td>18.000000</td>\n",
       "      <td>1.000000</td>\n",
       "    </tr>\n",
       "    <tr>\n",
       "      <th>max</th>\n",
       "      <td>175.000000</td>\n",
       "      <td>35.000000</td>\n",
       "      <td>5.000000</td>\n",
       "    </tr>\n",
       "  </tbody>\n",
       "</table>\n",
       "</div>"
      ],
      "text/plain": [
       "       num_characters     num_words  num_sentences\n",
       "count    10381.000000  10381.000000   10381.000000\n",
       "mean        79.609961     15.579135       1.114055\n",
       "std         15.556547      3.702525       0.390267\n",
       "min         22.000000      5.000000       1.000000\n",
       "25%         70.000000     13.000000       1.000000\n",
       "50%         81.000000     16.000000       1.000000\n",
       "75%         89.000000     18.000000       1.000000\n",
       "max        175.000000     35.000000       5.000000"
      ]
     },
     "execution_count": 28,
     "metadata": {},
     "output_type": "execute_result"
    }
   ],
   "source": [
    "# Not Fake\n",
    "df[df['label'] == 0][['num_characters','num_words','num_sentences']].describe()"
   ]
  },
  {
   "cell_type": "code",
   "execution_count": 29,
   "id": "948ea40b",
   "metadata": {
    "colab": {
     "base_uri": "https://localhost:8080/",
     "height": 300
    },
    "id": "948ea40b",
    "outputId": "27c7d382-88dc-40a8-f5da-9c98e4cd0389"
   },
   "outputs": [
    {
     "data": {
      "text/html": [
       "<div>\n",
       "<style scoped>\n",
       "    .dataframe tbody tr th:only-of-type {\n",
       "        vertical-align: middle;\n",
       "    }\n",
       "\n",
       "    .dataframe tbody tr th {\n",
       "        vertical-align: top;\n",
       "    }\n",
       "\n",
       "    .dataframe thead th {\n",
       "        text-align: right;\n",
       "    }\n",
       "</style>\n",
       "<table border=\"1\" class=\"dataframe\">\n",
       "  <thead>\n",
       "    <tr style=\"text-align: right;\">\n",
       "      <th></th>\n",
       "      <th>num_characters</th>\n",
       "      <th>num_words</th>\n",
       "      <th>num_sentences</th>\n",
       "    </tr>\n",
       "  </thead>\n",
       "  <tbody>\n",
       "    <tr>\n",
       "      <th>count</th>\n",
       "      <td>9422.000000</td>\n",
       "      <td>9422.000000</td>\n",
       "      <td>9422.000000</td>\n",
       "    </tr>\n",
       "    <tr>\n",
       "      <th>mean</th>\n",
       "      <td>69.037890</td>\n",
       "      <td>12.685205</td>\n",
       "      <td>1.088092</td>\n",
       "    </tr>\n",
       "    <tr>\n",
       "      <th>std</th>\n",
       "      <td>28.141747</td>\n",
       "      <td>5.581524</td>\n",
       "      <td>0.317364</td>\n",
       "    </tr>\n",
       "    <tr>\n",
       "      <th>min</th>\n",
       "      <td>3.000000</td>\n",
       "      <td>1.000000</td>\n",
       "      <td>1.000000</td>\n",
       "    </tr>\n",
       "    <tr>\n",
       "      <th>25%</th>\n",
       "      <td>51.000000</td>\n",
       "      <td>9.000000</td>\n",
       "      <td>1.000000</td>\n",
       "    </tr>\n",
       "    <tr>\n",
       "      <th>50%</th>\n",
       "      <td>67.000000</td>\n",
       "      <td>12.000000</td>\n",
       "      <td>1.000000</td>\n",
       "    </tr>\n",
       "    <tr>\n",
       "      <th>75%</th>\n",
       "      <td>84.000000</td>\n",
       "      <td>16.000000</td>\n",
       "      <td>1.000000</td>\n",
       "    </tr>\n",
       "    <tr>\n",
       "      <th>max</th>\n",
       "      <td>456.000000</td>\n",
       "      <td>79.000000</td>\n",
       "      <td>7.000000</td>\n",
       "    </tr>\n",
       "  </tbody>\n",
       "</table>\n",
       "</div>"
      ],
      "text/plain": [
       "       num_characters    num_words  num_sentences\n",
       "count     9422.000000  9422.000000    9422.000000\n",
       "mean        69.037890    12.685205       1.088092\n",
       "std         28.141747     5.581524       0.317364\n",
       "min          3.000000     1.000000       1.000000\n",
       "25%         51.000000     9.000000       1.000000\n",
       "50%         67.000000    12.000000       1.000000\n",
       "75%         84.000000    16.000000       1.000000\n",
       "max        456.000000    79.000000       7.000000"
      ]
     },
     "execution_count": 29,
     "metadata": {},
     "output_type": "execute_result"
    }
   ],
   "source": [
    "# Fake\n",
    "df[df['label'] == 1][['num_characters','num_words','num_sentences']].describe()"
   ]
  },
  {
   "cell_type": "code",
   "execution_count": 30,
   "id": "b4aa1265",
   "metadata": {
    "colab": {
     "base_uri": "https://localhost:8080/",
     "height": 542
    },
    "id": "b4aa1265",
    "outputId": "8b177497-fe46-4ed8-db9c-87bf9632bbfe"
   },
   "outputs": [
    {
     "data": {
      "image/png": "[encoded data removed]",
      "text/plain": [
       "<Figure size 864x432 with 1 Axes>"
      ]
     },
     "metadata": {
      "needs_background": "light"
     },
     "output_type": "display_data"
    }
   ],
   "source": [
    "# characters\n",
    "\n",
    "plt.figure(figsize=(12,6))\n",
    "sns.histplot(df[df['label'] == 0]['num_characters'])\n",
    "sns.histplot(df[df['label'] == 1]['num_characters'],color='red')\n",
    "plt.show()"
   ]
  },
  {
   "cell_type": "code",
   "execution_count": 31,
   "id": "56f16310",
   "metadata": {
    "colab": {
     "base_uri": "https://localhost:8080/",
     "height": 542
    },
    "id": "56f16310",
    "outputId": "0a36f21d-518c-4c15-b81a-5cfdb46f5319"
   },
   "outputs": [
    {
     "data": {
      "image/png": "[encoded data removed]",
      "text/plain": [
       "<Figure size 864x432 with 1 Axes>"
      ]
     },
     "metadata": {
      "needs_background": "light"
     },
     "output_type": "display_data"
    }
   ],
   "source": [
    "# words\n",
    "plt.figure(figsize=(12,6))\n",
    "sns.histplot(df[df['label'] == 0]['num_words'])\n",
    "sns.histplot(df[df['label'] == 1]['num_words'],color='red')\n",
    "plt.show()"
   ]
  },
  {
   "cell_type": "code",
   "execution_count": 32,
   "id": "c38c4089",
   "metadata": {
    "colab": {
     "base_uri": "https://localhost:8080/",
     "height": 542
    },
    "id": "c38c4089",
    "outputId": "84fbce63-7d61-4029-beb3-6846cfea261c"
   },
   "outputs": [
    {
     "data": {
      "image/png": "[encoded data removed]",
      "text/plain": [
       "<Figure size 864x432 with 1 Axes>"
      ]
     },
     "metadata": {
      "needs_background": "light"
     },
     "output_type": "display_data"
    }
   ],
   "source": [
    "# sentences\n",
    "plt.figure(figsize=(12,6))\n",
    "sns.histplot(df[df['label'] == 0]['num_sentences'])\n",
    "sns.histplot(df[df['label'] == 1]['num_sentences'],color='red')\n",
    "plt.show()"
   ]
  },
  {
   "cell_type": "code",
   "execution_count": 33,
   "id": "7611d2d8",
   "metadata": {
    "colab": {
     "base_uri": "https://localhost:8080/",
     "height": 758
    },
    "id": "7611d2d8",
    "outputId": "36d99cf1-3f60-4b3b-fb73-1c5d1e0ae102"
   },
   "outputs": [
    {
     "data": {
      "image/png": "[encoded data removed]",
      "text/plain": [
       "<Figure size 582.375x540 with 12 Axes>"
      ]
     },
     "metadata": {
      "needs_background": "light"
     },
     "output_type": "display_data"
    }
   ],
   "source": [
    "sns.pairplot(df,hue='label')\n",
    "plt.show()"
   ]
  },
  {
   "cell_type": "code",
   "execution_count": 34,
   "id": "207bc872",
   "metadata": {
    "colab": {
     "base_uri": "https://localhost:8080/",
     "height": 528
    },
    "id": "207bc872",
    "outputId": "dec59b20-ae04-4bcc-a9ed-89e48ae2eef9"
   },
   "outputs": [
    {
     "data": {
      "image/png": "[encoded data removed]",
      "text/plain": [
       "<Figure size 864x432 with 2 Axes>"
      ]
     },
     "metadata": {
      "needs_background": "light"
     },
     "output_type": "display_data"
    }
   ],
   "source": [
    "plt.figure(figsize=(12,6))\n",
    "sns.heatmap(df.corr(),annot=True)\n",
    "plt.show()"
   ]
  },
  {
   "cell_type": "markdown",
   "id": "5e13b09b",
   "metadata": {
    "id": "5e13b09b"
   },
   "source": [
    "## Data preprocessing"
   ]
  },
  {
   "cell_type": "code",
   "execution_count": 35,
   "id": "b0c8087b",
   "metadata": {
    "id": "b0c8087b"
   },
   "outputs": [],
   "source": [
    "import nltk\n",
    "import re\n",
    "from nltk.corpus import stopwords\n",
    "import string"
   ]
  },
  {
   "cell_type": "code",
   "execution_count": 36,
   "id": "616b5411",
   "metadata": {
    "colab": {
     "base_uri": "https://localhost:8080/"
    },
    "id": "616b5411",
    "outputId": "3074ea3b-9b96-43e1-cafa-f881692d13ff"
   },
   "outputs": [
    {
     "name": "stderr",
     "output_type": "stream",
     "text": [
      "[nltk_data] Downloading package stopwords to\n",
      "[nltk_data]     C:\\Users\\Akshay\\AppData\\Roaming\\nltk_data...\n",
      "[nltk_data]   Package stopwords is already up-to-date!\n"
     ]
    },
    {
     "data": {
      "text/plain": [
       "True"
      ]
     },
     "execution_count": 36,
     "metadata": {},
     "output_type": "execute_result"
    }
   ],
   "source": [
    "nltk.download('stopwords')"
   ]
  },
  {
   "cell_type": "code",
   "execution_count": 37,
   "id": "285afa15",
   "metadata": {
    "colab": {
     "base_uri": "https://localhost:8080/",
     "height": 36
    },
    "id": "285afa15",
    "outputId": "1811459c-5e7f-4da7-e8ab-fb1d9a43d08b"
   },
   "outputs": [
    {
     "data": {
      "text/plain": [
       "'love'"
      ]
     },
     "execution_count": 37,
     "metadata": {},
     "output_type": "execute_result"
    }
   ],
   "source": [
    "from nltk.stem.porter import PorterStemmer\n",
    "ps = PorterStemmer()\n",
    "ps.stem('loving')"
   ]
  },
  {
   "cell_type": "code",
   "execution_count": 38,
   "id": "318d99b5",
   "metadata": {
    "id": "318d99b5"
   },
   "outputs": [],
   "source": [
    "def transform_text(text):\n",
    "    text = text.lower()\n",
    "    text = nltk.word_tokenize(text)\n",
    "    \n",
    "    y = []\n",
    "    for i in text:\n",
    "        if i.isalnum(): #remove special charactes except alphanumeric\n",
    "            y.append(i)\n",
    "    \n",
    "    text = y[:]\n",
    "    y.clear()\n",
    "    \n",
    "    #remove stopwords and punctuation\n",
    "    for i in text:\n",
    "        if i not in stopwords.words('english') and i not in string.punctuation: \n",
    "            y.append(i)\n",
    "            \n",
    "    text = y[:]\n",
    "    y.clear()\n",
    "    \n",
    "    #word stemming\n",
    "    for i in text:\n",
    "        y.append(ps.stem(i))\n",
    "    \n",
    "            \n",
    "    return \" \".join(y)"
   ]
  },
  {
   "cell_type": "code",
   "execution_count": 39,
   "id": "75fd6cd8",
   "metadata": {
    "colab": {
     "base_uri": "https://localhost:8080/",
     "height": 53
    },
    "id": "75fd6cd8",
    "outputId": "4c2f300c-19dd-4d2b-d343-8dacc127958e"
   },
   "outputs": [
    {
     "data": {
      "text/plain": [
       "'even see comey letter jason chaffetz tweet darrel lucu octob 30 2016 subscrib jason chaffetz stump american fork utah imag courtesi michael jolley avail creativ licens apolog keith olbermann doubt worst person world director jame comey'"
      ]
     },
     "execution_count": 39,
     "metadata": {},
     "output_type": "execute_result"
    }
   ],
   "source": [
    "transform_text(\"We Didn’t Even See Comey’s Letter Until Jason Chaffetz Tweeted It By Darrell Lucus on October 30, 2016 Subscribe Jason Chaffetz on the stump in American Fork, Utah ( image courtesy Michael Jolley, available under a Creative Commons-BY license) \\nWith apologies to Keith Olbermann, there is no doubt who the Worst Person in The World is this week–FBI Director James Comey.\")"
   ]
  },
  {
   "cell_type": "code",
   "execution_count": 40,
   "id": "24baea9c",
   "metadata": {
    "id": "24baea9c"
   },
   "outputs": [],
   "source": [
    "df['transformed_text'] = df['title'].apply(transform_text)"
   ]
  },
  {
   "cell_type": "code",
   "execution_count": 41,
   "id": "35895db1",
   "metadata": {
    "colab": {
     "base_uri": "https://localhost:8080/",
     "height": 206
    },
    "id": "35895db1",
    "outputId": "89edbb8c-78fe-4a1c-b69b-e2127db3a84a"
   },
   "outputs": [
    {
     "data": {
      "text/html": [
       "<div>\n",
       "<style scoped>\n",
       "    .dataframe tbody tr th:only-of-type {\n",
       "        vertical-align: middle;\n",
       "    }\n",
       "\n",
       "    .dataframe tbody tr th {\n",
       "        vertical-align: top;\n",
       "    }\n",
       "\n",
       "    .dataframe thead th {\n",
       "        text-align: right;\n",
       "    }\n",
       "</style>\n",
       "<table border=\"1\" class=\"dataframe\">\n",
       "  <thead>\n",
       "    <tr style=\"text-align: right;\">\n",
       "      <th></th>\n",
       "      <th>title</th>\n",
       "      <th>label</th>\n",
       "      <th>num_characters</th>\n",
       "      <th>num_words</th>\n",
       "      <th>num_sentences</th>\n",
       "      <th>transformed_text</th>\n",
       "    </tr>\n",
       "  </thead>\n",
       "  <tbody>\n",
       "    <tr>\n",
       "      <th>0</th>\n",
       "      <td>House Dem Aide: We Didn’t Even See Comey’s Let...</td>\n",
       "      <td>1</td>\n",
       "      <td>81</td>\n",
       "      <td>19</td>\n",
       "      <td>1</td>\n",
       "      <td>hous dem aid even see comey letter jason chaff...</td>\n",
       "    </tr>\n",
       "    <tr>\n",
       "      <th>1</th>\n",
       "      <td>FLYNN: Hillary Clinton, Big Woman on Campus - ...</td>\n",
       "      <td>0</td>\n",
       "      <td>55</td>\n",
       "      <td>11</td>\n",
       "      <td>1</td>\n",
       "      <td>flynn hillari clinton big woman campu breitbart</td>\n",
       "    </tr>\n",
       "    <tr>\n",
       "      <th>2</th>\n",
       "      <td>Why the Truth Might Get You Fired</td>\n",
       "      <td>1</td>\n",
       "      <td>33</td>\n",
       "      <td>7</td>\n",
       "      <td>1</td>\n",
       "      <td>truth might get fire</td>\n",
       "    </tr>\n",
       "    <tr>\n",
       "      <th>3</th>\n",
       "      <td>15 Civilians Killed In Single US Airstrike Hav...</td>\n",
       "      <td>1</td>\n",
       "      <td>63</td>\n",
       "      <td>10</td>\n",
       "      <td>1</td>\n",
       "      <td>15 civilian kill singl us airstrik identifi</td>\n",
       "    </tr>\n",
       "    <tr>\n",
       "      <th>4</th>\n",
       "      <td>Iranian woman jailed for fictional unpublished...</td>\n",
       "      <td>1</td>\n",
       "      <td>93</td>\n",
       "      <td>14</td>\n",
       "      <td>1</td>\n",
       "      <td>iranian woman jail fiction unpublish stori wom...</td>\n",
       "    </tr>\n",
       "  </tbody>\n",
       "</table>\n",
       "</div>"
      ],
      "text/plain": [
       "                                               title  label  num_characters  \\\n",
       "0  House Dem Aide: We Didn’t Even See Comey’s Let...      1              81   \n",
       "1  FLYNN: Hillary Clinton, Big Woman on Campus - ...      0              55   \n",
       "2                  Why the Truth Might Get You Fired      1              33   \n",
       "3  15 Civilians Killed In Single US Airstrike Hav...      1              63   \n",
       "4  Iranian woman jailed for fictional unpublished...      1              93   \n",
       "\n",
       "   num_words  num_sentences                                   transformed_text  \n",
       "0         19              1  hous dem aid even see comey letter jason chaff...  \n",
       "1         11              1    flynn hillari clinton big woman campu breitbart  \n",
       "2          7              1                               truth might get fire  \n",
       "3         10              1        15 civilian kill singl us airstrik identifi  \n",
       "4         14              1  iranian woman jail fiction unpublish stori wom...  "
      ]
     },
     "execution_count": 41,
     "metadata": {},
     "output_type": "execute_result"
    }
   ],
   "source": [
    "df.head()"
   ]
  },
  {
   "cell_type": "code",
   "execution_count": 42,
   "id": "844f3c96",
   "metadata": {
    "id": "844f3c96"
   },
   "outputs": [],
   "source": [
    "from wordcloud import WordCloud\n",
    "wc = WordCloud(width=500,height=500,min_font_size=10,background_color='white')"
   ]
  },
  {
   "cell_type": "code",
   "execution_count": 43,
   "id": "d2f29cb1",
   "metadata": {
    "id": "d2f29cb1"
   },
   "outputs": [],
   "source": [
    "fake_wc = wc.generate(df[df['label'] == 1]['transformed_text'].str.cat(sep=\" \"))"
   ]
  },
  {
   "cell_type": "code",
   "execution_count": 44,
   "id": "8f7ba8c9",
   "metadata": {
    "colab": {
     "base_uri": "https://localhost:8080/",
     "height": 527
    },
    "id": "8f7ba8c9",
    "outputId": "b0ed9ae5-68a1-411d-c91b-ffb3aca21bee"
   },
   "outputs": [
    {
     "data": {
      "image/png": "[encoded data removed]",
      "text/plain": [
       "<Figure size 1296x432 with 1 Axes>"
      ]
     },
     "metadata": {
      "needs_background": "light"
     },
     "output_type": "display_data"
    }
   ],
   "source": [
    "plt.figure(figsize=(18,6))\n",
    "plt.imshow(fake_wc)\n",
    "plt.show()"
   ]
  },
  {
   "cell_type": "code",
   "execution_count": 45,
   "id": "ef9782f8",
   "metadata": {
    "id": "ef9782f8"
   },
   "outputs": [],
   "source": [
    "not_fake_wc = wc.generate(df[df['label'] == 0]['transformed_text'].str.cat(sep=\" \"))"
   ]
  },
  {
   "cell_type": "code",
   "execution_count": 46,
   "id": "83175369",
   "metadata": {
    "colab": {
     "base_uri": "https://localhost:8080/",
     "height": 527
    },
    "id": "83175369",
    "outputId": "faec5bcc-a6ad-4317-c474-695f822155f5"
   },
   "outputs": [
    {
     "data": {
      "image/png": "[encoded data removed]",
      "text/plain": [
       "<Figure size 1296x432 with 1 Axes>"
      ]
     },
     "metadata": {
      "needs_background": "light"
     },
     "output_type": "display_data"
    }
   ],
   "source": [
    "plt.figure(figsize=(18,6))\n",
    "plt.imshow(not_fake_wc)\n",
    "plt.show()"
   ]
  },
  {
   "cell_type": "code",
   "execution_count": 47,
   "id": "a4916d25",
   "metadata": {
    "id": "a4916d25"
   },
   "outputs": [],
   "source": [
    "fake_corpus = []\n",
    "for msg in df[df['label'] == 1]['transformed_text'].tolist():\n",
    "    for word in msg.split():\n",
    "        fake_corpus.append(word)"
   ]
  },
  {
   "cell_type": "code",
   "execution_count": 48,
   "id": "52d832ce",
   "metadata": {
    "colab": {
     "base_uri": "https://localhost:8080/"
    },
    "id": "52d832ce",
    "outputId": "86a0d9e3-6d77-4ea3-b3af-b8cf49a2bfe4"
   },
   "outputs": [
    {
     "data": {
      "text/plain": [
       "72182"
      ]
     },
     "execution_count": 48,
     "metadata": {},
     "output_type": "execute_result"
    }
   ],
   "source": [
    "len(fake_corpus)"
   ]
  },
  {
   "cell_type": "code",
   "execution_count": 49,
   "id": "716a7fdb",
   "metadata": {
    "id": "716a7fdb"
   },
   "outputs": [],
   "source": [
    "from collections import Counter"
   ]
  },
  {
   "cell_type": "code",
   "execution_count": 50,
   "id": "930619b0",
   "metadata": {
    "colab": {
     "base_uri": "https://localhost:8080/"
    },
    "id": "930619b0",
    "outputId": "0b9902b4-fd13-4bf8-ae45-bbf5b75c79d1"
   },
   "outputs": [
    {
     "data": {
      "text/plain": [
       "[('trump', 1362),\n",
       " ('hillari', 962),\n",
       " ('clinton', 887),\n",
       " ('elect', 533),\n",
       " ('new', 413),\n",
       " ('video', 381),\n",
       " ('us', 375),\n",
       " ('news', 337),\n",
       " ('comment', 336),\n",
       " ('russia', 325),\n",
       " ('fbi', 323),\n",
       " ('war', 315),\n",
       " ('email', 297),\n",
       " ('america', 289),\n",
       " ('vote', 283),\n",
       " ('world', 270),\n",
       " ('obama', 268),\n",
       " ('donald', 259),\n",
       " ('say', 222),\n",
       " ('break', 203),\n",
       " ('american', 201),\n",
       " ('day', 198),\n",
       " ('de', 185),\n",
       " ('state', 182),\n",
       " ('presid', 181),\n",
       " ('wikileak', 177),\n",
       " ('support', 171),\n",
       " ('campaign', 170),\n",
       " ('2016', 164),\n",
       " ('report', 161)]"
      ]
     },
     "execution_count": 50,
     "metadata": {},
     "output_type": "execute_result"
    }
   ],
   "source": [
    "Counter(fake_corpus).most_common(30)"
   ]
  },
  {
   "cell_type": "code",
   "execution_count": 51,
   "id": "e423df27",
   "metadata": {
    "id": "e423df27"
   },
   "outputs": [],
   "source": [
    "d1 = pd.DataFrame(Counter(fake_corpus).most_common(30))[0]"
   ]
  },
  {
   "cell_type": "code",
   "execution_count": 52,
   "id": "428cb63e",
   "metadata": {
    "colab": {
     "base_uri": "https://localhost:8080/"
    },
    "id": "428cb63e",
    "outputId": "c809e4f3-e5c8-449b-a3fb-91c9fc006fcb"
   },
   "outputs": [
    {
     "data": {
      "text/plain": [
       "0      trump\n",
       "1    hillari\n",
       "2    clinton\n",
       "3      elect\n",
       "4        new\n",
       "Name: 0, dtype: object"
      ]
     },
     "execution_count": 52,
     "metadata": {},
     "output_type": "execute_result"
    }
   ],
   "source": [
    "d1.head()"
   ]
  },
  {
   "cell_type": "code",
   "execution_count": 53,
   "id": "9dbc68bf",
   "metadata": {
    "id": "9dbc68bf"
   },
   "outputs": [],
   "source": [
    "d2 = pd.DataFrame(Counter(fake_corpus).most_common(30))[1]"
   ]
  },
  {
   "cell_type": "code",
   "execution_count": 54,
   "id": "ecf75a03",
   "metadata": {
    "colab": {
     "base_uri": "https://localhost:8080/"
    },
    "id": "ecf75a03",
    "outputId": "8d4a16b2-148b-4fb2-aa68-748fdefde4ea"
   },
   "outputs": [
    {
     "data": {
      "text/plain": [
       "0    1362\n",
       "1     962\n",
       "2     887\n",
       "3     533\n",
       "4     413\n",
       "Name: 1, dtype: int64"
      ]
     },
     "execution_count": 54,
     "metadata": {},
     "output_type": "execute_result"
    }
   ],
   "source": [
    "d2.head()"
   ]
  },
  {
   "cell_type": "code",
   "execution_count": 55,
   "id": "be9110e5",
   "metadata": {
    "colab": {
     "base_uri": "https://localhost:8080/",
     "height": 454
    },
    "id": "be9110e5",
    "outputId": "f6e93550-52f2-4588-b5b2-b417b2b48f45"
   },
   "outputs": [
    {
     "data": {
      "image/png": "[encoded data removed]",
      "text/plain": [
       "<Figure size 1296x432 with 1 Axes>"
      ]
     },
     "metadata": {
      "needs_background": "light"
     },
     "output_type": "display_data"
    }
   ],
   "source": [
    "plt.figure(figsize = (18,6))\n",
    "sns.barplot(x=d1,y=d2)\n",
    "plt.xticks(rotation='vertical')\n",
    "plt.show()"
   ]
  },
  {
   "cell_type": "code",
   "execution_count": 56,
   "id": "fe7fb11d",
   "metadata": {
    "id": "fe7fb11d"
   },
   "outputs": [],
   "source": [
    "not_fake_corpus = []\n",
    "for msg in df[df['label'] == 0]['transformed_text'].tolist():\n",
    "    for word in msg.split():\n",
    "        not_fake_corpus.append(word)"
   ]
  },
  {
   "cell_type": "code",
   "execution_count": 57,
   "id": "9a9b6694",
   "metadata": {
    "colab": {
     "base_uri": "https://localhost:8080/"
    },
    "id": "9a9b6694",
    "outputId": "337c25a5-3eb5-476d-c199-e875c4900c13"
   },
   "outputs": [
    {
     "data": {
      "text/plain": [
       "96764"
      ]
     },
     "execution_count": 57,
     "metadata": {},
     "output_type": "execute_result"
    }
   ],
   "source": [
    "len(not_fake_corpus)"
   ]
  },
  {
   "cell_type": "code",
   "execution_count": 58,
   "id": "4408184a",
   "metadata": {
    "colab": {
     "base_uri": "https://localhost:8080/",
     "height": 455
    },
    "id": "4408184a",
    "outputId": "a733ed07-27fa-4b7c-9db8-513fa9061eaa"
   },
   "outputs": [
    {
     "data": {
      "image/png": "[encoded data removed]",
      "text/plain": [
       "<Figure size 1296x432 with 1 Axes>"
      ]
     },
     "metadata": {
      "needs_background": "light"
     },
     "output_type": "display_data"
    }
   ],
   "source": [
    "plt.figure(figsize = (18,6))\n",
    "sns.barplot(x=pd.DataFrame(Counter(not_fake_corpus).most_common(30))[0],y=pd.DataFrame(Counter(not_fake_corpus).most_common(30))[1])\n",
    "plt.xticks(rotation='vertical')\n",
    "plt.show()"
   ]
  },
  {
   "cell_type": "markdown",
   "id": "44a11491",
   "metadata": {
    "id": "44a11491"
   },
   "source": [
    "## model building"
   ]
  },
  {
   "cell_type": "code",
   "execution_count": 59,
   "id": "7LPurlOiHOfl",
   "metadata": {
    "id": "7LPurlOiHOfl"
   },
   "outputs": [],
   "source": [
    "from tensorflow.keras.layers import Embedding\n",
    "from tensorflow.keras.preprocessing.sequence import pad_sequences\n",
    "from tensorflow.keras.models import Sequential\n",
    "from tensorflow.keras.preprocessing.text import one_hot\n",
    "from tensorflow.keras.layers import LSTM\n",
    "from tensorflow.keras.layers import Dense"
   ]
  },
  {
   "cell_type": "code",
   "execution_count": 60,
   "id": "4fb24e67",
   "metadata": {},
   "outputs": [],
   "source": [
    "X = df['transformed_text']"
   ]
  },
  {
   "cell_type": "code",
   "execution_count": 61,
   "id": "2c46f9fd",
   "metadata": {},
   "outputs": [],
   "source": [
    "y = df['label']"
   ]
  },
  {
   "cell_type": "code",
   "execution_count": 62,
   "id": "68vh5-UrHfHG",
   "metadata": {
    "id": "68vh5-UrHfHG"
   },
   "outputs": [],
   "source": [
    "### Vocabulary size\n",
    "voc_size=10000"
   ]
  },
  {
   "cell_type": "code",
   "execution_count": 63,
   "id": "S79ya8c9HDbv",
   "metadata": {
    "colab": {
     "base_uri": "https://localhost:8080/"
    },
    "id": "S79ya8c9HDbv",
    "outputId": "daefacf9-eb6c-4cff-b1e5-75f6cc11ba77"
   },
   "outputs": [
    {
     "data": {
      "text/plain": [
       "[[6413, 2987, 3665, 6779, 1134, 550, 6311, 7071, 1695, 9251],\n",
       " [4368, 2711, 2453, 5360, 1280, 8883, 8001],\n",
       " [9584, 1374, 6947, 3277],\n",
       " [1298, 7269, 647, 2350, 8478, 1268, 471],\n",
       " [2897, 1280, 5704, 7381, 609, 2282, 1280, 5594, 2131, 5958],\n",
       " [5977,\n",
       "  8975,\n",
       "  7907,\n",
       "  4876,\n",
       "  8855,\n",
       "  3511,\n",
       "  9885,\n",
       "  9009,\n",
       "  5541,\n",
       "  5705,\n",
       "  3516,\n",
       "  7359,\n",
       "  1584,\n",
       "  9199,\n",
       "  8001],\n",
       " [4073,\n",
       "  4073,\n",
       "  1433,\n",
       "  8903,\n",
       "  9418,\n",
       "  7812,\n",
       "  8028,\n",
       "  3656,\n",
       "  3695,\n",
       "  2147,\n",
       "  7811,\n",
       "  2938,\n",
       "  4160],\n",
       " [6876, 5984, 3745, 4952, 3771, 992, 5542, 5270, 459, 8863, 7499],\n",
       " [8537, 7463, 6619, 2542, 3511, 6792, 4422, 8743, 6140, 2457, 459, 8863, 7499],\n",
       " [8533, 281, 1386, 879, 3511, 6380, 459, 8863, 7499],\n",
       " [3484, 4595, 3074, 8686, 6665, 5519, 3511, 6607],\n",
       " [1084, 9072, 681, 4872, 1216, 7476, 9228, 7147],\n",
       " [9529, 7916, 4398, 9281, 9986, 2205, 8343, 7058, 4054, 9529, 8553],\n",
       " [8478, 3319, 1134, 5131, 3511, 1386],\n",
       " [5781, 8781, 4588, 4851, 9908, 8786, 4703, 5966, 5475],\n",
       " [8172, 1339, 1953, 3545, 5271, 8048, 466, 459, 8863, 7499],\n",
       " [5015, 2368, 9128, 3684, 2922, 459, 8863, 7499],\n",
       " [9295, 6496, 1530, 505, 8934, 158, 9249, 4629, 5033, 8867],\n",
       " [5985, 7438, 2711],\n",
       " [208, 4302, 663, 2542, 3511, 570, 6277, 8001],\n",
       " [9900, 5190, 9881, 9061, 1453, 5469, 9093, 1399, 7588, 4795, 459, 2651, 992],\n",
       " [6908, 814, 2453, 7176, 8159, 290, 557, 6865, 2282],\n",
       " [9252, 623, 3511, 1180, 9586, 8001],\n",
       " [6918, 6222, 6743, 5432, 1786, 6367, 5072, 8743, 6032, 7015],\n",
       " [714, 3773, 3550, 3388, 7617, 2337, 557, 5419, 6197, 3251, 459, 8863, 7499],\n",
       " [3281, 736, 7165, 769, 4369, 8880, 5813],\n",
       " [1584, 5992, 9095, 8392, 8252, 7237, 7367, 2602, 5697, 5454, 1559, 8001],\n",
       " [1265, 2711, 1914, 7509, 4122, 5952, 1298, 5549, 7567],\n",
       " [5278, 2692, 8435, 9900, 7627, 4121, 7176, 4625, 3536, 459, 8863, 7499],\n",
       " [2711, 2453, 5330, 6976, 459, 8863, 7499],\n",
       " [208, 4302, 663, 9488, 4934, 6367, 9900, 8001],\n",
       " [1591, 3456, 6882, 9807, 3658, 8576],\n",
       " [5638, 2350, 578, 4244, 8466, 459, 8863, 7499],\n",
       " [8471, 9305, 5208, 5892, 1877, 1563, 8592, 5910, 6525, 459, 8863, 7499],\n",
       " [7287, 5137, 6482, 2602, 4269, 7084, 1481, 650, 7586, 459, 8863, 7499],\n",
       " [1386, 6085, 4369, 7847, 6639, 6952, 459, 8863, 7499],\n",
       " [4448, 5378, 4655, 8744, 1982, 7856],\n",
       " [1349, 1719, 6643],\n",
       " [9889, 2791, 8061, 3184, 5473, 8945, 1581, 8001],\n",
       " [6346, 8455, 6346, 3472, 8356, 7863, 459, 8863, 7499],\n",
       " [9768, 4900, 6061, 5441, 4322, 1017, 8001],\n",
       " [2361, 2050, 2241, 1082, 9854],\n",
       " [5469, 5430, 3403, 7787, 4965, 1767, 459, 8863, 7499],\n",
       " [4483, 8266, 929, 43, 4130, 8193, 4420, 1084],\n",
       " [2802, 3048, 5655, 7851, 3484, 9509, 6046, 5000, 8001],\n",
       " [6643, 6926, 2971, 6582, 9716, 3556, 8435, 459, 8863, 7499],\n",
       " [2518, 8628, 4726, 6868, 6924, 8289, 1445, 6577, 4516, 9199],\n",
       " [4475, 2906, 5990, 350, 8297, 9023, 3742, 3196],\n",
       " [462, 1652, 4096, 7817, 7617, 9163, 459, 6436, 459, 8863, 7499],\n",
       " [2140, 8252, 8607, 4983, 6457, 2687, 821, 1987, 5305, 2731, 8568, 8001],\n",
       " [3681, 7876, 9548],\n",
       " [1246, 1515, 6915, 3330, 1386, 2630],\n",
       " [3790, 6678, 4045, 6033, 9529, 7704, 9583, 6602, 6966, 8001],\n",
       " [4541, 3137, 2775, 5378, 3388, 7478, 6046, 557, 570, 9199],\n",
       " [3511, 6643, 3681, 7675, 529, 2900],\n",
       " [374, 582, 8088, 8743, 8874, 6140, 7727, 8328, 5247, 5029, 9199],\n",
       " [123, 9334, 5992, 9040, 219],\n",
       " [2542, 3511, 3745, 6643, 715, 6599, 8478, 570, 936],\n",
       " [3521, 3748, 3570, 9329, 1870, 459, 8863, 7499],\n",
       " [8172, 7911, 1290, 5298, 3628, 44, 459, 8863, 7499],\n",
       " [4800, 6590, 8436, 4185, 6643],\n",
       " [4516, 5993, 5561, 1516, 2724, 1493, 2594, 4880, 6754, 459, 8863, 7499],\n",
       " [336, 4035, 7155, 5873, 2094, 6032, 4671],\n",
       " [219, 7082, 1560, 3038, 7016, 5657, 2631, 9136, 9400, 459, 8863, 7499],\n",
       " [4576, 5992, 9095, 9333, 859, 1290, 9308],\n",
       " [7778, 5271, 2798, 1196, 7990, 8749, 5945, 4002, 5473, 5827],\n",
       " [2453, 8503, 6066, 5985, 2115, 4728, 5325, 2711, 2453, 3276],\n",
       " [4563, 9966, 7567, 459, 8863, 7499],\n",
       " [1669, 4409, 6196, 8786, 3511, 898, 570, 2314],\n",
       " [9310, 7725, 3882, 87],\n",
       " [3030, 2111, 8252, 4434],\n",
       " [7083, 8436, 1280, 8720, 459, 8863, 7499],\n",
       " [221, 2712, 7720, 4448, 5211, 9477, 459, 8063, 459, 8863, 7499],\n",
       " [2518, 8399, 6607, 3484, 7575, 3875, 2639, 6046, 459, 8863, 7499],\n",
       " [9889, 9791, 5911, 2404, 1173, 4123, 459, 8863, 7499],\n",
       " [9900, 7032, 4646, 6577, 1939, 9308, 9333, 1939, 8628, 8395, 3803, 929, 6343],\n",
       " [4478, 494, 3484, 5151, 8656, 9900],\n",
       " [3227, 3192, 3048, 3026, 6710, 9130, 459, 8863, 7499],\n",
       " [5974, 8479, 3473, 1653, 3511, 511, 5446, 8001],\n",
       " [185, 2608, 8081, 5542, 4275, 8707, 6779, 8081, 459, 8863, 7499],\n",
       " [2344, 923, 1349, 4983, 4273, 4894, 6561, 6566, 3652],\n",
       " [9073, 3444, 2163, 2711],\n",
       " [8005, 5072, 9066, 8743, 5709, 6900, 4499],\n",
       " [3511, 749, 7763, 2385, 459, 8863, 7499],\n",
       " [9417, 3344, 3603, 6013, 7939, 2457, 4510, 344, 459, 8863, 7499],\n",
       " [8252],\n",
       " [3511, 3083, 7567, 2002, 5419, 8392, 6577, 459, 8863, 7499],\n",
       " [8435,\n",
       "  6373,\n",
       "  4434,\n",
       "  8343,\n",
       "  3213,\n",
       "  8846,\n",
       "  2453,\n",
       "  7567,\n",
       "  2307,\n",
       "  3511,\n",
       "  5983,\n",
       "  4034,\n",
       "  4185],\n",
       " [801, 7381, 3346, 5103, 2280, 459, 8863, 7499],\n",
       " [2301, 8475, 7812, 4917, 9310, 7463, 7907, 7213, 459, 8863, 7499],\n",
       " [3030, 9155, 6091, 8206, 3515, 593, 9465, 8396, 8701, 1308, 494],\n",
       " [7265, 7536, 9186, 6085, 6969, 3841, 459, 8863, 7499],\n",
       " [3551,\n",
       "  9418,\n",
       "  2802,\n",
       "  3248,\n",
       "  2788,\n",
       "  2542,\n",
       "  3511,\n",
       "  9889,\n",
       "  1798,\n",
       "  7214,\n",
       "  6831,\n",
       "  3850,\n",
       "  3727,\n",
       "  2651,\n",
       "  1020],\n",
       " [8001, 9900, 3882, 3511, 7320, 8001],\n",
       " [8400, 6413, 9214, 9206, 632, 3484, 79, 5201],\n",
       " [5129, 649, 8895, 660],\n",
       " [5567, 5117, 8568, 9889, 820, 6643, 1020, 8001],\n",
       " [4983, 6743, 7593, 4185, 7080, 7220, 3550, 459, 8863, 7499],\n",
       " [8487, 9986, 7374, 8533, 1225, 459, 8863, 7499],\n",
       " [5679, 4872, 2826, 736, 3581, 4057, 9162],\n",
       " [557, 7704, 5167, 9258, 4024, 1637, 459, 8863, 7499],\n",
       " [2711, 2453, 1811, 2138, 505, 5966, 3728, 2872, 2542, 3511, 459, 8863, 7499],\n",
       " [3511, 1584, 7383, 4434, 1782, 8981, 9060, 3523],\n",
       " [3043, 4123, 8580, 9529, 4588, 7269],\n",
       " [7640, 5441, 2742, 4999, 6622, 4629, 5033, 8867],\n",
       " [6656,\n",
       "  9095,\n",
       "  6999,\n",
       "  7640,\n",
       "  8490,\n",
       "  856,\n",
       "  7474,\n",
       "  3040,\n",
       "  1037,\n",
       "  6999,\n",
       "  5742,\n",
       "  8490,\n",
       "  2176,\n",
       "  7474,\n",
       "  8001],\n",
       " [1476, 9308, 4172, 3791, 2205, 8343, 9110, 1386, 9900],\n",
       " [9565, 5360, 6621, 2502, 6632, 8183, 8471, 7359, 4111, 8001],\n",
       " [336, 1842, 5717, 6331, 3865, 556, 5801, 857, 8001],\n",
       " [2937, 9967, 25, 290, 9038, 6903, 4233, 4728, 5360, 4900, 459, 8863, 7499],\n",
       " [251, 477, 2938, 7877, 4122, 3511, 801, 6229, 3277, 7218],\n",
       " [9308,\n",
       "  3511,\n",
       "  535,\n",
       "  7272,\n",
       "  5622,\n",
       "  3444,\n",
       "  9974,\n",
       "  5033,\n",
       "  8201,\n",
       "  2906,\n",
       "  6191,\n",
       "  7027,\n",
       "  1202,\n",
       "  6317],\n",
       " [2361, 9001, 968, 8709, 235, 4874, 6224, 4139, 6439, 459, 8863, 7499],\n",
       " [2453, 8503, 4278, 2486, 4986, 9670, 3319, 4483, 4185, 2711, 8687, 1965],\n",
       " [8628, 7141, 1180, 9602, 5380, 7096, 6326, 4483, 7912, 8001],\n",
       " [474, 2050, 9715, 6831, 8713, 7264, 2661, 459, 8863, 7499],\n",
       " [4123, 44, 5419, 3200, 6571, 4532, 459, 8863, 7499],\n",
       " [219, 695, 9310, 817, 144, 6910, 459, 8863, 7499],\n",
       " [3511, 4420, 2458, 6915, 2205, 8471, 3319, 6196, 459, 8863, 7499],\n",
       " [4052, 1915, 5473, 3276, 2322, 7851, 3276],\n",
       " [1326, 4001, 6413, 459, 3346, 3213, 6046, 1101],\n",
       " [5867, 5842, 9807, 4591, 1029, 5867, 9191, 459, 8863, 7499],\n",
       " [9967, 8337, 6413, 9322, 1308, 7205],\n",
       " [5124, 8981, 8478, 6643, 8284, 6054, 2711, 3745],\n",
       " [9168, 4454, 8561, 2892, 4033, 5083, 459, 8863, 7499],\n",
       " [7438, 94, 3456, 8269, 7834, 459, 8863, 7499],\n",
       " [8628, 6072, 2447, 8400, 6413, 5190, 2542, 3511, 8001],\n",
       " [7925, 2651, 7038, 3511, 1560, 4675, 6577, 8001],\n",
       " [2996, 8605, 5561, 1533, 3800],\n",
       " [1515, 3511, 9900, 7269, 9459, 459, 8863, 7499],\n",
       " [2542, 3511, 9163, 8533, 336, 3443, 6831, 9162, 459, 8863, 7499],\n",
       " [821, 2551, 3213, 7441, 9130, 5277, 9521, 3435, 4529],\n",
       " [5985, 6968, 550, 2935, 4916, 2385, 4728, 2453, 3276, 9203],\n",
       " [4780, 9889, 9162, 4111, 4369, 6624, 2132, 8479, 9334, 8001],\n",
       " [6482, 9352, 6488, 7240],\n",
       " [3612, 1433, 4185, 9035],\n",
       " [3319, 2608, 8081, 5561, 2050, 8008, 459, 8863, 7499],\n",
       " [7749, 3379, 6522, 8026, 8396, 1878, 3471, 2008, 3317],\n",
       " [8448, 4534, 8718, 5147, 9684, 3141, 3484, 9960, 7978, 725, 5231, 2838, 8448],\n",
       " [2446, 4576, 9448, 9155, 8305, 2444, 6277, 5419],\n",
       " [3511, 1618, 6450, 1460, 8757, 1152, 557, 5117, 470, 7428, 9199],\n",
       " [5985, 5271, 9701, 2795, 2711, 2453, 3276, 3444, 243],\n",
       " [6191, 4233, 557, 5233, 647, 4002, 272, 9130, 9622, 4160],\n",
       " [4434, 9974, 3487, 5589, 8530, 7928, 7310, 3511, 1562],\n",
       " [9310, 7304, 7831, 820, 7162, 6473],\n",
       " [7264, 647, 7640, 1509, 7887, 7935, 859],\n",
       " [4244, 9638, 3923, 4843, 8030, 2937, 8767, 9967, 1074, 5126, 1590],\n",
       " [7877, 8743, 1564, 4530, 3193, 6431, 4035, 1662, 5050, 8112],\n",
       " [4074, 4974, 5473, 4057, 4483, 8330, 5709, 5866, 8161, 4185, 2778],\n",
       " [3388, 9162, 3083, 2540, 459, 8863, 7499],\n",
       " [1857, 481, 6656, 7733, 3511, 5108, 7370, 459, 8863, 7499],\n",
       " [3703, 8663, 8188, 7756, 7826, 8533, 7588, 6915, 459, 8863, 7499],\n",
       " [8556, 7510],\n",
       " [6307, 4653, 8400, 6413, 736, 2256, 4421, 4558, 459, 8863, 7499],\n",
       " [8666, 8857, 3277, 1653, 9281, 3627, 3511, 7051, 9251, 8001],\n",
       " [2453, 6008],\n",
       " [2285, 4580, 843, 2499, 4986, 1499, 4530, 459, 8863, 7499],\n",
       " [4986, 7640, 1288, 5561, 2938, 721],\n",
       " [459, 3790, 5131, 8911, 8494, 9567, 4569, 9982, 4665],\n",
       " [717, 5644, 2446, 394],\n",
       " [8743, 6140, 3392, 9162, 3511],\n",
       " [6248, 1712, 932, 612, 2197, 8743, 9624, 3812, 1481, 430, 459, 8863, 7499],\n",
       " [8330, 9128, 4124, 9333, 5717, 1987, 2398, 459, 8863, 7499],\n",
       " [3624, 7381, 8743, 1642, 459, 8863, 7499],\n",
       " [4471, 2220, 8020, 2056, 5432, 7295, 5072, 8001],\n",
       " [9981, 8441, 1433, 6390, 9013, 7474, 5827, 7935],\n",
       " [8992, 4281, 7531, 3828],\n",
       " [1877, 9057, 7146, 9072, 4665, 5717, 8001],\n",
       " [5805, 7428, 8339, 5867, 9553, 8328],\n",
       " [3511, 336, 1964, 3165, 8022, 6367, 550, 4273, 9409],\n",
       " [5331,\n",
       "  4415,\n",
       "  9973,\n",
       "  7831,\n",
       "  1770,\n",
       "  6889,\n",
       "  4135,\n",
       "  9509,\n",
       "  6046,\n",
       "  3170,\n",
       "  4788,\n",
       "  6196,\n",
       "  274,\n",
       "  2062,\n",
       "  2542,\n",
       "  3511,\n",
       "  8001],\n",
       " [9628, 5039, 2222, 7241],\n",
       " [6632, 8628, 4753, 2651, 4406, 2542, 3511, 8631, 459, 8863, 7499],\n",
       " [1349, 6311, 3511, 5117, 9406, 8436],\n",
       " [2117, 5784, 5298, 3341, 29, 4096, 2711, 9072, 4281, 6455],\n",
       " [251, 6763, 6947, 4772, 5397, 9195, 7214],\n",
       " [777, 8026, 3716, 7142, 6122, 4273, 6467, 459, 8863, 7499],\n",
       " [8436, 9300, 9300, 6248, 459, 8863, 7499],\n",
       " [6170, 6196, 44, 8762, 9697, 8529, 1533, 759, 459, 8863, 7499],\n",
       " [9308, 9000, 9130, 9413, 4281, 8216, 459, 8863, 7499],\n",
       " [2355, 5341, 3277, 6769, 5798, 7082, 7773],\n",
       " [3170, 2317, 9507, 1924, 3170, 459, 8863, 7499],\n",
       " [8865, 946, 153, 4024, 1437, 3644, 9120, 4434],\n",
       " [3895, 6274, 4281, 6413, 3511, 459, 8863, 7499],\n",
       " [2212, 4158, 9329, 1326, 394, 1308, 3277],\n",
       " [3943,\n",
       "  1764,\n",
       "  5966,\n",
       "  7663,\n",
       "  6947,\n",
       "  8959,\n",
       "  6413,\n",
       "  7474,\n",
       "  1604,\n",
       "  6947,\n",
       "  1433,\n",
       "  3803,\n",
       "  8048],\n",
       " [6053, 9329, 5966, 3703, 95, 9991, 9974, 8490, 2502, 9991],\n",
       " [3511, 8751, 4968, 459, 8863, 7499],\n",
       " [5985, 6968, 550, 285, 9670, 854, 2453],\n",
       " [8904, 8530, 8042, 3876, 3216, 2709, 8194, 859],\n",
       " [2131, 8655],\n",
       " [6632, 4748, 4238, 859, 9249, 3716, 4035, 7395, 9099, 7021, 7823],\n",
       " [2117, 1926, 7675, 9950, 4045, 6222, 2447, 647, 1122],\n",
       " [9149, 2622, 4147, 339, 498, 7370, 153, 2946],\n",
       " [2542, 3511, 86, 4900, 4310, 3160, 459, 8863, 7499],\n",
       " [2449, 5698, 1914, 460, 6048, 1490, 8796, 8442, 7310, 459, 8863, 7499],\n",
       " [9830, 7350, 9628, 5848, 2931, 2828, 8575, 2355],\n",
       " [2542, 3511, 2964, 1020, 459, 8863, 7499],\n",
       " [5145, 459, 2630, 2711, 6450, 8503, 6343, 6999, 8478, 5966, 5865, 9086, 8959],\n",
       " [3264, 8478, 5647],\n",
       " [1584,\n",
       "  336,\n",
       "  9033,\n",
       "  94,\n",
       "  8173,\n",
       "  1284,\n",
       "  1682,\n",
       "  8030,\n",
       "  6196,\n",
       "  6903,\n",
       "  9777,\n",
       "  9535,\n",
       "  4872,\n",
       "  2515,\n",
       "  3523],\n",
       " [3511, 7038, 4434, 4155, 3170, 4420, 1591, 8001],\n",
       " [9035, 7521, 6903, 2361, 4233],\n",
       " [5449, 9066, 2518, 5895, 1152, 9744, 459, 8863, 7499],\n",
       " [2362, 7350, 4071, 7141],\n",
       " [736, 8533, 7214, 158, 6146, 7618, 1515],\n",
       " [3511, 859, 4123, 3452, 3272, 2117, 459, 8863, 7499],\n",
       " [2453, 8494, 6742, 2935, 3276, 2711, 9974, 4745],\n",
       " [7073, 4472, 1453, 5469, 6969, 6046, 8001],\n",
       " [2542, 3511, 8061, 8396, 6033],\n",
       " [459, 5561, 3550, 8544, 4096, 578, 9548],\n",
       " [707, 6488, 9616, 1270, 1458, 3608, 273, 4749, 9715],\n",
       " [1462, 4123, 4275, 9886, 9034, 3120, 459, 8863, 7499],\n",
       " [1584, 2623, 6196, 2937, 9967, 4876, 2550, 4096, 8435, 9900],\n",
       " [9308, 101, 3484, 4694, 5089, 2424, 8906, 2665, 4185, 459, 8863, 7499],\n",
       " [578, 9162, 6488, 3790, 3884, 8529, 3230, 6638, 459, 8863, 7499],\n",
       " [2769, 9638, 8625, 8356, 9900, 3511],\n",
       " [9459, 6053, 7428, 4145, 3083, 9300, 6890, 6431, 6947, 5033, 3449, 9281],\n",
       " [6474, 2450, 7314, 5966, 459, 8863, 7499],\n",
       " [6343, 5464, 7627, 791, 3281, 3036, 859, 459, 8863, 7499],\n",
       " [1202, 9889, 2222, 1037, 9149, 6488, 3511],\n",
       " [3703, 1164, 1481, 7756, 8529, 70, 459, 8863, 7499],\n",
       " [4265, 859, 2015, 9503, 6196, 6959, 511],\n",
       " [1530, 7400, 5562, 9882, 2842, 1164, 9486, 2879, 3825, 8916, 903],\n",
       " [1653, 7737, 4160, 9529, 7985, 7944, 459, 8863, 7499],\n",
       " [4420, 301, 158, 3937],\n",
       " [3703, 1481, 2617, 8188, 7756, 324, 7015, 5224, 459, 8863, 7499],\n",
       " [3144,\n",
       "  3107,\n",
       "  2105,\n",
       "  7906,\n",
       "  1369,\n",
       "  9703,\n",
       "  3144,\n",
       "  763,\n",
       "  1531,\n",
       "  2105,\n",
       "  7906,\n",
       "  85,\n",
       "  6288,\n",
       "  1870],\n",
       " [3511, 5046, 9900, 8786, 459, 7863, 1014, 2307, 459, 8863, 7499],\n",
       " [1868, 2965, 5274, 6062, 87, 2122, 5813, 9571, 7673],\n",
       " [7250, 4821, 4244, 7250, 4456],\n",
       " [7464, 3026, 7149, 9285, 4244, 459, 8863, 7499],\n",
       " [966, 8284, 859, 8964, 459, 8863, 6390, 8471],\n",
       " [9406, 3702, 7831, 7126, 3905],\n",
       " [4434, 2937, 9967, 3560, 584, 4900, 3014, 336, 8981],\n",
       " [3058, 8529, 3581, 7724, 459, 8863, 7499],\n",
       " [5050,\n",
       "  8112,\n",
       "  4233,\n",
       "  7950,\n",
       "  3943,\n",
       "  7950,\n",
       "  2385,\n",
       "  8112,\n",
       "  3511,\n",
       "  7056,\n",
       "  4876,\n",
       "  7250,\n",
       "  570,\n",
       "  9836],\n",
       " [1062, 4123, 5015, 2368, 9128, 5498, 2499, 459, 8863, 7499],\n",
       " [3493, 1062, 2289, 108, 663, 6367, 9900, 8162, 8001],\n",
       " [3289, 459, 1590, 3511, 3841, 459, 8863, 7499],\n",
       " [8034, 3813, 6706, 311, 1433, 8356, 2518, 8001],\n",
       " [1653, 3608, 3316, 7733, 459, 8863, 7499],\n",
       " [5910, 4795],\n",
       " [7379, 1487, 1163, 2553, 5137, 3650, 5417, 6085, 459, 8863, 7499],\n",
       " [5985, 1331, 7604, 5491, 9073, 6776, 3276],\n",
       " [3511, 4958, 6999, 9969, 3940, 5017, 9807, 459, 8863, 7499],\n",
       " [9700, 557, 1064, 6501, 5945, 4588, 5644, 7165, 920, 8001],\n",
       " [5992, 9095, 8392, 677, 5419, 8396, 7082, 8749, 7935, 5827, 6390],\n",
       " [5476, 6171, 3975, 4900, 5414, 7347, 8442, 7845, 3945, 5080, 6536],\n",
       " [8034, 4434, 6488, 1481, 6453, 8436, 5360, 5657, 9300, 8001],\n",
       " [4244, 5660, 3272, 9214, 3745, 990],\n",
       " [6200, 7562],\n",
       " [4952, 2760, 6548, 2307, 7084, 5306, 7561, 459, 8863, 7499],\n",
       " [3511, 8883, 992, 6323, 5473, 4057, 459, 8863, 7499],\n",
       " [8799, 3928, 9342, 1197, 6643],\n",
       " [1369, 6112, 763, 6133, 3277, 7478, 3283, 7152, 4503, 3277, 7478, 3283],\n",
       " [65, 6413, 9886, 3194, 908, 459, 8863, 7499],\n",
       " [4075, 8855, 8121, 2542, 3511, 459, 4876, 5959, 459, 8863, 7499],\n",
       " [9418, 2802, 8089, 8392, 2542, 3511, 6510, 8717, 459, 8863, 7499],\n",
       " [2334, 5811, 7934, 9012, 8718, 8111, 459, 8863, 7499],\n",
       " [6044, 6721, 6042, 6413, 5441, 3484, 6577],\n",
       " [9073, 6776, 474, 5985, 1542, 5137],\n",
       " [2350, 9765, 4613, 8346, 4655, 4483, 7499, 459, 8863, 7499],\n",
       " [9469, 3375, 4235, 6408, 459, 7224, 6085, 8001],\n",
       " [3511, 2974, 1773, 9992, 1374, 2502, 3114, 5539, 2132, 459, 8863, 7499],\n",
       " [1049, 1914, 821, 4661, 2378, 9308, 4123, 3841, 175, 161, 1748, 6054, 8001],\n",
       " [4977, 3630, 6247, 79, 7983, 2691, 459, 8863, 7499],\n",
       " [2970, 1609, 4096, 4073, 7067, 8927, 2639],\n",
       " [9329, 5419, 1333, 459, 8863, 7499],\n",
       " [2041, 5697, 4749, 8690, 9249, 7607, 8001],\n",
       " [2361, 9281, 9334, 4244],\n",
       " [7474, 95, 3058, 2317, 2163, 5305, 613, 6624, 5243],\n",
       " [2711, 8503, 704, 6887, 8184, 8973, 2500, 5985, 1284, 6743, 1653],\n",
       " [4448, 1914, 9772, 5397, 1564, 5666, 3511, 3745],\n",
       " [9936, 5959, 2987, 5917, 2426, 1688, 5845, 3511, 5117, 8001],\n",
       " [7724, 395, 6816, 6645, 3511, 6947, 5201],\n",
       " [9889, 2212, 5655, 9333, 6028, 6013, 8001],\n",
       " [1386, 2344, 9001, 966, 9162],\n",
       " [2147, 6465, 8108, 1349, 3277, 6370, 14, 6253, 603, 9251],\n",
       " [1930, 8937, 182, 2711],\n",
       " [9009, 4269, 6526, 6821, 2660, 7228, 2164, 459, 8863, 7499],\n",
       " [6032, 8855, 1405, 3362, 459, 8863, 7499],\n",
       " [157, 3521, 3170, 8895, 3597, 1367, 459, 8863, 7499],\n",
       " [5561, 1180, 1604, 8126, 9163, 9516],\n",
       " [8065, 5417, 2149, 9322, 6947, 6323, 459, 8863, 7499],\n",
       " [7134, 4591, 728, 9030, 3029, 3866, 715, 2205, 6774, 9571, 1905, 5966],\n",
       " [6379, 3511, 1491, 2220, 4244, 8478, 6577, 1591, 1386, 8001],\n",
       " [153, 176, 8048, 6947, 6254, 8042],\n",
       " [6947, 2839, 4434, 8717, 5117, 3511],\n",
       " [9516, 4943, 721, 9149, 8820, 4665, 459, 8863, 7499],\n",
       " [3928, 6721, 8889, 4722, 2390, 3234, 3348, 8729, 459, 8863, 7499],\n",
       " [6996, 8517, 8575, 459, 8863, 7499],\n",
       " [8478, 8663, 5251, 1386, 6643, 7071, 5479],\n",
       " [2415, 4729, 8126, 8796, 1298, 7027, 459, 8863, 7499],\n",
       " [7499, 6577, 1311, 459, 8863, 7499],\n",
       " [4803, 3319, 8479, 7834, 3644, 2743, 1237, 459, 8863, 7499],\n",
       " [8972, 9782, 1748, 5910, 8436, 1662],\n",
       " [4690, 4381, 395, 5675, 8478, 647],\n",
       " [769, 717, 4453, 2347, 1298, 2062, 459, 8863, 7499],\n",
       " [3511, 7009, 3895, 3550, 8067, 5655, 8172, 4620, 8001],\n",
       " [9490, 5859, 6535, 4465, 6358, 6371, 763],\n",
       " [4570, 3511, 9807, 6577, 3012, 8396, 2444, 459, 8863, 7499],\n",
       " [4812, 9333, 9418, 953, 3121, 5939, 929, 6638],\n",
       " [5393, 4170, 899, 9162, 7661, 459, 8863, 7499],\n",
       " [1669, 4409, 1769, 9889, 9403, 607, 459, 8863, 7499],\n",
       " [4641, 5784, 6750, 3511, 7056, 4888, 1269],\n",
       " [1386, 8835, 1500, 8875, 4136, 9611, 1014, 3256, 459, 8863, 7499],\n",
       " [2350, 1759, 3511, 8252, 3727, 2385, 459, 8863, 7499],\n",
       " [2542, 3511, 6548, 4073, 5451, 8392],\n",
       " [4748, 3319, 9628, 5848, 7811, 5061, 4749, 2856, 459, 8863, 7499],\n",
       " [4073,\n",
       "  8855,\n",
       "  7992,\n",
       "  1786,\n",
       "  8855,\n",
       "  7027,\n",
       "  1881,\n",
       "  5464,\n",
       "  7992,\n",
       "  1786,\n",
       "  2459,\n",
       "  3695,\n",
       "  2314,\n",
       "  3269,\n",
       "  6742,\n",
       "  75,\n",
       "  2390,\n",
       "  5271,\n",
       "  9733],\n",
       " [5308, 6643, 7347, 7598],\n",
       " [1671, 7250, 4767, 5561, 2444, 1847, 9370],\n",
       " [8436, 9310, 3919, 2050, 8346, 459, 8863, 7499],\n",
       " [3511, 5270, 7204, 3272, 8594, 5393, 459, 8863, 7499],\n",
       " [3681, 5204, 4912, 3511, 5351, 4035],\n",
       " [6780, 2480, 6224, 2270, 6385, 94, 4155, 6704],\n",
       " [1040, 8478, 6643],\n",
       " [1591, 9115, 4462, 6928, 7441, 7367, 3317, 459, 8863, 7499],\n",
       " [9730, 3204, 30, 4310, 953, 9149, 2814, 4132, 8412, 8342, 5704, 8001],\n",
       " [2542, 3511, 8663, 7762, 7567, 2412, 2249, 5225, 8811, 2446, 459, 8863, 7499],\n",
       " [5038, 8835, 9590, 5539, 5464, 459, 8863, 7499],\n",
       " [2137, 2802, 8544, 9095, 1759, 2179, 459, 8863, 7499],\n",
       " [2542,\n",
       "  3511,\n",
       "  7038,\n",
       "  2711,\n",
       "  2453,\n",
       "  3581,\n",
       "  6776,\n",
       "  1748,\n",
       "  2515,\n",
       "  6488,\n",
       "  6343,\n",
       "  459,\n",
       "  8863,\n",
       "  7499],\n",
       " [1868, 6627, 3511, 9715, 8707, 8081, 459, 8863, 7499],\n",
       " [4832, 4185, 8373, 8392, 9974, 749],\n",
       " [3511, 8503, 9965],\n",
       " [9889, 556, 5280, 5655, 9214, 9329, 8001],\n",
       " [9308, 9900, 9945, 2470, 4, 9971, 3511, 5108, 5699, 9027, 8769, 1655],\n",
       " [3144, 804, 763, 7930, 8439, 4726, 3277, 7957],\n",
       " [8065, 5221, 552, 9505, 1811, 3716, 5561],\n",
       " [1378, 6822, 5233, 2111, 7357],\n",
       " [8105, 7438, 473, 8647, 4125, 5061, 4448, 3270, 4272, 728, 459, 8863, 7499],\n",
       " [1631, 2711, 2453, 7214, 8001],\n",
       " [7303, 1049, 9310, 3146, 7531, 803, 2639, 5517, 6812],\n",
       " [6250, 6222, 9628, 8749, 1266, 5013, 3566, 1062],\n",
       " [6767, 505, 557, 647, 1162, 1924],\n",
       " [4862, 5470, 4893, 1798, 6772, 8188, 4155, 1490],\n",
       " [8196, 7640, 3882, 8013, 8026],\n",
       " [1045, 4434, 3484, 5905, 8503, 4364, 4281, 9521, 2236],\n",
       " [3277],\n",
       " [1433, 5784, 263, 3026, 1555, 2],\n",
       " [5867, 430, 1180, 7499, 4454, 764, 5618, 459, 8863, 7499],\n",
       " [3511, 3041, 6196, 5689, 7441, 9974],\n",
       " [9357, 9823, 4435, 1349, 3937, 459, 8863, 7499],\n",
       " [3382, 9013, 2439, 3603, 7119, 760, 3511, 2665],\n",
       " [9784, 1609, 4096, 4738, 3727, 3511, 9199],\n",
       " [2553, 4588, 7272, 4808, 4281, 3511, 5817, 8001],\n",
       " [9167, 4434, 1375, 183, 531, 3366, 236, 9807, 459, 8863, 7499],\n",
       " [6528, 427, 5131],\n",
       " [5057, 5271, 7282, 8048, 5201, 459, 8863, 7499],\n",
       " [1957, 1759, 7305, 1453, 5469, 5498, 6371, 9057, 4111, 8001],\n",
       " [5306, 7359, 4726, 885, 3088, 5901, 5202, 3630, 459, 8863, 7499],\n",
       " [3484, 2711, 3581, 7607, 1012, 5189, 647],\n",
       " [3330, 1914, 4982, 5924, 2815],\n",
       " [3251, 677, 2907, 6380, 6343, 9511, 813, 3348, 8917, 3834, 8436, 1127],\n",
       " [2996, 7512, 9406, 6742, 4569, 5881, 5315, 3507, 9035, 3344, 9900, 2623],\n",
       " [2711, 7972, 5985, 3444, 3276],\n",
       " [5544, 3672, 1924, 3511, 7990, 2724, 459, 8863, 7499],\n",
       " [4483, 4748, 2874, 8173, 4255, 9035, 459, 8863, 7499],\n",
       " [9329, 322, 7114, 3665, 4872, 4483],\n",
       " [8964, 6779, 8081, 578, 714, 1590, 1103, 459, 8863, 7499],\n",
       " [821, 6915, 578, 4111, 95, 6062, 6062],\n",
       " [1273, 9039, 9145, 9548, 9066, 8048, 459, 8863, 7499],\n",
       " [8208, 9076, 4990, 3742, 1867, 2980, 8774, 6626, 4775, 4367],\n",
       " [2897, 3064, 7947, 3727, 2897, 7706, 5782, 9130],\n",
       " [8913, 2222, 1462, 9162, 7843, 6441, 6363, 6343, 4655, 9035],\n",
       " [5985, 550, 8840, 966, 5765, 7070, 8001],\n",
       " [7162, 8962, 6470, 9597, 1180, 9602, 6085, 8039, 459, 8863, 7499],\n",
       " [6890, 6812, 8743, 44, 5419, 3612],\n",
       " [4986, 9973, 7463, 5504, 1598, 8391, 5827, 5724, 1280, 6812, 8001],\n",
       " [9199, 8098, 5653, 8903, 6380, 5397, 3119, 1670],\n",
       " [6621, 4073, 2015, 9013, 1269, 7965, 2131],\n",
       " [3511, 3170, 3745, 8791, 3484, 5539, 277, 459, 8863, 7499],\n",
       " [5606, 6162, 1337, 3511, 1487, 7015, 4073, 2131, 8001],\n",
       " [8638, 8520, 8392, 3511],\n",
       " [8880, 2630, 8478, 1386, 1478, 5378, 5917],\n",
       " [8820, 3170, 2802, 4100, 6196],\n",
       " [2450, 8167, 243, 3288, 2008, 840, 6643, 2515, 5393],\n",
       " [2803, 9013, 3234, 6577, 3511, 9770],\n",
       " [3484, 3048, 2542, 3511, 4591, 8592, 3468, 915, 4100, 6831, 459, 8863, 7499],\n",
       " [9529, 3745, 4343, 946, 1001, 3627, 3745, 1386, 9900],\n",
       " [8436, 6599, 1280, 8067, 8401, 946, 7201, 5714, 9571, 2024, 459, 8863, 7499],\n",
       " [2897, 9568, 466, 7214, 7214, 7214, 459, 8863, 7499],\n",
       " [8456, 6196, 8490, 2970, 6473, 2635],\n",
       " [6591, 8713, 345, 3459, 8067, 1062, 4465, 3481],\n",
       " [2711, 7750, 4900, 4790, 2711, 5464, 7558, 3245, 6191, 1219],\n",
       " [6144, 1847, 8961, 5202, 3937, 459, 8863, 7499],\n",
       " [9418, 7179, 8305, 1969, 9529, 2344, 2097, 459, 8863, 7499],\n",
       " [3511, 3665, 1854, 8681, 342, 9618, 6046, 2221, 1409, 1037, 8001],\n",
       " [7080, 9529, 9300, 9966, 7617, 5744],\n",
       " [5784, 5298, 3341, 29, 4096, 2711, 9072, 4281],\n",
       " [15, 9782, 5491, 3213, 1825, 2862, 8160, 8322],\n",
       " [1166, 1680, 6406, 6812, 1855, 459, 8863, 7499],\n",
       " [4712, 7498, 550, 3277, 5837, 4851, 3511, 2987, 8001],\n",
       " [99, 8427, 4588, 5666, 3525, 9087, 8908, 3511, 459, 8863, 7499],\n",
       " [4751, 5727, 8048, 9676, 1340, 459, 8863, 7499],\n",
       " [550, 6311, 2453, 3276, 784, 8937, 4413, 6926, 459, 8863, 7499],\n",
       " [3511, 2453, 9842, 1290, 2444, 1847],\n",
       " [2553, 6794, 9883, 235, 8443, 1],\n",
       " [2085, 6467, 1987, 2352, 2938, 9529, 1029, 4100, 1953, 5436],\n",
       " [219, 5437, 550, 24, 588, 2634, 4638, 459, 8863, 7499],\n",
       " [9013, 3630, 4748, 7531, 3828, 3170],\n",
       " [1280, 9249, 1199, 4273, 6706, 7395],\n",
       " [9877,\n",
       "  4880,\n",
       "  459,\n",
       "  8863,\n",
       "  7499,\n",
       "  3745,\n",
       "  4516,\n",
       "  3882,\n",
       "  9900,\n",
       "  3148,\n",
       "  9001,\n",
       "  5305,\n",
       "  3627,\n",
       "  1493,\n",
       "  459,\n",
       "  8863,\n",
       "  7499],\n",
       " [5864, 6639, 7955, 4738, 2453, 3651, 2542, 3511, 2665, 8001],\n",
       " [5061, 535, 3484, 8940, 4471, 4145, 9519, 7465, 3033, 9013, 8001],\n",
       " [955, 4338, 463, 3382, 459, 8863, 7499],\n",
       " [3695, 1049, 1750, 199, 550, 8908, 8167],\n",
       " [5419, 1866, 749, 9509, 5966, 4543, 4534, 885, 7474, 4983, 8945, 4465, 1670],\n",
       " [9013, 5789, 5866, 5848, 5201, 1240, 5473, 4748, 6196, 459, 8863, 7499],\n",
       " [1770, 3702, 3511, 1180, 3043, 4185, 7724, 7831, 9066, 8001],\n",
       " [3710, 859, 9130, 4483, 6577, 3344, 3378, 8001],\n",
       " [3928, 7016, 6790, 3146, 1141, 3083, 3366, 4140],\n",
       " [2355, 5341, 3277, 6769, 5798, 7082, 7773],\n",
       " [4259, 2955, 7627, 2711, 5464, 8743, 9162, 8743, 6032],\n",
       " [7476, 946, 7962, 8479, 459, 5454, 859, 459, 8863, 7499],\n",
       " [3882, 4900, 2630, 3356, 3577, 2937, 9967, 584, 235],\n",
       " [5539, 5464, 4111, 3264, 3114, 7073, 5137, 8001],\n",
       " [5482, 550, 6986, 8835, 4310, 8172, 9040, 5137, 8001],\n",
       " [9620, 1727, 2322, 7911, 8400, 6413, 2518, 2446, 8592, 8981],\n",
       " [2453, 8503, 3499, 9418, 9945, 1555, 6650, 6406, 8984, 2486, 7927, 6153],\n",
       " [3484, 2212, 9011, 79, 1349, 3511, 459, 8863, 7499],\n",
       " [9308, 2907, 5494, 4035, 9770, 5387, 1488, 4034, 6317],\n",
       " [833, 7250, 6522, 3570, 8529, 3213, 9967, 459, 8863, 7499],\n",
       " [8490, 4541, 336, 9628, 550, 1706],\n",
       " [2444, 1847, 885, 4965, 7242, 8159, 8043],\n",
       " [3354, 1349, 8920, 4140, 4965, 2878, 1914, 161, 5666],\n",
       " [3443, 9479, 6831, 7315, 7015],\n",
       " [6400, 3511, 3334, 6636, 8479, 4394, 7073, 8001],\n",
       " [8984, 3030, 7499, 3170, 459, 8863, 7499],\n",
       " [8356, 9900, 4398, 336, 1280, 2935, 344, 7383, 1141, 7176, 9281],\n",
       " [3272, 4519, 2651, 992, 7553, 6779, 8081, 459, 8863, 7499],\n",
       " [402, 9621, 593, 3088, 2049, 599, 2970, 8001],\n",
       " [2255, 149, 5489, 7940, 4035, 8001],\n",
       " [2677, 2802, 6946, 353, 7038, 3484, 6488, 4096, 3288, 7310],\n",
       " [3511, 7056, 8720, 3288],\n",
       " [9900,\n",
       "  9506,\n",
       "  3459,\n",
       "  6577,\n",
       "  3484,\n",
       "  9628,\n",
       "  2938,\n",
       "  9145,\n",
       "  8400,\n",
       "  6413,\n",
       "  4233,\n",
       "  6032,\n",
       "  3366,\n",
       "  1437,\n",
       "  9842,\n",
       "  9120],\n",
       " [4795, 4073, 8213, 1533, 1977, 459, 8863, 7499],\n",
       " [3484, 1561, 4281, 6077, 88, 530, 6196, 3633, 2544, 459, 8863, 7499],\n",
       " [459, 311, 6915, 4024, 3628, 8026, 7811, 570, 5985, 459, 8863, 7499],\n",
       " [2940, 5697, 859, 8436, 9364, 2188, 8001],\n",
       " [3575, 5638, 854, 2444, 2153, 6607],\n",
       " [5117, 9329, 4096, 6643, 3475],\n",
       " [8592, 557, 459, 8863, 7499],\n",
       " [4409, 4420, 3484, 3701, 4629, 5033, 8867, 266],\n",
       " [9400, 6825, 8592, 6497, 5491, 9212, 9099, 706, 7756, 8001],\n",
       " [8960, 3702, 5685, 2970, 459, 8863, 7499],\n",
       " [2987, 4364, 9002, 3511, 946, 7733, 7474, 749, 8811, 7763, 1717, 4139, 8001],\n",
       " [2249, 76, 1808, 3650, 76, 4703, 4325, 76],\n",
       " [3566, 791, 336, 6632, 5473, 1994, 6319, 459, 8863, 7499],\n",
       " [5441, 6484, 6033, 7697, 8213, 9648],\n",
       " [7426, 2212, 9001, 395, 1163, 7272, 690, 8261, 4123],\n",
       " [8337, 1899, 3882, 8013, 8026],\n",
       " [3511, 2665, 4189, 3170, 890, 5126, 1590, 8001],\n",
       " [3511, 9842, 1854, 7357, 6887, 8343, 459, 8863, 7499],\n",
       " [8786, 7147, 8400, 6413, 1584, 6367, 9900, 8001],\n",
       " [9940, 8209, 7857, 1854, 1683, 1648, 4750],\n",
       " [3484, 2711, 2453, 8940, 9149, 2900, 4056, 5419],\n",
       " [3335, 1487],\n",
       " [1811, 1270, 7877, 3144, 9494, 3277, 3248],\n",
       " [3523, 530, 6577, 9560, 3151, 1481, 7733, 459, 8863, 7499],\n",
       " [5050, 1842, 6085, 1333, 9966, 9864, 5744, 459, 8863, 7499],\n",
       " [4992, 4224, 4034, 3511, 3841, 8738, 9881, 2789, 501, 9791, 4629],\n",
       " [4185, 5569, 988],\n",
       " [7134, 7476, 7935, 6501, 4483, 4876, 1491, 7935, 6602, 9249],\n",
       " [7666, 323, 3944, 964, 2241, 1219, 8346, 459, 8863, 7499],\n",
       " [2897, 2205, 1062, 7627, 6503, 5419, 4591, 3279, 9883, 7802, 8478, 6561],\n",
       " [578, 6822, 6155, 4743, 2868, 3392],\n",
       " [9087],\n",
       " [6632, 7474, 7877, 7627, 647, 5992, 1037, 8001],\n",
       " [3773,\n",
       "  9620,\n",
       "  1433,\n",
       "  7618,\n",
       "  546,\n",
       "  182,\n",
       "  3791,\n",
       "  8478,\n",
       "  8188,\n",
       "  3733,\n",
       "  4136,\n",
       "  459,\n",
       "  3403,\n",
       "  5315],\n",
       " [9649, 9529, 9697, 4158, 8126, 647, 5454, 8553, 5638, 5300],\n",
       " [6632, 7474, 110, 1965, 2602, 6219, 685, 647, 8288, 4034],\n",
       " [1490, 2163, 7193, 8479, 5452, 7217, 7835, 5093, 2639],\n",
       " [1591, 2892, 5233, 7073],\n",
       " [459, 300, 2132, 6999, 1180, 2922, 9384, 7163],\n",
       " [2617, 293, 7977, 4124, 9074, 9904, 3277, 1942, 8159, 8001],\n",
       " [781, 9120, 2447, 4667],\n",
       " [735, 1625, 1281, 9979, 3691, 4194, 3191, 459, 8863, 7499],\n",
       " [5116, 7080, 5089, 5417, 3271, 3847, 8894, 459, 8863, 7499],\n",
       " [7709, 3631, 6643, 5145, 6822, 8786],\n",
       " [1847, 8206, 2542, 3511, 6704, 3745],\n",
       " [2970, 459, 8863, 7499],\n",
       " [7820, 1530, 959, 1942, 3976, 3825, 8916, 903],\n",
       " [4748, 3277, 4371, 1792, 8867, 4035],\n",
       " [1957, 1759, 4122, 1900, 4885, 5514, 1788, 9761, 5970],\n",
       " [9138, 8530, 9807, 1409, 988],\n",
       " [2195, 7694, 3608, 8026, 9074, 459, 8863, 7499],\n",
       " [8159, 7206, 9149, 2531, 9093, 3550, 7617, 7027],\n",
       " [2711, 2453, 4594, 9507, 4233, 1202, 5622, 3444, 8924, 8840],\n",
       " [473, 3611, 3078, 5964, 8789, 2646, 8637, 872],\n",
       " [2138, 505, 1251, 986, 8875, 7367, 1491, 459, 8863, 7499],\n",
       " [8925, 5966, 5410, 2346, 7478],\n",
       " [6577, 511, 4420, 8478, 1458, 7425, 1386],\n",
       " [6926, 4968, 3277, 2823, 3443, 1308, 301, 6678, 860, 4275, 459, 8863, 7499],\n",
       " [8478, 7464, 3026, 3593, 647, 1647, 1491, 7269],\n",
       " [401, 6701, 3020, 5718, 2486, 7531, 2970, 7389, 459, 8863, 7499],\n",
       " [2957, 5112, 6033, 6413, 1909, 9199],\n",
       " [4266, 6536, 8653, 5341, 5351, 6536, 1555, 8001],\n",
       " [6704, 1206, 2361, 5031, 5615, 9974, 2220, 8137, 632, 5952, 7186],\n",
       " [2243, 3484, 3511, 3581, 5211, 5531, 841],\n",
       " [243, 5770, 4462, 6969, 5966, 4402, 989, 6084, 459, 8863, 7499],\n",
       " [5432, 4111, 8717, 7038, 5343, 5089, 2453, 3213, 6947, 9095, 8592],\n",
       " [1790, 1965, 9095, 9093, 8867, 5124],\n",
       " [5419, 6956, 1635, 4100, 8631, 1276, 4056, 9035],\n",
       " [4514, 2063, 2772, 1798, 3742, 894, 5665],\n",
       " [5797, 8891, 9866, 9162, 8393, 8001],\n",
       " [7361, 578, 2207, 459, 8863, 7499],\n",
       " [2878, 4885, 2543, 3481, 5417, 1157, 4471, 6198, 8001],\n",
       " [4704, 3032, 8744, 459, 8863, 7499],\n",
       " [8478, 3330, 859, 511, 2205, 1515, 1386, 5561, 5966, 4516, 4965, 3251, 3823],\n",
       " [459, 2453, 3276, 1609, 8369, 7176, 6733, 5622, 3444],\n",
       " [4780, 4784, 859, 2015, 5190, 7521, 1180, 3665, 459, 8863, 7499],\n",
       " [2050, 9035, 459, 8863, 7499],\n",
       " [4447, 2922, 6120, 6010, 459, 8863, 7499],\n",
       " [3141, 3484, 7417, 7038, 1219, 7015, 8001],\n",
       " [175, 4096, 8271, 4745, 4658, 459, 9087, 6196, 459, 8863, 7499],\n",
       " [9145, 3378, 1162, 3608, 2970, 459, 8863, 7499],\n",
       " [7723, 7912, 9507, 2295, 7617, 7601, 5066, 459, 8863, 7499],\n",
       " [3697, 8605, 3511, 3230, 2180, 4632, 459, 8863, 7499],\n",
       " [2117,\n",
       "  3348,\n",
       "  1368,\n",
       "  9172,\n",
       "  6947,\n",
       "  1748,\n",
       "  4748,\n",
       "  7617,\n",
       "  6222,\n",
       "  5848,\n",
       "  9358,\n",
       "  5903,\n",
       "  9308,\n",
       "  5364,\n",
       "  9716],\n",
       " [4483, 4233, 8517, 2538, 2222, 7264, 4185, 8001],\n",
       " [9830, 5763, 9684, 9308, 7149, 442, 459, 8863, 7499],\n",
       " [4174, 4159, 7887, 9628],\n",
       " [6406, 8984, 9438, 9945, 3276, 9620, 6343, 4117, 5367],\n",
       " [2542, 3511, 6576, 3160, 2814, 4856, 8392, 9451, 9095, 459, 8863, 7499],\n",
       " [9797, 992, 7864, 5873, 1164, 8478, 4123, 4726, 7593, 6792],\n",
       " [5201, 5093, 2729, 3624, 588],\n",
       " [4748, 2856, 5724, 9686, 8328, 1197, 3627, 2163, 9678, 8048, 2593, 8001],\n",
       " [6149, 1877, 395, 9057, 3672, 3388, 2872, 7802, 7856],\n",
       " [1089, 2937, 9967, 2903, 7787, 9255, 7146],\n",
       " [9521, 4591, 3279, 5600, 3868, 6561, 9714, 9095, 3928, 8556],\n",
       " [2711, 7164, 2542, 3511, 6577, 1960, 8840],\n",
       " [2708, 3511, 8162, 9700, 7773, 966, 9128, 293, 3511, 8001],\n",
       " [9447, 5270, 2635, 7962, 5016, 621, 2661, 8198, 9195, 6032, 459, 8863, 7499],\n",
       " [3511, 5225, 7109, 2603, 243, 4269, 9330, 9715, 6968, 459, 8863, 7499],\n",
       " [2542, 3511, 6288, 7245, 7444, 6361, 3277, 2105, 8485, 6061],\n",
       " [5628, 4576, 469, 2374, 7082, 1290],\n",
       " [1386, 3064, 8811, 6880, 3518, 3160, 4984, 8399],\n",
       " [6656, 8533, 88, 9130, 3728, 8720],\n",
       " [8110, 578, 4085, 4034, 8835, 9516, 459, 8863, 7499],\n",
       " [9300, 4420, 8904, 4259, 8067, 8696, 946, 9991, 2969, 6413],\n",
       " [3742, 4907, 3722, 4347, 1441, 2458, 6533],\n",
       " [4266, 6643, 6989, 3484, 3204, 647, 1854, 7269, 9130],\n",
       " [5271, 1283, 2999, 4415, 9040, 3581, 459, 8863, 7499],\n",
       " [7265, 7834, 1409, 5378, 9850, 741, 5957, 6488, 8865],\n",
       " [5482, 5138, 6417, 3114, 7683, 2453, 7478, 4135, 6643, 2635],\n",
       " [9149, 2299, 1163, 4420, 8855, 4483, 9162, 3570, 459, 8863, 7499],\n",
       " [1084, 4420, 3728, 7240, 2453, 6008],\n",
       " [3511, 5225, 4942, 2024, 4986, 4428, 3041, 459, 8863, 7499],\n",
       " [1308, 6096],\n",
       " [3511, 284, 3213, 3779, 1280, 8544, 6319, 4045, 946, 8553, 3216, 9199],\n",
       " [4749, 3184, 4748, 5201, 3834],\n",
       " [7724, 2786, 7086, 5145, 9199],\n",
       " [8904, 3608, 4071, 647, 9978, 7474, 2360, 1355],\n",
       " [2117,\n",
       "  7551,\n",
       "  9395,\n",
       "  5406,\n",
       "  1479,\n",
       "  9013,\n",
       "  6468,\n",
       "  2900,\n",
       "  6216,\n",
       "  7551,\n",
       "  9395,\n",
       "  5406,\n",
       "  1479,\n",
       "  9013,\n",
       "  6468,\n",
       "  2900,\n",
       "  6216,\n",
       "  459,\n",
       "  1533,\n",
       "  8786],\n",
       " [6427, 5966, 7863, 3288, 8224],\n",
       " [9120, 6591, 9966, 3043, 8637, 8981],\n",
       " [6632,\n",
       "  1591,\n",
       "  8855,\n",
       "  7907,\n",
       "  9185,\n",
       "  2531,\n",
       "  8172,\n",
       "  6019,\n",
       "  9035,\n",
       "  4516,\n",
       "  1924,\n",
       "  3828,\n",
       "  6643],\n",
       " [2838, 4986, 3277, 8848, 9400, 5058, 85, 4986, 3277, 8848, 9400, 2838, 8448],\n",
       " [2542, 3511, 5842, 3473, 4185, 8957, 459, 8863, 7499],\n",
       " [9013, 5464, 6643, 277, 8436, 5302, 660],\n",
       " [1584, 2330, 3385, 7753, 6196, 4183, 5357, 630, 2637, 1349, 9162, 8001],\n",
       " [49, 23, 8048],\n",
       " [4132,\n",
       "  8795,\n",
       "  3484,\n",
       "  8713,\n",
       "  4185,\n",
       "  3484,\n",
       "  8436,\n",
       "  85,\n",
       "  5707,\n",
       "  1199,\n",
       "  7189,\n",
       "  5690,\n",
       "  5425,\n",
       "  1288,\n",
       "  3570,\n",
       "  5295,\n",
       "  9199],\n",
       " [5598, 225, 4369, 6831, 9521],\n",
       " [8026, 1590, 7438, 2453, 3518, 9095, 885],\n",
       " [3511, 9329, 2404, 2789, 459, 3403, 5315],\n",
       " [5017, 5961, 9879, 9807, 2453, 3511, 8592, 2089, 459, 8863, 7499],\n",
       " [219, 9281, 4073, 2261, 2048, 9506, 3459, 459, 8863, 7499],\n",
       " [1560, 7080, 1880, 2311, 1757],\n",
       " [1180, 9203, 8641, 9013, 3689, 7176, 3887, 2724],\n",
       " [9507, 2062, 1014, 427, 4629, 5033, 8867, 4035],\n",
       " [4731, 2470, 8556, 2709, 8656, 9991, 6510, 243, 4629],\n",
       " [175, 8972, 4034, 9327, 6443, 4035, 8581, 3277, 3011, 8852, 8001],\n",
       " [6226, 7367, 6447, 301, 7940, 4244],\n",
       " [1050, 9441, 6508, 8206, 929, 9974, 4983],\n",
       " [5021, 9162, 1587, 5348, 5848, 2278, 2609, 6946],\n",
       " [3202, 3511, 5117, 3287, 15, 459, 8863, 7499],\n",
       " [1671, 9426, 7935, 4100, 8242, 2249, 8744, 1982, 2802, 3882, 1033],\n",
       " [2805, 7882, 4415, 3511, 7357, 4859, 5454, 1559],\n",
       " [511, 2144, 4851, 9783, 4817, 4541, 3137],\n",
       " [1009, 1326, 7708, 6323, 4295, 7269, 4158, 9883, 459, 8863, 7499],\n",
       " [1626, 9375, 8171, 1349, 8126, 3796, 8026, 5625, 3038, 459, 8863, 7499],\n",
       " [2799, 1514, 4986, 6988, 3217, 2976, 1493],\n",
       " [4434,\n",
       "  1458,\n",
       "  3551,\n",
       "  5911,\n",
       "  9974,\n",
       "  3487,\n",
       "  94,\n",
       "  3219,\n",
       "  4876,\n",
       "  1530,\n",
       "  3511,\n",
       "  94,\n",
       "  4155,\n",
       "  8001],\n",
       " [3841, 7155, 2531, 8713, 6343, 5117],\n",
       " [3279, 459, 8863, 4748, 9714, 4157, 5454, 859, 459, 8863, 7499],\n",
       " [3511, 7907, 344, 4009, 6386, 1095, 459, 9199, 292, 4748, 474],\n",
       " [1462, 4044, 5994, 1917, 3009, 2026, 5063, 4284, 459, 8863, 7499],\n",
       " [2164, 3511, 1982, 511, 6196, 9035, 1180, 4531, 1434, 8001],\n",
       " [6959, 511, 2934, 6643, 2322, 3581, 24, 5561, 5349, 6959, 511],\n",
       " [2553, 9908, 8786, 9464, 9714, 6122, 15, 8001],\n",
       " [9035, 3401, 929, 94],\n",
       " [8125,\n",
       "  7935,\n",
       "  3706,\n",
       "  9310,\n",
       "  7265,\n",
       "  7797,\n",
       "  14,\n",
       "  4965,\n",
       "  677,\n",
       "  736,\n",
       "  4984,\n",
       "  3803,\n",
       "  6577,\n",
       "  6196,\n",
       "  8001],\n",
       " [3628, 2583, 8936, 9199, 2872, 6450, 3492, 459, 8863, 7499],\n",
       " [9305, 9783, 8098, 5235, 9571, 593, 7027, 9459, 1515],\n",
       " [9945, 2054, 6488, 2047, 3276],\n",
       " [2711, 8206, 3570, 9151, 4302, 3238, 3850, 2307, 1101, 593, 6323, 8811],\n",
       " [9376, 4005, 4002, 272, 1014, 8026],\n",
       " [5050, 8112, 3248, 7705, 2711, 3030, 3511, 8112, 3745],\n",
       " [9529, 1066, 5675, 2965, 3151, 5454, 2538, 9676, 3064, 9199],\n",
       " [2711, 2453, 8436, 7352, 3074, 7310, 7352, 5693, 4900, 459, 8863, 7499],\n",
       " [3481, 9602, 6966, 4147],\n",
       " [8478, 2501, 4158, 9529, 5089, 7476, 6084, 6238],\n",
       " [2178, 2639, 9277, 9417, 6619, 8026, 15, 6643, 4185, 1437],\n",
       " [735, 7335, 6548, 1560, 7839, 5419, 4, 2440, 8198, 8001],\n",
       " [4471, 4145, 7811, 2334, 3537, 7907, 459, 8863, 7499],\n",
       " [8743, 3511, 9013, 2504, 1670, 2209],\n",
       " [4111, 2453, 4613, 8479, 7389, 2711, 6046],\n",
       " [8435, 9900, 7705, 2711, 9974, 9162, 3887, 8139, 1037],\n",
       " [1386, 3805, 4426, 7231, 6246, 1691, 8439, 9366, 5084, 6245, 3237, 8363],\n",
       " [5351, 7027, 8262, 430, 5950, 890, 2033, 459, 8863, 7499],\n",
       " [4483, 3511, 4958, 2027, 9982, 7940, 6488, 5145, 8001],\n",
       " [4111, 2453, 3034, 8400, 4073, 8284, 4941, 3484, 4233],\n",
       " [7328, 6903, 9777, 2531, 4962, 6343, 550, 936, 2111],\n",
       " [4916, 3511, 4185],\n",
       " [8125, 4295, 9553, 9733, 3644, 9413, 4588, 9000, 459, 8863, 7499],\n",
       " [6488, 3134, 2280, 8938, 6433, 9305, 7893, 4543, 459, 8863, 7499],\n",
       " [1550, 2731, 5675, 5957],\n",
       " [7316, 5655, 1653, 1757, 613, 3607, 8001],\n",
       " [9413, 5000, 6548, 6656, 474, 1560, 6831, 5620, 459, 8863, 7499],\n",
       " [1085, 145, 3511, 7907, 4530, 3840, 5330, 6317, 2540],\n",
       " [3511, 8533, 1392, 8713, 3496, 735, 2907, 2137],\n",
       " [4525, 5526, 4147, 4526],\n",
       " [3511, 4368, 9782, 1126, 6367, 8786, 9974, 2935, 8001],\n",
       " [1462, 4044, 7596, 6890, 1653, 4604, 2310, 9203, 459, 8863, 7499],\n",
       " [3642, 9657, 4135, 1667, 293, 2374, 6908, 459, 8863, 7499],\n",
       " [3099, 8795, 8713, 8957, 2724, 9447, 459, 8863, 7499],\n",
       " [578, 1982, 7602, 8529, 6864, 7851, 9308, 459, 8863, 7499],\n",
       " [9013, 6173, 8743, 4147, 9628, 791, 5464, 6911, 459, 8863, 7499],\n",
       " [1625, 4368, 7428, 7340, 8051, 8903, 459, 8863, 7499],\n",
       " [8478, 8594, 5393, 8937, 4466, 9602, 2168, 6834, 4434],\n",
       " [5945, 4478, 5983, 4330, 1601, 7264, 4073, 9851],\n",
       " [2542, 3511, 3484, 8201, 1281, 8081, 459, 8863, 7499],\n",
       " [6067, 3875, 8740, 6626, 1071, 3636, 5261, 3742, 5503],\n",
       " [7834, 7121, 7155, 9756, 6564, 3763, 7159],\n",
       " [5351, 7056, 2515, 8713, 767, 86, 3511, 8546, 4434],\n",
       " [5348, 9965, 4073, 2131, 9108, 6621, 1673],\n",
       " [6000, 6880, 9626, 9761, 5441, 5000, 9438, 7595, 3728],\n",
       " [801, 2062, 6776, 6488, 459, 4233],\n",
       " [2117, 4748, 7155, 1033, 4493, 2711, 9249, 7073, 167],\n",
       " [4731, 2470, 5357, 867, 735, 2907, 2711, 2453],\n",
       " [3511, 5162, 5491, 2446, 9095, 459, 8863, 7499],\n",
       " [251, 801, 1896, 7080, 8343, 4658, 3511, 6643, 6488, 7220, 7474],\n",
       " [2965, 9842, 4986, 7272, 5539, 6149, 3672, 459, 8863, 7499],\n",
       " [8896, 2249, 8533, 7214, 4132, 820, 8001],\n",
       " [9974, 749, 2878, 94, 9162],\n",
       " [2810, 7428, 6999, 4305, 6996, 2810, 992, 9982, 9636, 8813, 7826, 7706, 323],\n",
       " [9167, 1811, 2152, 459, 8863, 7499],\n",
       " [7214, 5378, 6031, 8903, 459, 8863, 7499],\n",
       " [3144,\n",
       "  1941,\n",
       "  3277,\n",
       "  9986,\n",
       "  3933,\n",
       "  4327,\n",
       "  7152,\n",
       "  8110,\n",
       "  1248,\n",
       "  3170,\n",
       "  736,\n",
       "  7548,\n",
       "  3277,\n",
       "  6968,\n",
       "  6270,\n",
       "  2105,\n",
       "  1631],\n",
       " [2987, 3745, 2793, 5835, 1590, 8067, 9301, 2651, 3895, 7984, 8001],\n",
       " [5783, 9174, 4374, 4974, 5473, 4057, 1770, 6206, 8001],\n",
       " [9807, 1386, 5391, 9807, 6502, 561, 336, 5865, 1847, 3348, 8917],\n",
       " [1499, 5867, 3406, 9294, 3966, 1881, 4, 4310, 6629, 6903, 5138, 649, 8001],\n",
       " [6919, 3894, 3481, 9493, 3114, 2594, 4880, 1982, 1492],\n",
       " [4907, 6033, 4983, 9138, 5496, 1349, 6639, 1200, 2131, 8001],\n",
       " [5305, 9934, 7314, 5561, 557, 8046],\n",
       " [9130, 1490, 2518, 8628],\n",
       " [1842, 2131, 5572, 6348, 7724, 5072, 1856, 9072, 4310, 8001],\n",
       " [4989, 6615, 2131, 3403, 1984, 9095, 2325, 988],\n",
       " [5561, 6947, 459, 8863, 7499],\n",
       " [6844, 2542, 3511, 3978, 9644, 4345, 8081, 459, 8863, 7499],\n",
       " [3929, 2711],\n",
       " [5721, 6835, 7907, 4034, 3806, 459, 8863, 7499],\n",
       " [2117, 8517, 7634, 9837],\n",
       " [6317, 2453, 9991, 2724],\n",
       " [1462, 9091, 7335, 9329, 4096, 3511, 459, 8863, 7499],\n",
       " [459, 8863, 7499, 3230, 1349, 5033, 9991, 9108, 6643, 459, 8863, 7499],\n",
       " [1290, 4508, 5902, 8167, 1386, 892, 1386, 8262, 4434],\n",
       " [3998, 459, 8863, 7499],\n",
       " [2711, 2453, 6237, 4876, 8813, 459, 8863, 7499],\n",
       " [6522, 7605, 7021, 685, 427, 9553, 4615],\n",
       " [3511, 7831, 1453, 7358, 5031],\n",
       " [2711, 6270, 3734, 9281, 331, 6947, 4665, 9108, 5684],\n",
       " [6407, 4045, 427, 3841, 9807, 459, 8863, 7499],\n",
       " [5701, 570, 3018, 9733, 7122, 459, 8863, 7499],\n",
       " [3511, 8981, 3160, 5994, 456, 8631, 459, 8863, 7499],\n",
       " [219, 944, 3758, 8581, 5360, 8342, 5621, 290, 459, 8863, 7499],\n",
       " [7297, 6901, 243, 4269, 8713, 7264, 5866, 1433, 1180, 459, 8863, 7499],\n",
       " [1553, 3511, 4580, 715, 7250, 8001],\n",
       " [7762, 5985, 2453, 3276, 1653, 2874, 5567, 4617, 3004, 3511, 6277],\n",
       " [4275, 6316, 6683, 2651, 4235],\n",
       " [3272, 967, 7082, 2132, 4478, 8835, 2132, 95, 564, 8001],\n",
       " [2875, 9095, 6268, 7877, 4883, 8530, 5834],\n",
       " [7280, 4158, 8544, 1326, 9474, 647, 2002, 993],\n",
       " [5744, 6831, 885, 988, 1327, 3942, 4597, 459, 8863, 7499],\n",
       " [715, 6431, 9197, 2635, 5542, 6643],\n",
       " [3511, 8434, 2280, 1219, 4483, 4233, 1202, 8835, 7240],\n",
       " [2802, 3511, 859, 2518, 6683, 6947, 9066, 8001],\n",
       " [7593, 4185, 4483, 2826, 8161, 8288, 4034, 9035, 9162, 2542, 3511],\n",
       " [2097, 6706, 6643],\n",
       " [4475, 3742, 3841, 7842, 9662, 1441, 3073, 465, 4182, 4058, 8983, 466],\n",
       " [9507, 2062, 1014, 427, 8743, 4629, 5033, 8867, 4035],\n",
       " [9516, 7280, 4330, 4465, 2553, 7877],\n",
       " [8391, 5657, 1132, 8149, 1157, 9602, 251, 5837],\n",
       " [6999, 1560, 2711, 2453, 8937],\n",
       " [3841, 9123, 8709, 2515, 3487, 8471, 6084],\n",
       " [6643, 6173, 2723, 459, 2282],\n",
       " [2711, 1163, 2243, 3484, 3213],\n",
       " [980,\n",
       "  774,\n",
       "  4085,\n",
       "  5038,\n",
       "  5881,\n",
       "  271,\n",
       "  1033,\n",
       "  9413,\n",
       "  7176,\n",
       "  5526,\n",
       "  8159,\n",
       "  459,\n",
       "  8863,\n",
       "  7499],\n",
       " [2117,\n",
       "  9770,\n",
       "  7459,\n",
       "  8755,\n",
       "  2685,\n",
       "  8531,\n",
       "  9770,\n",
       "  7459,\n",
       "  8755,\n",
       "  2685,\n",
       "  8531,\n",
       "  8248,\n",
       "  3521,\n",
       "  8220],\n",
       " [2542, 3511, 9130, 6025, 1961, 4345, 8081, 459, 8863, 7499],\n",
       " [9633, 5714, 2243, 3484, 8242, 6085, 99],\n",
       " [4368,\n",
       "  8908,\n",
       "  8479,\n",
       "  8880,\n",
       "  6170,\n",
       "  9506,\n",
       "  4965,\n",
       "  6304,\n",
       "  5801,\n",
       "  4061,\n",
       "  8479,\n",
       "  5539,\n",
       "  5464,\n",
       "  2556,\n",
       "  8001],\n",
       " [5078,\n",
       "  1564,\n",
       "  7877,\n",
       "  3481,\n",
       "  1157,\n",
       "  2152,\n",
       "  9616,\n",
       "  8790,\n",
       "  8837,\n",
       "  8277,\n",
       "  7627,\n",
       "  7370,\n",
       "  3467,\n",
       "  8001],\n",
       " [8960, 153, 3789, 3841, 7804],\n",
       " [2608, 588, 3348, 5391, 1940, 588, 459, 8863, 7499],\n",
       " [5647, 1453, 5567, 4900, 2711, 1524, 6085, 7683, 7879],\n",
       " [9162, 2724, 7365, 3550, 1197, 6643],\n",
       " [4872, 8420, 4073, 6170, 4398, 459, 8762, 4100, 6066, 6845, 9034, 5078],\n",
       " [3511, 511, 3727, 7476],\n",
       " [1386, 8529, 7214, 8257, 5842, 4965, 7787],\n",
       " [8553, 1590, 4122, 1584, 1881, 535, 5364],\n",
       " [2344, 6173, 6561, 7143, 9413, 7707, 7304, 459, 8863, 7499],\n",
       " [8840, 7773, 6484, 9714, 5419, 8188, 3166, 9199],\n",
       " [7709, 9095, 7709, 874, 1930, 9810],\n",
       " [7162, 3633, 4434, 6986, 9900, 5561, 5966, 9434, 2970, 6337, 459, 8863, 7499],\n",
       " [9009, 2449, 4748, 5201, 3566, 9013, 3665, 2634, 920, 459, 8863, 7499],\n",
       " [2499, 9459, 9354, 9035, 7314, 4588, 1767, 2097],\n",
       " [557, 8904, 7165, 3459, 7038, 2542, 3511, 6488, 9346],\n",
       " [1620, 4176, 4748, 1393, 6905, 8717, 811, 4235, 459, 8863, 7499],\n",
       " [8592, 8172, 3173, 3348, 8917],\n",
       " [75, 9413, 7080, 4876, 9791, 8842, 3828, 2181, 4233, 1667, 459, 8863, 7499],\n",
       " [492, 7990, 9607, 827, 8400, 2556, 6196, 44, 7181],\n",
       " [9974, 749, 6536, 2760, 1101, 7220, 3511],\n",
       " [3968, 6170, 9214, 2542, 3511, 6046, 9553, 920],\n",
       " [8001, 9900, 3882, 5108, 5699, 8001],\n",
       " [3511, 8786, 5904, 255],\n",
       " [6632, 8472, 2513, 6196, 3624, 4364, 9972, 7779, 9199, 8001],\n",
       " [2444, 4002, 272, 3451, 3511, 459, 8863, 7499],\n",
       " [6908, 2041, 4330, 1670, 9392, 2131, 2918, 4045, 459, 8863, 7499],\n",
       " [5665, 8057, 2970, 5288, 5786, 9496, 7845, 459, 8863, 7499],\n",
       " [9905, 3895, 7357, 6502, 8786, 9329, 3511, 8001],\n",
       " [8471, 5397, 8284, 336, 537, 6173, 5397, 1564, 9162],\n",
       " [8749, 5784, 1402, 498, 4588, 3653],\n",
       " [5929, 459, 1179, 1162, 4185],\n",
       " [5976, 3618, 6196, 1632, 3608, 4183],\n",
       " [219, 8226, 1518, 4808, 8855, 9019, 3194, 4096, 3511, 459, 8863, 7499],\n",
       " [],\n",
       " [4588, 5151, 7357],\n",
       " [3511, 578, 7109, 2444, 7694],\n",
       " [6812, 854, 5331, 3319, 890, 6743, 5417, 1393, 459, 8863, 7499],\n",
       " [1274, 8026, 9329, 459, 8863, 8342, 5069, 459, 8863, 7499],\n",
       " [5360, 1083, 2310, 9747, 477, 99, 8001],\n",
       " [6903, 5360, 2642, 6228, 2878, 7819, 6146, 5190, 459, 8863, 7499],\n",
       " [8499, 62, 3745, 4275, 557, 8592, 459, 8863, 7499],\n",
       " [2711, 2453, 4641, 6085, 6062, 4286, 1555, 3317, 6066, 5717, 5561],\n",
       " [1134, 3288, 9807, 459, 8863, 7499],\n",
       " [7240, 2711, 3257, 7710],\n",
       " [4111, 6990, 5202, 3511, 9095, 6343, 1982, 459, 4570, 459, 8863, 7499],\n",
       " [3442, 2542, 3511, 9555, 459, 8863, 7499],\n",
       " [4884,\n",
       "  7073,\n",
       "  3251,\n",
       "  3511,\n",
       "  6577,\n",
       "  459,\n",
       "  5561,\n",
       "  3550,\n",
       "  3348,\n",
       "  578,\n",
       "  7831,\n",
       "  5113,\n",
       "  1134,\n",
       "  3351],\n",
       " [3122, 4132, 4185, 3257, 9249, 8820, 9974, 3487, 4407, 3608, 8001],\n",
       " [2542, 3511, 923, 1561, 8972, 5945, 6928, 6054, 161, 175, 4034],\n",
       " [1903, 9025, 3554, 3815],\n",
       " [4111, 8578, 593, 5966, 5561, 7535, 2191, 2970, 3206, 459, 8863, 7499],\n",
       " [4005, 2350, 9046, 9130, 2131, 9228, 6710, 7367, 459, 8863, 7499],\n",
       " [2651, 4123, 4111, 3413, 736, 711],\n",
       " [6721, 7332, 6748, 6831, 1660, 2970, 6891, 459, 8863, 7499],\n",
       " [5064, 3791, 7231, 2249, 2181, 6062, 3030, 9234, 8001],\n",
       " [6526, 9912, 8194, 3430, 8638, 9043, 936, 2212],\n",
       " [2987, 8624, 2086, 3272, 5270, 3887, 885, 5270, 8001],\n",
       " [7264, 9384, 1528, 3392, 6235],\n",
       " [8544, 9162, 7269, 3841, 6085, 8418, 459, 8863, 7499],\n",
       " [4165, 3940, 6821, 6345, 8392, 2453, 459, 8863, 7499],\n",
       " [6831, 9505, 8127, 4147, 1433, 9602, 908, 4434],\n",
       " [3511, 8392, 8533, 7567, 5705, 3628, 9332],\n",
       " [4085, 5138, 3230, 1881, 4235, 9057],\n",
       " [3511, 2897, 6577, 6606, 3401, 5464, 8001],\n",
       " [9308, 5389, 8811, 2303, 2152, 1252, 557, 5305, 8328, 5952],\n",
       " [511, 3041, 6999, 2149, 3511, 7056, 1838, 3213, 4438, 8840],\n",
       " [2378, 8472, 1040, 1969, 4926, 4868, 459, 8863, 7499],\n",
       " [5985, 2453, 3276, 1653, 2874, 5567, 4617, 3004, 3511, 6277],\n",
       " [2711, 7198, 6191, 4493, 1306, 4108, 3581],\n",
       " [1453, 4433, 2106, 9442, 6196, 5881, 459, 8863, 7499],\n",
       " [5348, 7197, 8205, 1453, 2310, 8981, 7812, 6475, 6643, 3475, 7531, 3828],\n",
       " [4111, 2453, 3581, 8479, 9733, 5481, 389, 2711, 6643],\n",
       " [7440, 2131, 2132, 2339, 9151, 4724, 4900, 459, 8863, 7499],\n",
       " [3511, 86, 5131, 1386, 5106, 6656, 459, 8863, 7499],\n",
       " [9009, 8113, 9249, 647, 845, 6678, 2470, 459, 8863, 7499],\n",
       " [9521, 4779, 657, 53, 3942, 6831],\n",
       " [2838, 3377, 7640, 766, 8833],\n",
       " [5966, 1490, 4695, 7295, 4983, 9329, 7214, 8556, 4952, 6084],\n",
       " [6990, 5117, 3367, 2421, 5270, 1982],\n",
       " [8471, 5561, 2132],\n",
       " [3184, 4748, 8925, 4278, 44, 8342, 1014, 5945, 3213, 885, 3138, 6865, 8001],\n",
       " [8835, 1940, 8196, 8473, 7629, 8799, 6816],\n",
       " [2711, 1561, 5305, 3966, 5800, 3979, 2042, 3608, 3992, 5461],\n",
       " [3630, 9035, 7438, 6643, 4185, 5800, 7733, 8945],\n",
       " [7204, 6966, 9965, 998, 6098, 760, 7531, 3828],\n",
       " [1584,\n",
       "  9413,\n",
       "  1453,\n",
       "  5469,\n",
       "  9057,\n",
       "  8544,\n",
       "  4590,\n",
       "  7809,\n",
       "  7057,\n",
       "  1139,\n",
       "  7911,\n",
       "  494,\n",
       "  4123,\n",
       "  7214,\n",
       "  8001],\n",
       " [7320, 964, 3313, 3608, 7391, 2243, 3484],\n",
       " [1574, 6488, 8653, 4252, 6812, 9455, 7425, 1493, 459, 8863, 7499],\n",
       " [9199, 9960, 3727, 3511, 7907, 344, 6947, 8356, 9900, 1626, 1667],\n",
       " [3279, 3581, 2444, 5224, 8206],\n",
       " [2361, 2050, 5539, 7037, 5394],\n",
       " [4123, 9214, 590, 5898, 8439, 459, 8863, 7499],\n",
       " [44, 5596, 623, 6905, 4160, 3475, 459, 8863, 8171, 459, 8863, 7499],\n",
       " [5655, 7911, 3612, 6812, 5013, 4653, 1386, 6926, 459, 8863, 7499],\n",
       " [4749, 9892, 4986, 6085, 5201, 1626, 1281, 459, 8863, 7499],\n",
       " [5539, 6149, 8533, 7756, 5263, 9057, 8538, 8001],\n",
       " [8835, 8436, 9508, 7724, 9889, 5302, 5451, 6369],\n",
       " [5675,\n",
       "  5966,\n",
       "  4434,\n",
       "  8196,\n",
       "  2706,\n",
       "  2635,\n",
       "  4509,\n",
       "  9308,\n",
       "  9720,\n",
       "  394,\n",
       "  4135,\n",
       "  2137,\n",
       "  9678,\n",
       "  3644],\n",
       " [7350, 4711, 6947, 2711, 2453, 6947, 6282],\n",
       " [4123, 1811, 5058, 1624, 3841, 459, 8863, 7499],\n",
       " [3392, 4694, 1609, 7093, 8960, 1811, 1017, 1811, 459, 8863, 7499],\n",
       " [3012, 3921, 3484, 1536, 2453, 570, 8375, 459, 8863, 7499],\n",
       " [2867, 4926, 8934, 3511, 4035, 3992, 459, 8863, 7499],\n",
       " [7680, 6133, 1084, 7896, 4154, 6046, 3204, 2220, 7763],\n",
       " [3511, 4595, 6085, 6346, 535, 5277, 8188, 459, 8863, 7499],\n",
       " [6508, 3598, 4748, 9308, 8544, 9308, 5917, 8945, 9413, 4983, 6881],\n",
       " [2117, 4390, 8739, 5954, 7282, 7379, 4390, 8672, 3702],\n",
       " [8212, 9310, 3511, 5089, 6772, 3041, 459, 8863, 7499],\n",
       " [3231, 6812, 4073, 9108, 1584, 5103, 9861, 932, 8001],\n",
       " [2922, 9971, 4558, 5724, 459, 8863, 7499],\n",
       " [6360, 4927, 8160, 3346, 6947, 5857, 1670, 9203, 459, 8863, 7499],\n",
       " [2111, 4779, 2617, 9936, 8894, 1048, 3644],\n",
       " [6170, 6196, 225, 8592, 4284, 3487],\n",
       " [9278, 266, 5072, 7627, 5655, 2630, 3018, 459, 8863, 7499],\n",
       " [9507, 3570, 6999, 6961, 459, 8863, 7499],\n",
       " [1475, 1655, 4310, 6311, 3048, 9035, 9162, 2542, 3511],\n",
       " [8503, 7811, 9834, 3672, 1838, 7381, 2062, 459, 8863, 7499],\n",
       " [3487, 1426, 344, 7149, 3043, 505, 1634, 5491],\n",
       " [1857, 647, 5419, 2168, 1609, 6869, 2205, 459, 8863, 7499],\n",
       " [3513, 9373, 4096, 459, 8863, 7499],\n",
       " [3608,\n",
       "  5784,\n",
       "  6437,\n",
       "  1965,\n",
       "  769,\n",
       "  6046,\n",
       "  4748,\n",
       "  4779,\n",
       "  7109,\n",
       "  324,\n",
       "  5705,\n",
       "  6285,\n",
       "  7395,\n",
       "  4035],\n",
       " [6980, 3317, 623, 4560, 1530, 430, 7135],\n",
       " [1218, 8305, 7977, 6531, 5277, 1205, 5288, 1626],\n",
       " [5705, 7160, 2811, 9149, 2965, 9442, 3745, 505, 7020, 266, 459, 8863, 7499],\n",
       " [7121, 3435, 3740, 623, 2325, 6046, 62, 8001],\n",
       " [2157, 8272, 9763, 401, 1638, 3706, 1386, 8529, 9718, 7175, 459, 8863, 7499],\n",
       " [5985, 8345, 459, 1653, 3276, 2453, 4931, 9974, 3739],\n",
       " [8194, 7632, 8478, 6653, 7370, 6956],\n",
       " [4434, 2937, 5425, 3511, 1100, 2249, 7146, 7890],\n",
       " [9529, 6170, 2892, 8895, 7082, 4284],\n",
       " [1375, 9189, 1500, 3592, 6343, 8478, 8125, 1308],\n",
       " [7155, 9370, 2201, 9163, 459, 8863, 7499],\n",
       " [2542, 3511, 6825, 9069, 5419, 4984, 86, 459, 8863, 7499],\n",
       " [6241, 1560, 2996, 6905, 5501, 9249, 459, 8863, 7499],\n",
       " [2651, 5798, 8272, 7553, 6779, 8081, 459, 8863, 7499],\n",
       " [219, 385, 902, 485, 9271, 2350, 3570, 459, 8863, 7499],\n",
       " [462, 3048, 9894, 1458, 946, 4096, 7817, 5356, 4672, 3277, 459, 8863, 7499],\n",
       " [6643, 2569, 2322, 2635, 5542, 6643, 1349, 1719],\n",
       " [5270, 2374, 9406, 5985, 6968, 550, 6488, 5305, 459, 2453, 3276, 1653],\n",
       " [9199, 5837, 9197, 3444, 6196, 915, 9073, 3276, 9802, 6317],\n",
       " [2542, 3511, 3388, 8400, 7833, 570],\n",
       " [1318, 1033, 3335, 8844, 2711, 2453, 9252, 6174],\n",
       " [4965, 7709, 4056, 8785, 5994, 9035, 459, 8863, 7499],\n",
       " [5783, 471, 3567, 9013, 859, 6140, 647, 6539, 459, 8863, 7499],\n",
       " [7465, 9249, 7578, 2056, 5510],\n",
       " [3812, 8517, 557, 5305, 6947, 9293, 3511, 5701, 9620, 8001],\n",
       " [31, 1257],\n",
       " [7220, 931, 910, 5952, 2672, 2002, 94],\n",
       " [2935, 603, 2711, 2453, 8544, 9004, 4750, 6643, 4199],\n",
       " [6244, 6622, 8759, 7422, 3733, 4136, 459, 8863, 7499],\n",
       " [2161, 7179, 2322, 5675, 7441],\n",
       " [3277,\n",
       "  4965,\n",
       "  9804,\n",
       "  3277,\n",
       "  167,\n",
       "  2838,\n",
       "  5315,\n",
       "  3277,\n",
       "  4729,\n",
       "  4809,\n",
       "  9684,\n",
       "  3144,\n",
       "  706,\n",
       "  5696,\n",
       "  7885],\n",
       " [6908, 3139, 7709, 7083, 4096, 9900],\n",
       " [8596, 1159, 5966, 5744],\n",
       " [1349, 94, 4100, 7103, 9329],\n",
       " [4434, 2062, 8713, 8356, 3511, 7627, 3507, 9035, 3344, 9900, 2623],\n",
       " [3511, 9163, 6484, 5360, 7840, 2542, 3511, 5542, 7214],\n",
       " [8019, 7705, 7390, 6039, 9281, 4873],\n",
       " [3745, 8240, 326, 1478, 9281, 5017, 5137, 2122],\n",
       " [3511, 6643, 9308, 265, 570, 8970],\n",
       " [6999, 7335, 3707, 2814, 9035, 1180, 649, 8533, 8001],\n",
       " [9521, 6343, 3511, 4660, 4948, 8880, 5137, 3484],\n",
       " [8472, 5386, 3511, 1031, 5232, 4206, 1015, 6140, 9095],\n",
       " [550, 3942, 3803],\n",
       " [9765, 344, 6698, 8503, 8533, 3100],\n",
       " [6710, 2015, 3644, 9308, 3170, 8035, 459, 8863, 7499],\n",
       " [4563, 2024, 7357, 6114, 2650, 5126, 5650, 7763, 1048, 8001],\n",
       " [1824, 6235, 1170, 3582, 4859, 1164, 537, 1034, 4273, 6678],\n",
       " [4434, 9400, 6812, 5069, 149, 6062, 821, 2789, 9203, 8001],\n",
       " [4420, 9936, 8863, 2278, 2307, 1539, 9040],\n",
       " [9162, 8236],\n",
       " [5516, 6116, 3375, 5782, 4121, 8069, 459, 8863, 7499],\n",
       " [9400, 6698, 7694, 7365, 2217, 6173, 1982, 8001],\n",
       " [5567, 4900, 2711, 9477, 9571, 612, 9093],\n",
       " [9659, 2833, 7381, 4846, 459, 8863, 7499],\n",
       " [9962, 4406, 818, 9791, 8906, 459, 8863, 7499],\n",
       " [8038, 3132, 3411, 4159, 8420, 459, 8863, 7499],\n",
       " [8553, 206, 7691, 1698, 1437, 8875, 459, 8863, 7499],\n",
       " [3511, 5866, 5225, 607, 9182, 8908, 8678, 9308, 6915, 459, 8863, 7499],\n",
       " [8099,\n",
       "  747,\n",
       "  6999,\n",
       "  3272,\n",
       "  4483,\n",
       "  7704,\n",
       "  7941,\n",
       "  4074,\n",
       "  7993,\n",
       "  6237,\n",
       "  3745,\n",
       "  6369,\n",
       "  7125,\n",
       "  459,\n",
       "  8863,\n",
       "  7499],\n",
       " [3465, 5011, 3029, 636, 6522, 459, 8863, 7499],\n",
       " [3033, 505, 5842, 9251, 859, 3511, 2804],\n",
       " [4434, 3511, 6085, 3628, 9332, 8533, 929, 4529, 1453, 5469, 8001],\n",
       " [5270, 5280, 5655, 9163, 7365, 3551, 7220, 1319, 9974, 8001],\n",
       " [677, 8478, 5628, 4552, 459, 2711, 3276, 5325, 2569, 486, 2137, 5985],\n",
       " [2502, 3966, 8738, 677, 4364, 767, 459, 8863, 7499],\n",
       " [8402, 3898, 7027, 9113],\n",
       " [8400, 6222, 2928, 8743, 4872, 4073],\n",
       " [9479, 2651, 8544, 4369, 4931, 5473, 857, 8001],\n",
       " [219, 8689, 2615, 9864, 8467, 9329, 8194, 459, 8863, 7499],\n",
       " [7381, 3608, 9001, 8356, 2906, 1014, 4160, 7731, 5883, 9001],\n",
       " [6334, 1379, 4520, 459, 8863, 7499],\n",
       " [7266, 5891, 2711, 1199, 9628, 8738, 4073, 4965, 6985],\n",
       " [4869, 3272, 1866, 4206, 3728, 1499, 1221, 4876, 2938, 5304, 8001],\n",
       " [6743, 660, 3484, 5064, 992, 1478, 9807, 459, 8863, 7499],\n",
       " [4516, 2826, 3256, 8592, 3511, 4958],\n",
       " [4748, 8628, 2015, 8479, 4988, 6926],\n",
       " [5479, 8917, 1847, 9004],\n",
       " [9793, 4145, 7428, 1712, 459, 7595, 7463, 711, 3644],\n",
       " [1965, 5900, 2310, 4695, 9418, 2515, 3091, 253, 459, 8863, 7499],\n",
       " [1084, 1134, 2550, 395, 9162, 2542, 3511],\n",
       " [7280, 9308, 1409, 5476, 1326, 1955, 8556, 7476, 459, 8863, 7499],\n",
       " [7121, 4235, 511, 4983, 7834, 9199],\n",
       " [4558, 5594, 9276, 9203, 4534, 4434, 3550, 1530, 4516, 505, 459, 8863, 7499],\n",
       " [2711, 7383, 3913, 6317, 3444, 4272],\n",
       " [5867, 2, 2203, 9848, 243, 6779, 8081, 459, 8863, 7499],\n",
       " [5833, 4195, 6196, 7438, 6489, 3121, 2344, 6343, 6057],\n",
       " [2470, 2453, 8503, 4278, 4745, 2220, 1284, 3791, 6032, 304],\n",
       " [1084, 9329, 3511, 3257, 2802, 92, 7499, 459, 8863, 7499],\n",
       " [7476, 9402, 647, 5421, 1162, 7269, 3593],\n",
       " [8663, 2711, 9087],\n",
       " [9308, 4282, 6078, 8479, 8452, 3474, 1653, 2711, 6317],\n",
       " [1961, 355, 6783, 2666, 6140, 9195, 7935, 459, 8863, 7499],\n",
       " [5966,\n",
       "  6526,\n",
       "  9912,\n",
       "  3942,\n",
       "  3608,\n",
       "  3194,\n",
       "  1037,\n",
       "  2167,\n",
       "  6215,\n",
       "  9912,\n",
       "  8436,\n",
       "  6386,\n",
       "  9305],\n",
       " [9889, 2276, 3521, 5200, 8594, 5393, 9329, 459, 8863, 7499],\n",
       " [2117,\n",
       "  2361,\n",
       "  2050,\n",
       "  2241,\n",
       "  1082,\n",
       "  9854,\n",
       "  2361,\n",
       "  2050,\n",
       "  2241,\n",
       "  1082,\n",
       "  9854,\n",
       "  529,\n",
       "  2804,\n",
       "  8628,\n",
       "  7086],\n",
       " [1084, 6573, 3151, 550, 3413, 3403, 5684, 5985, 1407, 2906],\n",
       " [5419, 219, 6579, 8533, 8240, 6779, 749],\n",
       " [6632, 9498, 8479, 8478, 5278, 1281, 5229, 6032, 7038, 9886],\n",
       " [6903, 8478, 6577, 6450, 7014, 9960, 6191, 9308, 9900, 9199],\n",
       " [8908, 1134, 1620, 2222, 4680, 5654, 915, 5117, 4558, 459, 8863, 7499],\n",
       " [6779, 8081, 2711, 2453, 2542, 3511, 7370, 9548, 459, 8863, 7499],\n",
       " [734, 1926, 6742, 1017, 6191, 4233, 6032, 5704, 1393, 6196, 3944, 7240],\n",
       " [4558, 5594, 5179, 7709, 459, 5844, 459, 8863, 7499],\n",
       " [3184, 5266, 1773, 9992, 3058, 4588, 9162, 459, 8863, 7499],\n",
       " [5798, 2814, 3652, 1180, 454, 3288, 4272, 728],\n",
       " [2542, 3511, 7381, 9238, 9861, 3521, 3382],\n",
       " [6632, 576, 747, 5126, 3593, 5966, 4576, 5966, 2724, 2233, 8001],\n",
       " [9602, 5784, 263, 3026, 1555, 2],\n",
       " [6655, 204, 8242, 6528, 4636],\n",
       " [4661, 2378, 7074, 6152, 2280],\n",
       " [4712, 7498, 3282, 7572, 8042, 8503, 8001],\n",
       " [3080, 95, 8934, 225, 3608, 8048],\n",
       " [1333, 1105, 3511, 6496, 8392, 4100, 5089, 7335, 7250, 459, 8863, 7499],\n",
       " [7507, 5665, 2149, 8533, 3100, 8392, 1458, 2709, 8001],\n",
       " [6916, 5417, 427, 5393],\n",
       " [6071, 7140, 505, 9010, 9521, 3796, 9108, 6871, 459, 8863, 7499],\n",
       " [8105, 6196, 7206, 5454, 5927, 459, 8863, 7499],\n",
       " [2203, 6383, 9095, 5945, 4588, 9001, 8061],\n",
       " [3882, 4542, 5280, 8054, 1566],\n",
       " [1625, 3603, 2203, 5664, 9162, 3511, 7282, 2639, 2540, 2312],\n",
       " [5726, 6056, 5082, 6562, 428, 3511, 749, 4369, 459, 8863, 7499],\n",
       " [2456, 1491, 6247, 3728, 8968, 9395, 1134, 960],\n",
       " [447, 9013, 395, 6812, 1277, 2282, 459, 8863, 7499],\n",
       " [3327, 8934, 1084, 7686, 7551, 8330, 459, 8863, 7499],\n",
       " [5985, 721, 9013, 8048, 7989, 8478, 7689, 7938, 8647],\n",
       " [8184, 2042, 8922, 8408, 199, 9151],\n",
       " [3277, 8628, 4434, 2903, 9553, 5417, 1748, 14],\n",
       " [9668, 9974, 3487, 8026, 2817, 3026],\n",
       " [8478, 1386, 5351, 2322, 7139, 8880, 9308, 769, 7333, 1553],\n",
       " [9308, 2633, 5201, 1815, 647, 3866, 590, 459, 8863, 7499],\n",
       " [3507, 8452, 3833, 6643, 4185, 2635, 3507, 9035, 3344, 9900, 2623],\n",
       " [9974, 749, 4651, 647, 7716, 7944],\n",
       " [2278, 1442, 1770, 1536, 6307, 7558, 2062],\n",
       " [6577,\n",
       "  3511,\n",
       "  7119,\n",
       "  7601,\n",
       "  7023,\n",
       "  3194,\n",
       "  1180,\n",
       "  8400,\n",
       "  6413,\n",
       "  9113,\n",
       "  4729,\n",
       "  4185,\n",
       "  7180,\n",
       "  4233,\n",
       "  8001],\n",
       " [2711, 2453, 8392, 8479, 7661, 9162, 3502, 9095],\n",
       " [5189, 8177, 1199, 1997, 3408, 9072, 7141],\n",
       " [9851, 1670, 5927, 9040, 9050],\n",
       " [6307, 6144, 1847, 3030, 9040, 5717, 1847],\n",
       " [1620, 6956, 9626, 8392, 8533, 3100, 2151, 3523],\n",
       " [4035, 8781, 9151, 6478, 6484],\n",
       " [4147, 9285, 2814, 6388, 7176, 4073, 459, 8863, 7499],\n",
       " [3612, 1077, 6386, 9305, 647, 2355, 8499],\n",
       " [3791, 7231, 2249, 7675, 3620, 5815, 7537],\n",
       " [3511, 324, 8499, 1969, 7680, 6133, 273, 6865, 459, 8863, 7499],\n",
       " [8001, 9900, 3882, 3272, 6314, 8001],\n",
       " [2711, 9249],\n",
       " [5311, 1349, 574, 5461, 6776, 601, 2317, 6413],\n",
       " [2542, 3511, 1625, 605, 6197, 8707, 6779, 8081, 459, 8863, 7499],\n",
       " [3484, 7328, 3833, 3403, 8717],\n",
       " [4233, 1984, 4233, 9571, 3259, 8193, 6054, 8001],\n",
       " [3277, 7403, 8894, 6921, 7478],\n",
       " [2479, 1835, 1453, 5149, 8957, 4051, 9529, 1308, 8001],\n",
       " [2083, 478, 75, 5866, 6533, 459, 8863, 7499],\n",
       " [2569, 2050, 7176, 7911, 6831, 4888, 7689, 4073, 9900],\n",
       " [2878, 4478, 1515, 5221, 4330, 3607, 1840, 8490, 9332, 4369, 8001],\n",
       " [8471, 7877, 4406, 3630, 4035, 9249, 1748, 2515],\n",
       " [3511, 3665, 1914, 2406, 6561, 395, 2101, 459, 8863, 7499],\n",
       " [9807, 673, 6903, 2444, 3583],\n",
       " [9885, 647, 1207, 9545, 459, 8863, 7499],\n",
       " [2117, 8743, 1124, 2310, 9840],\n",
       " [7762, 5985, 2453, 3276, 1653, 2874, 5567, 4617, 3004, 3511, 6277],\n",
       " [5093, 2152, 3593, 9506, 5476, 3449, 3378, 459, 8863, 7499],\n",
       " [9529, 336, 7021, 6561, 3570, 4096, 1386],\n",
       " [3628, 3841, 8835, 7856, 4391, 2465, 6678, 9530, 9991, 6046],\n",
       " [9507, 2062, 1014, 427, 8342, 3882, 8137],\n",
       " [7172, 6056, 9249, 4035, 4629, 5033, 8867, 827, 4273],\n",
       " [3511, 1880, 9493, 4369, 8743, 730, 9108, 459, 8863, 7499],\n",
       " [593, 9111, 1653, 5765, 854],\n",
       " [9507, 389, 7285, 2062, 4147, 2502, 6831],\n",
       " [2518, 8628, 6868, 736, 3955, 3160, 5454],\n",
       " [9532, 3307, 5476, 5561],\n",
       " ...]"
      ]
     },
     "execution_count": 63,
     "metadata": {},
     "output_type": "execute_result"
    }
   ],
   "source": [
    "onehot_repr=[one_hot(words,voc_size)for words in df['transformed_text']] \n",
    "onehot_repr"
   ]
  },
  {
   "cell_type": "code",
   "execution_count": 64,
   "id": "fWFFYwOsITpZ",
   "metadata": {
    "id": "fWFFYwOsITpZ"
   },
   "outputs": [],
   "source": [
    "## Embedding Representation"
   ]
  },
  {
   "cell_type": "code",
   "execution_count": 65,
   "id": "pQjTbiRWI-dq",
   "metadata": {
    "colab": {
     "base_uri": "https://localhost:8080/"
    },
    "id": "pQjTbiRWI-dq",
    "outputId": "26209791-0a32-47d9-ffde-e4baea5bfdbd"
   },
   "outputs": [
    {
     "name": "stdout",
     "output_type": "stream",
     "text": [
      "[[   0    0    0 ... 7071 1695 9251]\n",
      " [   0    0    0 ... 1280 8883 8001]\n",
      " [   0    0    0 ... 1374 6947 3277]\n",
      " ...\n",
      " [   0    0    0 ...  459 8863 7499]\n",
      " [   0    0    0 ...  459 8863 7499]\n",
      " [   0    0    0 ...  843 9285 7255]]\n"
     ]
    }
   ],
   "source": [
    "sent_length=20\n",
    "embedded_docs=pad_sequences(onehot_repr,padding='pre',maxlen=sent_length)\n",
    "print(embedded_docs)"
   ]
  },
  {
   "cell_type": "code",
   "execution_count": 66,
   "id": "yWXsrD9iJfck",
   "metadata": {
    "colab": {
     "base_uri": "https://localhost:8080/"
    },
    "id": "yWXsrD9iJfck",
    "outputId": "78c5c3a3-4af5-4c16-adbc-6a56ecc39c18"
   },
   "outputs": [
    {
     "data": {
      "text/plain": [
       "array([   0,    0,    0,    0,    0,    0,    0,    0,    0,    0, 6413,\n",
       "       2987, 3665, 6779, 1134,  550, 6311, 7071, 1695, 9251])"
      ]
     },
     "execution_count": 66,
     "metadata": {},
     "output_type": "execute_result"
    }
   ],
   "source": [
    "embedded_docs[0]"
   ]
  },
  {
   "cell_type": "code",
   "execution_count": 67,
   "id": "OMyZXscnJjLb",
   "metadata": {
    "colab": {
     "base_uri": "https://localhost:8080/"
    },
    "id": "OMyZXscnJjLb",
    "outputId": "bb5f0776-c304-4c8d-b890-0b2895584c9b"
   },
   "outputs": [
    {
     "name": "stdout",
     "output_type": "stream",
     "text": [
      "Model: \"sequential\"\n",
      "_________________________________________________________________\n",
      " Layer (type)                Output Shape              Param #   \n",
      "=================================================================\n",
      " embedding (Embedding)       (None, 20, 40)            400000    \n",
      "                                                                 \n",
      " lstm (LSTM)                 (None, 100)               56400     \n",
      "                                                                 \n",
      " dense (Dense)               (None, 1)                 101       \n",
      "                                                                 \n",
      "=================================================================\n",
      "Total params: 456,501\n",
      "Trainable params: 456,501\n",
      "Non-trainable params: 0\n",
      "_________________________________________________________________\n",
      "None\n"
     ]
    }
   ],
   "source": [
    "## Creating model\n",
    "embedding_vector_features=40\n",
    "model=Sequential()\n",
    "model.add(Embedding(voc_size,embedding_vector_features,input_length=sent_length))\n",
    "model.add(LSTM(100))\n",
    "model.add(Dense(1,activation='sigmoid'))\n",
    "model.compile(loss='binary_crossentropy',optimizer='adam',metrics=['accuracy'])\n",
    "print(model.summary())"
   ]
  },
  {
   "cell_type": "code",
   "execution_count": 68,
   "id": "nqlpbGIdKCd_",
   "metadata": {
    "colab": {
     "base_uri": "https://localhost:8080/"
    },
    "id": "nqlpbGIdKCd_",
    "outputId": "e9fac168-5fcc-4b9e-b3b1-c0b5c26e2471"
   },
   "outputs": [
    {
     "data": {
      "text/plain": [
       "(19803, (19803,))"
      ]
     },
     "execution_count": 68,
     "metadata": {},
     "output_type": "execute_result"
    }
   ],
   "source": [
    "len(embedded_docs),y.shape"
   ]
  },
  {
   "cell_type": "code",
   "execution_count": 69,
   "id": "Sgwd6p-DKFWn",
   "metadata": {
    "id": "Sgwd6p-DKFWn"
   },
   "outputs": [],
   "source": [
    "import numpy as np\n",
    "X_final=np.array(embedded_docs)\n",
    "y_final=np.array(y)"
   ]
  },
  {
   "cell_type": "code",
   "execution_count": 70,
   "id": "WSVfZM8oKJus",
   "metadata": {
    "colab": {
     "base_uri": "https://localhost:8080/"
    },
    "id": "WSVfZM8oKJus",
    "outputId": "a460909c-58a0-4d02-b296-8071823b03fb"
   },
   "outputs": [
    {
     "data": {
      "text/plain": [
       "((19803, 20), (19803,))"
      ]
     },
     "execution_count": 70,
     "metadata": {},
     "output_type": "execute_result"
    }
   ],
   "source": [
    "X_final.shape,y_final.shape"
   ]
  },
  {
   "cell_type": "code",
   "execution_count": 71,
   "id": "aPC7yW5GKMjQ",
   "metadata": {
    "id": "aPC7yW5GKMjQ"
   },
   "outputs": [],
   "source": [
    "from sklearn.model_selection import train_test_split\n",
    "X_train, X_test, y_train, y_test = train_test_split(X_final, y_final, test_size=0.2, random_state=5)"
   ]
  },
  {
   "cell_type": "markdown",
   "id": "06e35234",
   "metadata": {
    "id": "tU5mrX7OKRrV"
   },
   "source": [
    "## Model Training"
   ]
  },
  {
   "cell_type": "code",
   "execution_count": 72,
   "id": "1nFMC0VFKWOc",
   "metadata": {
    "colab": {
     "base_uri": "https://localhost:8080/"
    },
    "id": "1nFMC0VFKWOc",
    "outputId": "2dc7c268-30f3-436c-a561-a42d0da769fc"
   },
   "outputs": [
    {
     "name": "stdout",
     "output_type": "stream",
     "text": [
      "Epoch 1/10\n",
      "248/248 [==============================] - 11s 33ms/step - loss: 0.3068 - accuracy: 0.8748 - val_loss: 0.1859 - val_accuracy: 0.9215\n",
      "Epoch 2/10\n",
      "248/248 [==============================] - 7s 29ms/step - loss: 0.1254 - accuracy: 0.9527 - val_loss: 0.1776 - val_accuracy: 0.9288\n",
      "Epoch 3/10\n",
      "248/248 [==============================] - 8s 31ms/step - loss: 0.0869 - accuracy: 0.9688 - val_loss: 0.2046 - val_accuracy: 0.9298\n",
      "Epoch 4/10\n",
      "248/248 [==============================] - 8s 31ms/step - loss: 0.0612 - accuracy: 0.9801 - val_loss: 0.2423 - val_accuracy: 0.9215\n",
      "Epoch 5/10\n",
      "248/248 [==============================] - 7s 30ms/step - loss: 0.0458 - accuracy: 0.9849 - val_loss: 0.2753 - val_accuracy: 0.9217\n",
      "Epoch 6/10\n",
      "248/248 [==============================] - 8s 30ms/step - loss: 0.0335 - accuracy: 0.9890 - val_loss: 0.3323 - val_accuracy: 0.9245\n",
      "Epoch 7/10\n",
      "248/248 [==============================] - 7s 30ms/step - loss: 0.0218 - accuracy: 0.9931 - val_loss: 0.3560 - val_accuracy: 0.9190\n",
      "Epoch 8/10\n",
      "248/248 [==============================] - 8s 32ms/step - loss: 0.0132 - accuracy: 0.9960 - val_loss: 0.5409 - val_accuracy: 0.9205\n",
      "Epoch 9/10\n",
      "248/248 [==============================] - 8s 31ms/step - loss: 0.0095 - accuracy: 0.9973 - val_loss: 0.4547 - val_accuracy: 0.9238\n",
      "Epoch 10/10\n",
      "248/248 [==============================] - 8s 30ms/step - loss: 0.0081 - accuracy: 0.9978 - val_loss: 0.5138 - val_accuracy: 0.9162\n"
     ]
    },
    {
     "data": {
      "text/plain": [
       "<keras.callbacks.History at 0x2811a8aedf0>"
      ]
     },
     "execution_count": 72,
     "metadata": {},
     "output_type": "execute_result"
    }
   ],
   "source": [
    "model.fit(X_train,y_train,validation_data=(X_test,y_test),epochs=10,batch_size=64)"
   ]
  },
  {
   "cell_type": "markdown",
   "id": "5000ec95",
   "metadata": {
    "id": "Wk41djJTKaRj"
   },
   "source": [
    "## Performance Metrics And Accuracy"
   ]
  },
  {
   "cell_type": "code",
   "execution_count": 73,
   "id": "45kS0qXEPcu8",
   "metadata": {
    "colab": {
     "base_uri": "https://localhost:8080/"
    },
    "id": "45kS0qXEPcu8",
    "outputId": "b0d51d5b-e7dc-4366-a096-f7020f002904"
   },
   "outputs": [
    {
     "name": "stdout",
     "output_type": "stream",
     "text": [
      "124/124 [==============================] - 1s 7ms/step\n"
     ]
    }
   ],
   "source": [
    "y_pred = model.predict(X_test)\n",
    "y_pred = np.round(y_pred).astype(int)"
   ]
  },
  {
   "cell_type": "code",
   "execution_count": 74,
   "id": "vo6IiWlRRDtI",
   "metadata": {
    "id": "vo6IiWlRRDtI"
   },
   "outputs": [],
   "source": [
    "from sklearn.metrics import confusion_matrix"
   ]
  },
  {
   "cell_type": "code",
   "execution_count": 75,
   "id": "87PuW1VIRHFI",
   "metadata": {
    "colab": {
     "base_uri": "https://localhost:8080/"
    },
    "id": "87PuW1VIRHFI",
    "outputId": "b054c40f-976d-4c76-c642-c0efd8683237"
   },
   "outputs": [
    {
     "data": {
      "text/plain": [
       "array([[1903,  187],\n",
       "       [ 145, 1726]], dtype=int64)"
      ]
     },
     "execution_count": 75,
     "metadata": {},
     "output_type": "execute_result"
    }
   ],
   "source": [
    "confusion_matrix(y_test,y_pred)"
   ]
  },
  {
   "cell_type": "code",
   "execution_count": 76,
   "id": "x9HnH8UhRTF0",
   "metadata": {
    "colab": {
     "base_uri": "https://localhost:8080/"
    },
    "id": "x9HnH8UhRTF0",
    "outputId": "4153aa8b-ba76-4da6-ca08-dfe92d1b4984"
   },
   "outputs": [
    {
     "data": {
      "text/plain": [
       "0.9161827821257258"
      ]
     },
     "execution_count": 76,
     "metadata": {},
     "output_type": "execute_result"
    }
   ],
   "source": [
    "from sklearn.metrics import accuracy_score\n",
    "accuracy_score(y_test,y_pred)"
   ]
  },
  {
   "cell_type": "code",
   "execution_count": 77,
   "id": "f6841925",
   "metadata": {
    "id": "oq6pxRAbReJj"
   },
   "outputs": [],
   "source": [
    "import pickle\n",
    "pickle.dump(onehot_repr,open('vectorizer.pkl','wb'))\n",
    "pickle.dump(model,open('model.pkl','wb'))"
   ]
  },
  {
   "cell_type": "code",
   "execution_count": null,
   "id": "2cec3f1a",
   "metadata": {},
   "outputs": [],
   "source": []
  }
 ],
 "metadata": {
  "colab": {
   "provenance": []
  },
  "kernelspec": {
   "display_name": "Python 3 (ipykernel)",
   "language": "python",
   "name": "python3"
  },
  "language_info": {
   "codemirror_mode": {
    "name": "ipython",
    "version": 3
   },
   "file_extension": ".py",
   "mimetype": "text/x-python",
   "name": "python",
   "nbconvert_exporter": "python",
   "pygments_lexer": "ipython3",
   "version": "3.9.12"
  }
 },
 "nbformat": 4,
 "nbformat_minor": 5
}
