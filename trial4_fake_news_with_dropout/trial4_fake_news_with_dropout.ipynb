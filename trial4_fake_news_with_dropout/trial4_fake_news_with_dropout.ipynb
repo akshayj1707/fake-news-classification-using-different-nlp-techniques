{
 "cells": [
  {
   "cell_type": "markdown",
   "id": "f048f204",
   "metadata": {
    "id": "f048f204"
   },
   "source": [
    "# Importing Basic Dependencies"
   ]
  },
  {
   "cell_type": "code",
   "execution_count": 1,
   "id": "26e7079f",
   "metadata": {
    "id": "26e7079f"
   },
   "outputs": [],
   "source": [
    "import pandas as pd\n",
    "import numpy as np\n",
    "import seaborn as sns\n",
    "import matplotlib.pyplot as plt\n",
    "import warnings\n",
    "warnings.filterwarnings(\"ignore\")\n",
    "%matplotlib inline"
   ]
  },
  {
   "cell_type": "code",
   "execution_count": 2,
   "id": "b207c43f",
   "metadata": {
    "colab": {
     "base_uri": "https://localhost:8080/",
     "height": 206
    },
    "id": "b207c43f",
    "outputId": "9e7f13d3-c105-4619-a096-76fd9e334dcf"
   },
   "outputs": [
    {
     "data": {
      "text/html": [
       "<div>\n",
       "<style scoped>\n",
       "    .dataframe tbody tr th:only-of-type {\n",
       "        vertical-align: middle;\n",
       "    }\n",
       "\n",
       "    .dataframe tbody tr th {\n",
       "        vertical-align: top;\n",
       "    }\n",
       "\n",
       "    .dataframe thead th {\n",
       "        text-align: right;\n",
       "    }\n",
       "</style>\n",
       "<table border=\"1\" class=\"dataframe\">\n",
       "  <thead>\n",
       "    <tr style=\"text-align: right;\">\n",
       "      <th></th>\n",
       "      <th>id</th>\n",
       "      <th>title</th>\n",
       "      <th>author</th>\n",
       "      <th>text</th>\n",
       "      <th>label</th>\n",
       "    </tr>\n",
       "  </thead>\n",
       "  <tbody>\n",
       "    <tr>\n",
       "      <th>0</th>\n",
       "      <td>0</td>\n",
       "      <td>House Dem Aide: We Didn’t Even See Comey’s Let...</td>\n",
       "      <td>Darrell Lucus</td>\n",
       "      <td>House Dem Aide: We Didn’t Even See Comey’s Let...</td>\n",
       "      <td>1</td>\n",
       "    </tr>\n",
       "    <tr>\n",
       "      <th>1</th>\n",
       "      <td>1</td>\n",
       "      <td>FLYNN: Hillary Clinton, Big Woman on Campus - ...</td>\n",
       "      <td>Daniel J. Flynn</td>\n",
       "      <td>Ever get the feeling your life circles the rou...</td>\n",
       "      <td>0</td>\n",
       "    </tr>\n",
       "    <tr>\n",
       "      <th>2</th>\n",
       "      <td>2</td>\n",
       "      <td>Why the Truth Might Get You Fired</td>\n",
       "      <td>Consortiumnews.com</td>\n",
       "      <td>Why the Truth Might Get You Fired October 29, ...</td>\n",
       "      <td>1</td>\n",
       "    </tr>\n",
       "    <tr>\n",
       "      <th>3</th>\n",
       "      <td>3</td>\n",
       "      <td>15 Civilians Killed In Single US Airstrike Hav...</td>\n",
       "      <td>Jessica Purkiss</td>\n",
       "      <td>Videos 15 Civilians Killed In Single US Airstr...</td>\n",
       "      <td>1</td>\n",
       "    </tr>\n",
       "    <tr>\n",
       "      <th>4</th>\n",
       "      <td>4</td>\n",
       "      <td>Iranian woman jailed for fictional unpublished...</td>\n",
       "      <td>Howard Portnoy</td>\n",
       "      <td>Print \\nAn Iranian woman has been sentenced to...</td>\n",
       "      <td>1</td>\n",
       "    </tr>\n",
       "  </tbody>\n",
       "</table>\n",
       "</div>"
      ],
      "text/plain": [
       "   id                                              title              author  \\\n",
       "0   0  House Dem Aide: We Didn’t Even See Comey’s Let...       Darrell Lucus   \n",
       "1   1  FLYNN: Hillary Clinton, Big Woman on Campus - ...     Daniel J. Flynn   \n",
       "2   2                  Why the Truth Might Get You Fired  Consortiumnews.com   \n",
       "3   3  15 Civilians Killed In Single US Airstrike Hav...     Jessica Purkiss   \n",
       "4   4  Iranian woman jailed for fictional unpublished...      Howard Portnoy   \n",
       "\n",
       "                                                text  label  \n",
       "0  House Dem Aide: We Didn’t Even See Comey’s Let...      1  \n",
       "1  Ever get the feeling your life circles the rou...      0  \n",
       "2  Why the Truth Might Get You Fired October 29, ...      1  \n",
       "3  Videos 15 Civilians Killed In Single US Airstr...      1  \n",
       "4  Print \\nAn Iranian woman has been sentenced to...      1  "
      ]
     },
     "execution_count": 2,
     "metadata": {},
     "output_type": "execute_result"
    }
   ],
   "source": [
    "df = pd.read_csv('D:\\PYTHON\\Data science\\projects/classification/fake news classifier/train.csv')\n",
    "df.head()"
   ]
  },
  {
   "cell_type": "code",
   "execution_count": 3,
   "id": "42c961df",
   "metadata": {
    "colab": {
     "base_uri": "https://localhost:8080/"
    },
    "id": "42c961df",
    "outputId": "ef805b19-2d60-4ea2-b3a2-cbe47a408bc7"
   },
   "outputs": [
    {
     "data": {
      "text/plain": [
       "(20800, 5)"
      ]
     },
     "execution_count": 3,
     "metadata": {},
     "output_type": "execute_result"
    }
   ],
   "source": [
    "df.shape"
   ]
  },
  {
   "cell_type": "code",
   "execution_count": 4,
   "id": "d46ef427",
   "metadata": {
    "colab": {
     "base_uri": "https://localhost:8080/"
    },
    "id": "d46ef427",
    "outputId": "e871abf5-623c-4218-b38d-1eccad344a8d"
   },
   "outputs": [
    {
     "name": "stdout",
     "output_type": "stream",
     "text": [
      "<class 'pandas.core.frame.DataFrame'>\n",
      "RangeIndex: 20800 entries, 0 to 20799\n",
      "Data columns (total 5 columns):\n",
      " #   Column  Non-Null Count  Dtype \n",
      "---  ------  --------------  ----- \n",
      " 0   id      20800 non-null  int64 \n",
      " 1   title   20242 non-null  object\n",
      " 2   author  18843 non-null  object\n",
      " 3   text    20761 non-null  object\n",
      " 4   label   20800 non-null  int64 \n",
      "dtypes: int64(2), object(3)\n",
      "memory usage: 812.6+ KB\n"
     ]
    }
   ],
   "source": [
    "df.info()"
   ]
  },
  {
   "cell_type": "code",
   "execution_count": 5,
   "id": "3061b089",
   "metadata": {
    "colab": {
     "base_uri": "https://localhost:8080/"
    },
    "id": "3061b089",
    "outputId": "b1cf7de0-0446-4d8f-f8ee-4e47f0820f49"
   },
   "outputs": [
    {
     "data": {
      "text/plain": [
       "Index(['id', 'title', 'author', 'text', 'label'], dtype='object')"
      ]
     },
     "execution_count": 5,
     "metadata": {},
     "output_type": "execute_result"
    }
   ],
   "source": [
    "df.columns"
   ]
  },
  {
   "cell_type": "code",
   "execution_count": 6,
   "id": "82e6aa76",
   "metadata": {
    "id": "82e6aa76"
   },
   "outputs": [],
   "source": [
    "df.drop(columns = ['id','text','author'],inplace=True)"
   ]
  },
  {
   "cell_type": "code",
   "execution_count": 7,
   "id": "7be3b537",
   "metadata": {
    "colab": {
     "base_uri": "https://localhost:8080/",
     "height": 206
    },
    "id": "7be3b537",
    "outputId": "369f587c-c2cf-4126-939e-4809bb04fd53"
   },
   "outputs": [
    {
     "data": {
      "text/html": [
       "<div>\n",
       "<style scoped>\n",
       "    .dataframe tbody tr th:only-of-type {\n",
       "        vertical-align: middle;\n",
       "    }\n",
       "\n",
       "    .dataframe tbody tr th {\n",
       "        vertical-align: top;\n",
       "    }\n",
       "\n",
       "    .dataframe thead th {\n",
       "        text-align: right;\n",
       "    }\n",
       "</style>\n",
       "<table border=\"1\" class=\"dataframe\">\n",
       "  <thead>\n",
       "    <tr style=\"text-align: right;\">\n",
       "      <th></th>\n",
       "      <th>title</th>\n",
       "      <th>label</th>\n",
       "    </tr>\n",
       "  </thead>\n",
       "  <tbody>\n",
       "    <tr>\n",
       "      <th>0</th>\n",
       "      <td>House Dem Aide: We Didn’t Even See Comey’s Let...</td>\n",
       "      <td>1</td>\n",
       "    </tr>\n",
       "    <tr>\n",
       "      <th>1</th>\n",
       "      <td>FLYNN: Hillary Clinton, Big Woman on Campus - ...</td>\n",
       "      <td>0</td>\n",
       "    </tr>\n",
       "    <tr>\n",
       "      <th>2</th>\n",
       "      <td>Why the Truth Might Get You Fired</td>\n",
       "      <td>1</td>\n",
       "    </tr>\n",
       "    <tr>\n",
       "      <th>3</th>\n",
       "      <td>15 Civilians Killed In Single US Airstrike Hav...</td>\n",
       "      <td>1</td>\n",
       "    </tr>\n",
       "    <tr>\n",
       "      <th>4</th>\n",
       "      <td>Iranian woman jailed for fictional unpublished...</td>\n",
       "      <td>1</td>\n",
       "    </tr>\n",
       "  </tbody>\n",
       "</table>\n",
       "</div>"
      ],
      "text/plain": [
       "                                               title  label\n",
       "0  House Dem Aide: We Didn’t Even See Comey’s Let...      1\n",
       "1  FLYNN: Hillary Clinton, Big Woman on Campus - ...      0\n",
       "2                  Why the Truth Might Get You Fired      1\n",
       "3  15 Civilians Killed In Single US Airstrike Hav...      1\n",
       "4  Iranian woman jailed for fictional unpublished...      1"
      ]
     },
     "execution_count": 7,
     "metadata": {},
     "output_type": "execute_result"
    }
   ],
   "source": [
    "df.head()"
   ]
  },
  {
   "cell_type": "code",
   "execution_count": 8,
   "id": "993a8c86",
   "metadata": {
    "colab": {
     "base_uri": "https://localhost:8080/",
     "height": 36
    },
    "id": "993a8c86",
    "outputId": "f40fca4f-a0f1-45ec-bd23-71066ea062be"
   },
   "outputs": [
    {
     "data": {
      "text/plain": [
       "'House Dem Aide: We Didn’t Even See Comey’s Letter Until Jason Chaffetz Tweeted It'"
      ]
     },
     "execution_count": 8,
     "metadata": {},
     "output_type": "execute_result"
    }
   ],
   "source": [
    "df['title'][0]"
   ]
  },
  {
   "cell_type": "code",
   "execution_count": 9,
   "id": "2ce92e25",
   "metadata": {
    "colab": {
     "base_uri": "https://localhost:8080/"
    },
    "id": "2ce92e25",
    "outputId": "06101b47-4d98-410d-a1b6-decf42adadd8"
   },
   "outputs": [
    {
     "data": {
      "text/plain": [
       "title    558\n",
       "label      0\n",
       "dtype: int64"
      ]
     },
     "execution_count": 9,
     "metadata": {},
     "output_type": "execute_result"
    }
   ],
   "source": [
    "df.isnull().sum()"
   ]
  },
  {
   "cell_type": "code",
   "execution_count": 10,
   "id": "5f5b46f3",
   "metadata": {
    "colab": {
     "base_uri": "https://localhost:8080/"
    },
    "id": "5f5b46f3",
    "outputId": "c991f0a6-408b-4f07-c5d6-eecd4ecb49c7"
   },
   "outputs": [
    {
     "name": "stdout",
     "output_type": "stream",
     "text": [
      "<class 'pandas.core.frame.DataFrame'>\n",
      "RangeIndex: 20800 entries, 0 to 20799\n",
      "Data columns (total 2 columns):\n",
      " #   Column  Non-Null Count  Dtype \n",
      "---  ------  --------------  ----- \n",
      " 0   title   20242 non-null  object\n",
      " 1   label   20800 non-null  int64 \n",
      "dtypes: int64(1), object(1)\n",
      "memory usage: 325.1+ KB\n"
     ]
    }
   ],
   "source": [
    "df.info()"
   ]
  },
  {
   "cell_type": "code",
   "execution_count": 11,
   "id": "58b82e96",
   "metadata": {
    "id": "58b82e96"
   },
   "outputs": [],
   "source": [
    "#drop null values\n",
    "\n",
    "df.dropna(inplace=True)"
   ]
  },
  {
   "cell_type": "code",
   "execution_count": 12,
   "id": "552920d4",
   "metadata": {
    "colab": {
     "base_uri": "https://localhost:8080/",
     "height": 206
    },
    "id": "552920d4",
    "outputId": "213ef344-200b-4da0-b49b-43891fd251cc"
   },
   "outputs": [
    {
     "data": {
      "text/html": [
       "<div>\n",
       "<style scoped>\n",
       "    .dataframe tbody tr th:only-of-type {\n",
       "        vertical-align: middle;\n",
       "    }\n",
       "\n",
       "    .dataframe tbody tr th {\n",
       "        vertical-align: top;\n",
       "    }\n",
       "\n",
       "    .dataframe thead th {\n",
       "        text-align: right;\n",
       "    }\n",
       "</style>\n",
       "<table border=\"1\" class=\"dataframe\">\n",
       "  <thead>\n",
       "    <tr style=\"text-align: right;\">\n",
       "      <th></th>\n",
       "      <th>title</th>\n",
       "      <th>label</th>\n",
       "    </tr>\n",
       "  </thead>\n",
       "  <tbody>\n",
       "    <tr>\n",
       "      <th>0</th>\n",
       "      <td>House Dem Aide: We Didn’t Even See Comey’s Let...</td>\n",
       "      <td>1</td>\n",
       "    </tr>\n",
       "    <tr>\n",
       "      <th>1</th>\n",
       "      <td>FLYNN: Hillary Clinton, Big Woman on Campus - ...</td>\n",
       "      <td>0</td>\n",
       "    </tr>\n",
       "    <tr>\n",
       "      <th>2</th>\n",
       "      <td>Why the Truth Might Get You Fired</td>\n",
       "      <td>1</td>\n",
       "    </tr>\n",
       "    <tr>\n",
       "      <th>3</th>\n",
       "      <td>15 Civilians Killed In Single US Airstrike Hav...</td>\n",
       "      <td>1</td>\n",
       "    </tr>\n",
       "    <tr>\n",
       "      <th>4</th>\n",
       "      <td>Iranian woman jailed for fictional unpublished...</td>\n",
       "      <td>1</td>\n",
       "    </tr>\n",
       "  </tbody>\n",
       "</table>\n",
       "</div>"
      ],
      "text/plain": [
       "                                               title  label\n",
       "0  House Dem Aide: We Didn’t Even See Comey’s Let...      1\n",
       "1  FLYNN: Hillary Clinton, Big Woman on Campus - ...      0\n",
       "2                  Why the Truth Might Get You Fired      1\n",
       "3  15 Civilians Killed In Single US Airstrike Hav...      1\n",
       "4  Iranian woman jailed for fictional unpublished...      1"
      ]
     },
     "execution_count": 12,
     "metadata": {},
     "output_type": "execute_result"
    }
   ],
   "source": [
    "df.head()"
   ]
  },
  {
   "cell_type": "code",
   "execution_count": 13,
   "id": "e1d0f9b2",
   "metadata": {
    "colab": {
     "base_uri": "https://localhost:8080/"
    },
    "id": "e1d0f9b2",
    "outputId": "0a7b31e9-d523-4942-e5e5-72af7c1d0dfc"
   },
   "outputs": [
    {
     "data": {
      "text/plain": [
       "(20242, 2)"
      ]
     },
     "execution_count": 13,
     "metadata": {},
     "output_type": "execute_result"
    }
   ],
   "source": [
    "df.shape"
   ]
  },
  {
   "cell_type": "code",
   "execution_count": 14,
   "id": "d9e23bd1",
   "metadata": {
    "colab": {
     "base_uri": "https://localhost:8080/"
    },
    "id": "d9e23bd1",
    "outputId": "a2e6312b-72d0-41ec-9aa0-2f42fb1381dd"
   },
   "outputs": [
    {
     "data": {
      "text/plain": [
       "439"
      ]
     },
     "execution_count": 14,
     "metadata": {},
     "output_type": "execute_result"
    }
   ],
   "source": [
    "df.duplicated().sum()"
   ]
  },
  {
   "cell_type": "code",
   "execution_count": 15,
   "id": "8129d5b4",
   "metadata": {
    "id": "8129d5b4"
   },
   "outputs": [],
   "source": [
    "# remove duplicates\n",
    "df = df.drop_duplicates(keep='first')"
   ]
  },
  {
   "cell_type": "code",
   "execution_count": 16,
   "id": "39729353",
   "metadata": {
    "colab": {
     "base_uri": "https://localhost:8080/"
    },
    "id": "39729353",
    "outputId": "c821187e-d4d5-4633-9a29-191feaf412fa"
   },
   "outputs": [
    {
     "data": {
      "text/plain": [
       "(19803, 2)"
      ]
     },
     "execution_count": 16,
     "metadata": {},
     "output_type": "execute_result"
    }
   ],
   "source": [
    "df.shape"
   ]
  },
  {
   "cell_type": "markdown",
   "id": "344ebe69",
   "metadata": {
    "id": "344ebe69"
   },
   "source": [
    "# EDA"
   ]
  },
  {
   "cell_type": "code",
   "execution_count": 17,
   "id": "a8751acb",
   "metadata": {
    "colab": {
     "base_uri": "https://localhost:8080/"
    },
    "id": "a8751acb",
    "outputId": "8f223790-8595-4421-951e-3ffb3f5123d6"
   },
   "outputs": [
    {
     "data": {
      "text/plain": [
       "0    10381\n",
       "1     9422\n",
       "Name: label, dtype: int64"
      ]
     },
     "execution_count": 17,
     "metadata": {},
     "output_type": "execute_result"
    }
   ],
   "source": [
    "df['label'].value_counts()"
   ]
  },
  {
   "cell_type": "code",
   "execution_count": 18,
   "id": "1ff7a55b",
   "metadata": {
    "colab": {
     "base_uri": "https://localhost:8080/",
     "height": 406
    },
    "id": "1ff7a55b",
    "outputId": "0150cf82-387a-4e7e-aa18-2e2a0e58b874"
   },
   "outputs": [
    {
     "data": {
      "image/png": "[encoded data removed]",
      "text/plain": [
       "<Figure size 432x288 with 1 Axes>"
      ]
     },
     "metadata": {},
     "output_type": "display_data"
    }
   ],
   "source": [
    "plt.pie(df['label'].value_counts(), labels=['not fake','fake'],autopct=\"%0.2f\")\n",
    "plt.show()"
   ]
  },
  {
   "cell_type": "code",
   "execution_count": 19,
   "id": "95b95fff",
   "metadata": {
    "id": "95b95fff"
   },
   "outputs": [],
   "source": [
    "import nltk"
   ]
  },
  {
   "cell_type": "code",
   "execution_count": 20,
   "id": "d846eff8",
   "metadata": {
    "colab": {
     "base_uri": "https://localhost:8080/"
    },
    "id": "d846eff8",
    "outputId": "09892117-4080-4cf9-86fb-c2f3b6f92d99"
   },
   "outputs": [
    {
     "name": "stderr",
     "output_type": "stream",
     "text": [
      "[nltk_data] Downloading package punkt to\n",
      "[nltk_data]     C:\\Users\\Akshay\\AppData\\Roaming\\nltk_data...\n",
      "[nltk_data]   Package punkt is already up-to-date!\n"
     ]
    },
    {
     "data": {
      "text/plain": [
       "True"
      ]
     },
     "execution_count": 20,
     "metadata": {},
     "output_type": "execute_result"
    }
   ],
   "source": [
    "nltk.download('punkt')"
   ]
  },
  {
   "cell_type": "code",
   "execution_count": 21,
   "id": "0afc5649",
   "metadata": {
    "id": "0afc5649"
   },
   "outputs": [],
   "source": [
    "df['num_characters'] = df['title'].apply(len)"
   ]
  },
  {
   "cell_type": "code",
   "execution_count": 22,
   "id": "da654422",
   "metadata": {
    "colab": {
     "base_uri": "https://localhost:8080/",
     "height": 206
    },
    "id": "da654422",
    "outputId": "2eff1763-6959-4f55-f718-a3973db5488d"
   },
   "outputs": [
    {
     "data": {
      "text/html": [
       "<div>\n",
       "<style scoped>\n",
       "    .dataframe tbody tr th:only-of-type {\n",
       "        vertical-align: middle;\n",
       "    }\n",
       "\n",
       "    .dataframe tbody tr th {\n",
       "        vertical-align: top;\n",
       "    }\n",
       "\n",
       "    .dataframe thead th {\n",
       "        text-align: right;\n",
       "    }\n",
       "</style>\n",
       "<table border=\"1\" class=\"dataframe\">\n",
       "  <thead>\n",
       "    <tr style=\"text-align: right;\">\n",
       "      <th></th>\n",
       "      <th>title</th>\n",
       "      <th>label</th>\n",
       "      <th>num_characters</th>\n",
       "    </tr>\n",
       "  </thead>\n",
       "  <tbody>\n",
       "    <tr>\n",
       "      <th>0</th>\n",
       "      <td>House Dem Aide: We Didn’t Even See Comey’s Let...</td>\n",
       "      <td>1</td>\n",
       "      <td>81</td>\n",
       "    </tr>\n",
       "    <tr>\n",
       "      <th>1</th>\n",
       "      <td>FLYNN: Hillary Clinton, Big Woman on Campus - ...</td>\n",
       "      <td>0</td>\n",
       "      <td>55</td>\n",
       "    </tr>\n",
       "    <tr>\n",
       "      <th>2</th>\n",
       "      <td>Why the Truth Might Get You Fired</td>\n",
       "      <td>1</td>\n",
       "      <td>33</td>\n",
       "    </tr>\n",
       "    <tr>\n",
       "      <th>3</th>\n",
       "      <td>15 Civilians Killed In Single US Airstrike Hav...</td>\n",
       "      <td>1</td>\n",
       "      <td>63</td>\n",
       "    </tr>\n",
       "    <tr>\n",
       "      <th>4</th>\n",
       "      <td>Iranian woman jailed for fictional unpublished...</td>\n",
       "      <td>1</td>\n",
       "      <td>93</td>\n",
       "    </tr>\n",
       "  </tbody>\n",
       "</table>\n",
       "</div>"
      ],
      "text/plain": [
       "                                               title  label  num_characters\n",
       "0  House Dem Aide: We Didn’t Even See Comey’s Let...      1              81\n",
       "1  FLYNN: Hillary Clinton, Big Woman on Campus - ...      0              55\n",
       "2                  Why the Truth Might Get You Fired      1              33\n",
       "3  15 Civilians Killed In Single US Airstrike Hav...      1              63\n",
       "4  Iranian woman jailed for fictional unpublished...      1              93"
      ]
     },
     "execution_count": 22,
     "metadata": {},
     "output_type": "execute_result"
    }
   ],
   "source": [
    "df.head()"
   ]
  },
  {
   "cell_type": "code",
   "execution_count": 23,
   "id": "00c20d41",
   "metadata": {
    "id": "00c20d41"
   },
   "outputs": [],
   "source": [
    "# num of words\n",
    "df['num_words'] = df['title'].apply(lambda x:len(nltk.word_tokenize(x)))"
   ]
  },
  {
   "cell_type": "code",
   "execution_count": 24,
   "id": "a39beb15",
   "metadata": {
    "colab": {
     "base_uri": "https://localhost:8080/",
     "height": 206
    },
    "id": "a39beb15",
    "outputId": "6b03953d-ad31-4b8c-cf8e-80b6212b7763"
   },
   "outputs": [
    {
     "data": {
      "text/html": [
       "<div>\n",
       "<style scoped>\n",
       "    .dataframe tbody tr th:only-of-type {\n",
       "        vertical-align: middle;\n",
       "    }\n",
       "\n",
       "    .dataframe tbody tr th {\n",
       "        vertical-align: top;\n",
       "    }\n",
       "\n",
       "    .dataframe thead th {\n",
       "        text-align: right;\n",
       "    }\n",
       "</style>\n",
       "<table border=\"1\" class=\"dataframe\">\n",
       "  <thead>\n",
       "    <tr style=\"text-align: right;\">\n",
       "      <th></th>\n",
       "      <th>title</th>\n",
       "      <th>label</th>\n",
       "      <th>num_characters</th>\n",
       "      <th>num_words</th>\n",
       "    </tr>\n",
       "  </thead>\n",
       "  <tbody>\n",
       "    <tr>\n",
       "      <th>0</th>\n",
       "      <td>House Dem Aide: We Didn’t Even See Comey’s Let...</td>\n",
       "      <td>1</td>\n",
       "      <td>81</td>\n",
       "      <td>19</td>\n",
       "    </tr>\n",
       "    <tr>\n",
       "      <th>1</th>\n",
       "      <td>FLYNN: Hillary Clinton, Big Woman on Campus - ...</td>\n",
       "      <td>0</td>\n",
       "      <td>55</td>\n",
       "      <td>11</td>\n",
       "    </tr>\n",
       "    <tr>\n",
       "      <th>2</th>\n",
       "      <td>Why the Truth Might Get You Fired</td>\n",
       "      <td>1</td>\n",
       "      <td>33</td>\n",
       "      <td>7</td>\n",
       "    </tr>\n",
       "    <tr>\n",
       "      <th>3</th>\n",
       "      <td>15 Civilians Killed In Single US Airstrike Hav...</td>\n",
       "      <td>1</td>\n",
       "      <td>63</td>\n",
       "      <td>10</td>\n",
       "    </tr>\n",
       "    <tr>\n",
       "      <th>4</th>\n",
       "      <td>Iranian woman jailed for fictional unpublished...</td>\n",
       "      <td>1</td>\n",
       "      <td>93</td>\n",
       "      <td>14</td>\n",
       "    </tr>\n",
       "  </tbody>\n",
       "</table>\n",
       "</div>"
      ],
      "text/plain": [
       "                                               title  label  num_characters  \\\n",
       "0  House Dem Aide: We Didn’t Even See Comey’s Let...      1              81   \n",
       "1  FLYNN: Hillary Clinton, Big Woman on Campus - ...      0              55   \n",
       "2                  Why the Truth Might Get You Fired      1              33   \n",
       "3  15 Civilians Killed In Single US Airstrike Hav...      1              63   \n",
       "4  Iranian woman jailed for fictional unpublished...      1              93   \n",
       "\n",
       "   num_words  \n",
       "0         19  \n",
       "1         11  \n",
       "2          7  \n",
       "3         10  \n",
       "4         14  "
      ]
     },
     "execution_count": 24,
     "metadata": {},
     "output_type": "execute_result"
    }
   ],
   "source": [
    "df.head()"
   ]
  },
  {
   "cell_type": "code",
   "execution_count": 25,
   "id": "e964b730",
   "metadata": {
    "id": "e964b730"
   },
   "outputs": [],
   "source": [
    "df['num_sentences'] = df['title'].apply(lambda x:len(nltk.sent_tokenize(x)))"
   ]
  },
  {
   "cell_type": "code",
   "execution_count": 26,
   "id": "9a448a1f",
   "metadata": {
    "colab": {
     "base_uri": "https://localhost:8080/",
     "height": 206
    },
    "id": "9a448a1f",
    "outputId": "b69ebdff-ccb0-4a53-9358-6d7ef92bfe54"
   },
   "outputs": [
    {
     "data": {
      "text/html": [
       "<div>\n",
       "<style scoped>\n",
       "    .dataframe tbody tr th:only-of-type {\n",
       "        vertical-align: middle;\n",
       "    }\n",
       "\n",
       "    .dataframe tbody tr th {\n",
       "        vertical-align: top;\n",
       "    }\n",
       "\n",
       "    .dataframe thead th {\n",
       "        text-align: right;\n",
       "    }\n",
       "</style>\n",
       "<table border=\"1\" class=\"dataframe\">\n",
       "  <thead>\n",
       "    <tr style=\"text-align: right;\">\n",
       "      <th></th>\n",
       "      <th>title</th>\n",
       "      <th>label</th>\n",
       "      <th>num_characters</th>\n",
       "      <th>num_words</th>\n",
       "      <th>num_sentences</th>\n",
       "    </tr>\n",
       "  </thead>\n",
       "  <tbody>\n",
       "    <tr>\n",
       "      <th>0</th>\n",
       "      <td>House Dem Aide: We Didn’t Even See Comey’s Let...</td>\n",
       "      <td>1</td>\n",
       "      <td>81</td>\n",
       "      <td>19</td>\n",
       "      <td>1</td>\n",
       "    </tr>\n",
       "    <tr>\n",
       "      <th>1</th>\n",
       "      <td>FLYNN: Hillary Clinton, Big Woman on Campus - ...</td>\n",
       "      <td>0</td>\n",
       "      <td>55</td>\n",
       "      <td>11</td>\n",
       "      <td>1</td>\n",
       "    </tr>\n",
       "    <tr>\n",
       "      <th>2</th>\n",
       "      <td>Why the Truth Might Get You Fired</td>\n",
       "      <td>1</td>\n",
       "      <td>33</td>\n",
       "      <td>7</td>\n",
       "      <td>1</td>\n",
       "    </tr>\n",
       "    <tr>\n",
       "      <th>3</th>\n",
       "      <td>15 Civilians Killed In Single US Airstrike Hav...</td>\n",
       "      <td>1</td>\n",
       "      <td>63</td>\n",
       "      <td>10</td>\n",
       "      <td>1</td>\n",
       "    </tr>\n",
       "    <tr>\n",
       "      <th>4</th>\n",
       "      <td>Iranian woman jailed for fictional unpublished...</td>\n",
       "      <td>1</td>\n",
       "      <td>93</td>\n",
       "      <td>14</td>\n",
       "      <td>1</td>\n",
       "    </tr>\n",
       "  </tbody>\n",
       "</table>\n",
       "</div>"
      ],
      "text/plain": [
       "                                               title  label  num_characters  \\\n",
       "0  House Dem Aide: We Didn’t Even See Comey’s Let...      1              81   \n",
       "1  FLYNN: Hillary Clinton, Big Woman on Campus - ...      0              55   \n",
       "2                  Why the Truth Might Get You Fired      1              33   \n",
       "3  15 Civilians Killed In Single US Airstrike Hav...      1              63   \n",
       "4  Iranian woman jailed for fictional unpublished...      1              93   \n",
       "\n",
       "   num_words  num_sentences  \n",
       "0         19              1  \n",
       "1         11              1  \n",
       "2          7              1  \n",
       "3         10              1  \n",
       "4         14              1  "
      ]
     },
     "execution_count": 26,
     "metadata": {},
     "output_type": "execute_result"
    }
   ],
   "source": [
    "df.head()"
   ]
  },
  {
   "cell_type": "code",
   "execution_count": 27,
   "id": "8c2e545c",
   "metadata": {
    "colab": {
     "base_uri": "https://localhost:8080/",
     "height": 300
    },
    "id": "8c2e545c",
    "outputId": "b00b4b88-2612-4cb7-b8ba-c80fa692cf61"
   },
   "outputs": [
    {
     "data": {
      "text/html": [
       "<div>\n",
       "<style scoped>\n",
       "    .dataframe tbody tr th:only-of-type {\n",
       "        vertical-align: middle;\n",
       "    }\n",
       "\n",
       "    .dataframe tbody tr th {\n",
       "        vertical-align: top;\n",
       "    }\n",
       "\n",
       "    .dataframe thead th {\n",
       "        text-align: right;\n",
       "    }\n",
       "</style>\n",
       "<table border=\"1\" class=\"dataframe\">\n",
       "  <thead>\n",
       "    <tr style=\"text-align: right;\">\n",
       "      <th></th>\n",
       "      <th>num_characters</th>\n",
       "      <th>num_words</th>\n",
       "      <th>num_sentences</th>\n",
       "    </tr>\n",
       "  </thead>\n",
       "  <tbody>\n",
       "    <tr>\n",
       "      <th>count</th>\n",
       "      <td>19803.000000</td>\n",
       "      <td>19803.000000</td>\n",
       "      <td>19803.000000</td>\n",
       "    </tr>\n",
       "    <tr>\n",
       "      <th>mean</th>\n",
       "      <td>74.579912</td>\n",
       "      <td>14.202242</td>\n",
       "      <td>1.101702</td>\n",
       "    </tr>\n",
       "    <tr>\n",
       "      <th>std</th>\n",
       "      <td>23.054653</td>\n",
       "      <td>4.908809</td>\n",
       "      <td>0.357666</td>\n",
       "    </tr>\n",
       "    <tr>\n",
       "      <th>min</th>\n",
       "      <td>3.000000</td>\n",
       "      <td>1.000000</td>\n",
       "      <td>1.000000</td>\n",
       "    </tr>\n",
       "    <tr>\n",
       "      <th>25%</th>\n",
       "      <td>61.000000</td>\n",
       "      <td>11.000000</td>\n",
       "      <td>1.000000</td>\n",
       "    </tr>\n",
       "    <tr>\n",
       "      <th>50%</th>\n",
       "      <td>76.000000</td>\n",
       "      <td>14.000000</td>\n",
       "      <td>1.000000</td>\n",
       "    </tr>\n",
       "    <tr>\n",
       "      <th>75%</th>\n",
       "      <td>88.000000</td>\n",
       "      <td>17.000000</td>\n",
       "      <td>1.000000</td>\n",
       "    </tr>\n",
       "    <tr>\n",
       "      <th>max</th>\n",
       "      <td>456.000000</td>\n",
       "      <td>79.000000</td>\n",
       "      <td>7.000000</td>\n",
       "    </tr>\n",
       "  </tbody>\n",
       "</table>\n",
       "</div>"
      ],
      "text/plain": [
       "       num_characters     num_words  num_sentences\n",
       "count    19803.000000  19803.000000   19803.000000\n",
       "mean        74.579912     14.202242       1.101702\n",
       "std         23.054653      4.908809       0.357666\n",
       "min          3.000000      1.000000       1.000000\n",
       "25%         61.000000     11.000000       1.000000\n",
       "50%         76.000000     14.000000       1.000000\n",
       "75%         88.000000     17.000000       1.000000\n",
       "max        456.000000     79.000000       7.000000"
      ]
     },
     "execution_count": 27,
     "metadata": {},
     "output_type": "execute_result"
    }
   ],
   "source": [
    "df[['num_characters','num_words','num_sentences']].describe()"
   ]
  },
  {
   "cell_type": "code",
   "execution_count": 28,
   "id": "b67217af",
   "metadata": {
    "colab": {
     "base_uri": "https://localhost:8080/",
     "height": 300
    },
    "id": "b67217af",
    "outputId": "d755f340-ba95-42f3-fa1f-fb2ebb0d958a"
   },
   "outputs": [
    {
     "data": {
      "text/html": [
       "<div>\n",
       "<style scoped>\n",
       "    .dataframe tbody tr th:only-of-type {\n",
       "        vertical-align: middle;\n",
       "    }\n",
       "\n",
       "    .dataframe tbody tr th {\n",
       "        vertical-align: top;\n",
       "    }\n",
       "\n",
       "    .dataframe thead th {\n",
       "        text-align: right;\n",
       "    }\n",
       "</style>\n",
       "<table border=\"1\" class=\"dataframe\">\n",
       "  <thead>\n",
       "    <tr style=\"text-align: right;\">\n",
       "      <th></th>\n",
       "      <th>num_characters</th>\n",
       "      <th>num_words</th>\n",
       "      <th>num_sentences</th>\n",
       "    </tr>\n",
       "  </thead>\n",
       "  <tbody>\n",
       "    <tr>\n",
       "      <th>count</th>\n",
       "      <td>10381.000000</td>\n",
       "      <td>10381.000000</td>\n",
       "      <td>10381.000000</td>\n",
       "    </tr>\n",
       "    <tr>\n",
       "      <th>mean</th>\n",
       "      <td>79.609961</td>\n",
       "      <td>15.579135</td>\n",
       "      <td>1.114055</td>\n",
       "    </tr>\n",
       "    <tr>\n",
       "      <th>std</th>\n",
       "      <td>15.556547</td>\n",
       "      <td>3.702525</td>\n",
       "      <td>0.390267</td>\n",
       "    </tr>\n",
       "    <tr>\n",
       "      <th>min</th>\n",
       "      <td>22.000000</td>\n",
       "      <td>5.000000</td>\n",
       "      <td>1.000000</td>\n",
       "    </tr>\n",
       "    <tr>\n",
       "      <th>25%</th>\n",
       "      <td>70.000000</td>\n",
       "      <td>13.000000</td>\n",
       "      <td>1.000000</td>\n",
       "    </tr>\n",
       "    <tr>\n",
       "      <th>50%</th>\n",
       "      <td>81.000000</td>\n",
       "      <td>16.000000</td>\n",
       "      <td>1.000000</td>\n",
       "    </tr>\n",
       "    <tr>\n",
       "      <th>75%</th>\n",
       "      <td>89.000000</td>\n",
       "      <td>18.000000</td>\n",
       "      <td>1.000000</td>\n",
       "    </tr>\n",
       "    <tr>\n",
       "      <th>max</th>\n",
       "      <td>175.000000</td>\n",
       "      <td>35.000000</td>\n",
       "      <td>5.000000</td>\n",
       "    </tr>\n",
       "  </tbody>\n",
       "</table>\n",
       "</div>"
      ],
      "text/plain": [
       "       num_characters     num_words  num_sentences\n",
       "count    10381.000000  10381.000000   10381.000000\n",
       "mean        79.609961     15.579135       1.114055\n",
       "std         15.556547      3.702525       0.390267\n",
       "min         22.000000      5.000000       1.000000\n",
       "25%         70.000000     13.000000       1.000000\n",
       "50%         81.000000     16.000000       1.000000\n",
       "75%         89.000000     18.000000       1.000000\n",
       "max        175.000000     35.000000       5.000000"
      ]
     },
     "execution_count": 28,
     "metadata": {},
     "output_type": "execute_result"
    }
   ],
   "source": [
    "# Not Fake\n",
    "df[df['label'] == 0][['num_characters','num_words','num_sentences']].describe()"
   ]
  },
  {
   "cell_type": "code",
   "execution_count": 29,
   "id": "948ea40b",
   "metadata": {
    "colab": {
     "base_uri": "https://localhost:8080/",
     "height": 300
    },
    "id": "948ea40b",
    "outputId": "27c7d382-88dc-40a8-f5da-9c98e4cd0389"
   },
   "outputs": [
    {
     "data": {
      "text/html": [
       "<div>\n",
       "<style scoped>\n",
       "    .dataframe tbody tr th:only-of-type {\n",
       "        vertical-align: middle;\n",
       "    }\n",
       "\n",
       "    .dataframe tbody tr th {\n",
       "        vertical-align: top;\n",
       "    }\n",
       "\n",
       "    .dataframe thead th {\n",
       "        text-align: right;\n",
       "    }\n",
       "</style>\n",
       "<table border=\"1\" class=\"dataframe\">\n",
       "  <thead>\n",
       "    <tr style=\"text-align: right;\">\n",
       "      <th></th>\n",
       "      <th>num_characters</th>\n",
       "      <th>num_words</th>\n",
       "      <th>num_sentences</th>\n",
       "    </tr>\n",
       "  </thead>\n",
       "  <tbody>\n",
       "    <tr>\n",
       "      <th>count</th>\n",
       "      <td>9422.000000</td>\n",
       "      <td>9422.000000</td>\n",
       "      <td>9422.000000</td>\n",
       "    </tr>\n",
       "    <tr>\n",
       "      <th>mean</th>\n",
       "      <td>69.037890</td>\n",
       "      <td>12.685205</td>\n",
       "      <td>1.088092</td>\n",
       "    </tr>\n",
       "    <tr>\n",
       "      <th>std</th>\n",
       "      <td>28.141747</td>\n",
       "      <td>5.581524</td>\n",
       "      <td>0.317364</td>\n",
       "    </tr>\n",
       "    <tr>\n",
       "      <th>min</th>\n",
       "      <td>3.000000</td>\n",
       "      <td>1.000000</td>\n",
       "      <td>1.000000</td>\n",
       "    </tr>\n",
       "    <tr>\n",
       "      <th>25%</th>\n",
       "      <td>51.000000</td>\n",
       "      <td>9.000000</td>\n",
       "      <td>1.000000</td>\n",
       "    </tr>\n",
       "    <tr>\n",
       "      <th>50%</th>\n",
       "      <td>67.000000</td>\n",
       "      <td>12.000000</td>\n",
       "      <td>1.000000</td>\n",
       "    </tr>\n",
       "    <tr>\n",
       "      <th>75%</th>\n",
       "      <td>84.000000</td>\n",
       "      <td>16.000000</td>\n",
       "      <td>1.000000</td>\n",
       "    </tr>\n",
       "    <tr>\n",
       "      <th>max</th>\n",
       "      <td>456.000000</td>\n",
       "      <td>79.000000</td>\n",
       "      <td>7.000000</td>\n",
       "    </tr>\n",
       "  </tbody>\n",
       "</table>\n",
       "</div>"
      ],
      "text/plain": [
       "       num_characters    num_words  num_sentences\n",
       "count     9422.000000  9422.000000    9422.000000\n",
       "mean        69.037890    12.685205       1.088092\n",
       "std         28.141747     5.581524       0.317364\n",
       "min          3.000000     1.000000       1.000000\n",
       "25%         51.000000     9.000000       1.000000\n",
       "50%         67.000000    12.000000       1.000000\n",
       "75%         84.000000    16.000000       1.000000\n",
       "max        456.000000    79.000000       7.000000"
      ]
     },
     "execution_count": 29,
     "metadata": {},
     "output_type": "execute_result"
    }
   ],
   "source": [
    "# Fake\n",
    "df[df['label'] == 1][['num_characters','num_words','num_sentences']].describe()"
   ]
  },
  {
   "cell_type": "code",
   "execution_count": 30,
   "id": "b4aa1265",
   "metadata": {
    "colab": {
     "base_uri": "https://localhost:8080/",
     "height": 542
    },
    "id": "b4aa1265",
    "outputId": "8b177497-fe46-4ed8-db9c-87bf9632bbfe"
   },
   "outputs": [
    {
     "data": {
      "image/png": "[encoded data removed]",
      "text/plain": [
       "<Figure size 864x432 with 1 Axes>"
      ]
     },
     "metadata": {
      "needs_background": "light"
     },
     "output_type": "display_data"
    }
   ],
   "source": [
    "# characters\n",
    "\n",
    "plt.figure(figsize=(12,6))\n",
    "sns.histplot(df[df['label'] == 0]['num_characters'])\n",
    "sns.histplot(df[df['label'] == 1]['num_characters'],color='red')\n",
    "plt.show()"
   ]
  },
  {
   "cell_type": "code",
   "execution_count": 31,
   "id": "56f16310",
   "metadata": {
    "colab": {
     "base_uri": "https://localhost:8080/",
     "height": 542
    },
    "id": "56f16310",
    "outputId": "0a36f21d-518c-4c15-b81a-5cfdb46f5319"
   },
   "outputs": [
    {
     "data": {
      "image/png": "[encoded data removed]",
      "text/plain": [
       "<Figure size 864x432 with 1 Axes>"
      ]
     },
     "metadata": {
      "needs_background": "light"
     },
     "output_type": "display_data"
    }
   ],
   "source": [
    "# words\n",
    "plt.figure(figsize=(12,6))\n",
    "sns.histplot(df[df['label'] == 0]['num_words'])\n",
    "sns.histplot(df[df['label'] == 1]['num_words'],color='red')\n",
    "plt.show()"
   ]
  },
  {
   "cell_type": "code",
   "execution_count": 32,
   "id": "c38c4089",
   "metadata": {
    "colab": {
     "base_uri": "https://localhost:8080/",
     "height": 542
    },
    "id": "c38c4089",
    "outputId": "84fbce63-7d61-4029-beb3-6846cfea261c"
   },
   "outputs": [
    {
     "data": {
      "image/png": "[encoded data removed]",
      "text/plain": [
       "<Figure size 864x432 with 1 Axes>"
      ]
     },
     "metadata": {
      "needs_background": "light"
     },
     "output_type": "display_data"
    }
   ],
   "source": [
    "# sentences\n",
    "plt.figure(figsize=(12,6))\n",
    "sns.histplot(df[df['label'] == 0]['num_sentences'])\n",
    "sns.histplot(df[df['label'] == 1]['num_sentences'],color='red')\n",
    "plt.show()"
   ]
  },
  {
   "cell_type": "code",
   "execution_count": 33,
   "id": "7611d2d8",
   "metadata": {
    "colab": {
     "base_uri": "https://localhost:8080/",
     "height": 758
    },
    "id": "7611d2d8",
    "outputId": "36d99cf1-3f60-4b3b-fb73-1c5d1e0ae102"
   },
   "outputs": [
    {
     "data": {
      "image/png": "[encoded data removed]",
      "text/plain": [
       "<Figure size 582.375x540 with 12 Axes>"
      ]
     },
     "metadata": {
      "needs_background": "light"
     },
     "output_type": "display_data"
    }
   ],
   "source": [
    "sns.pairplot(df,hue='label')\n",
    "plt.show()"
   ]
  },
  {
   "cell_type": "code",
   "execution_count": 34,
   "id": "207bc872",
   "metadata": {
    "colab": {
     "base_uri": "https://localhost:8080/",
     "height": 528
    },
    "id": "207bc872",
    "outputId": "dec59b20-ae04-4bcc-a9ed-89e48ae2eef9"
   },
   "outputs": [
    {
     "data": {
      "image/png": "[encoded data removed]",
      "text/plain": [
       "<Figure size 864x432 with 2 Axes>"
      ]
     },
     "metadata": {
      "needs_background": "light"
     },
     "output_type": "display_data"
    }
   ],
   "source": [
    "plt.figure(figsize=(12,6))\n",
    "sns.heatmap(df.corr(),annot=True)\n",
    "plt.show()"
   ]
  },
  {
   "cell_type": "markdown",
   "id": "5e13b09b",
   "metadata": {
    "id": "5e13b09b"
   },
   "source": [
    "## Data preprocessing"
   ]
  },
  {
   "cell_type": "code",
   "execution_count": 35,
   "id": "b0c8087b",
   "metadata": {
    "id": "b0c8087b"
   },
   "outputs": [],
   "source": [
    "import nltk\n",
    "import re\n",
    "from nltk.corpus import stopwords\n",
    "import string"
   ]
  },
  {
   "cell_type": "code",
   "execution_count": 36,
   "id": "616b5411",
   "metadata": {
    "colab": {
     "base_uri": "https://localhost:8080/"
    },
    "id": "616b5411",
    "outputId": "3074ea3b-9b96-43e1-cafa-f881692d13ff"
   },
   "outputs": [
    {
     "name": "stderr",
     "output_type": "stream",
     "text": [
      "[nltk_data] Downloading package stopwords to\n",
      "[nltk_data]     C:\\Users\\Akshay\\AppData\\Roaming\\nltk_data...\n",
      "[nltk_data]   Package stopwords is already up-to-date!\n"
     ]
    },
    {
     "data": {
      "text/plain": [
       "True"
      ]
     },
     "execution_count": 36,
     "metadata": {},
     "output_type": "execute_result"
    }
   ],
   "source": [
    "nltk.download('stopwords')"
   ]
  },
  {
   "cell_type": "code",
   "execution_count": 37,
   "id": "285afa15",
   "metadata": {
    "colab": {
     "base_uri": "https://localhost:8080/",
     "height": 36
    },
    "id": "285afa15",
    "outputId": "1811459c-5e7f-4da7-e8ab-fb1d9a43d08b"
   },
   "outputs": [
    {
     "data": {
      "text/plain": [
       "'love'"
      ]
     },
     "execution_count": 37,
     "metadata": {},
     "output_type": "execute_result"
    }
   ],
   "source": [
    "from nltk.stem.porter import PorterStemmer\n",
    "ps = PorterStemmer()\n",
    "ps.stem('loving')"
   ]
  },
  {
   "cell_type": "code",
   "execution_count": 38,
   "id": "318d99b5",
   "metadata": {
    "id": "318d99b5"
   },
   "outputs": [],
   "source": [
    "def transform_text(text):\n",
    "    text = text.lower()\n",
    "    text = nltk.word_tokenize(text)\n",
    "    \n",
    "    y = []\n",
    "    for i in text:\n",
    "        if i.isalnum(): #remove special charactes except alphanumeric\n",
    "            y.append(i)\n",
    "    \n",
    "    text = y[:]\n",
    "    y.clear()\n",
    "    \n",
    "    #remove stopwords and punctuation\n",
    "    for i in text:\n",
    "        if i not in stopwords.words('english') and i not in string.punctuation: \n",
    "            y.append(i)\n",
    "            \n",
    "    text = y[:]\n",
    "    y.clear()\n",
    "    \n",
    "    #word stemming\n",
    "    for i in text:\n",
    "        y.append(ps.stem(i))\n",
    "    \n",
    "            \n",
    "    return \" \".join(y)"
   ]
  },
  {
   "cell_type": "code",
   "execution_count": 39,
   "id": "75fd6cd8",
   "metadata": {
    "colab": {
     "base_uri": "https://localhost:8080/",
     "height": 53
    },
    "id": "75fd6cd8",
    "outputId": "4c2f300c-19dd-4d2b-d343-8dacc127958e"
   },
   "outputs": [
    {
     "data": {
      "text/plain": [
       "'even see comey letter jason chaffetz tweet darrel lucu octob 30 2016 subscrib jason chaffetz stump american fork utah imag courtesi michael jolley avail creativ licens apolog keith olbermann doubt worst person world director jame comey'"
      ]
     },
     "execution_count": 39,
     "metadata": {},
     "output_type": "execute_result"
    }
   ],
   "source": [
    "transform_text(\"We Didn’t Even See Comey’s Letter Until Jason Chaffetz Tweeted It By Darrell Lucus on October 30, 2016 Subscribe Jason Chaffetz on the stump in American Fork, Utah ( image courtesy Michael Jolley, available under a Creative Commons-BY license) \\nWith apologies to Keith Olbermann, there is no doubt who the Worst Person in The World is this week–FBI Director James Comey.\")"
   ]
  },
  {
   "cell_type": "code",
   "execution_count": 40,
   "id": "24baea9c",
   "metadata": {
    "id": "24baea9c"
   },
   "outputs": [],
   "source": [
    "df['transformed_text'] = df['title'].apply(transform_text)"
   ]
  },
  {
   "cell_type": "code",
   "execution_count": 41,
   "id": "35895db1",
   "metadata": {
    "colab": {
     "base_uri": "https://localhost:8080/",
     "height": 206
    },
    "id": "35895db1",
    "outputId": "89edbb8c-78fe-4a1c-b69b-e2127db3a84a"
   },
   "outputs": [
    {
     "data": {
      "text/html": [
       "<div>\n",
       "<style scoped>\n",
       "    .dataframe tbody tr th:only-of-type {\n",
       "        vertical-align: middle;\n",
       "    }\n",
       "\n",
       "    .dataframe tbody tr th {\n",
       "        vertical-align: top;\n",
       "    }\n",
       "\n",
       "    .dataframe thead th {\n",
       "        text-align: right;\n",
       "    }\n",
       "</style>\n",
       "<table border=\"1\" class=\"dataframe\">\n",
       "  <thead>\n",
       "    <tr style=\"text-align: right;\">\n",
       "      <th></th>\n",
       "      <th>title</th>\n",
       "      <th>label</th>\n",
       "      <th>num_characters</th>\n",
       "      <th>num_words</th>\n",
       "      <th>num_sentences</th>\n",
       "      <th>transformed_text</th>\n",
       "    </tr>\n",
       "  </thead>\n",
       "  <tbody>\n",
       "    <tr>\n",
       "      <th>0</th>\n",
       "      <td>House Dem Aide: We Didn’t Even See Comey’s Let...</td>\n",
       "      <td>1</td>\n",
       "      <td>81</td>\n",
       "      <td>19</td>\n",
       "      <td>1</td>\n",
       "      <td>hous dem aid even see comey letter jason chaff...</td>\n",
       "    </tr>\n",
       "    <tr>\n",
       "      <th>1</th>\n",
       "      <td>FLYNN: Hillary Clinton, Big Woman on Campus - ...</td>\n",
       "      <td>0</td>\n",
       "      <td>55</td>\n",
       "      <td>11</td>\n",
       "      <td>1</td>\n",
       "      <td>flynn hillari clinton big woman campu breitbart</td>\n",
       "    </tr>\n",
       "    <tr>\n",
       "      <th>2</th>\n",
       "      <td>Why the Truth Might Get You Fired</td>\n",
       "      <td>1</td>\n",
       "      <td>33</td>\n",
       "      <td>7</td>\n",
       "      <td>1</td>\n",
       "      <td>truth might get fire</td>\n",
       "    </tr>\n",
       "    <tr>\n",
       "      <th>3</th>\n",
       "      <td>15 Civilians Killed In Single US Airstrike Hav...</td>\n",
       "      <td>1</td>\n",
       "      <td>63</td>\n",
       "      <td>10</td>\n",
       "      <td>1</td>\n",
       "      <td>15 civilian kill singl us airstrik identifi</td>\n",
       "    </tr>\n",
       "    <tr>\n",
       "      <th>4</th>\n",
       "      <td>Iranian woman jailed for fictional unpublished...</td>\n",
       "      <td>1</td>\n",
       "      <td>93</td>\n",
       "      <td>14</td>\n",
       "      <td>1</td>\n",
       "      <td>iranian woman jail fiction unpublish stori wom...</td>\n",
       "    </tr>\n",
       "  </tbody>\n",
       "</table>\n",
       "</div>"
      ],
      "text/plain": [
       "                                               title  label  num_characters  \\\n",
       "0  House Dem Aide: We Didn’t Even See Comey’s Let...      1              81   \n",
       "1  FLYNN: Hillary Clinton, Big Woman on Campus - ...      0              55   \n",
       "2                  Why the Truth Might Get You Fired      1              33   \n",
       "3  15 Civilians Killed In Single US Airstrike Hav...      1              63   \n",
       "4  Iranian woman jailed for fictional unpublished...      1              93   \n",
       "\n",
       "   num_words  num_sentences                                   transformed_text  \n",
       "0         19              1  hous dem aid even see comey letter jason chaff...  \n",
       "1         11              1    flynn hillari clinton big woman campu breitbart  \n",
       "2          7              1                               truth might get fire  \n",
       "3         10              1        15 civilian kill singl us airstrik identifi  \n",
       "4         14              1  iranian woman jail fiction unpublish stori wom...  "
      ]
     },
     "execution_count": 41,
     "metadata": {},
     "output_type": "execute_result"
    }
   ],
   "source": [
    "df.head()"
   ]
  },
  {
   "cell_type": "code",
   "execution_count": 42,
   "id": "844f3c96",
   "metadata": {
    "id": "844f3c96"
   },
   "outputs": [],
   "source": [
    "from wordcloud import WordCloud\n",
    "wc = WordCloud(width=500,height=500,min_font_size=10,background_color='white')"
   ]
  },
  {
   "cell_type": "code",
   "execution_count": 43,
   "id": "d2f29cb1",
   "metadata": {
    "id": "d2f29cb1"
   },
   "outputs": [],
   "source": [
    "fake_wc = wc.generate(df[df['label'] == 1]['transformed_text'].str.cat(sep=\" \"))"
   ]
  },
  {
   "cell_type": "code",
   "execution_count": 44,
   "id": "8f7ba8c9",
   "metadata": {
    "colab": {
     "base_uri": "https://localhost:8080/",
     "height": 527
    },
    "id": "8f7ba8c9",
    "outputId": "b0ed9ae5-68a1-411d-c91b-ffb3aca21bee"
   },
   "outputs": [
    {
     "data": {
      "image/png": "[encoded data removed]",
      "text/plain": [
       "<Figure size 1296x432 with 1 Axes>"
      ]
     },
     "metadata": {
      "needs_background": "light"
     },
     "output_type": "display_data"
    }
   ],
   "source": [
    "plt.figure(figsize=(18,6))\n",
    "plt.imshow(fake_wc)\n",
    "plt.show()"
   ]
  },
  {
   "cell_type": "code",
   "execution_count": 45,
   "id": "ef9782f8",
   "metadata": {
    "id": "ef9782f8"
   },
   "outputs": [],
   "source": [
    "not_fake_wc = wc.generate(df[df['label'] == 0]['transformed_text'].str.cat(sep=\" \"))"
   ]
  },
  {
   "cell_type": "code",
   "execution_count": 46,
   "id": "83175369",
   "metadata": {
    "colab": {
     "base_uri": "https://localhost:8080/",
     "height": 527
    },
    "id": "83175369",
    "outputId": "faec5bcc-a6ad-4317-c474-695f822155f5"
   },
   "outputs": [
    {
     "data": {
      "image/png": "[encoded data removed]",
      "text/plain": [
       "<Figure size 1296x432 with 1 Axes>"
      ]
     },
     "metadata": {
      "needs_background": "light"
     },
     "output_type": "display_data"
    }
   ],
   "source": [
    "plt.figure(figsize=(18,6))\n",
    "plt.imshow(not_fake_wc)\n",
    "plt.show()"
   ]
  },
  {
   "cell_type": "code",
   "execution_count": 47,
   "id": "a4916d25",
   "metadata": {
    "id": "a4916d25"
   },
   "outputs": [],
   "source": [
    "fake_corpus = []\n",
    "for msg in df[df['label'] == 1]['transformed_text'].tolist():\n",
    "    for word in msg.split():\n",
    "        fake_corpus.append(word)"
   ]
  },
  {
   "cell_type": "code",
   "execution_count": 48,
   "id": "52d832ce",
   "metadata": {
    "colab": {
     "base_uri": "https://localhost:8080/"
    },
    "id": "52d832ce",
    "outputId": "86a0d9e3-6d77-4ea3-b3af-b8cf49a2bfe4"
   },
   "outputs": [
    {
     "data": {
      "text/plain": [
       "72182"
      ]
     },
     "execution_count": 48,
     "metadata": {},
     "output_type": "execute_result"
    }
   ],
   "source": [
    "len(fake_corpus)"
   ]
  },
  {
   "cell_type": "code",
   "execution_count": 49,
   "id": "716a7fdb",
   "metadata": {
    "id": "716a7fdb"
   },
   "outputs": [],
   "source": [
    "from collections import Counter"
   ]
  },
  {
   "cell_type": "code",
   "execution_count": 50,
   "id": "930619b0",
   "metadata": {
    "colab": {
     "base_uri": "https://localhost:8080/"
    },
    "id": "930619b0",
    "outputId": "0b9902b4-fd13-4bf8-ae45-bbf5b75c79d1"
   },
   "outputs": [
    {
     "data": {
      "text/plain": [
       "[('trump', 1362),\n",
       " ('hillari', 962),\n",
       " ('clinton', 887),\n",
       " ('elect', 533),\n",
       " ('new', 413),\n",
       " ('video', 381),\n",
       " ('us', 375),\n",
       " ('news', 337),\n",
       " ('comment', 336),\n",
       " ('russia', 325),\n",
       " ('fbi', 323),\n",
       " ('war', 315),\n",
       " ('email', 297),\n",
       " ('america', 289),\n",
       " ('vote', 283),\n",
       " ('world', 270),\n",
       " ('obama', 268),\n",
       " ('donald', 259),\n",
       " ('say', 222),\n",
       " ('break', 203),\n",
       " ('american', 201),\n",
       " ('day', 198),\n",
       " ('de', 185),\n",
       " ('state', 182),\n",
       " ('presid', 181),\n",
       " ('wikileak', 177),\n",
       " ('support', 171),\n",
       " ('campaign', 170),\n",
       " ('2016', 164),\n",
       " ('report', 161)]"
      ]
     },
     "execution_count": 50,
     "metadata": {},
     "output_type": "execute_result"
    }
   ],
   "source": [
    "Counter(fake_corpus).most_common(30)"
   ]
  },
  {
   "cell_type": "code",
   "execution_count": 51,
   "id": "e423df27",
   "metadata": {
    "id": "e423df27"
   },
   "outputs": [],
   "source": [
    "d1 = pd.DataFrame(Counter(fake_corpus).most_common(30))[0]"
   ]
  },
  {
   "cell_type": "code",
   "execution_count": 52,
   "id": "428cb63e",
   "metadata": {
    "colab": {
     "base_uri": "https://localhost:8080/"
    },
    "id": "428cb63e",
    "outputId": "c809e4f3-e5c8-449b-a3fb-91c9fc006fcb"
   },
   "outputs": [
    {
     "data": {
      "text/plain": [
       "0      trump\n",
       "1    hillari\n",
       "2    clinton\n",
       "3      elect\n",
       "4        new\n",
       "Name: 0, dtype: object"
      ]
     },
     "execution_count": 52,
     "metadata": {},
     "output_type": "execute_result"
    }
   ],
   "source": [
    "d1.head()"
   ]
  },
  {
   "cell_type": "code",
   "execution_count": 53,
   "id": "9dbc68bf",
   "metadata": {
    "id": "9dbc68bf"
   },
   "outputs": [],
   "source": [
    "d2 = pd.DataFrame(Counter(fake_corpus).most_common(30))[1]"
   ]
  },
  {
   "cell_type": "code",
   "execution_count": 54,
   "id": "ecf75a03",
   "metadata": {
    "colab": {
     "base_uri": "https://localhost:8080/"
    },
    "id": "ecf75a03",
    "outputId": "8d4a16b2-148b-4fb2-aa68-748fdefde4ea"
   },
   "outputs": [
    {
     "data": {
      "text/plain": [
       "0    1362\n",
       "1     962\n",
       "2     887\n",
       "3     533\n",
       "4     413\n",
       "Name: 1, dtype: int64"
      ]
     },
     "execution_count": 54,
     "metadata": {},
     "output_type": "execute_result"
    }
   ],
   "source": [
    "d2.head()"
   ]
  },
  {
   "cell_type": "code",
   "execution_count": 55,
   "id": "be9110e5",
   "metadata": {
    "colab": {
     "base_uri": "https://localhost:8080/",
     "height": 454
    },
    "id": "be9110e5",
    "outputId": "f6e93550-52f2-4588-b5b2-b417b2b48f45"
   },
   "outputs": [
    {
     "data": {
      "image/png": "[encoded data removed]",
      "text/plain": [
       "<Figure size 1296x432 with 1 Axes>"
      ]
     },
     "metadata": {
      "needs_background": "light"
     },
     "output_type": "display_data"
    }
   ],
   "source": [
    "plt.figure(figsize = (18,6))\n",
    "sns.barplot(x=d1,y=d2)\n",
    "plt.xticks(rotation='vertical')\n",
    "plt.show()"
   ]
  },
  {
   "cell_type": "code",
   "execution_count": 56,
   "id": "fe7fb11d",
   "metadata": {
    "id": "fe7fb11d"
   },
   "outputs": [],
   "source": [
    "not_fake_corpus = []\n",
    "for msg in df[df['label'] == 0]['transformed_text'].tolist():\n",
    "    for word in msg.split():\n",
    "        not_fake_corpus.append(word)"
   ]
  },
  {
   "cell_type": "code",
   "execution_count": 57,
   "id": "9a9b6694",
   "metadata": {
    "colab": {
     "base_uri": "https://localhost:8080/"
    },
    "id": "9a9b6694",
    "outputId": "337c25a5-3eb5-476d-c199-e875c4900c13"
   },
   "outputs": [
    {
     "data": {
      "text/plain": [
       "96764"
      ]
     },
     "execution_count": 57,
     "metadata": {},
     "output_type": "execute_result"
    }
   ],
   "source": [
    "len(not_fake_corpus)"
   ]
  },
  {
   "cell_type": "code",
   "execution_count": 58,
   "id": "4408184a",
   "metadata": {
    "colab": {
     "base_uri": "https://localhost:8080/",
     "height": 455
    },
    "id": "4408184a",
    "outputId": "a733ed07-27fa-4b7c-9db8-513fa9061eaa"
   },
   "outputs": [
    {
     "data": {
      "image/png": "[encoded data removed]",
      "text/plain": [
       "<Figure size 1296x432 with 1 Axes>"
      ]
     },
     "metadata": {
      "needs_background": "light"
     },
     "output_type": "display_data"
    }
   ],
   "source": [
    "plt.figure(figsize = (18,6))\n",
    "sns.barplot(x=pd.DataFrame(Counter(not_fake_corpus).most_common(30))[0],y=pd.DataFrame(Counter(not_fake_corpus).most_common(30))[1])\n",
    "plt.xticks(rotation='vertical')\n",
    "plt.show()"
   ]
  },
  {
   "cell_type": "markdown",
   "id": "44a11491",
   "metadata": {
    "id": "44a11491"
   },
   "source": [
    "## model building"
   ]
  },
  {
   "cell_type": "code",
   "execution_count": 68,
   "id": "7LPurlOiHOfl",
   "metadata": {
    "id": "7LPurlOiHOfl"
   },
   "outputs": [],
   "source": [
    "from tensorflow.keras.layers import Embedding\n",
    "from tensorflow.keras.preprocessing.sequence import pad_sequences\n",
    "from tensorflow.keras.models import Sequential\n",
    "from tensorflow.keras.preprocessing.text import one_hot\n",
    "from tensorflow.keras.layers import LSTM\n",
    "from tensorflow.keras.layers import Dense\n",
    "from tensorflow.keras.layers import Dropout"
   ]
  },
  {
   "cell_type": "code",
   "execution_count": 69,
   "id": "4fb24e67",
   "metadata": {},
   "outputs": [],
   "source": [
    "X = df['transformed_text']"
   ]
  },
  {
   "cell_type": "code",
   "execution_count": 70,
   "id": "2c46f9fd",
   "metadata": {},
   "outputs": [],
   "source": [
    "y = df['label']"
   ]
  },
  {
   "cell_type": "code",
   "execution_count": 71,
   "id": "68vh5-UrHfHG",
   "metadata": {
    "id": "68vh5-UrHfHG"
   },
   "outputs": [],
   "source": [
    "### Vocabulary size\n",
    "voc_size=10000"
   ]
  },
  {
   "cell_type": "code",
   "execution_count": 72,
   "id": "S79ya8c9HDbv",
   "metadata": {
    "colab": {
     "base_uri": "https://localhost:8080/"
    },
    "id": "S79ya8c9HDbv",
    "outputId": "daefacf9-eb6c-4cff-b1e5-75f6cc11ba77"
   },
   "outputs": [
    {
     "data": {
      "text/plain": [
       "[[8438, 320, 2492, 9135, 2395, 3826, 9048, 8860, 6426, 4021],\n",
       " [8051, 294, 3647, 5484, 5144, 1669, 3754],\n",
       " [7282, 140, 3624, 2591],\n",
       " [5378, 9417, 3631, 9685, 6247, 5571, 7188],\n",
       " [2237, 5144, 7640, 7166, 5620, 3078, 5144, 7998, 6443, 2346],\n",
       " [7639,\n",
       "  8653,\n",
       "  675,\n",
       "  6869,\n",
       "  7147,\n",
       "  7903,\n",
       "  6301,\n",
       "  9116,\n",
       "  4514,\n",
       "  4320,\n",
       "  7640,\n",
       "  4920,\n",
       "  6113,\n",
       "  8907,\n",
       "  3754],\n",
       " [7764, 7764, 8263, 7434, 8400, 336, 2719, 4267, 5952, 5385, 6850, 4697, 6175],\n",
       " [5875, 1583, 3733, 2674, 2382, 3441, 8910, 7652, 1379, 3319, 9069],\n",
       " [7459,\n",
       "  3862,\n",
       "  1457,\n",
       "  6047,\n",
       "  7903,\n",
       "  3118,\n",
       "  3934,\n",
       "  5548,\n",
       "  7324,\n",
       "  9088,\n",
       "  1379,\n",
       "  3319,\n",
       "  9069],\n",
       " [3884, 9560, 4747, 4041, 7903, 6497, 1379, 3319, 9069],\n",
       " [8188, 4633, 1016, 7844, 8334, 2958, 7903, 3947],\n",
       " [9148, 8902, 2274, 3248, 2268, 2589, 2394, 7239],\n",
       " [9536, 3238, 4339, 1989, 3689, 8298, 1433, 6733, 2697, 6243, 820],\n",
       " [6247, 6095, 2395, 6731, 7903, 4747],\n",
       " [1995, 7246, 5091, 823, 9157, 3042, 2692, 594, 8188],\n",
       " [4976, 230, 469, 8276, 2515, 2778, 4250, 1379, 3319, 9069],\n",
       " [5729, 6103, 8427, 6347, 1695, 1379, 3319, 9069],\n",
       " [2544, 6803, 2716, 6593, 9337, 1587, 4771, 7523, 7185, 4325],\n",
       " [6957, 7373, 294],\n",
       " [8851, 6309, 9149, 6047, 7903, 5490, 7019, 3754],\n",
       " [6078, 838, 6636, 9924, 1638, 9166, 2721, 3081, 6156, 6659, 1379, 605, 3441],\n",
       " [6829, 1058, 3647, 779, 321, 3820, 3359, 5925, 3078],\n",
       " [802, 178, 7903, 1016, 7331, 3754],\n",
       " [8084, 9075, 8471, 5964, 9005, 2779, 7208, 5548, 9728, 920],\n",
       " [2801, 5640, 3239, 5015, 4358, 318, 3359, 2790, 1678, 1530, 1379, 3319, 9069],\n",
       " [9250, 3552, 9173, 4560, 2583, 9183, 9765],\n",
       " [6113, 1236, 9866, 6398, 2922, 2955, 7362, 1449, 2445, 7076, 4084, 3754],\n",
       " [7178, 294, 1501, 2348, 5669, 931, 5378, 2081, 5470],\n",
       " [4719, 6682, 6644, 6078, 4663, 6415, 779, 2080, 4518, 1379, 3319, 9069],\n",
       " [294, 3647, 454, 3996, 1379, 3319, 9069],\n",
       " [8851, 6309, 9149, 178, 1380, 2779, 6078, 3754],\n",
       " [4957, 4950, 9883, 1902, 1478, 1669],\n",
       " [9068, 3232, 5661, 5770, 1060, 1379, 3319, 9069],\n",
       " [4956, 8999, 8312, 4832, 252, 9353, 9993, 6290, 9077, 1379, 3319, 9069],\n",
       " [4740, 1, 619, 1449, 581, 928, 3322, 8350, 3974, 1379, 3319, 9069],\n",
       " [4747, 3143, 2583, 9947, 57, 6001, 1379, 3319, 9069],\n",
       " [9029, 1970, 1319, 4466, 6253, 7589],\n",
       " [5943, 1548, 1596],\n",
       " [4911, 7903, 9560, 5919, 2364, 6344, 7550, 3754],\n",
       " [2730, 6036, 2730, 1247, 7971, 1489, 1379, 3319, 9069],\n",
       " [4693, 7375, 4649, 2937, 210, 6274, 3754],\n",
       " [6172, 8610, 9461, 8399, 2378],\n",
       " [9166, 8206, 6263, 5655, 283, 6864, 1379, 3319, 9069],\n",
       " [128, 2249, 975, 1425, 8239, 4061, 6655, 505],\n",
       " [8868, 3877, 9424, 2793, 8188, 2389, 5270, 9652, 3754],\n",
       " [2461, 6959, 5323, 2469, 6491, 5027, 6644, 1379, 3319, 9069],\n",
       " [2032, 9992, 8138, 7540, 1990, 7578, 9836, 1101, 5807, 8907],\n",
       " [2763, 5297, 7882, 5453, 7299, 8751, 8720, 4664],\n",
       " [528, 512, 8469, 4616, 4358, 7236, 1379, 8209, 1379, 3319, 9069],\n",
       " [7974, 2922, 3793, 8508, 2810, 5588, 5241, 1542, 1189, 366, 7887, 3754],\n",
       " [1880, 5724, 8507],\n",
       " [829, 765, 6132, 1286, 4747, 7803],\n",
       " [1653, 534, 3106, 8289, 3333, 482, 3549, 482, 4149, 3754],\n",
       " [3111, 9151, 7288, 1970, 5015, 7825, 5270, 3359, 5490, 8907],\n",
       " [7903, 1596, 1880, 4210, 3036, 7833],\n",
       " [9750, 2518, 27, 5548, 5055, 7324, 7415, 3354, 8989, 2575, 8907],\n",
       " [1296, 2189, 1236, 6038, 9856],\n",
       " [6047, 7903, 3733, 1596, 3917, 2791, 6247, 5490, 7892],\n",
       " [8727, 6544, 6377, 7285, 669, 1379, 3319, 9069],\n",
       " [4976, 8244, 5016, 9538, 396, 3288, 1379, 3319, 9069],\n",
       " [8185, 5356, 5467, 4831, 1596],\n",
       " [5807, 9445, 2729, 4795, 1232, 3652, 9535, 2669, 1028, 1379, 3319, 9069],\n",
       " [7009, 3519, 8435, 5294, 7767, 9728, 3679],\n",
       " [9856, 7169, 8978, 8645, 1931, 6794, 5974, 7652, 9245, 1379, 3319, 9069],\n",
       " [5602, 1236, 9866, 8282, 7251, 5016, 3515],\n",
       " [7571, 2515, 2361, 3762, 6087, 5065, 1397, 8475, 2364, 2869],\n",
       " [3647, 6505, 9439, 6957, 809, 5222, 2637, 294, 3647, 2131],\n",
       " [4459, 5272, 5470, 1379, 3319, 9069],\n",
       " [8369, 6371, 5590, 3042, 7903, 563, 5490, 9379],\n",
       " [4461, 4601, 1878, 6537],\n",
       " [9408, 4886, 2922, 5841],\n",
       " [7049, 5467, 5144, 50, 1379, 3319, 9069],\n",
       " [8714, 9095, 4037, 9029, 4597, 7825, 1379, 3110, 1379, 3319, 9069],\n",
       " [2032, 8349, 3947, 8188, 9825, 7636, 9658, 5270, 1379, 3319, 9069],\n",
       " [4911, 2268, 4767, 218, 8813, 4251, 1379, 3319, 9069],\n",
       " [6078, 8728, 3124, 1101, 3606, 3515, 6993, 3606, 9992, 4333, 9055, 975, 4531],\n",
       " [7771, 5743, 8188, 4482, 3697, 6078],\n",
       " [2570, 6877, 3877, 1786, 3669, 5195, 1379, 3319, 9069],\n",
       " [7949, 8457, 1341, 5735, 7903, 5911, 2623, 3754],\n",
       " [146, 4069, 5497, 8910, 6015, 6768, 9135, 6897, 1379, 3319, 9069],\n",
       " [79, 2106, 5943, 8508, 9342, 5886, 8946, 8919, 1424],\n",
       " [6298, 1811, 3163, 294],\n",
       " [2152, 346, 9298, 5548, 4193, 2970, 1886],\n",
       " [7903, 6657, 1792, 1809, 1379, 3319, 9069],\n",
       " [1168, 7160, 7755, 462, 2545, 2834, 174, 8879, 1379, 3319, 9069],\n",
       " [777],\n",
       " [7903, 3417, 5470, 4345, 2790, 6398, 1101, 1379, 3319, 9069],\n",
       " [6644, 8562, 5841, 2561, 7956, 9104, 3647, 5470, 7698, 7903, 274, 5548, 4831],\n",
       " [627, 7166, 833, 967, 2233, 1379, 3319, 9069],\n",
       " [35, 5124, 336, 4680, 4461, 1762, 675, 5029, 1379, 3319, 9069],\n",
       " [3792, 5221, 3369, 527, 2811, 16, 7080, 7779, 7726, 1959, 6113],\n",
       " [7319, 3690, 5002, 3143, 1282, 7824, 1379, 3319, 9069],\n",
       " [4770,\n",
       "  8400,\n",
       "  2119,\n",
       "  3162,\n",
       "  6716,\n",
       "  6047,\n",
       "  7903,\n",
       "  4911,\n",
       "  8864,\n",
       "  8559,\n",
       "  9146,\n",
       "  8377,\n",
       "  164,\n",
       "  605,\n",
       "  7471],\n",
       " [3754, 6078, 1878, 7903, 8278, 3754],\n",
       " [1571, 8438, 9113, 1679, 9910, 8188, 674, 6073],\n",
       " [6869, 3213, 9065, 9511],\n",
       " [690, 9253, 7887, 4911, 7726, 1596, 7471, 3754],\n",
       " [8508, 2470, 1338, 4831, 3597, 6174, 3239, 1379, 3319, 9069],\n",
       " [6966, 3472, 779, 3884, 8127, 1379, 3319, 9069],\n",
       " [5682, 3248, 3187, 3552, 3347, 4060, 9544],\n",
       " [3359, 482, 1611, 2012, 9662, 6551, 1379, 3319, 9069],\n",
       " [294, 3647, 6869, 3521, 6593, 5884, 2250, 7250, 6047, 7903, 1379, 3319, 9069],\n",
       " [7903, 9862, 8158, 5841, 6139, 5934, 1140, 1115],\n",
       " [5855, 4251, 6959, 9536, 5091, 8609],\n",
       " [3812, 2937, 8135, 6050, 3584, 7523, 7185, 4325],\n",
       " [2493,\n",
       "  9866,\n",
       "  5575,\n",
       "  3812,\n",
       "  9809,\n",
       "  5577,\n",
       "  920,\n",
       "  817,\n",
       "  4003,\n",
       "  5575,\n",
       "  9539,\n",
       "  9809,\n",
       "  4546,\n",
       "  920,\n",
       "  3754],\n",
       " [535, 3515, 7570, 4423, 8298, 1433, 6811, 4747, 6078],\n",
       " [4037, 5484, 5062, 9722, 8724, 4349, 4956, 4920, 5460, 3754],\n",
       " [7009, 8754, 5780, 9380, 1894, 4425, 8870, 1878, 3754],\n",
       " [617, 6139, 6986, 3820, 1462, 1960, 8116, 196, 5484, 7375, 1379, 3319, 9069],\n",
       " [7496, 876, 8484, 7020, 6542, 7903, 5423, 4384, 6598, 5526],\n",
       " [8034,\n",
       "  7903,\n",
       "  6369,\n",
       "  5958,\n",
       "  2252,\n",
       "  1811,\n",
       "  9164,\n",
       "  7185,\n",
       "  7928,\n",
       "  9096,\n",
       "  3988,\n",
       "  8326,\n",
       "  6941,\n",
       "  3796],\n",
       " [6166, 2120, 5966, 4763, 9656, 5681, 488, 3937, 8135, 1379, 3319, 9069],\n",
       " [3647, 6505, 5960, 1524, 7163, 7083, 6095, 128, 4831, 294, 728, 4008],\n",
       " [9992, 7517, 9657, 299, 2756, 3239, 6592, 128, 8574, 3754],\n",
       " [1636, 8610, 6120, 9146, 534, 3935, 1250, 1379, 3319, 9069],\n",
       " [1566, 2228, 2790, 1040, 2305, 1358, 1379, 3319, 9069],\n",
       " [9856, 1141, 4461, 4141, 8653, 8238, 1379, 3319, 9069],\n",
       " [7903, 6655, 830, 6132, 8298, 6914, 6095, 5590, 1379, 3319, 9069],\n",
       " [6268, 7794, 2364, 2131, 9241, 2793, 2131],\n",
       " [8593, 1105, 8438, 1379, 833, 2711, 5270, 6907],\n",
       " [3347, 9318, 1902, 8794, 5500, 3347, 8473, 1379, 3319, 9069],\n",
       " [6351, 1603, 8438, 7526, 1959, 4793],\n",
       " [162, 5934, 6247, 1596, 7294, 1141, 294, 3733],\n",
       " [414, 2092, 5866, 7709, 3591, 4693, 1379, 3319, 9069],\n",
       " [7373, 4053, 4950, 8099, 158, 1379, 3319, 9069],\n",
       " [9992, 9790, 3759, 1571, 8438, 155, 6047, 7903, 3754],\n",
       " [1453, 605, 9234, 7903, 8978, 250, 1101, 3754],\n",
       " [2440, 865, 2729, 4416, 502],\n",
       " [4146, 7903, 6078, 8609, 9036, 1379, 3319, 9069],\n",
       " [6047, 7903, 7236, 3884, 9541, 8143, 9146, 9064, 1379, 3319, 9069],\n",
       " [5241, 6209, 7956, 6852, 5195, 3947, 3204, 5617, 8063],\n",
       " [6957, 8505, 3826, 618, 5926, 1809, 5222, 3647, 2131, 473],\n",
       " [3439, 4911, 9064, 5460, 2583, 8402, 1027, 8457, 4832, 3754],\n",
       " [619, 3216, 7845, 7820],\n",
       " [8819, 443, 4831, 3613],\n",
       " [6095, 4069, 5497, 2729, 8610, 9952, 1379, 3319, 9069],\n",
       " [8245, 9667, 2310, 3432, 7779, 6675, 7423, 1253, 8633],\n",
       " [1629,\n",
       "  5849,\n",
       "  1879,\n",
       "  5379,\n",
       "  6409,\n",
       "  8812,\n",
       "  8188,\n",
       "  3110,\n",
       "  5391,\n",
       "  7285,\n",
       "  5188,\n",
       "  8408,\n",
       "  1629],\n",
       " [3101, 5602, 1917, 7674, 4988, 7114, 7019, 2790],\n",
       " [7903, 3221, 116, 37, 8750, 1433, 3359, 9253, 3143, 8791, 8907],\n",
       " [6957, 2515, 2341, 1348, 294, 3647, 2131, 1811, 9335],\n",
       " [3988, 8116, 3359, 4135, 3631, 8475, 318, 5195, 6954, 6102],\n",
       " [5841, 9164, 6247, 4740, 7796, 138, 3433, 7903, 8357],\n",
       " [4461, 3772, 548, 8555, 1896, 3438],\n",
       " [3935, 3631, 3812, 1233, 9665, 4059, 7251],\n",
       " [5770, 1848, 3851, 2889, 8475, 617, 4445, 6139, 7894, 9758, 2750],\n",
       " [7020, 5548, 881, 6911, 5578, 9788, 3519, 4022, 3534, 5257],\n",
       " [205, 9852, 2364, 4060, 128, 8377, 4193, 9910, 8517, 4831, 5971],\n",
       " [5015, 9544, 3417, 8662, 1379, 3319, 9069],\n",
       " [7661, 5735, 2493, 8932, 7903, 4724, 5930, 1379, 3319, 9069],\n",
       " [9090, 3694, 644, 1760, 3084, 3884, 9930, 6132, 1379, 3319, 9069],\n",
       " [7446, 4930],\n",
       " [7008, 4410, 1571, 8438, 236, 710, 2286, 2756, 1379, 3319, 9069],\n",
       " [5862, 8780, 2591, 5735, 1989, 4762, 7903, 1194, 4021, 3754],\n",
       " [3647, 9936],\n",
       " [9253, 999, 3812, 8065, 7163, 9867, 6911, 1379, 3319, 9069],\n",
       " [7163, 3812, 2592, 2729, 8484, 783],\n",
       " [1379, 1653, 6731, 8894, 7414, 8436, 9382, 5434, 528],\n",
       " [9822, 2360, 3101, 3911],\n",
       " [5548, 7324, 6324, 9064, 7903],\n",
       " [543, 7057, 5629, 7319, 2960, 5548, 2759, 2053, 3322, 1130, 1379, 3319, 9069],\n",
       " [6227, 8427, 3239, 6993, 5780, 1542, 4053, 1379, 3319, 9069],\n",
       " [6775, 2575, 5548, 4419, 1379, 3319, 9069],\n",
       " [518, 7734, 6365, 6627, 5964, 2002, 7208, 3754],\n",
       " [8619, 6871, 443, 6810, 7440, 920, 2869, 4059],\n",
       " [2669, 344, 9004, 8746],\n",
       " [252, 8608, 1765, 3130, 528, 5780, 3754],\n",
       " [9739, 8791, 9337, 7702, 8838, 546],\n",
       " [7903, 9541, 1455, 9446, 6496, 2779, 37, 9342, 4820],\n",
       " [7180,\n",
       "  8177,\n",
       "  2141,\n",
       "  548,\n",
       "  4639,\n",
       "  169,\n",
       "  8516,\n",
       "  2389,\n",
       "  5270,\n",
       "  5853,\n",
       "  6583,\n",
       "  5590,\n",
       "  4144,\n",
       "  1472,\n",
       "  6047,\n",
       "  7903,\n",
       "  3754],\n",
       " [8568, 531, 1210, 5576],\n",
       " [8724, 9992, 7733, 605, 6002, 6047, 7903, 8099, 1379, 3319, 9069],\n",
       " [5943, 9048, 7903, 9253, 8643, 5467],\n",
       " [1432, 8160, 9538, 4314, 8631, 3909, 294, 3130, 344, 1694],\n",
       " [7496, 8438, 3624, 6945, 1616, 2878, 8559],\n",
       " [5437, 3493, 7669, 8024, 315, 9342, 2462, 1379, 3319, 9069],\n",
       " [5467, 3377, 3377, 3022, 1379, 3319, 9069],\n",
       " [8337, 5590, 2228, 9669, 8381, 2023, 4416, 2204, 1379, 3319, 9069],\n",
       " [3515, 9865, 5195, 7306, 344, 3815, 1379, 3319, 9069],\n",
       " [2125, 867, 2591, 3809, 5128, 4026, 4501],\n",
       " [5853, 7177, 4530, 302, 5853, 1379, 3319, 9069],\n",
       " [6836, 5785, 9185, 9662, 9172, 8120, 9895, 5841],\n",
       " [5078, 1266, 344, 8438, 7903, 1379, 3319, 9069],\n",
       " [8279, 2861, 7285, 4222, 3911, 1959, 2591],\n",
       " [1248, 5891, 5884, 5719, 3624, 7316, 8438, 920, 8729, 3624, 8263, 1907, 2778],\n",
       " [8138, 7285, 5884, 9090, 104, 1610, 9164, 9809, 9722, 1610],\n",
       " [7903, 7608, 5693, 1379, 3319, 9069],\n",
       " [6957, 8505, 3826, 5084, 7083, 829, 3647],\n",
       " [5603, 7796, 3393, 7772, 3107, 4829, 3789, 7251],\n",
       " [6443, 1692],\n",
       " [8724, 4222, 3055, 7251, 4771, 7669, 3519, 1028, 6964, 8784, 2661],\n",
       " [1432, 8413, 2492, 5509, 3106, 9075, 3759, 3631, 9036],\n",
       " [7433, 2334, 7816, 8964, 9317, 5930, 9185, 6636],\n",
       " [6047, 7903, 3394, 7375, 8276, 119, 1379, 3319, 9069],\n",
       " [9804, 9252, 1501, 1833, 5051, 6253, 1755, 8890, 3433, 1379, 3319, 9069],\n",
       " [7330, 3068, 8568, 4240, 3801, 9690, 8711, 2125],\n",
       " [6047, 7903, 798, 7471, 1379, 3319, 9069],\n",
       " [4186, 1379, 7549, 294, 116, 6505, 4531, 5575, 6247, 5884, 3335, 2218, 6747],\n",
       " [5096, 6247, 1441],\n",
       " [6113,\n",
       "  9541,\n",
       "  1,\n",
       "  4053,\n",
       "  8453,\n",
       "  2536,\n",
       "  1995,\n",
       "  2197,\n",
       "  5590,\n",
       "  8907,\n",
       "  4993,\n",
       "  7475,\n",
       "  3248,\n",
       "  2071,\n",
       "  1115],\n",
       " [7903, 9234, 5841, 1667, 5853, 6655, 4957, 3754],\n",
       " [3613, 7441, 1960, 6172, 8116],\n",
       " [4364, 9298, 2032, 8051, 1433, 3626, 1379, 3319, 9069],\n",
       " [3740, 3068, 3651, 7517],\n",
       " [3552, 3884, 6830, 1587, 391, 5620, 765],\n",
       " [7903, 7251, 4251, 3298, 5093, 1432, 1379, 3319, 9069],\n",
       " [3647, 5323, 2606, 618, 2131, 294, 9164, 4801],\n",
       " [5810, 4987, 1638, 9166, 4339, 5270, 3754],\n",
       " [6047, 7903, 9560, 7779, 8289],\n",
       " [1379, 2729, 3239, 2912, 3909, 5661, 8507],\n",
       " [9619, 7845, 9906, 2271, 5798, 9389, 1552, 2803, 1626],\n",
       " [1198, 4251, 6015, 9837, 6954, 7388, 1379, 3319, 9069],\n",
       " [6113, 5338, 5590, 617, 6139, 6869, 7060, 3909, 6644, 6078],\n",
       " [8034, 7949, 8188, 3405, 3264, 3639, 7232, 1168, 4831, 1379, 3319, 9069],\n",
       " [5661, 9064, 7845, 903, 1032, 2023, 5222, 6936, 1379, 3319, 9069],\n",
       " [1614, 6257, 3821, 7971, 6078, 7903],\n",
       " [5198, 8138, 8791, 6404, 3417, 3377, 6628, 6500, 3624, 7185, 6767, 1989],\n",
       " [3032, 8409, 8926, 5884, 1379, 3319, 9069],\n",
       " [6734, 2230, 8997, 7078, 2109, 5690, 7251, 1379, 3319, 9069],\n",
       " [9782, 4911, 8844, 4003, 7433, 7845, 7903],\n",
       " [9090, 8801, 3322, 1760, 2023, 4977, 1379, 3319, 9069],\n",
       " [7825, 7251, 9298, 7294, 5590, 6758, 5911],\n",
       " [3279, 6675, 1105, 3222, 2914, 238, 3063, 5284, 2043, 2295, 3305],\n",
       " [5735, 9696, 6175, 3333, 2420, 9764, 1379, 3319, 9069],\n",
       " [6655, 5552, 1587, 5533],\n",
       " [9090, 3322, 697, 644, 1760, 6817, 6012, 8290, 1379, 3319, 9069],\n",
       " [4280,\n",
       "  8976,\n",
       "  1485,\n",
       "  5620,\n",
       "  4903,\n",
       "  8337,\n",
       "  4280,\n",
       "  4738,\n",
       "  8621,\n",
       "  1485,\n",
       "  5620,\n",
       "  57,\n",
       "  2088,\n",
       "  9649],\n",
       " [7903, 5763, 6078, 3042, 1379, 1489, 8769, 7698, 1379, 3319, 9069],\n",
       " [6687, 839, 6232, 5625, 6537, 1521, 9765, 5815, 6472],\n",
       " [3747, 5224, 5770, 3747, 9677],\n",
       " [2358, 1786, 5276, 7005, 5770, 1379, 3319, 9069],\n",
       " [6137, 7294, 7251, 5025, 1379, 3319, 6810, 4956],\n",
       " [8643, 1930, 548, 2853, 8499],\n",
       " [5841, 617, 6139, 4921, 2199, 7375, 9919, 9541, 5934],\n",
       " [3799, 2023, 271, 8399, 1379, 3319, 9069],\n",
       " [3534,\n",
       "  5257,\n",
       "  9098,\n",
       "  2545,\n",
       "  1248,\n",
       "  2545,\n",
       "  1809,\n",
       "  5257,\n",
       "  7903,\n",
       "  9904,\n",
       "  6869,\n",
       "  3747,\n",
       "  5490,\n",
       "  502],\n",
       " [7301, 4251, 5729, 6103, 8427, 1151, 6324, 1379, 3319, 9069],\n",
       " [9642, 7301, 5011, 4576, 9149, 2779, 6078, 5817, 3754],\n",
       " [2677, 1379, 2750, 7903, 7824, 1379, 3319, 9069],\n",
       " [7025, 8699, 1347, 8359, 443, 7971, 2032, 3754],\n",
       " [5735, 9389, 6387, 8932, 1379, 3319, 9069],\n",
       " [6290, 6659],\n",
       " [6006, 7294, 2119, 9967, 1, 3532, 9931, 9996, 1379, 3319, 9069],\n",
       " [6957, 1114, 7214, 7671, 6298, 6503, 2131],\n",
       " [7903, 3123, 5575, 8638, 6191, 7855, 1902, 1379, 3319, 9069],\n",
       " [9640, 3359, 9710, 1771, 1397, 5091, 1101, 9173, 5616, 3754],\n",
       " [1236, 9866, 6398, 6978, 2790, 7027, 6354, 5065, 4059, 2869, 6810],\n",
       " [2592, 6855, 9415, 7375, 4722, 4239, 8890, 2860, 5515, 7255, 9583],\n",
       " [7025, 5841, 7845, 3322, 7085, 5467, 5484, 6794, 3377, 3754],\n",
       " [5770, 3308, 5093, 9113, 3733, 4205],\n",
       " [485, 3333],\n",
       " [2674, 530, 5143, 7698, 7910, 3130, 1601, 1379, 3319, 9069],\n",
       " [7903, 9956, 3441, 8262, 2364, 4060, 1379, 3319, 9069],\n",
       " [3063, 7872, 3330, 6535, 1596],\n",
       " [4903, 1505, 4738, 2760, 6598, 2722, 7368, 3026, 4966, 6598, 2722, 7368],\n",
       " [8187, 8438, 9837, 8864, 5571, 1379, 3319, 9069],\n",
       " [3018, 7147, 1618, 6047, 7903, 1379, 3958, 458, 1379, 3319, 9069],\n",
       " [8400, 2119, 507, 6398, 6047, 7903, 7281, 8007, 1379, 3319, 9069],\n",
       " [2736, 7530, 4726, 8737, 2197, 5427, 1379, 3319, 9069],\n",
       " [9892, 8806, 6082, 8438, 3843, 8188, 1101],\n",
       " [6298, 6503, 1636, 6957, 6309, 1],\n",
       " [9685, 2902, 2610, 5185, 1319, 128, 9069, 1379, 3319, 9069],\n",
       " [5546, 9158, 1749, 5388, 1379, 5932, 9996, 3754],\n",
       " [7903, 1569, 9377, 9870, 140, 9722, 9818, 3889, 1027, 1379, 3319, 9069],\n",
       " [5579, 1501, 815, 2385, 7538, 8034, 4251, 7824, 8657, 3427, 7374, 1141, 3754],\n",
       " [7709, 8246, 1535, 674, 1969, 8282, 1379, 3319, 9069],\n",
       " [673, 618, 3909, 7764, 9504, 3668, 9658],\n",
       " [7285, 2790, 7951, 1379, 3319, 9069],\n",
       " [1826, 2445, 2803, 6269, 4771, 2366, 3754],\n",
       " [6172, 1989, 2189, 5770],\n",
       " [920, 104, 3799, 7177, 3163, 1189, 9659, 8402, 2494],\n",
       " [294, 6505, 7036, 3552, 9598, 1001, 32, 6957, 2536, 8471, 5735],\n",
       " [9029, 1501, 9689, 1644, 881, 9808, 7903, 3733],\n",
       " [5774, 5441, 320, 1065, 5958, 3733, 5967, 7903, 9253, 3754],\n",
       " [8399, 9802, 4768, 4123, 7903, 3624, 6073],\n",
       " [4911, 4929, 9424, 6993, 7644, 1052, 3754],\n",
       " [4747, 79, 2120, 6137, 3338],\n",
       " [8403, 1510, 4898, 5943, 2591, 7989, 9082, 9238, 6593, 4021],\n",
       " [2353, 9501, 4215, 294],\n",
       " [9116, 4037, 9251, 925, 9453, 9176, 2105, 1379, 3319, 9069],\n",
       " [9728, 7147, 3537, 4805, 1379, 3319, 9069],\n",
       " [1227, 8727, 5853, 9065, 3191, 7244, 1379, 3319, 9069],\n",
       " [2729, 9657, 4459, 4925, 7236, 8144],\n",
       " [6643, 9931, 6416, 7526, 3624, 8262, 1379, 3319, 9069],\n",
       " [3201, 8794, 3660, 6177, 544, 4015, 3917, 8298, 1248, 5815, 8363, 5884],\n",
       " [6044, 7903, 3859, 3472, 5770, 6247, 1101, 4957, 4747, 3754],\n",
       " [9185, 5623, 2778, 3624, 6362, 3393],\n",
       " [5941, 4800, 5841, 8007, 9253, 7903],\n",
       " [8144, 1375, 783, 7433, 397, 528, 1379, 3319, 9069],\n",
       " [3227, 8806, 2135, 6356, 3109, 2408, 636, 1403, 1379, 3319, 9069],\n",
       " [941, 5062, 8711, 1379, 3319, 9069],\n",
       " [6247, 3694, 3611, 4747, 1596, 8860, 4679],\n",
       " [4783, 4098, 4925, 4099, 5378, 8326, 1379, 3319, 9069],\n",
       " [9069, 1101, 3643, 1379, 3319, 9069],\n",
       " [7517, 6095, 8457, 158, 8120, 9803, 4492, 1379, 3319, 9069],\n",
       " [4467, 193, 7374, 6290, 5467, 4022],\n",
       " [9124, 2392, 9802, 8167, 6247, 3631],\n",
       " [6163, 9822, 8814, 9766, 5378, 1472, 1379, 3319, 9069],\n",
       " [7903, 2492, 7714, 3239, 3701, 9424, 4976, 8242, 3754],\n",
       " [8629, 5822, 444, 3779, 6351, 5818, 4738],\n",
       " [4770, 7903, 1902, 1101, 1716, 7779, 7114, 1379, 3319, 9069],\n",
       " [1574, 4386, 8400, 5464, 1571, 8187, 975, 6936],\n",
       " [2926, 9908, 1877, 9064, 6244, 1379, 3319, 9069],\n",
       " [8369, 6371, 8711, 4911, 480, 6092, 1379, 3319, 9069],\n",
       " [7642, 8160, 431, 7903, 9904, 1275, 4527],\n",
       " [4747, 9927, 3164, 2324, 5515, 324, 8769, 5604, 1379, 3319, 9069],\n",
       " [3232, 6014, 7903, 2922, 164, 1809, 1379, 3319, 9069],\n",
       " [6047, 7903, 5143, 7764, 6621, 6398],\n",
       " [4222, 6095, 8568, 4240, 6850, 3459, 2803, 16, 1379, 3319, 9069],\n",
       " [7764,\n",
       "  7147,\n",
       "  8276,\n",
       "  9005,\n",
       "  7147,\n",
       "  2915,\n",
       "  1727,\n",
       "  2230,\n",
       "  8276,\n",
       "  9005,\n",
       "  1351,\n",
       "  5952,\n",
       "  9185,\n",
       "  3292,\n",
       "  2606,\n",
       "  4574,\n",
       "  5185,\n",
       "  2515,\n",
       "  602],\n",
       " [4743, 1596, 4239, 6674],\n",
       " [2099, 3747, 3290, 2729, 7114, 772, 5161],\n",
       " [5467, 4461, 5690, 8610, 5185, 1379, 3319, 9069],\n",
       " [7903, 7652, 5866, 5093, 7012, 2926, 1379, 3319, 9069],\n",
       " [1880, 8394, 7700, 7903, 2350, 3519],\n",
       " [4834, 9158, 488, 7395, 7144, 4053, 1667, 6010],\n",
       " [1288, 6247, 1596],\n",
       " [4957, 2375, 3765, 9007, 6852, 7362, 2871, 1379, 3319, 9069],\n",
       " [5465, 7333, 7851, 8276, 3145, 7433, 2664, 3795, 315, 5211, 7640, 3754],\n",
       " [6047, 7903, 3694, 1173, 5470, 6099, 186, 8344, 446, 3101, 1379, 3319, 9069],\n",
       " [3195, 9927, 6832, 3889, 2230, 1379, 3319, 9069],\n",
       " [4121, 8868, 2912, 9866, 6014, 3968, 1379, 3319, 9069],\n",
       " [6047,\n",
       "  7903,\n",
       "  9234,\n",
       "  294,\n",
       "  3647,\n",
       "  3347,\n",
       "  1670,\n",
       "  7374,\n",
       "  2071,\n",
       "  7845,\n",
       "  6734,\n",
       "  1379,\n",
       "  3319,\n",
       "  9069],\n",
       " [5928, 4209, 7903, 1626, 6768, 6897, 1379, 3319, 9069],\n",
       " [7649, 4831, 9988, 6398, 9164, 6657],\n",
       " [7903, 6505, 6931],\n",
       " [4911, 4425, 908, 9424, 9113, 7285, 3754],\n",
       " [8034, 6078, 8243, 1760, 1806, 3219, 7903, 4724, 2146, 7088, 6855, 5305],\n",
       " [4280, 6778, 4738, 2451, 8853, 8138, 6598, 6211],\n",
       " [6643, 740, 6954, 7155, 6869, 7669, 2729],\n",
       " [481, 6675, 4135, 9404, 703],\n",
       " [8492,\n",
       "  7373,\n",
       "  3162,\n",
       "  8986,\n",
       "  4028,\n",
       "  3459,\n",
       "  9029,\n",
       "  1608,\n",
       "  4810,\n",
       "  1679,\n",
       "  1379,\n",
       "  3319,\n",
       "  9069],\n",
       " [8610, 294, 3647, 8559, 3754],\n",
       " [7419, 1624, 4461, 1784, 4851, 7343, 9658, 1168, 9539],\n",
       " [2253, 9075, 8568, 5065, 4503, 2316, 2097, 4137],\n",
       " [3095, 6593, 3359, 3631, 8826, 302],\n",
       " [5942, 27, 8422, 8864, 9091, 644, 1667, 6253],\n",
       " [921, 3812, 1878, 5458, 3432],\n",
       " [1095, 5841, 8188, 749, 6505, 121, 344, 3204, 5522],\n",
       " [2329],\n",
       " [443, 8160, 9348, 1786, 3956, 3211],\n",
       " [4003, 1130, 9657, 9069, 2092, 7423, 3251, 1379, 3319, 9069],\n",
       " [7903, 9048, 5590, 5972, 6852, 9164],\n",
       " [7862, 7269, 7312, 5943, 5533, 1379, 3319, 9069],\n",
       " [9175, 7440, 402, 7755, 3336, 5599, 7903, 1168],\n",
       " [3555, 618, 3909, 8574, 164, 7903, 8907],\n",
       " [9967, 5091, 5958, 2620, 344, 7903, 2016, 3754],\n",
       " [3003, 5841, 7901, 7612, 3530, 1073, 6630, 1902, 1379, 3319, 9069],\n",
       " [816, 6145, 6731],\n",
       " [867, 2515, 9508, 2778, 6073, 1379, 3319, 9069],\n",
       " [7099, 4487, 5922, 1638, 9166, 1151, 774, 8608, 5460, 3754],\n",
       " [3130, 4920, 8138, 118, 3850, 3771, 2823, 8246, 1379, 3319, 9069],\n",
       " [8188, 294, 3347, 2366, 3636, 8873, 3631],\n",
       " [1286, 1501, 6246, 3501, 1265],\n",
       " [1530, 6978, 9505, 6497, 4531, 5612, 553, 636, 8847, 666, 5467, 3899],\n",
       " [2440, 7933, 8643, 2606, 9382, 2916, 7674, 8317, 3613, 6312, 6078, 5338],\n",
       " [294, 6431, 6957, 1811, 2131],\n",
       " [359, 5293, 302, 7903, 6087, 1232, 1379, 3319, 9069],\n",
       " [128, 4222, 372, 8453, 6367, 3613, 1379, 3319, 9069],\n",
       " [7285, 3006, 8547, 2492, 3248, 128],\n",
       " [5025, 9135, 6897, 5661, 2801, 2750, 6564, 1379, 3319, 9069],\n",
       " [5241, 6132, 5661, 5460, 104, 5625, 5625],\n",
       " [5186, 354, 6080, 8507, 9298, 2778, 1379, 3319, 9069],\n",
       " [2219, 4687, 6845, 8720, 8629, 7302, 7741, 2186, 1992, 2524],\n",
       " [2237, 6486, 6450, 164, 2237, 1680, 6105, 5195],\n",
       " [3449, 8844, 1198, 9064, 4735, 8229, 4470, 6734, 1319, 3613],\n",
       " [6957, 3826, 5482, 6137, 9444, 3822, 3754],\n",
       " [2910, 59, 9140, 4654, 9657, 299, 9996, 9925, 1379, 3319, 9069],\n",
       " [6628, 9539, 5548, 2228, 2790, 8819],\n",
       " [7163, 2141, 3862, 4474, 4538, 8101, 2869, 3769, 5144, 9539, 3754],\n",
       " [8907, 8667, 6378, 232, 6497, 3003, 2084, 9225],\n",
       " [5062, 7764, 4308, 7440, 4527, 887, 6443],\n",
       " [7903, 5853, 3733, 5876, 8188, 3889, 1509, 1379, 3319, 9069],\n",
       " [4570, 3534, 5682, 7903, 880, 920, 7764, 6443, 3754],\n",
       " [1107, 5149, 6398, 7903],\n",
       " [9183, 7803, 6247, 4747, 7382, 1970, 1065],\n",
       " [511, 5853, 8868, 1589, 5590],\n",
       " [1274, 5586, 6292, 4232, 4267, 5537, 2461, 2071, 2926],\n",
       " [5612, 7440, 2408, 1101, 7903, 5447],\n",
       " [8188,\n",
       "  3877,\n",
       "  6047,\n",
       "  7903,\n",
       "  8794,\n",
       "  3927,\n",
       "  9912,\n",
       "  3657,\n",
       "  1589,\n",
       "  9146,\n",
       "  1379,\n",
       "  3319,\n",
       "  9069],\n",
       " [9536, 9, 2695, 5785, 6447, 4762, 9, 4747, 6078],\n",
       " [5467,\n",
       "  2791,\n",
       "  5144,\n",
       "  3701,\n",
       "  3547,\n",
       "  5785,\n",
       "  7472,\n",
       "  4207,\n",
       "  5815,\n",
       "  2835,\n",
       "  1379,\n",
       "  3319,\n",
       "  9069],\n",
       " [8971, 9740, 4250, 8559, 8559, 8559, 1379, 3319, 9069],\n",
       " [329, 5590, 9809, 673, 3438, 6871],\n",
       " [3138, 534, 2190, 6792, 3701, 7301, 85, 5347],\n",
       " [294, 9419, 7375, 5389, 294, 2230, 5945, 4807, 3988, 598],\n",
       " [6399, 772, 2981, 2823, 5533, 1379, 3319, 9069],\n",
       " [8400, 9668, 4988, 7498, 3333, 79, 4214, 1379, 3319, 9069],\n",
       " [7903, 2492, 3179, 4164, 8969, 5658, 5270, 2317, 4752, 4003, 3754],\n",
       " [3597, 9536, 3377, 5272, 4358, 8049],\n",
       " [8160, 9538, 4314, 8631, 3909, 294, 3130, 344],\n",
       " [6781, 7645, 7671, 7956, 6313, 9613, 4353, 5998],\n",
       " [9529, 9729, 6492, 9539, 8322, 1379, 3319, 9069],\n",
       " [1980, 8245, 3826, 2591, 8138, 823, 7903, 320, 3754],\n",
       " [3228, 978, 5091, 9808, 2228, 5986, 3952, 7903, 1379, 3319, 9069],\n",
       " [6634, 4018, 2778, 67, 3754, 1379, 3319, 9069],\n",
       " [3826, 9048, 3647, 2131, 5621, 9501, 8002, 6959, 1379, 3319, 9069],\n",
       " [7903, 3647, 7842, 5016, 7114, 772],\n",
       " [9967, 3018, 6509, 9656, 1664, 2802],\n",
       " [4647, 2462, 1542, 2563, 8484, 9536, 5500, 1589, 1332, 1559],\n",
       " [9856, 5296, 37, 2628, 1861, 3729, 7472, 1379, 3319, 9069],\n",
       " [7440, 8413, 4222, 9004, 8746, 5853],\n",
       " [5144, 4771, 2282, 9342, 1347, 1028],\n",
       " [8306,\n",
       "  2669,\n",
       "  1379,\n",
       "  3319,\n",
       "  9069,\n",
       "  3733,\n",
       "  5807,\n",
       "  1878,\n",
       "  6078,\n",
       "  4850,\n",
       "  2120,\n",
       "  1189,\n",
       "  4762,\n",
       "  3652,\n",
       "  1379,\n",
       "  3319,\n",
       "  9069],\n",
       " [6999, 57, 7160, 8574, 3647, 9249, 6047, 7903, 1168, 3754],\n",
       " [4880, 9549, 8188, 9001, 8038, 6404, 1881, 6530, 1850, 7440, 3754],\n",
       " [889, 6756, 6950, 9175, 1379, 3319, 9069],\n",
       " [8948, 5579, 4525, 5800, 3826, 3952, 5586],\n",
       " [2790, 7853, 6657, 2389, 5884, 9043, 4770, 118, 920, 8508, 6344, 85, 9225],\n",
       " [7440, 3329, 9910, 4240, 6073, 8231, 2364, 4222, 5590, 1379, 3319, 9069],\n",
       " [4639, 3810, 7903, 9657, 5855, 4831, 8399, 548, 9298, 3754],\n",
       " [2065, 7251, 5195, 128, 1101, 6312, 1987, 3754],\n",
       " [3227, 4806, 5809, 1784, 6199, 3417, 1073, 7759],\n",
       " [2125, 867, 2591, 3809, 5128, 4026, 4501],\n",
       " [3840, 5311, 4663, 294, 2230, 5548, 9064, 5548, 9728],\n",
       " [2589, 5785, 7269, 8457, 1379, 7076, 7251, 1379, 3319, 9069],\n",
       " [1878, 7375, 7549, 4837, 5711, 617, 6139, 2199, 9656],\n",
       " [3889, 2230, 5460, 5096, 9818, 5810, 1, 3754],\n",
       " [2597, 3826, 8280, 9927, 8276, 4976, 6038, 1, 3754],\n",
       " [8318, 9458, 9241, 8244, 1571, 8438, 2032, 3101, 9993, 5934],\n",
       " [3647, 6505, 7063, 8400, 8243, 3230, 6082, 6492, 6503, 1524, 9408, 4013],\n",
       " [8188, 8279, 9789, 674, 5943, 7903, 1379, 3319, 9069],\n",
       " [8034, 9505, 9922, 3519, 5447, 9537, 1322, 5548, 3796],\n",
       " [8937, 3747, 2310, 6377, 2023, 7956, 6351, 1379, 3319, 9069],\n",
       " [9809, 8620, 9541, 8568, 1248, 8998],\n",
       " [7114, 772, 118, 2166, 9840, 321, 8128],\n",
       " [9235, 5943, 5374, 7759, 2166, 3352, 1501, 3427, 4093],\n",
       " [8043, 326, 9087, 4784, 6012],\n",
       " [1138, 7903, 745, 1664, 8457, 8406, 5810, 3754],\n",
       " [6503, 3792, 9069, 5853, 1379, 3319, 9069],\n",
       " [7971, 6078, 223, 9541, 5144, 618, 8879, 8158, 4801, 779, 1989],\n",
       " [5093, 2073, 605, 3441, 8805, 9135, 6897, 1379, 3319, 9069],\n",
       " [39, 6974, 16, 3850, 9871, 935, 673, 3754],\n",
       " [5542, 2713, 8602, 5862, 3519, 3754],\n",
       " [8612, 8868, 1139, 8143, 9234, 8188, 7845, 3909, 4232, 3433],\n",
       " [7903, 9904, 50, 4232],\n",
       " [6078,\n",
       "  1655,\n",
       "  6792,\n",
       "  1101,\n",
       "  8188,\n",
       "  8568,\n",
       "  8484,\n",
       "  6080,\n",
       "  1571,\n",
       "  8438,\n",
       "  8116,\n",
       "  9728,\n",
       "  1073,\n",
       "  9172,\n",
       "  3221,\n",
       "  9895],\n",
       " [6659, 7764, 3582, 4416, 4112, 1379, 3319, 9069],\n",
       " [8188, 783, 344, 468, 2908, 5438, 5590, 4199, 7072, 1379, 3319, 9069],\n",
       " [1379, 8359, 6132, 9662, 396, 3493, 6850, 5490, 430, 1379, 3319, 9069],\n",
       " [8209, 2445, 7251, 5467, 790, 3371, 3754],\n",
       " [5681, 6961, 8155, 7114, 7005, 3947],\n",
       " [9253, 7285, 3909, 1596, 349],\n",
       " [9993, 3359, 1379, 3319, 9069],\n",
       " [6371, 6655, 8188, 5835, 7523, 7185, 4325, 8039],\n",
       " [9245, 2615, 9993, 4173, 7671, 1559, 6964, 5271, 1760, 3754],\n",
       " [7216, 3810, 5544, 673, 1379, 3319, 9069],\n",
       " [320, 121, 1562, 7903, 5785, 8932, 920, 6657, 367, 1792, 9821, 3937, 3754],\n",
       " [186, 5235, 8606, 3532, 5235, 2692, 5869, 5235],\n",
       " [2097, 7078, 9541, 8724, 2364, 2652, 6002, 1379, 3319, 9069],\n",
       " [2937, 5178, 8289, 7228, 3582, 8547],\n",
       " [4412, 8279, 2120, 9802, 2119, 5958, 2051, 1056, 4251],\n",
       " [1603, 7682, 1878, 5458, 3432],\n",
       " [7903, 1168, 6883, 5853, 4350, 9758, 2750, 3754],\n",
       " [7903, 7842, 3179, 703, 3999, 1433, 1379, 3319, 9069],\n",
       " [3042, 7239, 1571, 8438, 6113, 2779, 6078, 3754],\n",
       " [1180, 9989, 4339, 3807, 578, 1930, 8598],\n",
       " [8188, 294, 3647, 9001, 7433, 7833, 4455, 2790],\n",
       " [9472, 880],\n",
       " [6570, 8726, 9033, 4280, 6339, 6598, 9973],\n",
       " [1115, 5438, 1101, 7197, 1923, 3322, 8932, 1379, 3319, 9069],\n",
       " [3534, 1077, 9996, 7951, 5272, 31, 8049, 1379, 3319, 9069],\n",
       " [5094, 4035, 2640, 7903, 7824, 6699, 6636, 9098, 2120, 2268, 9397],\n",
       " [4831, 4897, 8476],\n",
       " [3201, 8511, 4059, 1771, 128, 1868, 9163, 4059, 482, 4771],\n",
       " [3959, 3021, 2188, 4805, 9461, 598, 5185, 1379, 3319, 9069],\n",
       " [2237, 8298, 6375, 4663, 5038, 2790, 8794, 7160, 6509, 5143, 6247, 8946],\n",
       " [5661, 5199, 7562, 808, 968, 8079],\n",
       " [5986],\n",
       " [8724, 920, 7020, 4663, 3631, 1236, 4003, 3754],\n",
       " [216,\n",
       "  9591,\n",
       "  443,\n",
       "  3731,\n",
       "  9362,\n",
       "  4215,\n",
       "  4423,\n",
       "  6247,\n",
       "  644,\n",
       "  6507,\n",
       "  5515,\n",
       "  1379,\n",
       "  6743,\n",
       "  8583],\n",
       " [191, 9536, 9778, 2861, 4925, 3631, 7076, 820, 9068, 7037],\n",
       " [8724, 920, 7176, 4865, 1449, 6709, 7930, 3631, 3259, 2640],\n",
       " [6253, 3163, 3000, 8457, 2297, 87, 257, 290, 9658],\n",
       " [4957, 7709, 4135, 8372],\n",
       " [1379, 9164, 1027, 5575, 9657, 1695, 4174, 4801],\n",
       " [697, 4808, 9358, 3239, 5979, 6144, 2591, 7495, 321, 3754],\n",
       " [3167, 9895, 3759, 5153],\n",
       " [6393, 71, 6728, 7612, 7147, 2848, 7006, 1379, 3319, 9069],\n",
       " [5957, 3597, 7933, 9290, 1402, 4642, 1797, 1379, 3319, 9069],\n",
       " [6013, 8210, 1596, 4186, 6675, 3042],\n",
       " [772, 527, 6047, 7903, 6010, 3733],\n",
       " [673, 1379, 3319, 9069],\n",
       " [5453, 3279, 9735, 7074, 9630, 2043, 2295, 3305],\n",
       " [4222, 2591, 5814, 5770, 4325, 3519],\n",
       " [7099, 4487, 6542, 3245, 9820, 6336, 5797, 8830, 4112],\n",
       " [4211, 7796, 1902, 4752, 8333],\n",
       " [3120, 761, 9389, 3432, 8934, 1379, 3319, 9069],\n",
       " [321, 5371, 7433, 4461, 2721, 3239, 4358, 8326],\n",
       " [294, 3647, 3911, 4530, 8116, 6941, 2252, 1811, 8003, 5482],\n",
       " [8992, 8825, 5814, 8996, 5729, 7058, 3118, 4215],\n",
       " [3521, 6593, 3421, 9331, 2324, 7362, 3859, 1379, 3319, 9069],\n",
       " [4655, 5884, 5852, 646, 6821],\n",
       " [1101, 5911, 6655, 6247, 5798, 9334, 4747],\n",
       " [6959,\n",
       "  8518,\n",
       "  6598,\n",
       "  6059,\n",
       "  8143,\n",
       "  1959,\n",
       "  3176,\n",
       "  2168,\n",
       "  8283,\n",
       "  6015,\n",
       "  1379,\n",
       "  3319,\n",
       "  9069],\n",
       " [6247, 2358, 1786, 8412, 3631, 6699, 9163, 9417],\n",
       " [9961, 6238, 94, 3877, 4954, 4851, 673, 6908, 1379, 3319, 9069],\n",
       " [686, 2118, 8289, 8438, 5758, 8907],\n",
       " [8204, 9583, 5098, 867, 2350, 9583, 3230, 3754],\n",
       " [6010, 39, 6172, 1979, 7253, 9164, 3472, 5923, 9910, 931, 3819],\n",
       " [9706, 8188, 7903, 3347, 4597, 9277, 3148],\n",
       " [6292, 997, 7633, 1282, 5884, 7168, 1225, 5179, 1379, 3319, 9069],\n",
       " [5964, 5460, 8007, 9234, 8451, 3264, 3647, 7956, 3624, 9866, 9993],\n",
       " [4195, 4865, 9866, 2721, 4325, 162],\n",
       " [2790, 2717, 34, 1589, 3497, 4804, 4455, 3613],\n",
       " [5683, 7993, 6971, 3150, 8720, 2224, 6858],\n",
       " [6500, 1135, 6075, 9064, 3092, 3754],\n",
       " [2494, 5661, 2030, 1379, 3319, 9069],\n",
       " [912, 9820, 2286, 5347, 9290, 795, 518, 2447, 3754],\n",
       " [8803, 1145, 3390, 1379, 3319, 9069],\n",
       " [6247, 1286, 7251, 5911, 8298, 765, 4747, 2729, 5884, 5807, 2166, 1530, 2704],\n",
       " [1379, 3647, 2131, 618, 2050, 779, 1959, 2252, 1811],\n",
       " [3439, 4018, 7251, 4308, 838, 7441, 9657, 2492, 1379, 3319, 9069],\n",
       " [8610, 3613, 1379, 3319, 9069],\n",
       " [1629, 1695, 8898, 8029, 1379, 3319, 9069],\n",
       " [8812, 8188, 4795, 9234, 598, 920, 3754],\n",
       " [658, 3909, 6909, 4801, 5511, 1379, 7203, 5590, 1379, 3319, 9069],\n",
       " [6080, 1987, 8826, 9389, 673, 1379, 3319, 9069],\n",
       " [1466, 8574, 4530, 1202, 4358, 9697, 1299, 1379, 3319, 9069],\n",
       " [6072, 3715, 7903, 5222, 1755, 9941, 1379, 3319, 9069],\n",
       " [1432,\n",
       "  636,\n",
       "  2732,\n",
       "  5153,\n",
       "  3624,\n",
       "  7374,\n",
       "  4222,\n",
       "  4358,\n",
       "  9075,\n",
       "  1434,\n",
       "  7223,\n",
       "  3642,\n",
       "  3515,\n",
       "  481,\n",
       "  6491],\n",
       " [128, 8116, 5062, 2888, 8844, 3935, 4831, 3754],\n",
       " [7330, 6571, 9773, 3515, 5276, 8567, 1379, 3319, 9069],\n",
       " [420, 8356, 9665, 8568],\n",
       " [6492, 6503, 2468, 8243, 2131, 9591, 4531, 487, 350],\n",
       " [6047, 7903, 513, 8787, 2664, 6009, 6398, 9180, 9866, 1379, 3319, 9069],\n",
       " [7386, 3441, 1093, 9867, 8801, 6247, 4251, 8138, 195, 6836],\n",
       " [6073, 290, 9362, 6926, 1861],\n",
       " [4222, 16, 3769, 131, 546, 6535, 4762, 3163, 5360, 2778, 4441, 3754],\n",
       " [2919, 252, 9802, 8608, 865, 5015, 7250, 686, 7589],\n",
       " [825, 617, 6139, 8559, 7268, 6829, 1765],\n",
       " [3204, 8794, 7160, 6759, 636, 8946, 2826, 9866, 7872, 7446],\n",
       " [294, 5886, 6047, 7903, 1101, 6725, 5482],\n",
       " [8660, 7903, 5817, 8270, 4501, 6137, 8427, 2996, 7903, 3754],\n",
       " [2106,\n",
       "  7652,\n",
       "  6871,\n",
       "  5846,\n",
       "  9612,\n",
       "  2158,\n",
       "  1250,\n",
       "  9858,\n",
       "  2878,\n",
       "  9728,\n",
       "  1379,\n",
       "  3319,\n",
       "  9069],\n",
       " [7903, 8344, 6984, 6349, 6292, 4037, 5266, 1714, 8505, 1379, 3319, 9069],\n",
       " [6047, 7903, 2088, 1282, 5784, 7980, 6598, 1485, 7428, 5075],\n",
       " [6811, 5602, 9765, 5907, 6354, 4644],\n",
       " [4747, 6486, 446, 1297, 9455, 8787, 662, 8349],\n",
       " [2493, 3884, 472, 5195, 10, 50],\n",
       " [3580, 5661, 7669, 2640, 9927, 8144, 1379, 3319, 9069],\n",
       " [3377, 6655, 5603, 9396, 3701, 2763, 5785, 1610, 52, 8438],\n",
       " [8720, 1130, 2463, 6218, 1126, 9037, 2507],\n",
       " [8204, 2461, 4261, 8188, 7333, 3631, 9470, 9417, 5195],\n",
       " [2515, 8557, 3006, 8177, 6038, 2468, 1379, 3319, 9069],\n",
       " [7319, 158, 4752, 1970, 5464, 9507, 4202, 7845, 6836],\n",
       " [9099, 2016, 7356, 9818, 1167, 3647, 6821, 3666, 1596, 6871],\n",
       " [7433, 5976, 2119, 6655, 7147, 128, 9064, 6377, 1379, 3319, 9069],\n",
       " [9148, 6655, 10, 7820, 3647, 9936],\n",
       " [7903, 8344, 5783, 9170, 7163, 9518, 9048, 1379, 3319, 9069],\n",
       " [1959, 5014],\n",
       " [7903, 9240, 7956, 7887, 5144, 2912, 6002, 3106, 5785, 820, 3508, 8907],\n",
       " [2803, 5919, 4222, 6073, 666],\n",
       " [8399, 3739, 6136, 4186, 8907],\n",
       " [5603, 9389, 6172, 3631, 1714, 920, 4987, 5616],\n",
       " [1432,\n",
       "  4812,\n",
       "  8716,\n",
       "  2272,\n",
       "  7304,\n",
       "  7440,\n",
       "  9681,\n",
       "  7833,\n",
       "  1330,\n",
       "  4812,\n",
       "  8716,\n",
       "  2272,\n",
       "  7304,\n",
       "  7440,\n",
       "  9681,\n",
       "  7833,\n",
       "  1330,\n",
       "  1379,\n",
       "  4416,\n",
       "  3042],\n",
       " [6082, 5884, 1489, 4232, 9024],\n",
       " [2651, 3138, 5272, 1213, 3118, 5934],\n",
       " [8724, 4957, 7147, 675, 5860, 4461, 4976, 9690, 3613, 5807, 302, 8746, 1596],\n",
       " [8408, 7163, 6598, 4694, 9245, 4406, 57, 7163, 6598, 4694, 9245, 8408, 1629],\n",
       " [6047, 7903, 6021, 1341, 4831, 2637, 1379, 3319, 9069],\n",
       " [7440, 2230, 1596, 1509, 5467, 7683, 9511],\n",
       " [6113, 5768, 3637, 1643, 5590, 3570, 848, 7117, 102, 5943, 9544, 3754],\n",
       " [5641, 6304, 2778],\n",
       " [3795,\n",
       "  2071,\n",
       "  8188,\n",
       "  534,\n",
       "  4831,\n",
       "  8188,\n",
       "  5467,\n",
       "  3906,\n",
       "  2942,\n",
       "  2282,\n",
       "  4157,\n",
       "  1788,\n",
       "  7887,\n",
       "  2592,\n",
       "  6377,\n",
       "  9508,\n",
       "  8907],\n",
       " [136, 9259, 2583, 9146, 3204],\n",
       " [3493, 2750, 7373, 3647, 9455, 9866, 118],\n",
       " [7903, 7285, 218, 9098, 1379, 6743, 8583],\n",
       " [7855, 9953, 2837, 1902, 3647, 7903, 3927, 9178, 1379, 3319, 9069],\n",
       " [9856, 1989, 7764, 8682, 8231, 1655, 6792, 1379, 3319, 9069],\n",
       " [1677, 5428, 9664, 4361, 314],\n",
       " [9657, 473, 8053, 7440, 4291, 779, 7124, 1232],\n",
       " [4530, 1472, 8769, 6145, 7523, 7185, 4325, 3519],\n",
       " [1186, 1760, 7446, 4829, 1842, 1610, 7281, 6292, 7523],\n",
       " [8657, 4467, 5548, 204, 8592, 3519, 6485, 2591, 8040, 4392, 3754],\n",
       " [3168, 7362, 3502, 3176, 124, 5770],\n",
       " [7302, 5809, 247, 527, 975, 9164, 8508],\n",
       " [3487, 9544, 7031, 900, 4240, 1088, 1608, 1139],\n",
       " [106, 7903, 9253, 3296, 6781, 1379, 3319, 9069],\n",
       " [2099, 5313, 4059, 1589, 2281, 186, 4466, 6253, 8868, 1878, 5370],\n",
       " [1542, 3712, 8177, 7903, 703, 6448, 7076, 4084],\n",
       " [5911, 2436, 823, 7838, 9535, 3111, 9151],\n",
       " [6975, 4222, 7453, 8262, 7828, 9417, 2861, 6509, 1379, 3319, 9069],\n",
       " [3411, 2564, 6038, 5943, 4925, 4994, 3493, 3415, 8645, 1379, 3319, 9069],\n",
       " [4777, 8579, 7163, 4937, 5382, 2253, 3652],\n",
       " [5841,\n",
       "  5798,\n",
       "  6831,\n",
       "  4767,\n",
       "  9164,\n",
       "  6247,\n",
       "  4053,\n",
       "  3245,\n",
       "  6869,\n",
       "  2716,\n",
       "  7903,\n",
       "  4053,\n",
       "  1667,\n",
       "  3754],\n",
       " [8157, 8435, 4461, 534, 4531, 9253],\n",
       " [7160, 1379, 3319, 4222, 2826, 1494, 7076, 7251, 1379, 3319, 9069],\n",
       " [7903, 675, 8879, 6984, 7470, 3451, 1379, 8907, 3923, 4222, 1636],\n",
       " [1198, 8277, 8094, 6324, 6115, 285, 2450, 8434, 1379, 3319, 9069],\n",
       " [2105, 7903, 7624, 5911, 5590, 3613, 9657, 8498, 8163, 3754],\n",
       " [6758, 5911, 2113, 2461, 9241, 2468, 2628, 2729, 7002, 6758, 5911],\n",
       " [9967, 9157, 3042, 5072, 2826, 315, 6781, 3754],\n",
       " [3613, 6857, 975, 4053],\n",
       " [7643,\n",
       "  4059,\n",
       "  7208,\n",
       "  4461,\n",
       "  7319,\n",
       "  3040,\n",
       "  9082,\n",
       "  283,\n",
       "  6978,\n",
       "  3552,\n",
       "  662,\n",
       "  1907,\n",
       "  1101,\n",
       "  5590,\n",
       "  3754],\n",
       " [6103, 524, 4391, 8907, 7250, 116, 5013, 1379, 3319, 9069],\n",
       " [8999, 7838, 8667, 1547, 5815, 16, 8326, 5198, 4146],\n",
       " [8243, 9126, 7845, 4968, 2131],\n",
       " [294, 527, 6377, 601, 4012, 8973, 3634, 7698, 6548, 16, 8262, 446],\n",
       " [5679, 530, 8475, 318, 8769, 3432],\n",
       " [3534, 5257, 5990, 3498, 294, 9408, 7903, 5257, 3733],\n",
       " [9536, 2201, 8167, 839, 1923, 7076, 9145, 67, 6486, 8907],\n",
       " [294, 3647, 5467, 6602, 1016, 3433, 6602, 4458, 7375, 1379, 3319, 9069],\n",
       " [5347, 2975, 4236, 7816],\n",
       " [6247, 2796, 2861, 3333, 5507, 2589, 5179, 5395],\n",
       " [788, 9658, 2238, 9482, 1457, 3493, 6781, 1596, 4831, 9172],\n",
       " [6393, 3446, 5143, 8978, 4624, 2790, 8807, 3949, 9858, 3754],\n",
       " [8038, 6404, 6850, 2736, 1737, 675, 1379, 3319, 9069],\n",
       " [5548, 7903, 7440, 6361, 9225, 6241],\n",
       " [5460, 3647, 7896, 8457, 5124, 294, 5267],\n",
       " [6644, 6078, 3498, 294, 9164, 9064, 6877, 5847, 4003],\n",
       " [4747, 2940, 2538, 3636, 3471, 6481, 8853, 7827, 532, 7214, 337, 1743],\n",
       " [959, 8326, 3411, 1130, 6013, 4350, 1007, 1379, 3319, 9069],\n",
       " [128, 7903, 3123, 8065, 5434, 124, 7845, 4186, 3754],\n",
       " [5460, 3647, 6301, 1571, 7764, 7294, 8049, 8188, 8116],\n",
       " [548, 8907, 4993, 4461, 9469, 4531, 3826, 6933, 9404],\n",
       " [5926, 7903, 4831],\n",
       " [7643, 7828, 8838, 3969, 8120, 7306, 5091, 9865, 1379, 3319, 9069],\n",
       " [6306, 717, 7739, 3784, 5531, 8999, 872, 577, 1379, 3319, 9069],\n",
       " [7848, 1161, 8167, 5314],\n",
       " [9905, 9424, 5735, 714, 9659, 6500, 3754],\n",
       " [7306, 9652, 5143, 2493, 1636, 8978, 9146, 2040, 1379, 3319, 9069],\n",
       " [797, 1651, 7903, 675, 6911, 9448, 454, 504, 8662],\n",
       " [7903, 3884, 2900, 2887, 6625, 6393, 9505, 4121],\n",
       " [7474, 3503, 7816, 4910],\n",
       " [7903, 8051, 193, 6967, 2779, 3042, 9164, 618, 3754],\n",
       " [1198, 8277, 712, 6628, 5735, 2704, 8343, 473, 1379, 3319, 9069],\n",
       " [3253, 3766, 8516, 2685, 2996, 5907, 3549, 1379, 3319, 9069],\n",
       " [9273, 2071, 534, 2637, 1469, 2106, 1379, 3319, 9069],\n",
       " [5661, 7624, 1590, 2023, 1979, 2793, 8034, 1379, 3319, 9069],\n",
       " [7440, 6445, 5548, 7816, 8568, 7078, 2230, 2613, 1379, 3319, 9069],\n",
       " [71, 8051, 8791, 2962, 4081, 7575, 1379, 3319, 9069],\n",
       " [6247, 7012, 2926, 9501, 7560, 299, 4793, 2879, 5841],\n",
       " [1397, 7771, 3681, 1644, 5944, 3935, 7764, 7345],\n",
       " [6047, 7903, 8188, 2433, 4066, 6897, 1379, 3319, 9069],\n",
       " [9303, 1517, 3870, 2186, 996, 3048, 3933, 8720, 6963],\n",
       " [158, 9135, 8435, 8287, 1534, 4274, 5655],\n",
       " [2350, 9757, 2071, 2887, 6724, 3394, 7903, 4395, 5841],\n",
       " [900, 6931, 7764, 6443, 6050, 5062, 5096],\n",
       " [9034, 2578, 2905, 8830, 2937, 9652, 2468, 8019, 10],\n",
       " [627, 1472, 1670, 7845, 1379, 8116],\n",
       " [1432, 4222, 8435, 5370, 3009, 294, 4771, 8372, 321],\n",
       " [1186, 1760, 1548, 9912, 6393, 9505, 294, 3647],\n",
       " [7903, 272, 7671, 3101, 9866, 1379, 3319, 9069],\n",
       " [7496, 627, 8387, 3597, 2561, 5511, 7903, 1596, 7845, 6174, 920],\n",
       " [839, 7842, 7163, 5958, 3889, 2919, 865, 1379, 3319, 9069],\n",
       " [3397, 186, 3884, 8559, 3795, 7726, 3754],\n",
       " [9164, 6657, 3352, 4053, 9064],\n",
       " [7709, 8791, 5575, 3533, 941, 7709, 3441, 5434, 9096, 1878, 3084, 1680, 3021],\n",
       " [3003, 6869, 7013, 1379, 3319, 9069],\n",
       " [8559, 1970, 4286, 232, 1379, 3319, 9069],\n",
       " [4280,\n",
       "  1561,\n",
       "  6598,\n",
       "  3472,\n",
       "  1775,\n",
       "  3847,\n",
       "  3026,\n",
       "  8412,\n",
       "  5052,\n",
       "  5622,\n",
       "  3552,\n",
       "  5981,\n",
       "  6598,\n",
       "  9469,\n",
       "  5592,\n",
       "  1485,\n",
       "  5293],\n",
       " [320, 3733, 7884, 8783, 2750, 3701, 6075, 605, 5078, 3072, 3754],\n",
       " [1407, 9855, 5518, 9852, 2364, 4060, 4642, 5598, 3754],\n",
       " [1902, 4747, 258, 2211, 6106, 8518, 7009, 4885, 772, 636, 8847],\n",
       " [9867, 5970, 5840, 8182, 543, 1727, 8807, 8276, 4145, 1960, 2016, 1634, 3754],\n",
       " [2803, 1985, 5347, 1404, 9818, 9535, 2669, 7624, 891],\n",
       " [6831, 8289, 6458, 4211, 5106, 5943, 57, 6640, 6443, 3754],\n",
       " [1189, 3804, 8926, 2729, 3359, 7873],\n",
       " [5195, 8336, 2032, 9992],\n",
       " [8754, 2820, 3083, 5621, 8399, 346, 3690, 3130, 8276, 3754],\n",
       " [985, 4194, 6443, 6263, 5095, 9866, 5389, 1021],\n",
       " [2729, 3624, 1379, 3319, 9069],\n",
       " [7995, 6047, 7903, 5968, 4416, 8480, 6897, 1379, 3319, 9069],\n",
       " [7808, 294],\n",
       " [7030, 4554, 675, 5548, 2263, 1379, 3319, 9069],\n",
       " [1432, 5062, 3802, 1479],\n",
       " [7935, 3647, 1610, 1232],\n",
       " [1198, 7939, 3446, 7285, 3909, 7903, 1379, 3319, 9069],\n",
       " [1379, 3319, 9069, 5222, 5943, 7185, 1188, 6050, 1596, 1379, 3319, 9069],\n",
       " [4644, 1240, 8515, 5586, 4747, 9756, 4747, 3411, 5841],\n",
       " [1833, 1379, 3319, 9069],\n",
       " [294, 3647, 7765, 6869, 1878, 1379, 3319, 9069],\n",
       " [2310, 1442, 8784, 3546, 6145, 1645, 332],\n",
       " [7903, 548, 1638, 1947, 1979],\n",
       " [294, 182, 4535, 1989, 9729, 3624, 528, 7513, 8555],\n",
       " [8633, 3106, 6145, 7824, 2211, 1379, 3319, 9069],\n",
       " [3243, 5490, 4270, 602, 2868, 1379, 3319, 9069],\n",
       " [7903, 5934, 119, 8094, 3717, 8099, 1379, 3319, 9069],\n",
       " [9856, 9998, 8516, 6485, 5484, 5211, 4924, 3820, 1379, 3319, 9069],\n",
       " [6822, 1658, 6292, 4037, 534, 3935, 9910, 443, 9657, 1379, 3319, 9069],\n",
       " [893, 7903, 4183, 6052, 3747, 3754],\n",
       " [1173, 6957, 3647, 2131, 5735, 372, 690, 1139, 9817, 7903, 7019],\n",
       " [6015, 334, 7877, 605, 1749],\n",
       " [5093, 9332, 7169, 1027, 7771, 9927, 1027, 104, 7052, 3754],\n",
       " [4691, 9866, 5452, 7020, 1446, 7796, 3158],\n",
       " [4371, 2861, 2912, 4222, 870, 3631, 4345, 2503],\n",
       " [6597, 9146, 118, 1021, 9806, 8757, 4515, 1379, 3319, 9069],\n",
       " [3917, 6500, 8436, 6871, 8910, 1596],\n",
       " [7903, 8827, 2233, 598, 128, 8116, 6941, 9927, 7820],\n",
       " [2119, 7903, 7251, 2032, 7877, 3624, 9298, 3754],\n",
       " [1338, 4831, 128, 3187, 8517, 3259, 2640, 3613, 9064, 6047, 7903],\n",
       " [4214, 1347, 1596],\n",
       " [2763, 8720, 5927, 6480, 8937, 7189, 932, 6453, 8114, 7095, 9555, 3735],\n",
       " [4530, 1472, 8769, 6145, 5548, 7523, 7185, 4325, 3519],\n",
       " [8144, 4371, 1644, 85, 9967, 7020],\n",
       " [3355, 6794, 1586, 7162, 8623, 299, 7496, 8138],\n",
       " [5575, 8978, 294, 3647, 9501],\n",
       " [8157, 7300, 4763, 2071, 6247, 4956, 5179],\n",
       " [1596, 6445, 4007, 1379, 3078],\n",
       " [294, 2119, 9706, 8188, 7956],\n",
       " [1405,\n",
       "  5995,\n",
       "  7669,\n",
       "  3195,\n",
       "  2916,\n",
       "  9809,\n",
       "  5370,\n",
       "  7306,\n",
       "  779,\n",
       "  3503,\n",
       "  321,\n",
       "  1379,\n",
       "  3319,\n",
       "  9069],\n",
       " [1432,\n",
       "  5447,\n",
       "  7241,\n",
       "  4311,\n",
       "  1582,\n",
       "  5149,\n",
       "  5447,\n",
       "  7241,\n",
       "  4311,\n",
       "  1582,\n",
       "  5149,\n",
       "  4622,\n",
       "  8727,\n",
       "  6442],\n",
       " [6047, 7903, 5195, 8482, 7591, 8480, 6897, 1379, 3319, 9069],\n",
       " [9615, 4207, 9706, 8188, 2281, 3143, 3228],\n",
       " [8051,\n",
       "  3952,\n",
       "  8457,\n",
       "  9183,\n",
       "  8337,\n",
       "  1655,\n",
       "  283,\n",
       "  4565,\n",
       "  6881,\n",
       "  3706,\n",
       "  8457,\n",
       "  3889,\n",
       "  2230,\n",
       "  9480,\n",
       "  3754],\n",
       " [1978,\n",
       "  881,\n",
       "  7020,\n",
       "  5347,\n",
       "  8623,\n",
       "  4901,\n",
       "  9906,\n",
       "  2293,\n",
       "  4887,\n",
       "  8754,\n",
       "  4663,\n",
       "  5930,\n",
       "  2747,\n",
       "  3754],\n",
       " [4885, 9185, 7008, 7824, 8657],\n",
       " [4069, 6801, 636, 3357, 6438, 1861, 1379, 3319, 9069],\n",
       " [5505, 1638, 690, 7375, 294, 3918, 9996, 6484, 3794],\n",
       " [9064, 1232, 9674, 3239, 6535, 1596],\n",
       " [3156, 5536, 7764, 8337, 4339, 1379, 9669, 1589, 9439, 1078, 6954, 3293],\n",
       " [7903, 5911, 164, 2589],\n",
       " [4747, 2023, 8559, 2349, 9318, 283, 7268],\n",
       " [820, 2750, 5669, 9862, 7041, 9549, 481],\n",
       " [79, 676, 8946, 107, 7306, 9704, 3772, 1379, 3319, 9069],\n",
       " [5482, 4501, 5178, 2826, 2790, 644, 960, 8907],\n",
       " [6013, 9866, 6013, 526, 2353, 2459],\n",
       " [2910, 6195, 5841, 7668, 6078, 2729, 5884, 5035, 673, 4743, 1379, 3319, 9069],\n",
       " [9116, 9804, 4222, 6073, 2097, 7440, 2492, 3729, 4175, 1379, 3319, 9069],\n",
       " [8065, 5198, 4505, 3613, 8926, 5091, 7082, 4214],\n",
       " [3359, 6422, 9173, 6792, 9234, 6047, 7903, 7845, 1804],\n",
       " [3253, 6628, 4222, 9498, 4245, 8007, 7103, 1749, 1379, 3319, 9069],\n",
       " [3927, 4976, 7018, 636, 8847],\n",
       " [1735,\n",
       "  8787,\n",
       "  3597,\n",
       "  3958,\n",
       "  2101,\n",
       "  4328,\n",
       "  8746,\n",
       "  3745,\n",
       "  8116,\n",
       "  2685,\n",
       "  1379,\n",
       "  3319,\n",
       "  9069],\n",
       " [5899, 5730, 1515, 8243, 1571, 9480, 5590, 2228, 2819],\n",
       " [9164, 6657, 9583, 2616, 6548, 6174, 7903],\n",
       " [5566, 8337, 9113, 6047, 7903, 5270, 1645, 4175],\n",
       " [3754, 6078, 1878, 4724, 2146, 3754],\n",
       " [7903, 3042, 6548, 9576],\n",
       " [8724, 9831, 3118, 5590, 6775, 5279, 992, 6292, 8907, 3754],\n",
       " [7114, 8475, 318, 5812, 7903, 1379, 3319, 9069],\n",
       " [3549, 1826, 1644, 9225, 9014, 6443, 6641, 3106, 1379, 3319, 9069],\n",
       " [9270, 1388, 673, 61, 4301, 646, 834, 1379, 3319, 9069],\n",
       " [8593, 5078, 703, 7303, 3042, 7285, 7903, 3754],\n",
       " [4956, 1644, 7294, 7009, 5755, 676, 1644, 881, 9064],\n",
       " [5065, 8160, 8509, 9317, 5091, 7187],\n",
       " [9946, 1379, 3763, 8826, 4831],\n",
       " [2502, 3038, 5590, 5738, 9389, 3570],\n",
       " [9856, 9257, 1405, 2620, 7147, 9417, 2754, 3909, 7903, 1379, 3319, 9069],\n",
       " [],\n",
       " [5091, 4482, 4482],\n",
       " [7903, 5661, 2705, 7114, 4641],\n",
       " [9539, 829, 7180, 6095, 4350, 2470, 9290, 9498, 1379, 3319, 9069],\n",
       " [306, 3493, 7285, 1379, 3319, 5211, 2422, 1379, 3319, 9069],\n",
       " [5484, 7448, 8343, 5665, 876, 3228, 3754],\n",
       " [1960, 5484, 6302, 668, 912, 1816, 6461, 838, 1379, 3319, 9069],\n",
       " [2550, 5099, 3733, 6015, 3359, 9993, 1379, 3319, 9069],\n",
       " [294, 3647, 9274, 3143, 5625, 483, 3956, 2871, 9439, 5780, 2729],\n",
       " [2395, 4232, 2211, 1379, 3319, 9069],\n",
       " [7820, 294, 1932, 911],\n",
       " [5460, 7863, 2823, 7903, 9866, 6734, 7624, 1379, 4770, 1379, 3319, 9069],\n",
       " [4286, 6047, 7903, 4091, 1379, 3319, 9069],\n",
       " [9500,\n",
       "  5810,\n",
       "  4448,\n",
       "  7903,\n",
       "  1101,\n",
       "  1379,\n",
       "  2729,\n",
       "  3239,\n",
       "  636,\n",
       "  5661,\n",
       "  548,\n",
       "  2395,\n",
       "  2395,\n",
       "  5676],\n",
       " [7817, 3795, 4831, 1932, 4771, 397, 9164, 6247, 5247, 9389, 3754],\n",
       " [6047, 7903, 2106, 783, 4467, 1397, 9007, 1141, 3427, 8657, 5548],\n",
       " [5832, 4827, 8118, 3474],\n",
       " [5460, 2770, 16, 5884, 2729, 1780, 8219, 673, 435, 1379, 3319, 9069],\n",
       " [4788, 3232, 2540, 5195, 6443, 2394, 3669, 7362, 1379, 3319, 9069],\n",
       " [605, 4251, 5460, 9834, 3552, 2785],\n",
       " [8806, 5843, 9124, 9146, 1132, 673, 6601, 1379, 3319, 9069],\n",
       " [3103, 4423, 3636, 186, 3745, 5625, 3792, 1572, 3754],\n",
       " [9251, 1443, 3789, 8808, 4905, 1848, 7892, 9227],\n",
       " [320, 1236, 2657, 5093, 7652, 6877, 118, 7652, 3754],\n",
       " [3935, 4174, 5328, 6324, 2037],\n",
       " [2912, 9544, 1628, 7824, 3143, 5282, 1379, 3319, 9069],\n",
       " [7144, 4627, 925, 1296, 6398, 3647, 1379, 3319, 9069],\n",
       " [9146, 7155, 9461, 7816, 443, 2975, 5571, 5841],\n",
       " [7903, 6398, 3884, 5470, 4320, 396, 9165],\n",
       " [7669, 1466, 5222, 7041, 1749, 8608],\n",
       " [7903, 2237, 1101, 4987, 6857, 2230, 3754],\n",
       " [8034, 9452, 446, 3123, 7762, 565, 3359, 1189, 546, 931],\n",
       " [5911, 9048, 5575, 6416, 7903, 9904, 7929, 7956, 6500, 5482],\n",
       " [7538, 4345, 1288, 7498, 7767, 3679, 1379, 3319, 9069],\n",
       " [6957, 3647, 2131, 5735, 372, 690, 1139, 9817, 7903, 7019],\n",
       " [294, 9479, 3988, 3009, 5503, 9498, 3347],\n",
       " [1638, 2072, 2863, 7828, 5590, 2916, 1379, 3319, 9069],\n",
       " [6332, 151, 5700, 1638, 8343, 5934, 3327, 983, 1596, 349, 9004, 8746],\n",
       " [5460, 3647, 3347, 8457, 602, 6016, 3682, 294, 1596],\n",
       " [9291, 6443, 8114, 9850, 601, 9300, 7375, 1379, 3319, 9069],\n",
       " [7903, 3394, 6731, 4747, 8618, 2493, 1379, 3319, 9069],\n",
       " [9116, 5599, 4771, 3631, 3469, 534, 1760, 1379, 3319, 9069],\n",
       " [3422, 6666, 8114, 5471, 8757, 9146],\n",
       " [8408, 3014, 3251, 6640, 8380],\n",
       " [5884, 6253, 1290, 2002, 8508, 7285, 8559, 7446, 2674, 5179],\n",
       " [4465, 9253, 2416, 8660, 7652, 7624],\n",
       " [4956, 1331, 1027],\n",
       " [5919, 4222, 7466, 5960, 5735, 5211, 8769, 1397, 7956, 118, 9366, 5925, 3754],\n",
       " [9927, 6438, 921, 9736, 6309, 3063, 4768],\n",
       " [294, 783, 1189, 543, 1232, 1934, 2293, 9389, 3655, 2786],\n",
       " [8246, 3613, 7373, 1596, 4831, 1232, 8932, 6344],\n",
       " [5866, 4236, 6931, 7934, 4117, 5599, 9004, 8746],\n",
       " [6113,\n",
       "  7306,\n",
       "  1638,\n",
       "  9166,\n",
       "  8608,\n",
       "  2912,\n",
       "  4884,\n",
       "  2108,\n",
       "  65,\n",
       "  4336,\n",
       "  8244,\n",
       "  6113,\n",
       "  4251,\n",
       "  8559,\n",
       "  3754],\n",
       " [8278, 4805, 515, 9389, 9685, 9706, 8188],\n",
       " [9755, 7845, 5098, 927, 9539, 4108, 8053, 3652, 1379, 3319, 9069],\n",
       " [8907, 3994, 164, 7903, 675, 8879, 3624, 7971, 6078, 3411, 2685],\n",
       " [7160, 3347, 7114, 8290, 527],\n",
       " [6172, 8610, 3889, 5151, 5256],\n",
       " [4251, 9113, 1677, 7616, 7420, 1379, 3319, 9069],\n",
       " [3630, 2631, 4299, 4245, 6102, 349, 1379, 3319, 6038, 1379, 3319, 9069],\n",
       " [9424, 8244, 9540, 9539, 2720, 4410, 4747, 6959, 1379, 3319, 9069],\n",
       " [2803, 5029, 7163, 9648, 6073, 3411, 4066, 1379, 3319, 9069],\n",
       " [3889, 2919, 3884, 1760, 6998, 8608, 6540, 3754],\n",
       " [9927, 5467, 3256, 8399, 4911, 7663, 6621, 6470],\n",
       " [8167,\n",
       "  5884,\n",
       "  5841,\n",
       "  921,\n",
       "  5270,\n",
       "  6871,\n",
       "  6178,\n",
       "  3515,\n",
       "  5588,\n",
       "  3911,\n",
       "  3666,\n",
       "  4121,\n",
       "  5360,\n",
       "  8120],\n",
       " [3068, 2761, 3624, 294, 3647, 3624, 1900],\n",
       " [4251, 419, 4406, 3269, 7824, 1379, 3319, 9069],\n",
       " [3781, 6709, 4133, 338, 7216, 6869, 6274, 6869, 1379, 3319, 9069],\n",
       " [1716, 9068, 8188, 8775, 3647, 5490, 8277, 1379, 3319, 9069],\n",
       " [9313, 7767, 9337, 7903, 3519, 3655, 1379, 3319, 9069],\n",
       " [3169, 4777, 3274, 9230, 126, 5270, 7333, 3472, 1792],\n",
       " [7903, 4633, 3143, 2730, 9549, 3947, 644, 1379, 3319, 9069],\n",
       " [247, 4399, 4222, 3515, 2912, 8034, 1065, 6344, 7306, 8508, 3407],\n",
       " [1432, 6731, 2812, 108, 9508, 6006, 6731, 4667, 1930],\n",
       " [7732, 6769, 7903, 8885, 9091, 9048, 1379, 3319, 9069],\n",
       " [7790, 9539, 7764, 7513, 9862, 967, 2425, 5629, 3754],\n",
       " [1695, 3219, 2756, 3769, 1379, 3319, 9069],\n",
       " [5653, 4217, 4353, 833, 3624, 9191, 9225, 473, 1379, 3319, 9069],\n",
       " [4886, 6666, 697, 5774, 3711, 1711, 8120],\n",
       " [8337, 5590, 9259, 3927, 8434, 6247],\n",
       " [3999, 8039, 7208, 4663, 1225, 7803, 4270, 1379, 3319, 9069],\n",
       " [4530, 6377, 5575, 4399, 1379, 3319, 9069],\n",
       " [9460, 5305, 8276, 9048, 3877, 3613, 9064, 6047, 7903],\n",
       " [6505, 6850, 5598, 5293, 7929, 2575, 1472, 1379, 3319, 9069],\n",
       " [6247, 4984, 8879, 5276, 5855, 6593, 1948, 7671],\n",
       " [100, 3631, 9027, 4793, 618, 7746, 8298, 1379, 3319, 9069],\n",
       " [3880, 8976, 3909, 1379, 3319, 9069],\n",
       " [9389,\n",
       "  8160,\n",
       "  7653,\n",
       "  4865,\n",
       "  4560,\n",
       "  5270,\n",
       "  4222,\n",
       "  6666,\n",
       "  2705,\n",
       "  6817,\n",
       "  4320,\n",
       "  5818,\n",
       "  1028,\n",
       "  3519],\n",
       " [3858, 2871, 549, 3007, 2716, 1130, 400],\n",
       " [3759, 8549, 9358, 7767, 7907, 4622, 61, 3411],\n",
       " [4320, 4054, 3030, 7433, 839, 7828, 9, 6593, 7915, 8039, 1379, 3319, 9069],\n",
       " [9135, 5617, 9657, 549, 5389, 5270, 5099, 3754],\n",
       " [2634, 4215, 1661, 9728, 405, 7208, 4747, 2023, 2681, 4688, 1379, 3319, 9069],\n",
       " [6957, 8524, 1379, 5735, 2131, 3647, 856, 9164, 2049],\n",
       " [3789, 3590, 6247, 4715, 5930, 2138],\n",
       " [5841, 617, 7887, 7903, 8617, 186, 1765, 8079],\n",
       " [9536, 8337, 7709, 2872, 7169, 8434],\n",
       " [7901, 3764, 3164, 748, 4531, 6247, 7643, 1959],\n",
       " [2620, 5161, 1480, 7236, 1379, 3319, 9069],\n",
       " [6047, 7903, 2615, 131, 2790, 662, 3394, 1379, 3319, 9069],\n",
       " [8088, 8978, 2573, 4245, 2167, 4811, 1379, 3319, 9069],\n",
       " [605, 5636, 4215, 8805, 9135, 6897, 1379, 3319, 9069],\n",
       " [9856, 8028, 8556, 9765, 4572, 3232, 6377, 1379, 3319, 9069],\n",
       " [528, 3877, 2422, 5798, 5785, 8469, 4616, 2492, 8473, 2591, 1379, 3319, 9069],\n",
       " [1596, 9749, 9241, 6871, 8910, 1596, 5943, 1548],\n",
       " [932, 5907, 8643, 6957, 8505, 3826, 7845, 1189, 1379, 3647, 2131, 5735],\n",
       " [8907, 8138, 8436, 1811, 5590, 858, 6298, 2131, 2458, 3796],\n",
       " [6047, 7903, 5015, 1571, 2857, 5490],\n",
       " [9534, 5370, 9472, 6456, 294, 3647, 802, 9534],\n",
       " [2166, 6013, 4455, 2336, 8094, 3613, 1379, 3319, 9069],\n",
       " [1407, 7188, 4123, 7440, 7251, 7324, 3631, 7097, 1379, 3319, 9069],\n",
       " [1311, 4771, 1315, 6627, 8753],\n",
       " [2302, 5062, 3359, 1189, 3624, 4046, 7903, 3243, 9591, 3754],\n",
       " [4674, 8096],\n",
       " [6174, 2939, 4743, 931, 8918, 4345, 4053],\n",
       " [618, 6593, 294, 3647, 2912, 9684, 8598, 1596, 8192],\n",
       " [7741, 3584, 7993, 7611, 6507, 5515, 1379, 3319, 9069],\n",
       " [9802, 9668, 9241, 8167, 6852],\n",
       " [6598,\n",
       "  283,\n",
       "  4747,\n",
       "  6598,\n",
       "  321,\n",
       "  8408,\n",
       "  3633,\n",
       "  6598,\n",
       "  4098,\n",
       "  4400,\n",
       "  6409,\n",
       "  4280,\n",
       "  1504,\n",
       "  7236,\n",
       "  5328],\n",
       " [6829, 5995, 6013, 7049, 3909, 6078],\n",
       " [1772, 7909, 5884, 8049],\n",
       " [5943, 4053, 1589, 6485, 7285],\n",
       " [5841, 1472, 534, 7971, 7903, 4663, 8317, 3613, 6312, 6078, 5338],\n",
       " [7903, 7236, 5178, 5484, 5391, 6047, 7903, 8910, 8559],\n",
       " [7108, 3498, 1275, 5139, 1989, 9313],\n",
       " [5943, 9625, 8676, 7382, 1989, 7855, 1, 476],\n",
       " [7903, 1596, 8034, 2896, 5490, 1060],\n",
       " [5575, 3446, 2743, 2664, 3613, 9657, 3213, 3884, 3754],\n",
       " [3204, 4531, 7903, 4330, 4552, 9183, 1, 8188],\n",
       " [9831, 2072, 7903, 9773, 8136, 3230, 2947, 7324, 9866],\n",
       " [37, 785, 9055],\n",
       " [2902, 8879, 2291, 6505, 3884, 4497],\n",
       " [3669, 4308, 8120, 3515, 5853, 7880, 1379, 3319, 9069],\n",
       " [4459, 9170, 703, 8900, 7689, 9758, 1845, 1792, 1711, 3754],\n",
       " [9965, 7007, 7794, 497, 6448, 8801, 5755, 3892, 9342, 2168],\n",
       " [5841, 9245, 9539, 2422, 2713, 5625, 5241, 4144, 473, 3754],\n",
       " [6655, 2679, 3319, 1088, 7698, 9928, 6038],\n",
       " [9544, 1475],\n",
       " [8338, 7110, 9158, 6105, 6415, 3115, 1379, 3319, 9069],\n",
       " [9245, 2291, 3163, 9674, 4416, 6445, 7624, 3754],\n",
       " [690, 7375, 294, 7825, 2973, 6290, 5090],\n",
       " [903, 6910, 2575, 4288, 1379, 3319, 9069],\n",
       " [9922, 6002, 3354, 2101, 7232, 1379, 3319, 9069],\n",
       " [2691, 2906, 6562, 9933, 5536, 1379, 3319, 9069],\n",
       " [820, 4677, 7137, 8942, 9172, 2324, 1379, 3319, 9069],\n",
       " [7903, 9778, 8344, 5768, 8964, 3952, 8202, 5368, 6132, 1379, 3319, 9069],\n",
       " [9499,\n",
       "  3841,\n",
       "  5575,\n",
       "  2771,\n",
       "  128,\n",
       "  482,\n",
       "  9737,\n",
       "  205,\n",
       "  6110,\n",
       "  7765,\n",
       "  3733,\n",
       "  3704,\n",
       "  387,\n",
       "  1379,\n",
       "  3319,\n",
       "  9069],\n",
       " [6369, 682, 544, 757, 2310, 1379, 3319, 9069],\n",
       " [1850, 6757, 6021, 4021, 7251, 7903, 7421],\n",
       " [5841, 7903, 3143, 396, 9165, 3884, 975, 8063, 1638, 9166, 3754],\n",
       " [932, 908, 9424, 7236, 9674, 7528, 6174, 5844, 9164, 3754],\n",
       " [6978, 6247, 6811, 851, 1379, 294, 2131, 2637, 9749, 969, 4121, 6957],\n",
       " [9722, 543, 6699, 6978, 5279, 6724, 1379, 3319, 9069],\n",
       " [5495, 4704, 2103, 2603],\n",
       " [1571, 9075, 1121, 5548, 3248, 7764],\n",
       " [3491, 605, 2912, 2583, 856, 2364, 1878, 3754],\n",
       " [9856, 5819, 8480, 31, 4624, 7285, 3789, 1379, 3319, 9069],\n",
       " [2575, 9389, 2120, 7971, 9096, 8769, 6102, 1420, 9193, 2120],\n",
       " [1210, 4323, 7013, 1379, 3319, 9069],\n",
       " [7752, 937, 294, 2282, 8568, 6699, 7764, 283, 2642],\n",
       " [2739, 5093, 1795, 3230, 10, 9867, 2299, 6869, 8484, 8050, 3754],\n",
       " [2470, 5011, 8188, 2870, 3441, 7382, 1902, 1379, 3319, 9069],\n",
       " [5807, 3187, 5604, 9993, 7903, 3123],\n",
       " [4222, 4257, 9298, 8457, 4959, 6959],\n",
       " [4571, 8847, 772, 9684],\n",
       " [9405, 9152, 8791, 7057, 1379, 4697, 3862, 2785, 8120],\n",
       " [4008, 8526, 8343, 4266, 8400, 8594, 2156, 717, 1379, 3319, 9069],\n",
       " [3274, 2395, 7060, 9802, 9064, 6047, 7903],\n",
       " [4371, 3515, 4752, 2592, 4222, 242, 7446, 2589, 1379, 3319, 9069],\n",
       " [9135, 1749, 5911, 8508, 158, 8907],\n",
       " [2756, 7998, 3012, 473, 5849, 5841, 3239, 2716, 5807, 6593, 1379, 3319, 9069],\n",
       " [294, 8158, 2975, 5903, 1811, 3998],\n",
       " [3347, 3211, 2497, 2155, 5102, 9135, 6897, 1379, 3319, 9069],\n",
       " [4774, 6097, 5590, 7373, 9379, 5065, 79, 4531, 8064],\n",
       " [1760, 3647, 6505, 5960, 4801, 3472, 2536, 4423, 2032, 8194],\n",
       " [3274, 7285, 7903, 1932, 8868, 8224, 2796, 1379, 3319, 9069],\n",
       " [2589, 6684, 3631, 3756, 8826, 9417, 8412],\n",
       " [3694, 294, 5986],\n",
       " [8034, 5270, 8934, 8457, 1657, 3311, 5735, 294, 3796],\n",
       " [1487, 2031, 6842, 9017, 6734, 2878, 4059, 1379, 3319, 9069],\n",
       " [5884,\n",
       "  9251,\n",
       "  1443,\n",
       "  8757,\n",
       "  9389,\n",
       "  2754,\n",
       "  4003,\n",
       "  4699,\n",
       "  2759,\n",
       "  1443,\n",
       "  5467,\n",
       "  3814,\n",
       "  8999],\n",
       " [4911, 56, 8727, 1282, 7012, 2926, 7285, 1379, 3319, 9069],\n",
       " [1432,\n",
       "  6172,\n",
       "  8610,\n",
       "  9461,\n",
       "  8399,\n",
       "  2378,\n",
       "  6172,\n",
       "  8610,\n",
       "  9461,\n",
       "  8399,\n",
       "  2378,\n",
       "  3036,\n",
       "  7965,\n",
       "  6178,\n",
       "  5848],\n",
       " [505, 998, 1923, 3826, 651, 6263, 8555, 6957, 9631, 9096],\n",
       " [2790, 9856, 9113, 3884, 9625, 9135, 6657],\n",
       " [8724, 3098, 8457, 6247, 1221, 2833, 7613, 9728, 9234, 9837],\n",
       " [1960, 6247, 1101, 5546, 7019, 3110, 3988, 8034, 6078, 8907],\n",
       " [3952, 2395, 3253, 8844, 7442, 9665, 3657, 9253, 2756, 1379, 3319, 9069],\n",
       " [9135, 6897, 294, 3647, 6047, 7903, 5930, 8507, 1379, 3319, 9069],\n",
       " [4674, 8413, 2606, 6274, 3988, 8116, 9728, 7640, 9498, 5590, 2188, 7820],\n",
       " [2756, 7998, 4120, 6013, 1379, 5958, 1379, 3319, 9069],\n",
       " [7987, 1770, 9377, 9870, 3799, 5091, 3338, 1379, 3319, 9069],\n",
       " [5636, 2664, 1424, 9657, 1835, 4232, 4810, 1679],\n",
       " [6047, 7903, 2575, 4670, 3654, 8727, 9175],\n",
       " [8724, 385, 4391, 9758, 8412, 5884, 5602, 5884, 1232, 9526, 3754],\n",
       " [2975, 8160, 9348, 1786, 3956, 3211],\n",
       " [7949, 6889, 2281, 816, 9312],\n",
       " [2385, 7538, 9079, 821, 2388],\n",
       " [1980, 8245, 3781, 1084, 3393, 6505, 3754],\n",
       " [937, 104, 9337, 9259, 9389, 2778],\n",
       " [7951, 2594, 7903, 6803, 6398, 1589, 3264, 3446, 3747, 1379, 3319, 9069],\n",
       " [4727, 9270, 6416, 3884, 4497, 6398, 5798, 1993, 3754],\n",
       " [2372, 9931, 6145, 6422],\n",
       " [714, 5901, 6593, 7463, 3204, 4994, 7513, 4571, 1379, 3319, 9069],\n",
       " [8492, 5590, 2164, 7076, 8166, 1379, 3319, 9069],\n",
       " [1599, 3331, 9866, 1397, 5091, 2120, 9560],\n",
       " [1878, 5795, 908, 4921, 1233],\n",
       " [71, 7755, 2497, 6221, 9064, 7903, 9508, 9658, 5536, 5892],\n",
       " [9867, 7826, 1074, 2690, 3663, 7903, 6657, 2583, 1379, 3319, 9069],\n",
       " [8030, 3859, 1535, 10, 8949, 8716, 2395, 4761],\n",
       " [8128, 7440, 9802, 9539, 9452, 3078, 1379, 3319, 9069],\n",
       " [5975, 9337, 505, 9135, 5107, 8377, 1379, 3319, 9069],\n",
       " [6957, 783, 7440, 2778, 1269, 6247, 4600, 2737, 8986],\n",
       " [8409, 2293, 8463, 3399, 5956, 601],\n",
       " [2591, 9992, 5841, 8559, 8838, 9290, 7374, 9082],\n",
       " [9111, 9164, 6247, 3493, 4521, 1786],\n",
       " [6247, 4747, 2350, 9241, 8365, 9183, 3515, 4560, 3499, 893],\n",
       " [8034, 2052, 6073, 5694, 3631, 7665, 1677, 1379, 3319, 9069],\n",
       " [8317, 1657, 2760, 1596, 4831, 6871, 8317, 3613, 6312, 6078, 5338],\n",
       " [9164, 6657, 5302, 3631, 7791, 9213],\n",
       " [1088, 5278, 4642, 8775, 7008, 7041, 1472],\n",
       " [1101,\n",
       "  7903,\n",
       "  3336,\n",
       "  9697,\n",
       "  838,\n",
       "  2754,\n",
       "  9657,\n",
       "  1571,\n",
       "  8438,\n",
       "  8904,\n",
       "  4098,\n",
       "  4831,\n",
       "  7164,\n",
       "  8116,\n",
       "  3754],\n",
       " [294, 3647, 6398, 8457, 6244, 9064, 1010, 9866],\n",
       " [3095, 3906, 5100, 9780, 4853, 8902, 7517],\n",
       " [7345, 9225, 724, 6038, 5777],\n",
       " [7008, 6399, 772, 3792, 6038, 5780, 772],\n",
       " [8324, 2138, 2905, 6398, 3884, 4497, 4608, 1115],\n",
       " [3519, 7246, 601, 7412, 5178],\n",
       " [7816, 6981, 2664, 8838, 779, 7764, 1379, 3319, 9069],\n",
       " [5216, 6870, 3814, 8999, 3631, 2125, 2550],\n",
       " [4423, 3636, 186, 2492, 2834, 1663, 9405],\n",
       " [7903, 6817, 2550, 7498, 3169, 4777, 1552, 5925, 1379, 3319, 9069],\n",
       " [3754, 6078, 1878, 5093, 2623, 3754],\n",
       " [294, 4771],\n",
       " [7427, 5943, 3190, 2786, 1670, 2822, 7177, 8438],\n",
       " [6047, 7903, 71, 8563, 1678, 6768, 9135, 6897, 1379, 3319, 9069],\n",
       " [8188, 548, 8825, 6263, 4925],\n",
       " [9098, 5095, 8116, 5815, 139, 4061, 1141, 3754],\n",
       " [6598, 5106, 3711, 6107, 6821],\n",
       " [9067, 4681, 1638, 6624, 2637, 8881, 9536, 1959, 3754],\n",
       " [5035, 8345, 5860, 9910, 2993, 1379, 3319, 9069],\n",
       " [9749, 8610, 779, 1, 9146, 1275, 5144, 7764, 6078],\n",
       " [912, 7771, 4146, 740, 1644, 1989, 5350, 9809, 9165, 2583, 3754],\n",
       " [4956, 7020, 6002, 8246, 3519, 4771, 7374, 2071],\n",
       " [7903, 2492, 1501, 3747, 8946, 9802, 7595, 1379, 3319, 9069],\n",
       " [1902, 3964, 1960, 7114, 6235],\n",
       " [6301, 3631, 3867, 9310, 1379, 3319, 9069],\n",
       " [1432, 5548, 2435, 8343, 4306],\n",
       " [1173, 6957, 3647, 2131, 5735, 372, 690, 1139, 9817, 7903, 7019],\n",
       " [290, 7762, 8412, 1655, 2592, 4077, 1987, 1379, 3319, 9069],\n",
       " [9536, 9541, 8784, 8946, 6377, 3909, 4747],\n",
       " [6103, 7824, 9927, 7589, 298, 3448, 2168, 1419, 1610, 5270],\n",
       " [4530, 1472, 8769, 6145, 5211, 1878, 5923],\n",
       " [223, 7826, 4771, 3519, 7523, 7185, 4325, 8243, 9342],\n",
       " [7903, 989, 1404, 2583, 5548, 2256, 7513, 1379, 3319, 9069],\n",
       " [3178, 5922, 5735, 9742, 829],\n",
       " [4530, 3682, 9630, 1472, 7816, 9722, 9146],\n",
       " [2032, 9992, 7540, 3552, 2095, 119, 7076],\n",
       " [2913, 5613, 2592, 2729],\n",
       " ...]"
      ]
     },
     "execution_count": 72,
     "metadata": {},
     "output_type": "execute_result"
    }
   ],
   "source": [
    "onehot_repr=[one_hot(words,voc_size)for words in df['transformed_text']] \n",
    "onehot_repr"
   ]
  },
  {
   "cell_type": "markdown",
   "id": "2024c3ce",
   "metadata": {
    "id": "fWFFYwOsITpZ"
   },
   "source": [
    "## Embedding Representation"
   ]
  },
  {
   "cell_type": "code",
   "execution_count": 74,
   "id": "pQjTbiRWI-dq",
   "metadata": {
    "colab": {
     "base_uri": "https://localhost:8080/"
    },
    "id": "pQjTbiRWI-dq",
    "outputId": "26209791-0a32-47d9-ffde-e4baea5bfdbd"
   },
   "outputs": [
    {
     "name": "stdout",
     "output_type": "stream",
     "text": [
      "[[   0    0    0 ... 8860 6426 4021]\n",
      " [   0    0    0 ... 5144 1669 3754]\n",
      " [   0    0    0 ...  140 3624 2591]\n",
      " ...\n",
      " [   0    0    0 ... 1379 3319 9069]\n",
      " [   0    0    0 ... 1379 3319 9069]\n",
      " [   0    0    0 ... 3812 6981 5854]]\n"
     ]
    }
   ],
   "source": [
    "sent_length=20\n",
    "embedded_docs=pad_sequences(onehot_repr,padding='pre',maxlen=sent_length)\n",
    "print(embedded_docs)"
   ]
  },
  {
   "cell_type": "code",
   "execution_count": 75,
   "id": "yWXsrD9iJfck",
   "metadata": {
    "colab": {
     "base_uri": "https://localhost:8080/"
    },
    "id": "yWXsrD9iJfck",
    "outputId": "78c5c3a3-4af5-4c16-adbc-6a56ecc39c18"
   },
   "outputs": [
    {
     "data": {
      "text/plain": [
       "array([   0,    0,    0,    0,    0,    0,    0,    0,    0,    0, 8438,\n",
       "        320, 2492, 9135, 2395, 3826, 9048, 8860, 6426, 4021])"
      ]
     },
     "execution_count": 75,
     "metadata": {},
     "output_type": "execute_result"
    }
   ],
   "source": [
    "embedded_docs[0]"
   ]
  },
  {
   "cell_type": "code",
   "execution_count": 76,
   "id": "OMyZXscnJjLb",
   "metadata": {
    "colab": {
     "base_uri": "https://localhost:8080/"
    },
    "id": "OMyZXscnJjLb",
    "outputId": "bb5f0776-c304-4c8d-b890-0b2895584c9b"
   },
   "outputs": [],
   "source": [
    "## Creating model\n",
    "embedding_vector_features=40\n",
    "model=Sequential()\n",
    "model.add(Embedding(voc_size,embedding_vector_features,input_length=sent_length))\n",
    "model.add(Dropout(0.3))\n",
    "model.add(LSTM(100))\n",
    "model.add(Dropout(0.3))\n",
    "model.add(Dense(1,activation='sigmoid'))\n",
    "model.compile(loss='binary_crossentropy',optimizer='adam',metrics=['accuracy'])"
   ]
  },
  {
   "cell_type": "code",
   "execution_count": 77,
   "id": "nqlpbGIdKCd_",
   "metadata": {
    "colab": {
     "base_uri": "https://localhost:8080/"
    },
    "id": "nqlpbGIdKCd_",
    "outputId": "e9fac168-5fcc-4b9e-b3b1-c0b5c26e2471"
   },
   "outputs": [
    {
     "data": {
      "text/plain": [
       "(19803, (19803,))"
      ]
     },
     "execution_count": 77,
     "metadata": {},
     "output_type": "execute_result"
    }
   ],
   "source": [
    "len(embedded_docs),y.shape"
   ]
  },
  {
   "cell_type": "code",
   "execution_count": 78,
   "id": "Sgwd6p-DKFWn",
   "metadata": {
    "id": "Sgwd6p-DKFWn"
   },
   "outputs": [],
   "source": [
    "import numpy as np\n",
    "X_final=np.array(embedded_docs)\n",
    "y_final=np.array(y)"
   ]
  },
  {
   "cell_type": "code",
   "execution_count": 79,
   "id": "WSVfZM8oKJus",
   "metadata": {
    "colab": {
     "base_uri": "https://localhost:8080/"
    },
    "id": "WSVfZM8oKJus",
    "outputId": "a460909c-58a0-4d02-b296-8071823b03fb"
   },
   "outputs": [
    {
     "data": {
      "text/plain": [
       "((19803, 20), (19803,))"
      ]
     },
     "execution_count": 79,
     "metadata": {},
     "output_type": "execute_result"
    }
   ],
   "source": [
    "X_final.shape,y_final.shape"
   ]
  },
  {
   "cell_type": "code",
   "execution_count": 80,
   "id": "aPC7yW5GKMjQ",
   "metadata": {
    "id": "aPC7yW5GKMjQ"
   },
   "outputs": [],
   "source": [
    "from sklearn.model_selection import train_test_split\n",
    "X_train, X_test, y_train, y_test = train_test_split(X_final, y_final, test_size=0.2, random_state=5)"
   ]
  },
  {
   "cell_type": "markdown",
   "id": "06e35234",
   "metadata": {
    "id": "tU5mrX7OKRrV"
   },
   "source": [
    "## Model Training"
   ]
  },
  {
   "cell_type": "code",
   "execution_count": 81,
   "id": "1nFMC0VFKWOc",
   "metadata": {
    "colab": {
     "base_uri": "https://localhost:8080/"
    },
    "id": "1nFMC0VFKWOc",
    "outputId": "2dc7c268-30f3-436c-a561-a42d0da769fc"
   },
   "outputs": [
    {
     "name": "stdout",
     "output_type": "stream",
     "text": [
      "Epoch 1/10\n",
      "248/248 [==============================] - 15s 44ms/step - loss: 0.3043 - accuracy: 0.8727 - val_loss: 0.2111 - val_accuracy: 0.9162\n",
      "Epoch 2/10\n",
      "248/248 [==============================] - 10s 40ms/step - loss: 0.1364 - accuracy: 0.9481 - val_loss: 0.1880 - val_accuracy: 0.9230\n",
      "Epoch 3/10\n",
      "248/248 [==============================] - 10s 40ms/step - loss: 0.1004 - accuracy: 0.9631 - val_loss: 0.1881 - val_accuracy: 0.9230\n",
      "Epoch 4/10\n",
      "248/248 [==============================] - 10s 40ms/step - loss: 0.0736 - accuracy: 0.9747 - val_loss: 0.2051 - val_accuracy: 0.9197\n",
      "Epoch 5/10\n",
      "248/248 [==============================] - 10s 40ms/step - loss: 0.0547 - accuracy: 0.9806 - val_loss: 0.2794 - val_accuracy: 0.9255\n",
      "Epoch 6/10\n",
      "248/248 [==============================] - 10s 41ms/step - loss: 0.0387 - accuracy: 0.9870 - val_loss: 0.3221 - val_accuracy: 0.9227\n",
      "Epoch 7/10\n",
      "248/248 [==============================] - 10s 40ms/step - loss: 0.0335 - accuracy: 0.9885 - val_loss: 0.3153 - val_accuracy: 0.9235\n",
      "Epoch 8/10\n",
      "248/248 [==============================] - 10s 40ms/step - loss: 0.0223 - accuracy: 0.9928 - val_loss: 0.3322 - val_accuracy: 0.9217\n",
      "Epoch 9/10\n",
      "248/248 [==============================] - 10s 41ms/step - loss: 0.0184 - accuracy: 0.9936 - val_loss: 0.4053 - val_accuracy: 0.9225\n",
      "Epoch 10/10\n",
      "248/248 [==============================] - 10s 40ms/step - loss: 0.0187 - accuracy: 0.9938 - val_loss: 0.4155 - val_accuracy: 0.9197\n"
     ]
    },
    {
     "data": {
      "text/plain": [
       "<keras.callbacks.History at 0x1a062f0c5e0>"
      ]
     },
     "execution_count": 81,
     "metadata": {},
     "output_type": "execute_result"
    }
   ],
   "source": [
    "model.fit(X_train,y_train,validation_data=(X_test,y_test),epochs=10,batch_size=64)"
   ]
  },
  {
   "cell_type": "markdown",
   "id": "5000ec95",
   "metadata": {
    "id": "Wk41djJTKaRj"
   },
   "source": [
    "## Performance Metrics And Accuracy"
   ]
  },
  {
   "cell_type": "code",
   "execution_count": 82,
   "id": "45kS0qXEPcu8",
   "metadata": {
    "colab": {
     "base_uri": "https://localhost:8080/"
    },
    "id": "45kS0qXEPcu8",
    "outputId": "b0d51d5b-e7dc-4366-a096-f7020f002904"
   },
   "outputs": [
    {
     "name": "stdout",
     "output_type": "stream",
     "text": [
      "124/124 [==============================] - 2s 9ms/step\n"
     ]
    }
   ],
   "source": [
    "y_pred = model.predict(X_test)\n",
    "y_pred = np.round(y_pred).astype(int)"
   ]
  },
  {
   "cell_type": "code",
   "execution_count": 83,
   "id": "vo6IiWlRRDtI",
   "metadata": {
    "id": "vo6IiWlRRDtI"
   },
   "outputs": [],
   "source": [
    "from sklearn.metrics import confusion_matrix"
   ]
  },
  {
   "cell_type": "code",
   "execution_count": 84,
   "id": "87PuW1VIRHFI",
   "metadata": {
    "colab": {
     "base_uri": "https://localhost:8080/"
    },
    "id": "87PuW1VIRHFI",
    "outputId": "b054c40f-976d-4c76-c642-c0efd8683237"
   },
   "outputs": [
    {
     "data": {
      "text/plain": [
       "array([[1916,  174],\n",
       "       [ 144, 1727]], dtype=int64)"
      ]
     },
     "execution_count": 84,
     "metadata": {},
     "output_type": "execute_result"
    }
   ],
   "source": [
    "confusion_matrix(y_test,y_pred)"
   ]
  },
  {
   "cell_type": "code",
   "execution_count": 85,
   "id": "x9HnH8UhRTF0",
   "metadata": {
    "colab": {
     "base_uri": "https://localhost:8080/"
    },
    "id": "x9HnH8UhRTF0",
    "outputId": "4153aa8b-ba76-4da6-ca08-dfe92d1b4984"
   },
   "outputs": [
    {
     "data": {
      "text/plain": [
       "0.9197172431204241"
      ]
     },
     "execution_count": 85,
     "metadata": {},
     "output_type": "execute_result"
    }
   ],
   "source": [
    "from sklearn.metrics import accuracy_score\n",
    "accuracy_score(y_test,y_pred)"
   ]
  },
  {
   "cell_type": "code",
   "execution_count": 86,
   "id": "f6841925",
   "metadata": {
    "id": "oq6pxRAbReJj"
   },
   "outputs": [],
   "source": [
    "import pickle\n",
    "pickle.dump(onehot_repr,open('vectorizer.pkl','wb'))\n",
    "pickle.dump(model,open('model.pkl','wb'))"
   ]
  },
  {
   "cell_type": "code",
   "execution_count": null,
   "id": "2cec3f1a",
   "metadata": {},
   "outputs": [],
   "source": []
  }
 ],
 "metadata": {
  "colab": {
   "provenance": []
  },
  "kernelspec": {
   "display_name": "Python 3 (ipykernel)",
   "language": "python",
   "name": "python3"
  },
  "language_info": {
   "codemirror_mode": {
    "name": "ipython",
    "version": 3
   },
   "file_extension": ".py",
   "mimetype": "text/x-python",
   "name": "python",
   "nbconvert_exporter": "python",
   "pygments_lexer": "ipython3",
   "version": "3.9.12"
  }
 },
 "nbformat": 4,
 "nbformat_minor": 5
}
